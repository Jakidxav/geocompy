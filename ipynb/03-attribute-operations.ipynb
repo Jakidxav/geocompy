{
  "cells": [
    {
      "cell_type": "markdown",
      "metadata": {},
      "source": [
        "# Attribute data operations {#attr}\n",
        "\n",
        "## Prerequisites"
      ]
    },
    {
      "cell_type": "code",
      "metadata": {},
      "source": [
        "import pandas as pd\n",
        "pd.set_option(\"display.max_rows\", 4)\n",
        "pd.set_option(\"display.max_columns\", 6)"
      ],
      "execution_count": null,
      "outputs": []
    },
    {
      "cell_type": "markdown",
      "metadata": {},
      "source": [
        "Packages..."
      ]
    },
    {
      "cell_type": "code",
      "metadata": {},
      "source": [
        "import geopandas as gpd"
      ],
      "execution_count": null,
      "outputs": []
    },
    {
      "cell_type": "markdown",
      "metadata": {},
      "source": [
        "Sample data..."
      ]
    },
    {
      "cell_type": "code",
      "metadata": {},
      "source": [
        "world = gpd.read_file(\"data/world.gpkg\")"
      ],
      "execution_count": null,
      "outputs": []
    },
    {
      "cell_type": "markdown",
      "metadata": {},
      "source": [
        "## Introduction\n",
        "\n",
        "## Vector attribute manipulation\n",
        "\n",
        "### Vector attribute subsetting\n",
        "\n",
        "Subsetting rows by attribute...\n",
        "\n",
        "Selecting columns..."
      ]
    },
    {
      "cell_type": "code",
      "metadata": {},
      "source": [
        "world[[\"name_long\", \"geometry\"]]"
      ],
      "execution_count": null,
      "outputs": []
    },
    {
      "cell_type": "markdown",
      "metadata": {},
      "source": [
        "### Vector attribute aggregation\n",
        "\n",
        "Aggregation without geometry...\n",
        "\n",
        "### Vector attribute joining\n",
        "\n",
        "Join by attribute..."
      ]
    },
    {
      "cell_type": "code",
      "metadata": {},
      "source": [
        "import pandas as pd"
      ],
      "execution_count": null,
      "outputs": []
    },
    {
      "cell_type": "code",
      "metadata": {},
      "source": [
        "coffee_data = pd.read_csv(\"data/coffee_data.csv\")\n",
        "coffee_data"
      ],
      "execution_count": null,
      "outputs": []
    },
    {
      "cell_type": "markdown",
      "metadata": {},
      "source": [
        "Join by `\"name_long\"` column..."
      ]
    },
    {
      "cell_type": "code",
      "metadata": {},
      "source": [
        "world_coffee = pd.merge(world, coffee_data, on = \"name_long\", how = \"left\")\n",
        "world_coffee"
      ],
      "execution_count": null,
      "outputs": []
    },
    {
      "cell_type": "markdown",
      "metadata": {},
      "source": [
        "Plot... "
      ]
    },
    {
      "cell_type": "code",
      "metadata": {},
      "source": [
        "base = world.plot(color = \"white\", edgecolor = \"lightgrey\")\n",
        "world_coffee.plot(ax = base, column = \"coffee_production_2017\");"
      ],
      "execution_count": null,
      "outputs": []
    },
    {
      "cell_type": "markdown",
      "metadata": {},
      "source": [
        "### Creating attributes and removing spatial information\n",
        "\n",
        "Calculate new column..."
      ]
    },
    {
      "cell_type": "code",
      "metadata": {},
      "source": [
        "world2 = world.copy()\n",
        "world2[\"pop_dens\"] = world2[\"pop\"] / world2[\"area_km2\"]"
      ],
      "execution_count": null,
      "outputs": []
    },
    {
      "cell_type": "markdown",
      "metadata": {},
      "source": [
        "Unite columns..."
      ]
    },
    {
      "cell_type": "code",
      "metadata": {},
      "source": [
        "world2[\"con_reg\"] = world[\"continent\"] + \":\" + world2[\"region_un\"]\n",
        "world2 = world2.drop([\"continent\", \"region_un\"], axis=1)"
      ],
      "execution_count": null,
      "outputs": []
    },
    {
      "cell_type": "markdown",
      "metadata": {},
      "source": [
        "Split column..."
      ]
    },
    {
      "cell_type": "code",
      "metadata": {},
      "source": [
        "world2[[\"continent\", \"region_un\"]] = world2[\"con_reg\"].str.split(\":\", expand=True)"
      ],
      "execution_count": null,
      "outputs": []
    },
    {
      "cell_type": "markdown",
      "metadata": {},
      "source": [
        "Rename..."
      ]
    },
    {
      "cell_type": "code",
      "metadata": {},
      "source": [
        "world2.rename(columns={\"name_long\": \"name\"})"
      ],
      "execution_count": null,
      "outputs": []
    },
    {
      "cell_type": "markdown",
      "metadata": {},
      "source": [
        "Renaming all columns..."
      ]
    },
    {
      "cell_type": "code",
      "metadata": {},
      "source": [
        "new_names =[\"i\", \"n\", \"c\", \"r\", \"s\", \"t\", \"a\", \"p\", \"l\", \"gP\", \"geom\"]\n",
        "world.columns = new_names"
      ],
      "execution_count": null,
      "outputs": []
    },
    {
      "cell_type": "markdown",
      "metadata": {},
      "source": [
        "Dropping geometry..."
      ]
    },
    {
      "cell_type": "code",
      "metadata": {},
      "source": [
        "pd.DataFrame(world.drop(columns=\"geom\"))"
      ],
      "execution_count": null,
      "outputs": []
    },
    {
      "cell_type": "markdown",
      "metadata": {},
      "source": [
        "## Manipulating raster objects\n",
        "\n",
        "### Raster subsetting\n",
        "\n",
        "Subsetting by row/column...\n",
        "\n",
        "### Summarizing raster objects\n",
        "\n",
        "Global summary of raster values (mean, etc.)...\n",
        "\n",
        "Histogram of raster values...\n",
        "\n",
        "## Exercises"
      ]
    }
  ],
  "metadata": {
    "kernelspec": {
      "name": "python3",
      "language": "python",
      "display_name": "Python 3 (ipykernel)"
    }
  },
  "nbformat": 4,
  "nbformat_minor": 4
}