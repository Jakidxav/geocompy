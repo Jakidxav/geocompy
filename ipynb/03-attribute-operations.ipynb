{
  "cells": [
    {
      "cell_type": "markdown",
      "metadata": {},
      "source": [
        "# Attribute data operations {#attr}\n",
        "\n",
        "## Prerequisites"
      ]
    },
    {
      "cell_type": "code",
      "metadata": {},
      "source": [
        "import pandas as pd\n",
        "import matplotlib.pyplot as plt\n",
        "pd.set_option(\"display.max_rows\", 4)\n",
        "pd.set_option(\"display.max_columns\", 6)\n",
        "pd.options.display.max_rows = 10\n",
        "pd.options.display.max_columns = 6\n",
        "pd.options.display.max_colwidth = 35\n",
        "plt.rcParams[\"figure.figsize\"] = (5, 5)"
      ],
      "execution_count": null,
      "outputs": []
    },
    {
      "cell_type": "markdown",
      "metadata": {},
      "source": [
        "Packages..."
      ]
    },
    {
      "cell_type": "code",
      "metadata": {},
      "source": [
        "import numpy as np\n",
        "import geopandas as gpd\n",
        "import rasterio"
      ],
      "execution_count": null,
      "outputs": []
    },
    {
      "cell_type": "markdown",
      "metadata": {},
      "source": [
        "Sample data..."
      ]
    },
    {
      "cell_type": "code",
      "metadata": {},
      "source": [
        "world = gpd.read_file(\"data/world.gpkg\")\n",
        "src_elev = rasterio.open(\"data/elev.tif\")\n",
        "src_multi_rast = rasterio.open(\"data/landsat.tif\")"
      ],
      "execution_count": null,
      "outputs": []
    },
    {
      "cell_type": "markdown",
      "metadata": {},
      "source": [
        "## Introduction\n",
        "\n",
        "## Vector attribute manipulation\n",
        "\n",
        "### Vector attribute subsetting\n",
        "\n",
        "Subsetting rows by attribute...\n",
        "\n",
        "Selecting columns..."
      ]
    },
    {
      "cell_type": "code",
      "metadata": {},
      "source": [
        "world[[\"name_long\", \"geometry\"]]"
      ],
      "execution_count": null,
      "outputs": []
    },
    {
      "cell_type": "markdown",
      "metadata": {},
      "source": [
        "### Vector attribute aggregation\n",
        "\n",
        "Aggregation without geometry...\n",
        "\n",
        "### Vector attribute joining\n",
        "\n",
        "Join by attribute..."
      ]
    },
    {
      "cell_type": "code",
      "metadata": {},
      "source": [
        "import pandas as pd"
      ],
      "execution_count": null,
      "outputs": []
    },
    {
      "cell_type": "code",
      "metadata": {},
      "source": [
        "coffee_data = pd.read_csv(\"data/coffee_data.csv\")\n",
        "coffee_data"
      ],
      "execution_count": null,
      "outputs": []
    },
    {
      "cell_type": "markdown",
      "metadata": {},
      "source": [
        "Join by `\"name_long\"` column..."
      ]
    },
    {
      "cell_type": "code",
      "metadata": {},
      "source": [
        "world_coffee = pd.merge(world, coffee_data, on = \"name_long\", how = \"left\")\n",
        "world_coffee"
      ],
      "execution_count": null,
      "outputs": []
    },
    {
      "cell_type": "markdown",
      "metadata": {},
      "source": [
        "Plot... "
      ]
    },
    {
      "cell_type": "code",
      "metadata": {},
      "source": [
        "base = world.plot(color = \"white\", edgecolor = \"lightgrey\")\n",
        "world_coffee.plot(ax = base, column = \"coffee_production_2017\");"
      ],
      "execution_count": null,
      "outputs": []
    },
    {
      "cell_type": "markdown",
      "metadata": {},
      "source": [
        "### Creating attributes and removing spatial information\n",
        "\n",
        "Calculate new column..."
      ]
    },
    {
      "cell_type": "code",
      "metadata": {},
      "source": [
        "world2 = world.copy()\n",
        "world2[\"pop_dens\"] = world2[\"pop\"] / world2[\"area_km2\"]"
      ],
      "execution_count": null,
      "outputs": []
    },
    {
      "cell_type": "markdown",
      "metadata": {},
      "source": [
        "Unite columns..."
      ]
    },
    {
      "cell_type": "code",
      "metadata": {},
      "source": [
        "world2[\"con_reg\"] = world[\"continent\"] + \":\" + world2[\"region_un\"]\n",
        "world2 = world2.drop([\"continent\", \"region_un\"], axis=1)"
      ],
      "execution_count": null,
      "outputs": []
    },
    {
      "cell_type": "markdown",
      "metadata": {},
      "source": [
        "Split column..."
      ]
    },
    {
      "cell_type": "code",
      "metadata": {},
      "source": [
        "world2[[\"continent\", \"region_un\"]] = world2[\"con_reg\"].str.split(\":\", expand=True)"
      ],
      "execution_count": null,
      "outputs": []
    },
    {
      "cell_type": "markdown",
      "metadata": {},
      "source": [
        "Rename..."
      ]
    },
    {
      "cell_type": "code",
      "metadata": {},
      "source": [
        "world2.rename(columns={\"name_long\": \"name\"})"
      ],
      "execution_count": null,
      "outputs": []
    },
    {
      "cell_type": "markdown",
      "metadata": {},
      "source": [
        "Renaming all columns..."
      ]
    },
    {
      "cell_type": "code",
      "metadata": {},
      "source": [
        "new_names =[\"i\", \"n\", \"c\", \"r\", \"s\", \"t\", \"a\", \"p\", \"l\", \"gP\", \"geom\"]\n",
        "world.columns = new_names"
      ],
      "execution_count": null,
      "outputs": []
    },
    {
      "cell_type": "markdown",
      "metadata": {},
      "source": [
        "Dropping geometry..."
      ]
    },
    {
      "cell_type": "code",
      "metadata": {},
      "source": [
        "pd.DataFrame(world.drop(columns=\"geom\"))"
      ],
      "execution_count": null,
      "outputs": []
    },
    {
      "cell_type": "markdown",
      "metadata": {},
      "source": [
        "## Manipulating raster objects\n",
        "\n",
        "### Raster subsetting\n",
        "\n",
        "When using `rasterio`, raster values are accessible through a `numpy` array, which can be imported with the `.read` method:"
      ]
    },
    {
      "cell_type": "code",
      "metadata": {},
      "source": [
        "elev = src_elev.read(1)\n",
        "elev"
      ],
      "execution_count": null,
      "outputs": []
    },
    {
      "cell_type": "markdown",
      "metadata": {},
      "source": [
        "Then, we can access any subset of cell values using `numpy` methods. For example:"
      ]
    },
    {
      "cell_type": "code",
      "metadata": {},
      "source": [
        "elev[0, 0]  ## Value at row 1, column 1"
      ],
      "execution_count": null,
      "outputs": []
    },
    {
      "cell_type": "markdown",
      "metadata": {},
      "source": [
        "Cell values can be modified by overwriting existing values in conjunction with a subsetting operation. The following expression, for example, sets the upper left cell of elev to 0:"
      ]
    },
    {
      "cell_type": "code",
      "metadata": {},
      "source": [
        "elev[0, 0] = 0\n",
        "elev"
      ],
      "execution_count": null,
      "outputs": []
    },
    {
      "cell_type": "markdown",
      "metadata": {},
      "source": [
        "Multiple cells can also be modified in this way:"
      ]
    },
    {
      "cell_type": "code",
      "metadata": {},
      "source": [
        "elev[0, 0:2] = 0\n",
        "elev"
      ],
      "execution_count": null,
      "outputs": []
    },
    {
      "cell_type": "markdown",
      "metadata": {},
      "source": [
        "### Summarizing raster objects\n",
        "\n",
        "Global summaries of raster values can be calculated by applying `numpy` summary functions---such as `np.mean`---on the array with raster values. For example:\n",
        "\n",
        "```{numpy}\n",
        "np.mean(elev)\n",
        "```\n",
        "\n",
        "Note that \"No Data\"-safe functions--such as `np.nanmean`---should be used in case the raster contains \"No Data\" values which need to be ignored:\n",
        "\n",
        "```{numpy}\n",
        "elev[0, 2] = np.nan\n",
        "elev\n",
        "```\n",
        "\n",
        "```{numpy}\n",
        "np.mean(elev)\n",
        "```\n",
        "\n",
        "```{numpy}\n",
        "np.nanmean(elev)\n",
        "```\n",
        "\n",
        "Raster value statistics can be visualized in a variety of ways. One approach is to \"flatten\" the raster values into a one-dimensional array, then use a graphical function such as `plt.hist` or `plt.boxplot` (from `matplotlib.pyplot`). For example:"
      ]
    },
    {
      "cell_type": "code",
      "metadata": {},
      "source": [
        "x = elev.flatten()\n",
        "plt.hist(x);"
      ],
      "execution_count": null,
      "outputs": []
    },
    {
      "cell_type": "markdown",
      "metadata": {},
      "source": [
        "## Exercises\n"
      ]
    }
  ],
  "metadata": {
    "kernelspec": {
      "name": "python3",
      "language": "python",
      "display_name": "Python 3 (ipykernel)"
    }
  },
  "nbformat": 4,
  "nbformat_minor": 4
}