{
  "cells": [
    {
      "cell_type": "markdown",
      "metadata": {},
      "source": [
        "# Making maps with Python {#map-making}\n",
        "\n",
        "## Introduction\n",
        "\n",
        "Geopandas explore has been used in previous chapters.\n",
        "\n",
        "<!-- Decision of whether to use static or interactive. -->\n",
        "<!-- Flow diagram? -->\n",
        "\n",
        "## Static maps\n",
        "\n",
        "### Faceted maps\n",
        "### Exporting maps as images\n",
        "\n",
        "<!-- ## Animated maps -->\n",
        "## Interactive maps\n",
        "\n",
        "- When are interactive maps useful\n",
        "\n",
        "### Publishing interactive maps\n",
        "\n",
        "<!-- ## Mapping applications\n",
        "\n",
        "Streamlit? -->\n",
        "\n",
        "## Exercises"
      ]
    }
  ],
  "metadata": {
    "kernelspec": {
      "name": "python3",
      "language": "python",
      "display_name": "Python 3 (ipykernel)"
    }
  },
  "nbformat": 4,
  "nbformat_minor": 4
}