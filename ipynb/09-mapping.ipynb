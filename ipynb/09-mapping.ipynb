{
  "cells": [
    {
      "cell_type": "markdown",
      "metadata": {},
      "source": [
        "# Making maps with Python {#adv-map}\n",
        "\n",
        "## Introduction\n",
        "\n",
        "\n",
        "## Static maps\n",
        "\n",
        "### tmap basics\n",
        "### Map objects\n",
        "### Aesthetics\n",
        "### Color settings\n",
        "### Layouts\n",
        "### Faceted maps\n",
        "### Inset maps\n",
        "\n",
        "## Animated maps\n",
        "## Interactive maps\n",
        "## Mapping applications\n",
        "## Other mapping packages\n",
        "\n",
        "## Exercises"
      ]
    }
  ],
  "metadata": {
    "kernelspec": {
      "name": "python3",
      "language": "python",
      "display_name": "Python 3 (ipykernel)"
    }
  },
  "nbformat": 4,
  "nbformat_minor": 4
}