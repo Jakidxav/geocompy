{
  "cells": [
    {
      "cell_type": "markdown",
      "metadata": {},
      "source": [
        "# Raster-vector interactions {#raster-vector}\n",
        "\n",
        "## Prerequisites"
      ]
    },
    {
      "cell_type": "code",
      "metadata": {},
      "source": [
        "import pandas as pd\n",
        "import matplotlib.pyplot as plt\n",
        "pd.set_option(\"display.max_rows\", 4)\n",
        "pd.set_option(\"display.max_columns\", 6)\n",
        "pd.options.display.max_rows = 10\n",
        "pd.options.display.max_columns = 6\n",
        "pd.options.display.max_colwidth = 35\n",
        "plt.rcParams[\"figure.figsize\"] = (5, 5)"
      ],
      "execution_count": null,
      "outputs": []
    },
    {
      "cell_type": "markdown",
      "metadata": {},
      "source": [
        "Packages..."
      ]
    },
    {
      "cell_type": "code",
      "metadata": {},
      "source": [
        "import numpy as np\n",
        "import geopandas as gpd\n",
        "import rasterio\n",
        "import rasterio.mask\n",
        "from rasterio.plot import show"
      ],
      "execution_count": null,
      "outputs": []
    },
    {
      "cell_type": "markdown",
      "metadata": {},
      "source": [
        "Sample data..."
      ]
    },
    {
      "cell_type": "code",
      "metadata": {},
      "source": [
        "src = rasterio.open(\"data/srtm.tif\")\n",
        "pol = gpd.read_file(\"data/zion.gpkg\")"
      ],
      "execution_count": null,
      "outputs": []
    },
    {
      "cell_type": "markdown",
      "metadata": {},
      "source": [
        "## Introduction\n",
        "\n",
        "## Raster cropping"
      ]
    },
    {
      "cell_type": "code",
      "metadata": {},
      "source": [
        "pol = pol.to_crs(src.crs)"
      ],
      "execution_count": null,
      "outputs": []
    },
    {
      "cell_type": "code",
      "metadata": {},
      "source": [
        "out_image, out_transform = rasterio.mask.mask(src, pol.geometry, crop = False, nodata = 9999)"
      ],
      "execution_count": null,
      "outputs": []
    },
    {
      "cell_type": "code",
      "metadata": {},
      "source": [
        "show(out_image)"
      ],
      "execution_count": null,
      "outputs": []
    },
    {
      "cell_type": "code",
      "metadata": {},
      "source": [
        "meta = src.meta\n",
        "meta.update(height = out_image[0].shape[0])\n",
        "meta.update(width = out_image[0].shape[1])\n",
        "meta.update(transform = out_transform)\n",
        "meta.update(nodata = 9999)\n",
        "meta"
      ],
      "execution_count": null,
      "outputs": []
    },
    {
      "cell_type": "code",
      "metadata": {},
      "source": [
        "new_dataset = rasterio.open(\"output/srtm_cropped.tif\", \"w\", **meta)\n",
        "new_dataset.write(out_image)\n",
        "new_dataset.close()"
      ],
      "execution_count": null,
      "outputs": []
    },
    {
      "cell_type": "code",
      "metadata": {},
      "source": [
        "src2 = rasterio.open(\"output/srtm_cropped.tif\")\n",
        "show(src2)"
      ],
      "execution_count": null,
      "outputs": []
    },
    {
      "cell_type": "code",
      "metadata": {},
      "source": [
        "src2.meta"
      ],
      "execution_count": null,
      "outputs": []
    },
    {
      "cell_type": "code",
      "metadata": {},
      "source": [
        "src2.read()"
      ],
      "execution_count": null,
      "outputs": []
    },
    {
      "cell_type": "markdown",
      "metadata": {},
      "source": [
        "Plot..."
      ]
    },
    {
      "cell_type": "code",
      "metadata": {},
      "source": [
        "fig, axes = plt.subplots(ncols=3, figsize=(9,5))\n",
        "show(src, ax=axes[0])\n",
        "show(src, ax=axes[1])\n",
        "show(src2, ax=axes[2])\n",
        "axes[0].set_title(\"Original\")\n",
        "axes[1].set_title(\"Crop\")\n",
        "axes[2].set_title(\"Mask\");"
      ],
      "execution_count": null,
      "outputs": []
    },
    {
      "cell_type": "markdown",
      "metadata": {},
      "source": [
        "## Raster extraction\n",
        "\n",
        "## Rasterization\n",
        "\n",
        "## Spatial vectorization"
      ]
    },
    {
      "cell_type": "code",
      "metadata": {},
      "source": [
        "src = rasterio.open(\"data/grain.tif\")"
      ],
      "execution_count": null,
      "outputs": []
    },
    {
      "cell_type": "markdown",
      "metadata": {},
      "source": [
        "## Exercises"
      ]
    }
  ],
  "metadata": {
    "kernelspec": {
      "name": "python3",
      "language": "python",
      "display_name": "Python 3 (ipykernel)"
    }
  },
  "nbformat": 4,
  "nbformat_minor": 4
}