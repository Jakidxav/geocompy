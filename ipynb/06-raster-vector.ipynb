{
  "cells": [
    {
      "cell_type": "markdown",
      "metadata": {},
      "source": [
        "# Raster-vector interactions {#raster-vector}\n",
        "\n",
        "## Prerequisites"
      ]
    },
    {
      "cell_type": "code",
      "metadata": {},
      "source": [
        "#| echo: false\n",
        "import pandas as pd\n",
        "import matplotlib.pyplot as plt\n",
        "pd.options.display.max_rows = 6\n",
        "pd.options.display.max_columns = 6\n",
        "pd.options.display.max_colwidth = 35\n",
        "plt.rcParams[\"figure.figsize\"] = (5, 5)"
      ],
      "execution_count": null,
      "outputs": []
    },
    {
      "cell_type": "markdown",
      "metadata": {},
      "source": [
        "Let's import the required packages:"
      ]
    },
    {
      "cell_type": "code",
      "metadata": {},
      "source": [
        "import numpy as np\n",
        "import matplotlib.pyplot as plt\n",
        "import geopandas as gpd\n",
        "import rasterio\n",
        "import rasterio.mask\n",
        "from rasterio.plot import show"
      ],
      "execution_count": null,
      "outputs": []
    },
    {
      "cell_type": "markdown",
      "metadata": {},
      "source": [
        "and load the sample data:"
      ]
    },
    {
      "cell_type": "code",
      "metadata": {},
      "source": [
        "src_srtm = rasterio.open(\"data/srtm.tif\")\n",
        "zion = gpd.read_file(\"data/zion.gpkg\")\n",
        "zion_points = gpd.read_file(\"data/zion_points.gpkg\")"
      ],
      "execution_count": null,
      "outputs": []
    },
    {
      "cell_type": "markdown",
      "metadata": {},
      "source": [
        "## Introduction\n",
        "\n",
        "## Raster cropping\n",
        "\n",
        "Many geographic data projects involve integrating data from many different sources, such as remote sensing images (rasters) and administrative boundaries (vectors). Often the extent of input raster datasets is larger than the area of interest. In this case raster **cropping** and **masking** are useful for unifying the spatial extent of input data. Both operations reduce object memory use and associated computational resources for subsequent analysis steps, and may be a necessary preprocessing step before creating attractive maps involving raster data.\n",
        "\n",
        "We will use two objects to illustrate raster cropping:\n",
        "\n",
        "* The `srtm.tif` raster representing elevation (meters above sea level) in south-western Utah\n",
        "* The `zion.gpkg` vector layer representing the Zion National Park\n",
        "\n",
        "Both target and cropping objects must have the same projection. The following reprojects the vector layer `zion` into the CRS of the raster `src_srtm`:"
      ]
    },
    {
      "cell_type": "code",
      "metadata": {},
      "source": [
        "zion = zion.to_crs(src_srtm.crs)"
      ],
      "execution_count": null,
      "outputs": []
    },
    {
      "cell_type": "markdown",
      "metadata": {},
      "source": [
        "To mask the image, i.e., convert all pixels which do not intersect with the `zion` polygon to \"No Data\", we use the `rasterio.mask.mask` function as follows:"
      ]
    },
    {
      "cell_type": "code",
      "metadata": {},
      "source": [
        "out_image_mask, out_transform_mask = rasterio.mask.mask(\n",
        "    src_srtm, \n",
        "    zion[\"geometry\"], \n",
        "    crop=False, \n",
        "    nodata=9999\n",
        ")"
      ],
      "execution_count": null,
      "outputs": []
    },
    {
      "cell_type": "markdown",
      "metadata": {},
      "source": [
        "Note that we need to specify a \"No Data\" value in agreement with the raster data type. Since `srtm.tif` is of type `uint16`, we choose `9999` (a positive integer that is guaranteed not to occur in the raster). \n",
        "\n",
        "The result is the `out_image` array with the masked values: "
      ]
    },
    {
      "cell_type": "code",
      "metadata": {},
      "source": [
        "out_image_mask"
      ],
      "execution_count": null,
      "outputs": []
    },
    {
      "cell_type": "markdown",
      "metadata": {},
      "source": [
        "and the new `out_transform`:"
      ]
    },
    {
      "cell_type": "code",
      "metadata": {},
      "source": [
        "out_transform_mask"
      ],
      "execution_count": null,
      "outputs": []
    },
    {
      "cell_type": "markdown",
      "metadata": {},
      "source": [
        "Note that masking (without cropping!) does not modify the raster spatial configuration. Therefore, the new transform is identical to the original:"
      ]
    },
    {
      "cell_type": "code",
      "metadata": {},
      "source": [
        "src_srtm.transform"
      ],
      "execution_count": null,
      "outputs": []
    },
    {
      "cell_type": "markdown",
      "metadata": {},
      "source": [
        "Unfortunately, the `out_image` and `out_transform` object do not contain any information indicating that `9999` represents \"No Data\". To associate the information with the raster, we must write it to file along with the corresponding metadata. For example, to write the cropped raster to file, we need to modify the \"No Data\" setting in the metadata:"
      ]
    },
    {
      "cell_type": "code",
      "metadata": {},
      "source": [
        "out_meta = src_srtm.meta\n",
        "out_meta.update(nodata=9999)\n",
        "out_meta"
      ],
      "execution_count": null,
      "outputs": []
    },
    {
      "cell_type": "markdown",
      "metadata": {},
      "source": [
        "Then we can write the cropped raster to file:"
      ]
    },
    {
      "cell_type": "code",
      "metadata": {},
      "source": [
        "new_dataset = rasterio.open(\"output/srtm_masked.tif\", \"w\", **out_meta)\n",
        "new_dataset.write(out_image_mask)\n",
        "new_dataset.close()"
      ],
      "execution_count": null,
      "outputs": []
    },
    {
      "cell_type": "markdown",
      "metadata": {},
      "source": [
        "Now we can re-import the raster:"
      ]
    },
    {
      "cell_type": "code",
      "metadata": {},
      "source": [
        "src_srtm_mask = rasterio.open(\"output/srtm_masked.tif\")"
      ],
      "execution_count": null,
      "outputs": []
    },
    {
      "cell_type": "markdown",
      "metadata": {},
      "source": [
        "The `.meta` property contains the `nodata` entry. Now, any relevant operation (such as plotting) will take \"No Data\" into account:"
      ]
    },
    {
      "cell_type": "code",
      "metadata": {},
      "source": [
        "src_srtm_mask.meta"
      ],
      "execution_count": null,
      "outputs": []
    },
    {
      "cell_type": "markdown",
      "metadata": {},
      "source": [
        "Cropping means reducing the raster extent to the extent of the vector layer:\n",
        "\n",
        "* To crop *and* mask, we can use the same in `rasterio.mask.mask` expression shown above for masking, just setting `crop=True` instead of `crop=False`. \n",
        "* To just crop, *without* masking, we can derive the extent polygon and then crop using it.\n",
        "\n",
        "For example, here is how we can obtain the extent polygon of `zion`, as a `shapely` geometry object:"
      ]
    },
    {
      "cell_type": "code",
      "metadata": {},
      "source": [
        "bb = zion.unary_union.envelope\n",
        "bb"
      ],
      "execution_count": null,
      "outputs": []
    },
    {
      "cell_type": "markdown",
      "metadata": {},
      "source": [
        "The extent can now be used for masking. Here, we are also using the `all_touched=True` option so that pixels partially overlapping with the extent are included:"
      ]
    },
    {
      "cell_type": "code",
      "metadata": {},
      "source": [
        "out_image_crop, out_transform_crop = rasterio.mask.mask(\n",
        "    src_srtm, \n",
        "    [bb], \n",
        "    crop=True, \n",
        "    all_touched=True, \n",
        "    nodata=9999\n",
        ")"
      ],
      "execution_count": null,
      "outputs": []
    },
    {
      "cell_type": "markdown",
      "metadata": {},
      "source": [
        "Figure ... shows the original raster, and the cropped and masked results."
      ]
    },
    {
      "cell_type": "code",
      "metadata": {},
      "source": [
        "fig, axes = plt.subplots(ncols=3, figsize=(9,5))\n",
        "show(src_srtm, ax=axes[0])\n",
        "zion.plot(ax=axes[0], color=\"none\", edgecolor=\"black\")\n",
        "show(src_srtm_mask, ax=axes[1])\n",
        "zion.plot(ax=axes[1], color=\"none\", edgecolor=\"black\")\n",
        "show(out_image_crop, transform=out_transform_crop, ax=axes[2])\n",
        "zion.plot(ax=axes[2], color=\"none\", edgecolor=\"black\")\n",
        "axes[0].set_title(\"Original\")\n",
        "axes[1].set_title(\"Mask\")\n",
        "axes[2].set_title(\"Crop\");"
      ],
      "execution_count": null,
      "outputs": []
    },
    {
      "cell_type": "markdown",
      "metadata": {},
      "source": [
        "## Raster extraction\n",
        "\n",
        "From points...\n",
        "\n",
        "From line...\n",
        "\n",
        "From polygon (srtm)...\n",
        "\n",
        "From polygon (nlcd)...\n",
        "\n",
        "## Rasterization\n",
        "\n",
        "## Spatial vectorization"
      ]
    },
    {
      "cell_type": "code",
      "metadata": {},
      "source": [
        "src = rasterio.open(\"data/grain.tif\")"
      ],
      "execution_count": null,
      "outputs": []
    },
    {
      "cell_type": "markdown",
      "metadata": {},
      "source": [
        "## Exercises"
      ]
    }
  ],
  "metadata": {
    "kernelspec": {
      "name": "python3",
      "language": "python",
      "display_name": "Python 3 (ipykernel)"
    }
  },
  "nbformat": 4,
  "nbformat_minor": 4
}