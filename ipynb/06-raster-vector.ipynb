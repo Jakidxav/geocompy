{
  "cells": [
    {
      "cell_type": "markdown",
      "metadata": {},
      "source": [
        "# Raster-vector interactions {#raster-vector}\n",
        "\n",
        "## Prerequisites"
      ]
    },
    {
      "cell_type": "code",
      "metadata": {},
      "source": [
        "import pandas as pd\n",
        "import matplotlib.pyplot as plt\n",
        "pd.set_option(\"display.max_rows\", 4)\n",
        "pd.set_option(\"display.max_columns\", 6)\n",
        "pd.options.display.max_rows = 10\n",
        "pd.options.display.max_columns = 6\n",
        "pd.options.display.max_colwidth = 35\n",
        "plt.rcParams[\"figure.figsize\"] = (5, 5)"
      ],
      "execution_count": null,
      "outputs": []
    },
    {
      "cell_type": "markdown",
      "metadata": {},
      "source": [
        "Let's import the required packages:"
      ]
    },
    {
      "cell_type": "code",
      "metadata": {},
      "source": [
        "import numpy as np\n",
        "import geopandas as gpd\n",
        "import rasterio\n",
        "import rasterio.mask\n",
        "from rasterio.plot import show"
      ],
      "execution_count": null,
      "outputs": []
    },
    {
      "cell_type": "markdown",
      "metadata": {},
      "source": [
        "and load the sample data:"
      ]
    },
    {
      "cell_type": "code",
      "metadata": {},
      "source": [
        "src_srtm = rasterio.open(\"data/srtm.tif\")\n",
        "zion = gpd.read_file(\"data/zion.gpkg\")"
      ],
      "execution_count": null,
      "outputs": []
    },
    {
      "cell_type": "markdown",
      "metadata": {},
      "source": [
        "## Introduction\n",
        "\n",
        "## Raster cropping\n",
        "\n",
        "Many geographic data projects involve integrating data from many different sources, such as remote sensing images (rasters) and administrative boundaries (vectors). Often the extent of input raster datasets is larger than the area of interest. In this case raster **cropping** and **masking** are useful for unifying the spatial extent of input data. Both operations reduce object memory use and associated computational resources for subsequent analysis steps, and may be a necessary preprocessing step before creating attractive maps involving raster data.\n",
        "\n",
        "We will use two objects to illustrate raster cropping:\n",
        "\n",
        "* The `srtm.tif` raster representing elevation (meters above sea level) in south-western Utah\n",
        "* The `zion.gpkg` vector layer representing the Zion National Park\n",
        "\n",
        "Both target and cropping objects must have the same projection. The following reprojects the vector layer `zion` into the CRS of the raster `src_srtm`:"
      ]
    },
    {
      "cell_type": "code",
      "metadata": {},
      "source": [
        "zion = zion.to_crs(src_srtm.crs)"
      ],
      "execution_count": null,
      "outputs": []
    },
    {
      "cell_type": "markdown",
      "metadata": {},
      "source": [
        "To mask the image, i.e., convert all pixels which do not intersect with the `zion` polygon to \"No Data\", we use the `rasterio.mask.mask` function as follows:"
      ]
    },
    {
      "cell_type": "code",
      "metadata": {},
      "source": [
        "out_image, out_transform = rasterio.mask.mask(src_srtm, zion.geometry, crop=False, nodata=9999)"
      ],
      "execution_count": null,
      "outputs": []
    },
    {
      "cell_type": "markdown",
      "metadata": {},
      "source": [
        "Note that we need to specify the \"No Data\" value.\n",
        "\n",
        "The result is the `out_image` array with the masked values: "
      ]
    },
    {
      "cell_type": "code",
      "metadata": {},
      "source": [
        "out_image"
      ],
      "execution_count": null,
      "outputs": []
    },
    {
      "cell_type": "markdown",
      "metadata": {},
      "source": [
        "and the new `out_transform`:"
      ]
    },
    {
      "cell_type": "code",
      "metadata": {},
      "source": [
        "out_transform"
      ],
      "execution_count": null,
      "outputs": []
    },
    {
      "cell_type": "markdown",
      "metadata": {},
      "source": [
        "Note that masking (without cropping!) does not modify the raster spatial configuration. Therefore, the new transform is identical to the original:"
      ]
    },
    {
      "cell_type": "code",
      "metadata": {},
      "source": [
        "src_srtm.transform"
      ],
      "execution_count": null,
      "outputs": []
    },
    {
      "cell_type": "markdown",
      "metadata": {},
      "source": [
        "To write the cropped raster to file, we need to modify the \"No Data\" setting in the metadata:"
      ]
    },
    {
      "cell_type": "code",
      "metadata": {},
      "source": [
        "out_meta = src_srtm.meta\n",
        "out_meta.update(nodata=9999)\n",
        "out_meta"
      ],
      "execution_count": null,
      "outputs": []
    },
    {
      "cell_type": "markdown",
      "metadata": {},
      "source": [
        "Then we can write the cropped raster to file:"
      ]
    },
    {
      "cell_type": "code",
      "metadata": {},
      "source": [
        "new_dataset = rasterio.open(\"output/srtm_masked.tif\", \"w\", **out_meta)\n",
        "new_dataset.write(out_image)\n",
        "new_dataset.close()"
      ],
      "execution_count": null,
      "outputs": []
    },
    {
      "cell_type": "markdown",
      "metadata": {},
      "source": [
        "and re-import it:"
      ]
    },
    {
      "cell_type": "code",
      "metadata": {},
      "source": [
        "src_srtm_masked = rasterio.open(\"output/srtm_masked.tif\")\n",
        "show(src_srtm_masked)"
      ],
      "execution_count": null,
      "outputs": []
    },
    {
      "cell_type": "markdown",
      "metadata": {},
      "source": [
        "Cropping means to reduce the raster extent to the extent of the vector layer. To crop *and* mask, we just need to set `crop=False` in `rasterio.mask.mask` (see above). Crop...\n",
        "\n",
        "Plot..."
      ]
    },
    {
      "cell_type": "code",
      "metadata": {},
      "source": [
        "fig, axes = plt.subplots(ncols=3, figsize=(9,5))\n",
        "show(src_srtm, ax=axes[0])\n",
        "show(src_srtm, ax=axes[1])\n",
        "show(src_srtm_masked, ax=axes[2])\n",
        "axes[0].set_title(\"Original\")\n",
        "axes[1].set_title(\"Crop\")\n",
        "axes[2].set_title(\"Mask\");"
      ],
      "execution_count": null,
      "outputs": []
    },
    {
      "cell_type": "markdown",
      "metadata": {},
      "source": [
        "## Raster extraction\n",
        "\n",
        "## Rasterization\n",
        "\n",
        "## Spatial vectorization"
      ]
    },
    {
      "cell_type": "code",
      "metadata": {},
      "source": [
        "src = rasterio.open(\"data/grain.tif\")"
      ],
      "execution_count": null,
      "outputs": []
    },
    {
      "cell_type": "markdown",
      "metadata": {},
      "source": [
        "## Exercises"
      ]
    }
  ],
  "metadata": {
    "kernelspec": {
      "name": "python3",
      "language": "python",
      "display_name": "Python 3 (ipykernel)"
    }
  },
  "nbformat": 4,
  "nbformat_minor": 4
}