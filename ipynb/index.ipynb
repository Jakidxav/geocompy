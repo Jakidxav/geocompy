{
  "cells": [
    {
      "cell_type": "markdown",
      "metadata": {},
      "source": [
        "# Introduction\n",
        "\n",
        "This site contains ideas, code and an outline of a yet-to-be written book on *Geocomputation with Python*.\n",
        "\n",
        "## Motivations\n",
        "\n",
        "This book, tentatively called Geocomputation with Python ('geocompy'), is motivated by the need for an introductory yet rigorous and up-to-date resource on working with geographic data in Python that demonstrates basic data structures and describes code for handling vector *and* raster datasets in an integrated way.\n",
        "There are many resources on Python packages for geographic research and various applications but, to the best of our knowledge, no other resource brings together the following features into a single home:\n",
        "\n",
        "1. Small introductory textbook focuses on doing basic operations well\n",
        "2. Integration of vector and raster datasets in the same book, and within each section\n",
        "3. Clear explanation of the code and exercises to maximize learning for newcomers\n",
        "4. Provision of lucid example datasets and meaningful operations to illustrate the applied nature of geographic research\n",
        "\n",
        "The book aims to supplement other resources in the ecosystem, as highlighted by comparison with the book's scope with existing and in-progress works:\n",
        "\n",
        "- [Learning Geospatial Analysis with Python](https://www.packtpub.com/product/learning-geospatial-analysis-with-python/9781783281138) and [Geoprocessing with Python](https://www.manning.com/books/geoprocessing-with-python) focuses on processing spatial data using low-level Python interfaces for GDAL, such as the `gdal`, `gdalnumeric`, and `ogr` [packages](https://gdal.org/api/python.html) from `osgeo`. \n",
        "This approach is more complex, [less \"Pythonic\"](https://rasterio.readthedocs.io/en/latest/intro.html#philosophy), and perhaps outdated in light of development of packages such as `geopandas` and `rasterio` covered here\n",
        "- [pythongis.org](https://pythongis.org/) (at an early stage of development) seeks to provide a general introduction to 'GIS in Python', with parts focusing on Python essentials, using Python with GIS, and case studies. \n",
        "Compared with pythongis.org, geocompy has a relatively narrow scope (1) and a greater focus on raster-vector interoperability\n",
        "- [geographicdata.science](https://geographicdata.science/book/intro.html) is an ambitious project with chapters dedicated to advanced topics, with Chapter 4 on [Spatial Weights](https://geographicdata.science/book/notebooks/04_spatial_weights.html) getting into complex topics relatively early, for example.\n",
        "Geocompy would be shorter, simpler and more introductory, and cover raster and vector data with equal importance (1 to 4)\n",
        "\n",
        "Geocompy is a sister project of [Geocomputation with R](https://geocompr.robinlovelace.net/) -- a book on geographic data analysis, visualization, and modeling using the R programming language.\n",
        "\n",
        "## Reproducing this book\n",
        "\n",
        "An important aspect of scientific research and 'citizen science' that is participatory is reproducibility of results.\n",
        "\n",
        "To reproduce this book you need to have a reasonable computer, e.g. with 8 GB RAM.\n",
        "You'll need administrative rights to install the requirements, which include:\n",
        "\n",
        "- A suitable integrated development environment (IDE) such as VS Code, RStudio or Jupyter Notebook\n",
        "- Quarto, if you want to reproduce the book's open access website\n",
        "- Either an Anaconda-like environment (we recommend `miniconda3`) or Docker to get systems dependencies\n",
        "\n",
        "See the project's README for details on getting set-up.\n",
        "After you have installed the necessary dependencies and cloned or [unzipped](https://github.com/geocompr/py/archive/refs/heads/main.zip) the book's source code, you should be able to reproduce the code in its entirety with the following command:\n",
        "\n",
        "```bash\n",
        "quarto preview\n",
        "```\n",
        "\n",
        "If you see output like that below (with the IDE and browser arranged to see live updates after editing the source code), congratulations, it has worked!\n",
        "\n",
        "![](https://user-images.githubusercontent.com/1825120/161321382-ac36aeab-5628-4bef-b3dd-7b2becdd4860.png)\n"
      ]
    }
  ],
  "metadata": {
    "kernelspec": {
      "name": "python3",
      "language": "python",
      "display_name": "Python 3 (ipykernel)"
    }
  },
  "nbformat": 4,
  "nbformat_minor": 4
}