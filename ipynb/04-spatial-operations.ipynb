{
  "cells": [
    {
      "cell_type": "markdown",
      "metadata": {},
      "source": [
        "# Spatial data operations {#spatial-operations}"
      ]
    },
    {
      "cell_type": "code",
      "metadata": {},
      "source": [
        "import pandas as pd\n",
        "pd.set_option(\"display.max_rows\", 4)\n",
        "pd.set_option(\"display.max_columns\", 6)"
      ],
      "execution_count": null,
      "outputs": []
    },
    {
      "cell_type": "markdown",
      "metadata": {},
      "source": [
        "## Introduction\n",
        "\n",
        "## Spatial operations on vector data {#spatial-vec}\n",
        "\n",
        "### Spatial subsetting"
      ]
    },
    {
      "cell_type": "code",
      "metadata": {},
      "source": [
        "import geopandas as gpd"
      ],
      "execution_count": null,
      "outputs": []
    },
    {
      "cell_type": "markdown",
      "metadata": {},
      "source": [
        "Sample data..."
      ]
    },
    {
      "cell_type": "code",
      "metadata": {},
      "source": [
        "nz = gpd.read_file(\"data/nz.gpkg\")\n",
        "nz_height = gpd.read_file(\"data/nz_height.gpkg\")"
      ],
      "execution_count": null,
      "outputs": []
    },
    {
      "cell_type": "markdown",
      "metadata": {},
      "source": [
        "Plot..."
      ]
    },
    {
      "cell_type": "code",
      "metadata": {},
      "source": [
        "base = nz.plot(color=\"white\", edgecolor=\"lightgrey\")\n",
        "nz_height.plot(ax=base, color=\"None\", edgecolor=\"red\");"
      ],
      "execution_count": null,
      "outputs": []
    },
    {
      "cell_type": "markdown",
      "metadata": {},
      "source": [
        "Spatial subsetting..."
      ]
    },
    {
      "cell_type": "code",
      "metadata": {},
      "source": [
        "canterbury = nz[nz[\"Name\"] == \"Canterbury\"]\n",
        "sel = nz_height.intersects(canterbury[\"geometry\"].iloc[0])\n",
        "canterbury_height = nz_height[sel]"
      ],
      "execution_count": null,
      "outputs": []
    },
    {
      "cell_type": "markdown",
      "metadata": {},
      "source": [
        "Plot..."
      ]
    },
    {
      "cell_type": "code",
      "metadata": {},
      "source": [
        "base = nz.plot(color=\"white\", edgecolor=\"lightgrey\")\n",
        "canterbury_height.plot(ax=base, color=\"None\", edgecolor=\"red\");"
      ],
      "execution_count": null,
      "outputs": []
    },
    {
      "cell_type": "markdown",
      "metadata": {},
      "source": [
        "Spatial subsetting 2..."
      ]
    },
    {
      "cell_type": "code",
      "metadata": {},
      "source": [
        "sel = nz_height.disjoint(canterbury[\"geometry\"].iloc[0])\n",
        "non_canterbury_height = nz_height[sel]"
      ],
      "execution_count": null,
      "outputs": []
    },
    {
      "cell_type": "markdown",
      "metadata": {},
      "source": [
        "Plot..."
      ]
    },
    {
      "cell_type": "code",
      "metadata": {},
      "source": [
        "base = nz.plot(color=\"white\", edgecolor=\"lightgrey\")\n",
        "non_canterbury_height.plot(ax=base, color=\"None\", edgecolor=\"red\");"
      ],
      "execution_count": null,
      "outputs": []
    },
    {
      "cell_type": "markdown",
      "metadata": {},
      "source": [
        "...\n",
        "\n",
        "\n",
        "\n",
        "### Topological relations\n",
        "\n",
        "...\n",
        "\n",
        "### DE-9IM strings\n",
        "\n",
        "...\n",
        "\n",
        "### Spatial joining\n",
        "\n",
        "...\n",
        "\n",
        "### Non-overlapping joins\n",
        "\n",
        "...\n",
        "\n",
        "### Spatial aggregation\n",
        "\n",
        "...\n",
        "\n",
        "### Joining incongruent layers\n",
        "\n",
        "...\n",
        "\n",
        "### Distance relations\n",
        "\n",
        "...\n",
        "\n",
        "## Spatial operations on raster data {#spatial-ras}\n",
        "\n",
        "### Spatial subsetting\n",
        "\n",
        "...\n",
        "\n",
        "### Map algebra\n",
        "\n",
        "...\n",
        "\n",
        "### Local operations\n",
        "\n",
        "...\n",
        "\n",
        "### Focal operations\n",
        "\n",
        "...\n",
        "\n",
        "### Zonal operations\n",
        "\n",
        "...\n",
        "\n",
        "### Global operations and distances\n",
        "\n",
        "...\n",
        "\n",
        "### Map algebra counterparts in vector processing\n",
        "\n",
        "...\n",
        "\n",
        "### Merging rasters\n",
        "\n",
        "...\n",
        "\n",
        "## Exercises"
      ]
    }
  ],
  "metadata": {
    "kernelspec": {
      "name": "osmnx",
      "language": "python",
      "display_name": "OSMNX"
    }
  },
  "nbformat": 4,
  "nbformat_minor": 4
}