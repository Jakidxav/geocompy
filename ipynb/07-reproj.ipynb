{
  "cells": [
    {
      "cell_type": "markdown",
      "metadata": {},
      "source": [
        "# Reprojecting geographic data {#sec-reproj-geo-data}\n",
        "\n",
        "## Prerequisites"
      ]
    },
    {
      "cell_type": "code",
      "metadata": {},
      "source": [
        "#| echo: false\n",
        "import pandas as pd\n",
        "import matplotlib.pyplot as plt\n",
        "pd.options.display.max_rows = 6\n",
        "pd.options.display.max_columns = 6\n",
        "pd.options.display.max_colwidth = 35\n",
        "plt.rcParams['figure.figsize'] = (5, 5)"
      ],
      "execution_count": null,
      "outputs": []
    },
    {
      "cell_type": "markdown",
      "metadata": {},
      "source": [
        "Let's import the required packages:"
      ]
    },
    {
      "cell_type": "code",
      "metadata": {},
      "source": [
        "import numpy as np\n",
        "import geopandas as gpd\n",
        "import rasterio\n",
        "import rasterio.warp\n",
        "from rasterio.plot import show"
      ],
      "execution_count": null,
      "outputs": []
    },
    {
      "cell_type": "markdown",
      "metadata": {},
      "source": [
        "and load the sample data:"
      ]
    },
    {
      "cell_type": "code",
      "metadata": {},
      "source": [
        "src_srtm = rasterio.open('data/srtm.tif')\n",
        "src_nlcd = rasterio.open('data/nlcd.tif')\n",
        "zion = gpd.read_file('data/zion.gpkg')\n",
        "world = gpd.read_file('data/world.gpkg')"
      ],
      "execution_count": null,
      "outputs": []
    },
    {
      "cell_type": "markdown",
      "metadata": {},
      "source": [
        "## Introduction\n",
        "\n",
        "## Coordinate Reference Systems\n",
        "\n",
        "## Querying and setting coordinate systems\n",
        "\n",
        "## Geometry operations on projected and unprojected data\n",
        "\n",
        "## When to reproject?\n",
        "\n",
        "## Which CRS to use?\n",
        "\n",
        "## Reprojecting vector geometries {#sec-reprojecting-vector-geometries}\n",
        "\n",
        "## Reprojecting raster geometries\n",
        "\n",
        "The projection concepts described in the previous section apply equally to rasters. \n",
        "However, there are important differences in reprojection of vectors and rasters: transforming a vector object involves changing the coordinates of every vertex but this does not apply to raster data. \n",
        "Rasters are composed of rectangular cells of the same size (expressed by map units, such as degrees or meters), so it is usually impracticable to transform coordinates of pixels separately. \n",
        "Raster reprojection involves creating a new raster object, often with a different number of columns and rows than the original. \n",
        "The attributes must subsequently be re-estimated, allowing the new pixels to be 'filled' with appropriate values. \n",
        "In other words, raster reprojection can be thought of as two separate spatial operations: a vector reprojection of the raster extent to another CRS (@sec-reprojecting-vector-geometries), and computation of new pixel values through resampling (@sec-raster-resampling). \n",
        "Thus in most cases when both raster and vector data are used, it is better to avoid reprojecting rasters and reproject vectors instead.\n",
        "\n",
        ":::{.callout-note}\n",
        "Reprojection of the regular rasters is also known as warping. Additionally, there is a second similar operation called \"transformation\". Instead of resampling all of the values, it leaves all values intact but recomputes new coordinates for every raster cell, changing the grid geometry. For example, it could convert the input raster (a regular grid) into a curvilinear grid. The `rasterio`, like common raster file formats (such as GeoTIFF), does not support curvilinear grids (?).\n",
        ":::\n",
        "\n",
        "The raster reprojection process is done using two functions from the `rasterio.warp` sub-package:\n",
        "\n",
        "* `rasterio.warp.calculate_default_transform`\n",
        "* `rasterio.warp.reproject`\n",
        "\n",
        "The first function, `calculate_default_transform`, is used to calculate the new transformation matrix in the destination CRS, according to the source raster dimensions and bounds. \n",
        "Alternatively, the destination transformation matrix can be obtained from an existing raster; this is common practice when we need to align one raster with another, for instance to be able to combine them in raster algebra operations (@sec-raster-local-operations) (see below). \n",
        "The second function `rasterio.warp.reproject` then actually calculates cell values in the destination grid, using the user-selected resampling method (such as nearest neighbor, or bilinear). \n",
        "\n",
        "Let's take a look at two examples of raster transformation: using categorical and continuous data. \n",
        "Land cover data are usually represented by categorical maps. The `nlcd.tif` file provides information for a small area in Utah, USA obtained from National Land Cover Database 2011 in the NAD83 / UTM zone 12N CRS, as shown in the output of the code chunk below (only first line of output shown). \n",
        "We already created a connection to the `nlcd.tif` file, named `src_nlcd`:"
      ]
    },
    {
      "cell_type": "code",
      "metadata": {},
      "source": [
        "src_nlcd"
      ],
      "execution_count": null,
      "outputs": []
    },
    {
      "cell_type": "markdown",
      "metadata": {},
      "source": [
        "Recall that the raster transformation matrix and dimensions are accessible from the file connection as follows. This information will be required to calculate the destination transformation matrix (hereby printed collectively in a `tuple`):"
      ]
    },
    {
      "cell_type": "code",
      "metadata": {},
      "source": [
        "src_nlcd.transform, src_nlcd.width, src_nlcd.height"
      ],
      "execution_count": null,
      "outputs": []
    },
    {
      "cell_type": "markdown",
      "metadata": {},
      "source": [
        "First, let's define the destination CRS. In this case, we choose WGS84 (EPSG code `4326`):"
      ]
    },
    {
      "cell_type": "code",
      "metadata": {},
      "source": [
        "dst_crs = 'EPSG:4326'"
      ],
      "execution_count": null,
      "outputs": []
    },
    {
      "cell_type": "markdown",
      "metadata": {},
      "source": [
        "Now, we are ready to claculate the destination raster transformation matrix (`dst_transform`), and the destination dimensions (`dst_width`, `dst_height`), as follows: "
      ]
    },
    {
      "cell_type": "code",
      "metadata": {},
      "source": [
        "dst_transform, dst_width, dst_height = rasterio.warp.calculate_default_transform(\n",
        "    src_nlcd.crs,\n",
        "    dst_crs,\n",
        "    src_nlcd.width,\n",
        "    src_nlcd.height,\n",
        "    *src_nlcd.bounds\n",
        ")\n",
        "dst_transform, dst_width, dst_height"
      ],
      "execution_count": null,
      "outputs": []
    },
    {
      "cell_type": "markdown",
      "metadata": {},
      "source": [
        "Note that `*`, in `*src_nlcd.bounds`, is used to unpack `src_nlcd.bounds` to four separate arguments, which `calculate_default_transform` requires:"
      ]
    },
    {
      "cell_type": "code",
      "metadata": {},
      "source": [
        "src_nlcd.bounds"
      ],
      "execution_count": null,
      "outputs": []
    },
    {
      "cell_type": "markdown",
      "metadata": {},
      "source": [
        "Next, we will create the metadata file used for writing the reprojected raster to file. For convenience, we are taking the metadata of the source raster (`src_nlcd.meta`), making a copy (`dst_kwargs`), and then updating those specific properties that need to be changed. Note that the reprojection process typically creates \"No Data\" pixels, even when there were none in the input raster, since the raster orientation changes and the edges need to be \"filled\" to get back a rectangular extent. We need to specify a \"No Data\" value of our choice, if there is none, or use the existing source raster setting, such as `255` in this case:"
      ]
    },
    {
      "cell_type": "code",
      "metadata": {},
      "source": [
        "dst_kwargs = src_nlcd.meta.copy()\n",
        "dst_kwargs.update({\n",
        "    'crs': dst_crs,\n",
        "    'transform': dst_transform,\n",
        "    'width': dst_width,\n",
        "    'height': dst_height\n",
        "})\n",
        "dst_kwargs"
      ],
      "execution_count": null,
      "outputs": []
    },
    {
      "cell_type": "markdown",
      "metadata": {},
      "source": [
        "We are ready to create the reprojected raster. Here, reprojection takes place between two file connections, meaning that the raster value arrays are not being read into memory at once. It is also possible to reproject into an in-memory `ndarray` object, see the [documentation](https://rasterio.readthedocs.io/en/latest/api/rasterio.warp.html#rasterio.warp.reproject).\n",
        "\n",
        "To write the reprojected raster, we first create a destination file connection `dst_nlcd`, pointing at the output file path of our choice (`output/nlcd_4326.tif`), using the updated metadata object created earlier (`dst_kwargs`):"
      ]
    },
    {
      "cell_type": "code",
      "metadata": {},
      "source": [
        "dst_nlcd = rasterio.open('output/nlcd_4326.tif', 'w', **dst_kwargs)"
      ],
      "execution_count": null,
      "outputs": []
    },
    {
      "cell_type": "markdown",
      "metadata": {},
      "source": [
        "Then, we use the `rasterio.warp.reproject` function to calculate and write the reprojection result into the `dst_nlcd` file connection. Note that the `source` and `destination` accept a \"band\" object, created using `rasterio.band`. In this case, there is just one band. If there were more bands, we would have to repeat the procedure for each band, using `i` instead of `1` inside a [loop](https://rasterio.readthedocs.io/en/latest/topics/reproject.html#reprojecting-a-geotiff-dataset):"
      ]
    },
    {
      "cell_type": "code",
      "metadata": {},
      "source": [
        "rasterio.warp.reproject(\n",
        "    source=rasterio.band(src_nlcd, 1),\n",
        "    destination=rasterio.band(dst_nlcd, 1),\n",
        "    src_transform=src_nlcd.transform,\n",
        "    src_crs=src_nlcd.crs,\n",
        "    dst_transform=dst_transform,\n",
        "    dst_crs=dst_crs,\n",
        "    resampling=rasterio.warp.Resampling.nearest\n",
        ")"
      ],
      "execution_count": null,
      "outputs": []
    },
    {
      "cell_type": "markdown",
      "metadata": {},
      "source": [
        "Finally, we close the file connection so that the data are actually written:"
      ]
    },
    {
      "cell_type": "code",
      "metadata": {},
      "source": [
        "dst_nlcd.close()"
      ],
      "execution_count": null,
      "outputs": []
    },
    {
      "cell_type": "markdown",
      "metadata": {},
      "source": [
        "Many properties of the new object differ from the previous one, including the number of columns and rows (and therefore number of cells), resolution (transformed from meters into degrees), and extent, as summarized again below (note that the number of categories increases from 8 to 9 because of the addition of NA values, not because a new category has been created — the land cover classes are preserved)."
      ]
    },
    {
      "cell_type": "code",
      "metadata": {},
      "source": [
        "src_nlcd.meta"
      ],
      "execution_count": null,
      "outputs": []
    },
    {
      "cell_type": "code",
      "metadata": {},
      "source": [
        "src_nlcd_4326 = rasterio.open('output/nlcd_4326.tif')\n",
        "src_nlcd_4326.meta"
      ],
      "execution_count": null,
      "outputs": []
    },
    {
      "cell_type": "markdown",
      "metadata": {},
      "source": [
        "Examining the unique raster values tells us that the new raster has the same categories, plus the value `255` representing \"No Data\":"
      ]
    },
    {
      "cell_type": "code",
      "metadata": {},
      "source": [
        "np.unique(src_nlcd.read(1))"
      ],
      "execution_count": null,
      "outputs": []
    },
    {
      "cell_type": "code",
      "metadata": {},
      "source": [
        "np.unique(src_nlcd_4326.read(1))"
      ],
      "execution_count": null,
      "outputs": []
    },
    {
      "cell_type": "code",
      "metadata": {},
      "source": [
        "#| label: fig-raster-reproject-nlcd\n",
        "#| fig-cap: Reprojecting a categorical raster using nearest neighbor resampling\n",
        "\n",
        "fig, axes = plt.subplots(ncols=2, figsize=(9,5))\n",
        "show(src_nlcd, ax=axes[0], cmap='Set3')\n",
        "show(src_nlcd_4326, ax=axes[1], cmap='Set3')\n",
        "axes[0].set_title('Original (EPSG:26912)')\n",
        "axes[1].set_title('Reprojected (EPSG:4326)');"
      ],
      "execution_count": null,
      "outputs": []
    },
    {
      "cell_type": "markdown",
      "metadata": {},
      "source": [
        "In the above example, we automatically calculated an optimal (i.e., most information preserving) destination grid using `rasterio.warp.calculate_default_transform`. \n",
        "This is appropriate when there are no specific requirements for the destination raster spatial properties. \n",
        "Namely, we are not required to otain a specific origin and resolution, but just wish to preserve the raster values as much as possible.\n",
        "To do that, `calculate_default_transform` \"tries\" to keep the extent and resolution of the destination raster as similar as possible to the source. \n",
        "In other situations, however, we need to reproject a raster into a specific \"template\", so that it corresponds, for instance, with other rasters we use in the analysis. \n",
        "In the following code section, we reproject the `nlcd.tif` raster, again, buit this time using the `nlcd_4326.tif` reprojection result as the \"template\" to demonstrate this alternative workflow.\n",
        "\n",
        "First, we create a connection to our \"template\" raster to read its metadata:"
      ]
    },
    {
      "cell_type": "code",
      "metadata": {},
      "source": [
        "template = rasterio.open('output/nlcd_4326.tif')\n",
        "template.meta"
      ],
      "execution_count": null,
      "outputs": []
    },
    {
      "cell_type": "markdown",
      "metadata": {},
      "source": [
        "Then, we create a write-mode connection to our destination raster, using this metadata, meaning that as the resampling result is going to have identical metadata as the \"template\":"
      ]
    },
    {
      "cell_type": "code",
      "metadata": {},
      "source": [
        "dst_nlcd_2 = rasterio.open('output/nlcd_4326_2.tif', 'w', **template.meta)"
      ],
      "execution_count": null,
      "outputs": []
    },
    {
      "cell_type": "markdown",
      "metadata": {},
      "source": [
        "Now, we can resample and write the result:"
      ]
    },
    {
      "cell_type": "code",
      "metadata": {},
      "source": [
        "rasterio.warp.reproject(\n",
        "    source=rasterio.band(src_nlcd, 1),\n",
        "    destination=rasterio.band(dst_nlcd_2, 1),\n",
        "    src_transform=src_nlcd.transform,\n",
        "    src_crs=src_nlcd.crs,\n",
        "    dst_transform=dst_nlcd_2.transform,\n",
        "    dst_crs=dst_nlcd_2.crs,\n",
        "    resampling=rasterio.warp.Resampling.nearest\n",
        ")"
      ],
      "execution_count": null,
      "outputs": []
    },
    {
      "cell_type": "code",
      "metadata": {},
      "source": [
        "dst_nlcd_2.close()"
      ],
      "execution_count": null,
      "outputs": []
    },
    {
      "cell_type": "markdown",
      "metadata": {},
      "source": [
        "Naturally, in this case, the outputs `nlcd_4326.tif` and `nlcd_4326_2.tif` are identical, as we used the same \"template\" and the same source data: "
      ]
    },
    {
      "cell_type": "code",
      "metadata": {},
      "source": [
        "d = rasterio.open('output/nlcd_4326.tif').read(1) == rasterio.open('output/nlcd_4326_2.tif').read(1)\n",
        "d"
      ],
      "execution_count": null,
      "outputs": []
    },
    {
      "cell_type": "code",
      "metadata": {},
      "source": [
        "np.all(d)"
      ],
      "execution_count": null,
      "outputs": []
    },
    {
      "cell_type": "markdown",
      "metadata": {},
      "source": [
        "The difference is that in the first example we calculate the template automatically, using `rasterio.warp.calculate_default_transform`, while in the second example we used an existing raster as the \"template\".\n",
        "\n",
        "Importantly, when the template raster has much more \"coarse\" resolution than the source raster, the:\n",
        "\n",
        "* `rasterio.warp.Resampling.average` (for continuous rasters), or \n",
        "* `rasterio.warp.Resampling.mode` (for categorical rasters)\n",
        "\n",
        "resampling method should be used, instead of `rasterio.warp.Resampling.nearest`. Otherwise, much of the data will be lost, as the \"nearest\" method can capture one pixel value only for each destination raster pixel. \n",
        "\n",
        "Reprojecting continuous rasters (with numeric or, in this case, integer values) follows an almost identical procedure. This is demonstrated below with `srtm.tif` from the Shuttle Radar Topography Mission (SRTM), which represents height in meters above sea level (elevation) with the WGS84 CRS.\n",
        "\n",
        "We will reproject this dataset into a projected CRS, but not with the nearest neighbor method which is appropriate for categorical data. Instead, we will use the bilinear method which computes the output cell value based on the four nearest cells in the original raster. The values in the projected dataset are the distance-weighted average of the values from these four cells: the closer the input cell is to the center of the output cell, the greater its weight. The following code section create a text string representing WGS 84 / UTM zone 12N, and reproject the raster into this CRS, using the bilinear method. The code is practically the same, except for changing the source and destination file names, and replacing `nearest` with `bilinear`:"
      ]
    },
    {
      "cell_type": "code",
      "metadata": {},
      "source": [
        "dst_crs = 'EPSG:32612'\n",
        "dst_transform, dst_width, dst_height = rasterio.warp.calculate_default_transform(\n",
        "    src_srtm.crs,\n",
        "    dst_crs,\n",
        "    src_srtm.width,\n",
        "    src_srtm.height,\n",
        "    *src_srtm.bounds\n",
        ")\n",
        "dst_kwargs = src_srtm.meta.copy()\n",
        "dst_kwargs.update({\n",
        "    'crs': dst_crs,\n",
        "    'transform': dst_transform,\n",
        "    'width': dst_width,\n",
        "    'height': dst_height\n",
        "})\n",
        "dst_srtm = rasterio.open('output/srtm_32612.tif', 'w', **dst_kwargs)\n",
        "rasterio.warp.reproject(\n",
        "    source=rasterio.band(src_srtm, 1),\n",
        "    destination=rasterio.band(dst_srtm, 1),\n",
        "    src_transform=src_srtm.transform,\n",
        "    src_crs=src_srtm.crs,\n",
        "    dst_transform=dst_transform,\n",
        "    dst_crs=dst_crs,\n",
        "    resampling=rasterio.warp.Resampling.bilinear\n",
        ")\n",
        "dst_srtm.close()"
      ],
      "execution_count": null,
      "outputs": []
    },
    {
      "cell_type": "markdown",
      "metadata": {},
      "source": [
        "@fig-raster-reproject-srtm shows the input and the reprojected SRTM rasters."
      ]
    },
    {
      "cell_type": "code",
      "metadata": {},
      "source": [
        "#| label: fig-raster-reproject-srtm\n",
        "#| fig-cap: Reprojecting a continuous raster using bilinear resampling\n",
        "\n",
        "fig, axes = plt.subplots(ncols=2, figsize=(9,5))\n",
        "show(src_srtm, ax=axes[0])\n",
        "show(rasterio.open('output/srtm_32612.tif'), ax=axes[1])\n",
        "axes[0].set_title('Original (EPSG:4326)')\n",
        "axes[1].set_title('Reprojected (EPSG:32612)');"
      ],
      "execution_count": null,
      "outputs": []
    },
    {
      "cell_type": "markdown",
      "metadata": {},
      "source": [
        "## Custom map projections\n",
        "\n",
        "## Exercises\n"
      ]
    }
  ],
  "metadata": {
    "kernelspec": {
      "display_name": "Python 3",
      "language": "python",
      "name": "python3"
    }
  },
  "nbformat": 4,
  "nbformat_minor": 4
}