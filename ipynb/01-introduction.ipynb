{
  "cells": [
    {
      "cell_type": "markdown",
      "metadata": {},
      "source": [
        "# (PART) Foundations {-}\n",
        "\n",
        "# Prerequisites\n",
        "\n",
        "* Python basics: basic data types, assignment, loops, function calls and definition\n",
        "* `numpy`: creating arrays, array data types, array reshaping, subsetting, assignment to subsets, vectorized operations, no-data values, masking and assignment\n",
        "* `pandas`: creating `Series` (vectors) and `DataFrame` (tables), indexes, subsetting, assignment to subsets, calculating new columns, sorting, filtering, renaming columns, aggregation, join, reading and writing\n",
        "\n",
        "## Introduction\n",
        "\n",
        "...\n"
      ]
    }
  ],
  "metadata": {
    "kernelspec": {
      "name": "python3",
      "language": "python",
      "display_name": "Python 3 (ipykernel)"
    }
  },
  "nbformat": 4,
  "nbformat_minor": 4
}