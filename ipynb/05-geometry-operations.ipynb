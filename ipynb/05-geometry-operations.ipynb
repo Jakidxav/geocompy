{
  "cells": [
    {
      "cell_type": "markdown",
      "metadata": {},
      "source": [
        "# Geometry operations {#geometric-operations}\n",
        "\n",
        "## Prerequisites"
      ]
    },
    {
      "cell_type": "code",
      "metadata": {},
      "source": [
        "#| echo: false\n",
        "import pandas as pd\n",
        "import matplotlib.pyplot as plt\n",
        "pd.options.display.max_rows = 6\n",
        "pd.options.display.max_columns = 6\n",
        "pd.options.display.max_colwidth = 35\n",
        "plt.rcParams[\"figure.figsize\"] = (5, 5)"
      ],
      "execution_count": null,
      "outputs": []
    },
    {
      "cell_type": "markdown",
      "metadata": {},
      "source": [
        "Packages..."
      ]
    },
    {
      "cell_type": "code",
      "metadata": {},
      "source": [
        "import shapely.geometry\n",
        "import geopandas as gpd"
      ],
      "execution_count": null,
      "outputs": []
    },
    {
      "cell_type": "markdown",
      "metadata": {},
      "source": [
        "Sample data..."
      ]
    },
    {
      "cell_type": "code",
      "metadata": {},
      "source": [
        "seine = gpd.read_file(\"data/seine.gpkg\")\n",
        "us_states = gpd.read_file(\"data/us_states.gpkg\")\n",
        "nz = gpd.read_file(\"data/nz.gpkg\")"
      ],
      "execution_count": null,
      "outputs": []
    },
    {
      "cell_type": "markdown",
      "metadata": {},
      "source": [
        "## Introduction\n",
        "\n",
        "## Geometric operations on vector data {#geo-vec}\n",
        "\n",
        "### Simplification\n",
        "\n",
        "Simplify..."
      ]
    },
    {
      "cell_type": "code",
      "metadata": {},
      "source": [
        "seine_simp = seine.simplify(2000)  # 2000 m"
      ],
      "execution_count": null,
      "outputs": []
    },
    {
      "cell_type": "markdown",
      "metadata": {},
      "source": [
        "Plot:"
      ]
    },
    {
      "cell_type": "code",
      "metadata": {},
      "source": [
        "fig, axes = plt.subplots(ncols=2)\n",
        "seine.plot(ax=axes[0])\n",
        "seine_simp.plot(ax=axes[1])\n",
        "axes[0].set_title(\"Original\")\n",
        "axes[1].set_title(\"Simplified (d=2000 m)\");"
      ],
      "execution_count": null,
      "outputs": []
    },
    {
      "cell_type": "markdown",
      "metadata": {},
      "source": [
        "Compare number of nodes:"
      ]
    },
    {
      "cell_type": "code",
      "metadata": {},
      "source": [
        "import sys\n",
        "sys.getsizeof(seine)       ## Original (bytes)"
      ],
      "execution_count": null,
      "outputs": []
    },
    {
      "cell_type": "code",
      "metadata": {},
      "source": [
        "sys.getsizeof(seine_simp)  ## Simplified (bytes)"
      ],
      "execution_count": null,
      "outputs": []
    },
    {
      "cell_type": "markdown",
      "metadata": {},
      "source": [
        "US states example.... Transform..."
      ]
    },
    {
      "cell_type": "code",
      "metadata": {},
      "source": [
        "us_states2163 = us_states.to_crs(2163)"
      ],
      "execution_count": null,
      "outputs": []
    },
    {
      "cell_type": "markdown",
      "metadata": {},
      "source": [
        "Simplify..."
      ]
    },
    {
      "cell_type": "code",
      "metadata": {},
      "source": [
        "us_states_simp1 = us_states2163.simplify(100000)"
      ],
      "execution_count": null,
      "outputs": []
    },
    {
      "cell_type": "markdown",
      "metadata": {},
      "source": [
        "Plot..."
      ]
    },
    {
      "cell_type": "code",
      "metadata": {},
      "source": [
        "us_states_simp1.plot();"
      ],
      "execution_count": null,
      "outputs": []
    },
    {
      "cell_type": "code",
      "metadata": {},
      "source": [
        "import topojson as tp\n",
        "topo = tp.Topology(us_states2163, prequantize=False)\n",
        "us_states_simp2 = topo.toposimplify(100000).to_gdf()"
      ],
      "execution_count": null,
      "outputs": []
    },
    {
      "cell_type": "code",
      "metadata": {},
      "source": [
        "fig, axes = plt.subplots(ncols=3, figsize=(9,5))\n",
        "us_states2163.plot(ax=axes[0])\n",
        "us_states_simp1.plot(ax=axes[1])\n",
        "us_states_simp2.plot(ax=axes[2])\n",
        "axes[0].set_title(\"Original\")\n",
        "axes[1].set_title(\"Simplified (w/ geopandas)\")\n",
        "axes[2].set_title(\"Simplified (w/ topojson)\");"
      ],
      "execution_count": null,
      "outputs": []
    },
    {
      "cell_type": "markdown",
      "metadata": {},
      "source": [
        "### Centroids\n",
        "\n",
        "Centroid operations identify the center of geographic objects. Like statistical measures of central tendency (including mean and median definitions of 'average'), there are many ways to define the geographic center of an object. All of them create single point representations of more complex vector objects.\n",
        "\n",
        "The most commonly used centroid operation is the geographic centroid. This type of centroid operation (often referred to as 'the centroid') represents the center of mass in a spatial object (think of balancing a plate on your finger). Geographic centroids have many uses, for example to create a simple point representation of complex geometries, or to estimate distances between polygons. Centroids of the geometries in a `GeoSeries` or a `GeoDataFrame` are accessible through the `.centroid` property, as demonstrated in the code below, which generates the geographic centroids of regions in New Zealand and tributaries to the River Seine, illustrated with black points in Figure ...."
      ]
    },
    {
      "cell_type": "code",
      "metadata": {},
      "source": [
        "nz_centroid = nz.centroid\n",
        "seine_centroid = seine.centroid"
      ],
      "execution_count": null,
      "outputs": []
    },
    {
      "cell_type": "markdown",
      "metadata": {},
      "source": [
        "Sometimes the geographic centroid falls outside the boundaries of their parent objects (think of a doughnut). In such cases point on surface operations can be used to guarantee the point will be in the parent object (e.g., for labeling irregular multipolygon objects such as island states), as illustrated by the red points in Figure .... Notice that these red points always lie on their parent objects. They were created with the `representative_point` method, as follows:"
      ]
    },
    {
      "cell_type": "code",
      "metadata": {},
      "source": [
        "nz_pos = nz.representative_point()\n",
        "seine_pos = seine.representative_point()"
      ],
      "execution_count": null,
      "outputs": []
    },
    {
      "cell_type": "markdown",
      "metadata": {},
      "source": [
        "The centroids and points in surface are illustrated in @fig-centroid-pnt-on-surface:"
      ]
    },
    {
      "cell_type": "code",
      "metadata": {},
      "source": [
        "#| label: fig-centroid-pnt-on-surface\n",
        "#| fig-cap: \"Centroids (black) and points on surface red of New Zealand and Seine datasets.\"\n",
        "\n",
        "fig, axes = plt.subplots(ncols=2)\n",
        "base = nz.plot(ax=axes[0], color=\"white\", edgecolor=\"lightgrey\")\n",
        "nz_centroid.plot(ax=axes[0], color=\"None\", edgecolor=\"black\")\n",
        "nz_pos.plot(ax=axes[0], color=\"None\", edgecolor=\"red\");\n",
        "base = seine.plot(ax=axes[1], color=\"grey\")\n",
        "seine_centroid.plot(ax=axes[1], color=\"None\", edgecolor=\"black\")\n",
        "seine_pos.plot(ax=axes[1], color=\"None\", edgecolor=\"red\");"
      ],
      "execution_count": null,
      "outputs": []
    },
    {
      "cell_type": "markdown",
      "metadata": {},
      "source": [
        "### Buffers\n",
        "\n",
        "Buffers..."
      ]
    },
    {
      "cell_type": "code",
      "metadata": {},
      "source": [
        "seine_buff_5km = seine.buffer(5000)\n",
        "seine_buff_50km = seine.buffer(50000)"
      ],
      "execution_count": null,
      "outputs": []
    },
    {
      "cell_type": "markdown",
      "metadata": {},
      "source": [
        "Plot..."
      ]
    },
    {
      "cell_type": "code",
      "metadata": {},
      "source": [
        "fig, axes = plt.subplots(ncols=2)\n",
        "seine_buff_5km.plot(ax=axes[0], color=\"None\", edgecolor=[\"red\", \"green\", \"blue\"])\n",
        "seine_buff_50km.plot(ax=axes[1], color=\"None\", edgecolor=[\"red\", \"green\", \"blue\"])\n",
        "axes[0].set_title(\"5 km buffer\")\n",
        "axes[1].set_title(\"50 km buffer\");"
      ],
      "execution_count": null,
      "outputs": []
    },
    {
      "cell_type": "markdown",
      "metadata": {},
      "source": [
        "### Affine transformations\n",
        "\n",
        "Affine transformations of `GeoSeries` can be done using the `.affine_transform` method, which is a wrapper around the `shapely.affinity.affine_transform` function. According to the [documentation](https://shapely.readthedocs.io/en/stable/manual.html#shapely.affinity.affine_transform), a 2D affine transformation requires a six-parameter list `[a,b,d,e,xoff,yoff]` which represents the following equations for transforming the coordinates:\n",
        "\n",
        "$$\n",
        "x' = a x + b y + x_\\mathrm{off}\n",
        "$$\n",
        "\n",
        "$$\n",
        "y' = d x + e y + y_\\mathrm{off}\n",
        "$$\n",
        "\n",
        "There are also simplified `GeoSeries` [methods](https://geopandas.org/en/stable/docs/user_guide/geometric_manipulations.html#affine-transformations) for specific scenarios: \n",
        "\n",
        "* `GeoSeries.rotate(angle, origin='center', use_radians=False)`\n",
        "*  `GeoSeries.scale(xfact=1.0, yfact=1.0, zfact=1.0, origin='center')`\n",
        "*  `GeoSeries.skew(angle, origin='center', use_radians=False)`\n",
        "* ` GeoSeries.translate(xoff=0.0, yoff=0.0, zoff=0.0)`\n",
        "\n",
        "For example, *shifting* only requires the $x_{off}$ and $y_{off}$, using `.translate`. The code below shifts the y-coordinates by 100,000 meters to the north, but leaves the x-coordinates untouched:"
      ]
    },
    {
      "cell_type": "code",
      "metadata": {},
      "source": [
        "nz_shift = nz[\"geometry\"].translate(0, 100000)"
      ],
      "execution_count": null,
      "outputs": []
    },
    {
      "cell_type": "markdown",
      "metadata": {},
      "source": [
        "Scale..."
      ]
    },
    {
      "cell_type": "code",
      "metadata": {},
      "source": [
        "nz_scale = nz[\"geometry\"].scale(0.5, 0.5, origin=\"centroid\")"
      ],
      "execution_count": null,
      "outputs": []
    },
    {
      "cell_type": "markdown",
      "metadata": {},
      "source": [
        "Rotate..."
      ]
    },
    {
      "cell_type": "code",
      "metadata": {},
      "source": [
        "nz_rotate = nz[\"geometry\"].rotate(-30, origin=\"centroid\")"
      ],
      "execution_count": null,
      "outputs": []
    },
    {
      "cell_type": "markdown",
      "metadata": {},
      "source": [
        "Plot... "
      ]
    },
    {
      "cell_type": "code",
      "metadata": {},
      "source": [
        "fig, axes = plt.subplots(ncols=3, figsize=(9,5))\n",
        "nz.plot(ax=axes[0], color=\"lightgrey\", edgecolor=\"darkgrey\")\n",
        "nz_shift.plot(ax=axes[0], color=\"red\", edgecolor=\"darkgrey\")\n",
        "nz.plot(ax=axes[1], color=\"lightgrey\", edgecolor=\"darkgrey\")\n",
        "nz_scale.plot(ax=axes[1], color=\"red\", edgecolor=\"darkgrey\")\n",
        "nz.plot(ax=axes[2], color=\"lightgrey\", edgecolor=\"darkgrey\")\n",
        "nz_rotate.plot(ax=axes[2], color=\"red\", edgecolor=\"darkgrey\")\n",
        "axes[0].set_title(\"Shift\")\n",
        "axes[1].set_title(\"Scale\")\n",
        "axes[2].set_title(\"Rotate\");"
      ],
      "execution_count": null,
      "outputs": []
    },
    {
      "cell_type": "markdown",
      "metadata": {},
      "source": [
        "### Clipping\n",
        "\n",
        "..."
      ]
    },
    {
      "cell_type": "markdown",
      "metadata": {},
      "source": [
        "### Subsetting and clipping\n",
        "\n",
        "..."
      ]
    },
    {
      "cell_type": "markdown",
      "metadata": {},
      "source": [
        "### Geometry unions\n",
        "\n",
        "..."
      ]
    },
    {
      "cell_type": "markdown",
      "metadata": {},
      "source": [
        "### Type transformations\n",
        "\n",
        "Transformation of geometries, from one type to another, also known as \"geometry casting\", is often required to facilitate spatial analysis. The `shapely` package can be used for geometry casting. The exact expression(s) depend on the specific transformation we are interested in. In general, you need to figure out the required input of the respective construstor function according to the \"destination\" geometry (e.g., `shapely.geometry.LineString`, etc.), then reshape the input of the \"source\" geometry into the right form to be passed to that function.\n",
        "\n",
        "Let's create a `\"MultiPoint\"` to illustrate how geometry casting works on `shapely` geometry objects:"
      ]
    },
    {
      "cell_type": "code",
      "metadata": {},
      "source": [
        "multipoint = shapely.geometry.MultiPoint([(1,1), (3,3), (5,1)])\n",
        "multipoint"
      ],
      "execution_count": null,
      "outputs": []
    },
    {
      "cell_type": "markdown",
      "metadata": {},
      "source": [
        "A `\"LineString\"` can be created using `shapely.geometry.LineString` from a `list` of points. Consequently, a `\"MultiPoint\"` can be converted to a `\"LineString\"` by extracting the individual points into a `list`, then passing them to `shapely.geometry.LineString`:"
      ]
    },
    {
      "cell_type": "code",
      "metadata": {},
      "source": [
        "linestring = shapely.geometry.LineString(list(multipoint.geoms))\n",
        "linestring"
      ],
      "execution_count": null,
      "outputs": []
    },
    {
      "cell_type": "markdown",
      "metadata": {},
      "source": [
        "A `\"Polygon\"` can also be created using funtion `shapely.geometry.Polygon`, which acceps accepts a sequence of points. In principle, the last coordinate must be equal to the first, in order to form a closed shape. However, `shapely.geometry.Polygon` is able to complete the last coordinate automatically. Therefore:"
      ]
    },
    {
      "cell_type": "code",
      "metadata": {},
      "source": [
        "polygon = shapely.geometry.Polygon(list(multipoint.geoms))\n",
        "polygon"
      ],
      "execution_count": null,
      "outputs": []
    },
    {
      "cell_type": "markdown",
      "metadata": {},
      "source": [
        "The source `\"MultiPoint\"` geometry, and the derived `\"LineString\"` and `\"Polygon\"` geometries are shown below:\n",
        "\n",
        "plot...\n",
        "\n",
        "Conversion from multipoint to linestring is a common operation that creates a line object from ordered point observations, such as GPS measurements or geotagged media. This allows spatial operations such as the length of the path traveled. Conversion from multipoint or linestring to polygon is often used to calculate an area, for example from the set of GPS measurements taken around a lake or from the corners of a building lot.\n",
        "\n",
        "The above transformations can be reversed as follows:"
      ]
    },
    {
      "cell_type": "code",
      "metadata": {},
      "source": [
        "# ..."
      ],
      "execution_count": null,
      "outputs": []
    },
    {
      "cell_type": "markdown",
      "metadata": {},
      "source": [
        "## Geometric operations on raster data {#geo-ras}\n",
        "\n",
        "### Geometric intersections\n",
        "\n",
        "..."
      ]
    },
    {
      "cell_type": "markdown",
      "metadata": {},
      "source": [
        "### Extent and origin\n",
        "\n",
        "..."
      ]
    },
    {
      "cell_type": "markdown",
      "metadata": {},
      "source": [
        "### Aggregation and disaggregation\n",
        "\n",
        "..."
      ]
    },
    {
      "cell_type": "markdown",
      "metadata": {},
      "source": [
        "### Resampling\n",
        "\n",
        "..."
      ]
    },
    {
      "cell_type": "markdown",
      "metadata": {},
      "source": [
        "## Exercises\n"
      ]
    }
  ],
  "metadata": {
    "kernelspec": {
      "name": "python3",
      "language": "python",
      "display_name": "Python 3 (ipykernel)"
    }
  },
  "nbformat": 4,
  "nbformat_minor": 4
}