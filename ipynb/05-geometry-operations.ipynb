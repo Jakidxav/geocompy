{
  "cells": [
    {
      "cell_type": "markdown",
      "metadata": {},
      "source": [
        "# Geometry operations {#geometric-operations}\n",
        "\n",
        "## Prerequisites"
      ]
    },
    {
      "cell_type": "code",
      "metadata": {},
      "source": [
        "import pandas as pd\n",
        "import matplotlib.pyplot as plt\n",
        "pd.set_option(\"display.max_rows\", 4)\n",
        "pd.set_option(\"display.max_columns\", 6)\n",
        "pd.options.display.max_rows = 10\n",
        "pd.options.display.max_columns = 6\n",
        "pd.options.display.max_colwidth = 35\n",
        "plt.rcParams[\"figure.figsize\"] = (5, 5)"
      ],
      "execution_count": null,
      "outputs": []
    },
    {
      "cell_type": "markdown",
      "metadata": {},
      "source": [
        "Packages..."
      ]
    },
    {
      "cell_type": "code",
      "metadata": {},
      "source": [
        "import geopandas as gpd"
      ],
      "execution_count": null,
      "outputs": []
    },
    {
      "cell_type": "markdown",
      "metadata": {},
      "source": [
        "Sample data..."
      ]
    },
    {
      "cell_type": "code",
      "metadata": {},
      "source": [
        "seine = gpd.read_file(\"data/seine.gpkg\")\n",
        "us_states = gpd.read_file(\"data/us_states.gpkg\")\n",
        "nz = gpd.read_file(\"data/nz.gpkg\")"
      ],
      "execution_count": null,
      "outputs": []
    },
    {
      "cell_type": "markdown",
      "metadata": {},
      "source": [
        "## Introduction\n",
        "\n",
        "## Geometric operations on vector data {#geo-vec}\n",
        "\n",
        "### Simplification\n",
        "\n",
        "Simplify..."
      ]
    },
    {
      "cell_type": "code",
      "metadata": {},
      "source": [
        "seine_simp = seine.simplify(2000)  # 2000 m"
      ],
      "execution_count": null,
      "outputs": []
    },
    {
      "cell_type": "markdown",
      "metadata": {},
      "source": [
        "Plot:"
      ]
    },
    {
      "cell_type": "code",
      "metadata": {},
      "source": [
        "fig, axes = plt.subplots(ncols=2)\n",
        "seine.plot(ax=axes[0])\n",
        "seine_simp.plot(ax=axes[1])\n",
        "axes[0].set_title(\"Original\")\n",
        "axes[1].set_title(\"Simplified (d=2000 m)\");"
      ],
      "execution_count": null,
      "outputs": []
    },
    {
      "cell_type": "markdown",
      "metadata": {},
      "source": [
        "Compare number of nodes:"
      ]
    },
    {
      "cell_type": "code",
      "metadata": {},
      "source": [
        "import sys\n",
        "sys.getsizeof(seine)       ## Original (bytes)"
      ],
      "execution_count": null,
      "outputs": []
    },
    {
      "cell_type": "code",
      "metadata": {},
      "source": [
        "sys.getsizeof(seine_simp)  ## Simplified (bytes)"
      ],
      "execution_count": null,
      "outputs": []
    },
    {
      "cell_type": "markdown",
      "metadata": {},
      "source": [
        "US states example.... Transform..."
      ]
    },
    {
      "cell_type": "code",
      "metadata": {},
      "source": [
        "us_states2163 = us_states.to_crs(2163)"
      ],
      "execution_count": null,
      "outputs": []
    },
    {
      "cell_type": "markdown",
      "metadata": {},
      "source": [
        "Simplify..."
      ]
    },
    {
      "cell_type": "code",
      "metadata": {},
      "source": [
        "us_states_simp1 = us_states2163.simplify(100000)"
      ],
      "execution_count": null,
      "outputs": []
    },
    {
      "cell_type": "markdown",
      "metadata": {},
      "source": [
        "Plot..."
      ]
    },
    {
      "cell_type": "code",
      "metadata": {},
      "source": [
        "us_states_simp1.plot();"
      ],
      "execution_count": null,
      "outputs": []
    },
    {
      "cell_type": "code",
      "metadata": {},
      "source": [
        "import topojson as tp\n",
        "topo = tp.Topology(us_states2163, prequantize=False)\n",
        "us_states_simp2 = topo.toposimplify(100000).to_gdf()"
      ],
      "execution_count": null,
      "outputs": []
    },
    {
      "cell_type": "code",
      "metadata": {},
      "source": [
        "fig, axes = plt.subplots(ncols=3)\n",
        "us_states2163.plot(ax=axes[0])\n",
        "us_states_simp1.plot(ax=axes[1])\n",
        "us_states_simp2.plot(ax=axes[2])\n",
        "axes[0].set_title(\"Original\")\n",
        "axes[1].set_title(\"Simplified (w/ geopandas)\")\n",
        "axes[2].set_title(\"Simplified (w/ topojson)\");"
      ],
      "execution_count": null,
      "outputs": []
    },
    {
      "cell_type": "markdown",
      "metadata": {},
      "source": [
        "### Centroids\n",
        "\n",
        "Centroids..."
      ]
    },
    {
      "cell_type": "code",
      "metadata": {},
      "source": [
        "nz_centroid = nz.centroid\n",
        "seine_centroid = seine.centroid"
      ],
      "execution_count": null,
      "outputs": []
    },
    {
      "cell_type": "markdown",
      "metadata": {},
      "source": [
        "Point on surface..."
      ]
    },
    {
      "cell_type": "code",
      "metadata": {},
      "source": [
        "nz_pos = nz.representative_point()\n",
        "seine_pos = seine.representative_point()"
      ],
      "execution_count": null,
      "outputs": []
    },
    {
      "cell_type": "code",
      "metadata": {},
      "source": [
        "base = nz.plot(color=\"white\", edgecolor=\"lightgrey\")\n",
        "nz_centroid.plot(ax=base, color=\"None\", edgecolor=\"black\")\n",
        "nz_pos.plot(ax=base, color=\"None\", edgecolor=\"red\");"
      ],
      "execution_count": null,
      "outputs": []
    },
    {
      "cell_type": "code",
      "metadata": {},
      "source": [
        "base = seine.plot(color=\"grey\")\n",
        "seine_centroid.plot(ax=base, color=\"None\", edgecolor=\"black\")\n",
        "seine_pos.plot(ax=base, color=\"None\", edgecolor=\"red\");"
      ],
      "execution_count": null,
      "outputs": []
    },
    {
      "cell_type": "markdown",
      "metadata": {},
      "source": [
        "### Buffers\n",
        "\n",
        "Buffers..."
      ]
    },
    {
      "cell_type": "code",
      "metadata": {},
      "source": [
        "seine_buff_5km = seine.buffer(5000)\n",
        "seine_buff_50km = seine.buffer(50000)"
      ],
      "execution_count": null,
      "outputs": []
    },
    {
      "cell_type": "markdown",
      "metadata": {},
      "source": [
        "Plot..."
      ]
    },
    {
      "cell_type": "code",
      "metadata": {},
      "source": [
        "fig, axes = plt.subplots(ncols=2)\n",
        "seine_buff_5km.plot(ax=axes[0], color=\"None\", edgecolor=[\"red\", \"green\", \"blue\"])\n",
        "seine_buff_50km.plot(ax=axes[1], color=\"None\", edgecolor=[\"red\", \"green\", \"blue\"])\n",
        "axes[0].set_title(\"5 km buffer\")\n",
        "axes[1].set_title(\"50 km buffer\");"
      ],
      "execution_count": null,
      "outputs": []
    },
    {
      "cell_type": "markdown",
      "metadata": {},
      "source": [
        "### Affine transformations\n",
        "\n",
        "Affine transformations of `GeoSeries` can be done using the `.affine_transform` method, which is a wrapper around the `shapely.affinity.affine_transform` function. According to the [documentation](https://shapely.readthedocs.io/en/stable/manual.html#shapely.affinity.affine_transform), a 2D affine transformation requires a six-parameter list `[a,b,d,e,xoff,yoff]` which represents the following equations for transforming the coordinates:\n",
        "\n",
        "$$\n",
        "x' = a x + b y + x_\\mathrm{off}\n",
        "\n",
        "y' = d x + e y + y_\\mathrm{off}\n",
        "$$\n",
        "\n",
        "There are also simplified `GeoSeries` [methods](https://geopandas.org/en/stable/docs/user_guide/geometric_manipulations.html#affine-transformations) for specific scenarios: \n",
        "\n",
        "* `GeoSeries.rotate(angle, origin='center', use_radians=False)`\n",
        "*  `GeoSeries.scale(xfact=1.0, yfact=1.0, zfact=1.0, origin='center')`\n",
        "*  `GeoSeries.skew(angle, origin='center', use_radians=False)`\n",
        "* ` GeoSeries.translate(xoff=0.0, yoff=0.0, zoff=0.0)`\n",
        "\n",
        "For example, *shifting* only requires the $x_{off}$ and $y_{off}$, using `.translate`. The code below shifts the y-coordinates by 100,000 meters to the north, but leaves the x-coordinates untouched:"
      ]
    },
    {
      "cell_type": "code",
      "metadata": {},
      "source": [
        "nz_shift = nz[\"geometry\"].translate(0, 100000)"
      ],
      "execution_count": null,
      "outputs": []
    },
    {
      "cell_type": "markdown",
      "metadata": {},
      "source": [
        "Scale..."
      ]
    },
    {
      "cell_type": "code",
      "metadata": {},
      "source": [
        "nz_scale = nz[\"geometry\"].scale(0.5, 0.5)"
      ],
      "execution_count": null,
      "outputs": []
    },
    {
      "cell_type": "markdown",
      "metadata": {},
      "source": [
        "Rotate..."
      ]
    },
    {
      "cell_type": "code",
      "metadata": {},
      "source": [
        "nz_rotate = nz[\"geometry\"].rotate(-30, \"centroid\")"
      ],
      "execution_count": null,
      "outputs": []
    },
    {
      "cell_type": "markdown",
      "metadata": {},
      "source": [
        "Plot... "
      ]
    },
    {
      "cell_type": "code",
      "metadata": {},
      "source": [
        "fig, axes = plt.subplots(ncols=3, figsize=(10,5))\n",
        "nz.plot(ax=axes[0], color=\"lightgrey\", edgecolor=\"darkgrey\")\n",
        "nz_shift.plot(ax=axes[0], color=\"red\", edgecolor=\"darkgrey\")\n",
        "nz.plot(ax=axes[1], color=\"lightgrey\", edgecolor=\"darkgrey\")\n",
        "nz_scale.plot(ax=axes[1], color=\"red\", edgecolor=\"darkgrey\")\n",
        "nz.plot(ax=axes[2], color=\"lightgrey\", edgecolor=\"darkgrey\")\n",
        "nz_rotate.plot(ax=axes[2], color=\"red\", edgecolor=\"darkgrey\")\n",
        "axes[0].set_title(\"Shift\")\n",
        "axes[1].set_title(\"Scale\")\n",
        "axes[2].set_title(\"Rotate\");"
      ],
      "execution_count": null,
      "outputs": []
    },
    {
      "cell_type": "markdown",
      "metadata": {},
      "source": [
        "### Clipping\n",
        "\n",
        "..."
      ]
    },
    {
      "cell_type": "markdown",
      "metadata": {},
      "source": [
        "### Subsetting and clipping\n",
        "\n",
        "..."
      ]
    },
    {
      "cell_type": "markdown",
      "metadata": {},
      "source": [
        "### Geometry unions\n",
        "\n",
        "..."
      ]
    },
    {
      "cell_type": "markdown",
      "metadata": {},
      "source": [
        "### Type transformations\n",
        "\n",
        "..."
      ]
    },
    {
      "cell_type": "markdown",
      "metadata": {},
      "source": [
        "## Geometric operations on raster data {#geo-ras}\n",
        "\n",
        "### Geometric intersections\n",
        "\n",
        "..."
      ]
    },
    {
      "cell_type": "markdown",
      "metadata": {},
      "source": [
        "### Extent and origin\n",
        "\n",
        "..."
      ]
    },
    {
      "cell_type": "markdown",
      "metadata": {},
      "source": [
        "### Aggregation and disaggregation\n",
        "\n",
        "..."
      ]
    },
    {
      "cell_type": "markdown",
      "metadata": {},
      "source": [
        "### Resampling\n",
        "\n",
        "..."
      ]
    },
    {
      "cell_type": "markdown",
      "metadata": {},
      "source": [
        "## Exercises\n"
      ]
    }
  ],
  "metadata": {
    "kernelspec": {
      "name": "python3",
      "language": "python",
      "display_name": "Python 3 (ipykernel)"
    }
  },
  "nbformat": 4,
  "nbformat_minor": 4
}