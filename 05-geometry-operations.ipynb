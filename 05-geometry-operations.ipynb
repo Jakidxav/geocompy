{
  "cells": [
    {
      "cell_type": "markdown",
      "metadata": {},
      "source": [
        "# Geometry operations {#geometric-operations}\n",
        "\n",
        "## Prerequisites\n"
      ],
      "id": "077fe80c"
    },
    {
      "cell_type": "code",
      "metadata": {},
      "source": [
        "#| echo: false\n",
        "import pandas as pd\n",
        "import matplotlib.pyplot as plt\n",
        "pd.options.display.max_rows = 6\n",
        "pd.options.display.max_columns = 6\n",
        "pd.options.display.max_colwidth = 35\n",
        "plt.rcParams['figure.figsize'] = (5, 5)"
      ],
      "id": "b5826d38",
      "execution_count": null,
      "outputs": []
    },
    {
      "cell_type": "markdown",
      "metadata": {},
      "source": [
        "Let's import the required packages:\n"
      ],
      "id": "a937ab97"
    },
    {
      "cell_type": "code",
      "metadata": {},
      "source": [
        "import numpy as np\n",
        "import shapely\n",
        "import geopandas as gpd\n",
        "import topojson as tp\n",
        "import rasterio\n",
        "import rasterio.warp\n",
        "import rasterio.plot\n",
        "import rasterio.mask"
      ],
      "id": "e4e0ba7a",
      "execution_count": null,
      "outputs": []
    },
    {
      "cell_type": "markdown",
      "metadata": {},
      "source": [
        "and load the sample data for this chapter:\n"
      ],
      "id": "2700f70b"
    },
    {
      "cell_type": "code",
      "metadata": {},
      "source": [
        "seine = gpd.read_file('data/seine.gpkg')\n",
        "us_states = gpd.read_file('data/us_states.gpkg')\n",
        "nz = gpd.read_file('data/nz.gpkg')\n",
        "src = rasterio.open('data/dem.tif')\n",
        "src_elev = rasterio.open('data/elev.tif')"
      ],
      "id": "be2a91d8",
      "execution_count": null,
      "outputs": []
    },
    {
      "cell_type": "markdown",
      "metadata": {},
      "source": [
        "## Introduction\n",
        "\n",
        "So far the book has explained the structure of geographic datasets (Chapter 2), and how to manipulate them based on their non-geographic attributes (Chapter 3) and spatial relations (Chapter 4). \n",
        "This chapter focusses on manipulating the geographic elements of geographic objects, for example by simplifying and converting vector geometries, cropping raster datasets, and converting vector objects into rasters and from rasters into vectors. \n",
        "After reading it---and attempting the exercises at the end---you should understand and have control over the geometry column in vector layers and the extent and geographic location of pixels represented in rasters in relation to other geographic objects.\n",
        "\n",
        "@sec-geo-vec covers transforming vector geometries with 'unary' and 'binary' operations. Unary operations work on a single geometry in isolation, including simplification (of lines and polygons), the creation of buffers and centroids, and shifting/scaling/rotating single geometries using 'affine transformations' (@sec-simplification to @sec-affine-transformations). Binary transformations modify one geometry based on the shape of another, including clipping and geometry unions, covered in @sec-clipping and @sec-geometry-unions, respectively. Type transformations (from a polygon to a line, for example) are demonstrated in Section @sec-type-transformations.\n",
        "\n",
        "@sec-geo-ras covers geometric transformations on raster objects. This involves changing the size and number of the underlying pixels, and assigning them new values. It teaches how to change the resolution (also called raster aggregation and disaggregation), the extent and the origin of a raster. These operations are especially useful if one would like to align raster datasets from diverse sources. Aligned raster objects share a one-to-one correspondence between pixels, allowing them to be processed using map algebra operations, described in Section 4.3.2. The final Section 6 connects vector and raster objects. It shows how raster values can be 'masked' and 'extracted' by vector geometries. Importantly it shows how to 'polygonize' rasters and 'rasterize' vector datasets, making the two data models more interchangeable.\n",
        "\n",
        "## Geometric operations on vector data {#sec-geo-vec}\n",
        "\n",
        "This section is about operations that in some way change the geometry of vector layers. It is more advanced than the spatial data operations presented in the previous chapter (in @sec-spatial-vec), because here we drill down into the geometry: the functions discussed in this section work on the geometric (`GeoSeries`) part, either as standalone object or as part of a `GeoDataFrame`.\n",
        "\n",
        "### Simplification {#sec-simplification}\n",
        "\n",
        "Simplification is a process for generalization of vector objects (lines and polygons) usually for use in smaller scale maps. Another reason for simplifying objects is to reduce the amount of memory, disk space and network bandwidth they consume: it may be wise to simplify complex geometries before publishing them as interactive maps. The `geopandas` package provides the `.simplify` method, which uses the GEOS implementation of the Douglas-Peucker algorithm to reduce the vertex count. `.simplify` uses the `tolerance` to control the level of generalization in map units (see Douglas and Peucker 1973 for details). \n",
        "\n",
        "For example, a simplified geometry of a `\"LineString\"` geometry, representing the river Seine and tributaries, using tolerance of `2000` meters, can created using the following command:\n"
      ],
      "id": "070a30c6"
    },
    {
      "cell_type": "code",
      "metadata": {},
      "source": [
        "seine_simp = seine.simplify(2000) # meters"
      ],
      "id": "3c6bebd8",
      "execution_count": null,
      "outputs": []
    },
    {
      "cell_type": "markdown",
      "metadata": {},
      "source": [
        "Figure @fig-simplify-lines illustrates the input and the result of the simplification:\n"
      ],
      "id": "65b5ef92"
    },
    {
      "cell_type": "code",
      "metadata": {},
      "source": [
        "#| label: fig-simplify-lines\n",
        "#| fig-cap: Comparison of the original and simplified geometry of the seine object.\n",
        "\n",
        "fig, axes = plt.subplots(ncols=2)\n",
        "seine.plot(ax=axes[0])\n",
        "seine_simp.plot(ax=axes[1])\n",
        "axes[0].set_title('Original')\n",
        "axes[1].set_title('Simplified (d=2000 m)');"
      ],
      "id": "fig-simplify-lines",
      "execution_count": null,
      "outputs": []
    },
    {
      "cell_type": "markdown",
      "metadata": {},
      "source": [
        "The resulting `seine_simp` object is a copy of the original `seine` but with fewer vertices. This is apparent, with the result being visually simpler (@fig-simplify-lines, right) and consuming less memory than the original object, as verified below:\n"
      ],
      "id": "6e8e296d"
    },
    {
      "cell_type": "code",
      "metadata": {},
      "source": [
        "import sys\n",
        "print(f'Original: {sys.getsizeof(seine)} bytes')"
      ],
      "id": "099be1d3",
      "execution_count": null,
      "outputs": []
    },
    {
      "cell_type": "code",
      "metadata": {},
      "source": [
        "print(f'Simplified: {sys.getsizeof(seine_simp)} bytes')"
      ],
      "id": "5bb4beef",
      "execution_count": null,
      "outputs": []
    },
    {
      "cell_type": "markdown",
      "metadata": {},
      "source": [
        "Simplification is also applicable for polygons. This is illustrated using `us_states`, representing the contiguous United States. As we show in @sec-reproj-geo-data, GEOS assumes that the data is in a projected CRS and this could lead to unexpected results when using a geographic CRS. Therefore, the first step is to project the data into some adequate projected CRS, such as US National Atlas Equal Area (epsg = `2163`) (on the left in Figure @fig-simplify-polygons):\n"
      ],
      "id": "840892b4"
    },
    {
      "cell_type": "code",
      "metadata": {},
      "source": [
        "us_states2163 = us_states.to_crs(2163)"
      ],
      "id": "58265969",
      "execution_count": null,
      "outputs": []
    },
    {
      "cell_type": "markdown",
      "metadata": {},
      "source": [
        "The `.simplify` method from `geopandas` works the same way with a `\"Polygon\"`/`\"MultiPolygon\"` layer such as `us_states2163`:\n"
      ],
      "id": "ce4d74c6"
    },
    {
      "cell_type": "code",
      "metadata": {},
      "source": [
        "us_states_simp1 = us_states2163.simplify(100000)"
      ],
      "id": "75f2d387",
      "execution_count": null,
      "outputs": []
    },
    {
      "cell_type": "markdown",
      "metadata": {},
      "source": [
        "A limitation with `.simplify` is that it simplifies objects on a per-geometry basis. This means the \"topology\" is lost, resulting in overlapping and \"holey\" areal units illustrated in Figure @fig-simplify-polygons (middle panel). The `toposimplify` function from `topojson` provides an alternative that overcomes this issue. By [default](https://mattijn.github.io/topojson/example/settings-tuning.html#simplify_algorithm) it uses the Douglas-Peucker algorithm like the `.simplify` method. Another algorithm known as Visvalingam-Whyatt, which overcomes some limitations of the Douglas-Peucker algorithm (Visvalingam and Whyatt 1993), is also available in `toposimplify`. The main advanatage of `toposimplify`, however, is that it is topologically \"aware\". That is, it simplifies the combined borders of the polygons (rather than each polygon on its own), thus ensuring that the overlap is maintained. The following code chunk uses this function to simplify `us_states2163`:\n"
      ],
      "id": "ba5fbb39"
    },
    {
      "cell_type": "code",
      "metadata": {},
      "source": [
        "topo = tp.Topology(us_states2163, prequantize=False)\n",
        "us_states_simp2 = topo.toposimplify(100000).to_gdf()"
      ],
      "id": "847e8481",
      "execution_count": null,
      "outputs": []
    },
    {
      "cell_type": "markdown",
      "metadata": {},
      "source": [
        "Figure @fig-simplify-polygons demonstrates the two simplification methods applied to `us_states2163`.\n"
      ],
      "id": "cc51a58e"
    },
    {
      "cell_type": "code",
      "metadata": {},
      "source": [
        "#| label: fig-simplify-polygons\n",
        "#| fig-cap: 'Polygon simplification in action, comparing the original geometry of the contiguous United States with simplified versions, generated with functions from the GeoPandas (middle), and TopoJSON (right), packages.'\n",
        "\n",
        "fig, axes = plt.subplots(ncols=3, figsize=(8,4))\n",
        "us_states2163.plot(ax=axes[0], color='lightgrey', edgecolor='black')\n",
        "us_states_simp1.plot(ax=axes[1], color='lightgrey', edgecolor='black')\n",
        "us_states_simp2.plot(ax=axes[2], color='lightgrey', edgecolor='black')\n",
        "axes[0].set_title(\"Original\")\n",
        "axes[1].set_title(\"Simplified (w/ GeoPandas)\")\n",
        "axes[2].set_title(\"Simplified (w/ TopoJSON)\");"
      ],
      "id": "fig-simplify-polygons",
      "execution_count": null,
      "outputs": []
    },
    {
      "cell_type": "markdown",
      "metadata": {},
      "source": [
        "### Centroids\n",
        "\n",
        "Centroid operations identify the center of geographic objects. Like statistical measures of central tendency (including mean and median definitions of 'average'), there are many ways to define the geographic center of an object. All of them create single point representations of more complex vector objects.\n",
        "\n",
        "The most commonly used centroid operation is the geographic centroid. This type of centroid operation (often referred to as 'the centroid') represents the center of mass in a spatial object (think of balancing a plate on your finger). Geographic centroids have many uses, for example to create a simple point representation of complex geometries, or to estimate distances between polygons. Centroids of the geometries in a `GeoSeries` or a `GeoDataFrame` are accessible through the `.centroid` property, as demonstrated in the code below, which generates the geographic centroids of regions in New Zealand and tributaries to the River Seine, illustrated with black points in @fig-centroid-pnt-on-surface.\n"
      ],
      "id": "81622f6e"
    },
    {
      "cell_type": "code",
      "metadata": {},
      "source": [
        "nz_centroid = nz.centroid\n",
        "seine_centroid = seine.centroid"
      ],
      "id": "7e46a204",
      "execution_count": null,
      "outputs": []
    },
    {
      "cell_type": "markdown",
      "metadata": {},
      "source": [
        "Sometimes the geographic centroid falls outside the boundaries of their parent objects (think of a doughnut). In such cases point on surface operations can be used to guarantee the point will be in the parent object (e.g., for labeling irregular multipolygon objects such as island states), as illustrated by the red points in @fig-centroid-pnt-on-surface. Notice that these red points always lie on their parent objects. They were created with the `representative_point` method, as follows:\n"
      ],
      "id": "5c4db87e"
    },
    {
      "cell_type": "code",
      "metadata": {},
      "source": [
        "nz_pos = nz.representative_point()\n",
        "seine_pos = seine.representative_point()"
      ],
      "id": "ae90e3c9",
      "execution_count": null,
      "outputs": []
    },
    {
      "cell_type": "markdown",
      "metadata": {},
      "source": [
        "The centroids and points in surface are illustrated in @fig-centroid-pnt-on-surface:\n"
      ],
      "id": "4ada014f"
    },
    {
      "cell_type": "code",
      "metadata": {},
      "source": [
        "#| label: fig-centroid-pnt-on-surface\n",
        "#| fig-cap: Centroids (black) and points on surface red of New Zealand and Seine datasets.\n",
        "\n",
        "fig, axes = plt.subplots(ncols=2)\n",
        "nz.plot(ax=axes[0], color='white', edgecolor='lightgrey')\n",
        "nz_centroid.plot(ax=axes[0], color='None', edgecolor='black')\n",
        "nz_pos.plot(ax=axes[0], color='None', edgecolor='red')\n",
        "seine.plot(ax=axes[1], color='grey')\n",
        "seine_pos.plot(ax=axes[1], color='None', edgecolor='red')\n",
        "seine_centroid.plot(ax=axes[1], color='None', edgecolor='black');\n",
        "fig.suptitle(\"Represenative points in red and centroids in black\", y=0.85)\n",
        "fig.tight_layout()"
      ],
      "id": "fig-centroid-pnt-on-surface",
      "execution_count": null,
      "outputs": []
    },
    {
      "cell_type": "markdown",
      "metadata": {},
      "source": [
        "### Buffers {#sec-buffers}\n",
        "\n",
        "Buffers are polygons representing the area within a given distance of a geometric feature: regardless of whether the input is a point, line or polygon, the output is a polygon. Unlike simplification (which is often used for visualization and reducing file size) buffering tends to be used for geographic data analysis. How many points are within a given distance of this line? Which demographic groups are within travel distance of this new shop? These kinds of questions can be answered and visualized by creating buffers around the geographic entities of interest.\n",
        "\n",
        "@fig-buffers illustrates buffers of different sizes (5 and 50 km) surrounding the river Seine and tributaries. These buffers were created with commands below, which show that the `.buffer` method, applied to a `GeoSeries` (or `GeoDataFrame`) requires one important argument: the buffer distance, provided in the units of the CRS (in this case meters):\n"
      ],
      "id": "65653618"
    },
    {
      "cell_type": "code",
      "metadata": {},
      "source": [
        "seine_buff_5km = seine.buffer(5000)\n",
        "seine_buff_50km = seine.buffer(50000)"
      ],
      "id": "8e61ff67",
      "execution_count": null,
      "outputs": []
    },
    {
      "cell_type": "markdown",
      "metadata": {},
      "source": [
        "The 5 and 50 km buffers are visualized in @fig-buffers:\n"
      ],
      "id": "f1af8db8"
    },
    {
      "cell_type": "code",
      "metadata": {},
      "source": [
        "#| label: fig-buffers\n",
        "#| fig-cap: 'Buffers around the Seine dataset of 5 km (left) and 50 km (right). Note the colors, which reflect the fact that one buffer is created per geometry feature.'\n",
        "\n",
        "fig, axes = plt.subplots(ncols=2)\n",
        "seine_buff_5km.plot(ax=axes[0], color='none', edgecolor=['red', 'green', 'blue'])\n",
        "seine_buff_50km.plot(ax=axes[1], color='none', edgecolor=['red', 'green', 'blue'])\n",
        "axes[0].set_title('5 km buffer')\n",
        "axes[1].set_title('50 km buffer');"
      ],
      "id": "fig-buffers",
      "execution_count": null,
      "outputs": []
    },
    {
      "cell_type": "markdown",
      "metadata": {},
      "source": [
        "Note that both `.centroid` and `.buffer` return a `GeoSeries` object, even when the input is a `GeoDataFrame`:\n"
      ],
      "id": "8f3e8432"
    },
    {
      "cell_type": "code",
      "metadata": {},
      "source": [
        "seine_buff_5km"
      ],
      "id": "6ee31b87",
      "execution_count": null,
      "outputs": []
    },
    {
      "cell_type": "markdown",
      "metadata": {},
      "source": [
        "In the common scenario when the original attributes of the input features need to be retained, you can replace the existing geometry with the new `GeoSeries` as in:\n"
      ],
      "id": "32b181ee"
    },
    {
      "cell_type": "code",
      "metadata": {},
      "source": [
        "seine_buff_5km = seine.copy()\n",
        "seine_buff_5km['geometry'] = seine.buffer(5000)\n",
        "seine_buff_5km"
      ],
      "id": "ff91f3a4",
      "execution_count": null,
      "outputs": []
    },
    {
      "cell_type": "markdown",
      "metadata": {},
      "source": [
        "### Affine transformations {#sec-affine-transformations}\n",
        "\n",
        "Affine transformation is any transformation that preserves lines and parallelism. However, angles or length are not necessarily preserved. Affine transformations include, among others, shifting (translation), scaling and rotation. Additionally, it is possible to use any combination of these. Affine transformations are an essential part of geocomputation. For example, shifting is needed for labels placement, scaling is used in non-contiguous area cartograms, and many affine transformations are applied when reprojecting or improving the geometry that was created based on a distorted or wrongly projected map. \n",
        "\n",
        "The `geopandas` package implements affine transformation, for objects of classes `GeoSeries` and `GeoDataFrame`. In both cases, the method is applied on the `GeoSeries` part, returning a new `GeoSeries` of transformed geometries. \n",
        "\n",
        "Affine transformations of `GeoSeries` can be done using the `.affine_transform` method, which is a wrapper around the `shapely.affinity.affine_transform` function. According to the [documentation](https://shapely.readthedocs.io/en/stable/manual.html#shapely.affinity.affine_transform), a 2D affine transformation requires a six-parameter list `[a,b,d,e,xoff,yoff]` which represents the following equations for transforming the coordinates (@eq-affine1 and @eq-affine2):\n",
        "\n",
        "$$\n",
        "x' = a x + b y + x_\\mathrm{off}\n",
        "$$ {#eq-affine1}\n",
        "\n",
        "$$\n",
        "y' = d x + e y + y_\\mathrm{off}\n",
        "$$ {#eq-affine2}\n",
        "\n",
        "There are also simplified `GeoSeries` [methods](https://geopandas.org/en/stable/docs/user_guide/geometric_manipulations.html#affine-transformations) for specific scenarios: \n",
        "\n",
        "* `GeoSeries.translate(xoff=0.0, yoff=0.0, zoff=0.0)`\n",
        "* `GeoSeries.scale(xfact=1.0, yfact=1.0, zfact=1.0, origin='center')`\n",
        "* `GeoSeries.rotate(angle, origin='center', use_radians=False)`\n",
        "* `GeoSeries.skew(angle, origin='center', use_radians=False)`\n",
        "\n",
        "For example, *shifting* only requires the $x_{off}$ and $y_{off}$, using `.translate`. The code below shifts the y-coordinates by 100,000 meters to the north, but leaves the x-coordinates untouched:\n"
      ],
      "id": "dc3b6781"
    },
    {
      "cell_type": "code",
      "metadata": {},
      "source": [
        "nz_shift = nz.translate(0, 100000)"
      ],
      "id": "11c99b1f",
      "execution_count": null,
      "outputs": []
    },
    {
      "cell_type": "markdown",
      "metadata": {},
      "source": [
        "Scaling enlarges or shrinks objects by a factor. It can be applied either globally or locally. Global scaling increases or decreases all coordinates values in relation to the origin coordinates, while keeping all geometries topological relations intact. \n",
        "\n",
        "`Geopandas` implements local scaling using the `.scale` method. Local scaling treats geometries independently and requires points around which geometries are going to be scaled, e.g., centroids. In the example below, each geometry is shrunk by a factor of two around the centroids (middle panel in @fig-affine-transformations). To achieve that, we pass the `0.5` and `0.5` scaling factors (for x and y, respectively), and the `'centroid'` option for the point of origin. (Other than `'centroid'`, it is possible to use `'center'` for the bounding box center, or specific point coordinates.)\n"
      ],
      "id": "fd74d5e5"
    },
    {
      "cell_type": "code",
      "metadata": {},
      "source": [
        "nz_scale = nz.scale(0.5, 0.5, origin='centroid')"
      ],
      "id": "3bf88778",
      "execution_count": null,
      "outputs": []
    },
    {
      "cell_type": "markdown",
      "metadata": {},
      "source": [
        "Rotating the geometries can be done using the `.rotate` method. When rotating, we need to specify the rotation angle (positive values imply clockwise rotation) and the `origin` points (using the same options as in `scale`). For example, the following expression rotates `nz` by 30 degrees counter-clockwise, around the geometry centroids:\n"
      ],
      "id": "2a2f7788"
    },
    {
      "cell_type": "code",
      "metadata": {},
      "source": [
        "nz_rotate = nz.rotate(-30, origin='centroid')"
      ],
      "id": "c71c2883",
      "execution_count": null,
      "outputs": []
    },
    {
      "cell_type": "markdown",
      "metadata": {},
      "source": [
        "@fig-affine-transformations shows the original layer `nz`, and the shifting, scaling and rotation results.\n"
      ],
      "id": "60d70bb3"
    },
    {
      "cell_type": "code",
      "metadata": {},
      "source": [
        "#| label: fig-affine-transformations\n",
        "#| fig-cap: 'Illustrations of affine transformations: shift, scale and rotate.'\n",
        "\n",
        "fig, axes = plt.subplots(ncols=3, figsize=(8,4))\n",
        "nz.plot(ax=axes[0], color='lightgrey', edgecolor='darkgrey')\n",
        "nz_shift.plot(ax=axes[0], color='red', edgecolor='darkgrey')\n",
        "nz.plot(ax=axes[1], color='lightgrey', edgecolor='darkgrey')\n",
        "nz_scale.plot(ax=axes[1], color='red', edgecolor='darkgrey')\n",
        "nz.plot(ax=axes[2], color='lightgrey', edgecolor='darkgrey')\n",
        "nz_rotate.plot(ax=axes[2], color='red', edgecolor='darkgrey')\n",
        "axes[0].set_title('Shift')\n",
        "axes[1].set_title('Scale')\n",
        "axes[2].set_title('Rotate');"
      ],
      "id": "fig-affine-transformations",
      "execution_count": null,
      "outputs": []
    },
    {
      "cell_type": "markdown",
      "metadata": {},
      "source": [
        "### Pairwise geometry-generating operations {#sec-clipping}\n",
        "\n",
        "Spatial clipping is a form of spatial subsetting that involves changes to the geometry columns of at least some of the affected features.\n",
        "\n",
        "Clipping can only apply to features more complex than points: lines, polygons and their 'multi' equivalents. To illustrate the concept we will start with a simple example: two overlapping circles with a center point one unit away from each other and a radius of one (@fig-overlapping-circles).\n"
      ],
      "id": "1cc94c33"
    },
    {
      "cell_type": "code",
      "metadata": {},
      "source": [
        "#| label: fig-overlapping-circles\n",
        "#| fig-cap: Overlapping polygon (circle) geometries `x` and `y`\n",
        "\n",
        "x = shapely.Point((0, 0)).buffer(1)\n",
        "y = shapely.Point((1, 0)).buffer(1)\n",
        "shapely.GeometryCollection([x, y])"
      ],
      "id": "fig-overlapping-circles",
      "execution_count": null,
      "outputs": []
    },
    {
      "cell_type": "markdown",
      "metadata": {},
      "source": [
        "Imagine you want to select not one circle or the other, but the space covered by both x and y. This can be done using the `.intersection` method from `shapely`, illustrated using objects named `x` and `y` which represent the left- and right-hand circles (@fig-intersection).\n"
      ],
      "id": "75ceef2f"
    },
    {
      "cell_type": "code",
      "metadata": {},
      "source": [
        "#| label: fig-intersection\n",
        "#| fig-cap: Intersection between `x` and `y`\n",
        "\n",
        "x.intersection(y)"
      ],
      "id": "fig-intersection",
      "execution_count": null,
      "outputs": []
    },
    {
      "cell_type": "markdown",
      "metadata": {},
      "source": [
        "The next lines of code demonstrate how this works for the `.difference` (@fig-difference), `.union` (@fig-union), and `.symmetric_difference` (@fig-symmetric-difference) operators:\n"
      ],
      "id": "851e3b98"
    },
    {
      "cell_type": "code",
      "metadata": {},
      "source": [
        "#| label: fig-difference\n",
        "#| fig-cap: 'Difference between `x` and `y` (namely, `x` \"minus\" `y`)'\n",
        "\n",
        "x.difference(y)"
      ],
      "id": "fig-difference",
      "execution_count": null,
      "outputs": []
    },
    {
      "cell_type": "code",
      "metadata": {},
      "source": [
        "#| label: fig-union\n",
        "#| fig-cap: Union of `x` and `y`\n",
        "\n",
        "x.union(y)"
      ],
      "id": "fig-union",
      "execution_count": null,
      "outputs": []
    },
    {
      "cell_type": "code",
      "metadata": {},
      "source": [
        "#| label: fig-symmetric-difference\n",
        "#| fig-cap: Symmetric difference between `x` and `y`\n",
        "\n",
        "x.symmetric_difference(y)"
      ],
      "id": "fig-symmetric-difference",
      "execution_count": null,
      "outputs": []
    },
    {
      "cell_type": "markdown",
      "metadata": {},
      "source": [
        "Keep in mind that `x` and `y` are interchangeable in all predictes except for `.difference`, where:\n",
        "\n",
        "* `x.difference(y)` means `x` minus `y`, whereas\n",
        "* `y.difference(x)` means `y` minus `x`.\n",
        "\n",
        "The latter examples demontrate pairwise operations between individual `shapely` geometries. The **geopandas** package, as is often the case, contains wrappers of these **shapely** functions to be applied to multiple, or pairwise, use cases. For example, applying either of the pairwise methods on a `GeoSeries` or `GeoDataFrame` combined with a `shapely` geometry returns the pairwise (many-to-one) results. \n",
        "\n",
        "Let's demonstrate by calculating the difference of each geometry in a `GeoSeries` and a \"fixed\" `shapely` geometry. To creare the latter, let's take `x` and combine it with itself translated (@sec-affine-transformations) to a distance of `1` or `2` units \"upwards\" on the y-axis:\n"
      ],
      "id": "747c50f3"
    },
    {
      "cell_type": "code",
      "metadata": {},
      "source": [
        "geom1 = gpd.GeoSeries([x])\n",
        "geom2 = geom1.translate(0, 1)\n",
        "geom3 = geom1.translate(0, 2)\n",
        "geom = pd.concat([geom1, geom2, geom3])\n",
        "geom"
      ],
      "id": "8192d84d",
      "execution_count": null,
      "outputs": []
    },
    {
      "cell_type": "markdown",
      "metadata": {},
      "source": [
        "Here is a plot of the `GeoSeries`, with the `shapely` geometry (in red) that we will intersect with it (@fig-geom-intersection):\n"
      ],
      "id": "e35b98d5"
    },
    {
      "cell_type": "code",
      "metadata": {},
      "source": [
        "#| label: fig-geom-intersection\n",
        "#| fig-cap: 'A `GeoSeries` with two circles, and a `shapely` geometry that we will \"subtract\" from it (in red)'\n",
        "\n",
        "fig, ax = plt.subplots()\n",
        "geom.plot(color='none', ax=ax)\n",
        "gpd.GeoSeries(y).plot(color='#FF000040', edgecolor='black', ax=ax);"
      ],
      "id": "fig-geom-intersection",
      "execution_count": null,
      "outputs": []
    },
    {
      "cell_type": "markdown",
      "metadata": {},
      "source": [
        "Now, using `.intersection` automatically applies the `shapely` method of the same name on each geometry in `geom`, returning a new `GeoSeries`, which we name `geom_inter_y`, with the pairwise \"intersections\". Note the empty third geometry (can you explain the meaning of this result?):\n"
      ],
      "id": "4b12a0c8"
    },
    {
      "cell_type": "code",
      "metadata": {},
      "source": [
        "geom_inter_y = geom.intersection(y)\n",
        "geom_inter_y"
      ],
      "id": "dcada294",
      "execution_count": null,
      "outputs": []
    },
    {
      "cell_type": "markdown",
      "metadata": {},
      "source": [
        "Here is a plot of the result (@fig-geom-intersection2):\n"
      ],
      "id": "b1f462e0"
    },
    {
      "cell_type": "code",
      "metadata": {},
      "source": [
        "#| label: fig-geom-intersection2\n",
        "#| fig-cap: 'The output `GeoSeries`, after subtracting a `shapely` geometry using `.intersection`'\n",
        "\n",
        "geom_inter_y.plot(color='none');"
      ],
      "id": "fig-geom-intersection2",
      "execution_count": null,
      "outputs": []
    },
    {
      "cell_type": "markdown",
      "metadata": {},
      "source": [
        "The `.overlay` method (see @sec-joining-incongruent-layers) further extends this technique, making it possible to apply many-to-many pairwise geometry generations between all pairs of two `GeoDataFrame`s. The output is a new `GeoDataFrame` with the pairwise outputs, plus the attributes of both inputs which were the inputs of the particular pairwise output geometry. See the [Set operations with overlay](https://geopandas.org/en/stable/docs/user_guide/set_operations.html) article in the **geopandas** documentation for examples of `.overlay`.\n",
        "\n",
        "### Subsetting and clipping\n",
        "\n",
        "Clipping objects can change their geometry but it can also subset objects, returning only features that intersect (or partly intersect) with a clipping/subsetting object. \n",
        "To illustrate this point, we will subset points that cover the bounding box of the circles x and y in @fig-overlapping-circles. \n",
        "Some points will be inside just one circle, some will be inside both and some will be inside neither. \n",
        "The following code sections generates a simple random distribution of points within the extent of circles x and y, resulting in output illustrated in @fig-random-points. \n",
        "We do this in two steps. First, we figure out the bounds where random points are to be generated:\n"
      ],
      "id": "511e9b63"
    },
    {
      "cell_type": "code",
      "metadata": {},
      "source": [
        "bounds = x.union(y).bounds\n",
        "bounds"
      ],
      "id": "f0760493",
      "execution_count": null,
      "outputs": []
    },
    {
      "cell_type": "markdown",
      "metadata": {},
      "source": [
        "Second, we use `np.random.uniform` to calculate `n` random x and y coordinates within the given bounds:\n"
      ],
      "id": "f4ec29b9"
    },
    {
      "cell_type": "code",
      "metadata": {},
      "source": [
        "np.random.seed(1)\n",
        "n = 10  ## Number of points to generate\n",
        "coords_x = np.random.uniform(bounds[0], bounds[2], n)\n",
        "coords_y = np.random.uniform(bounds[1], bounds[3], n)\n",
        "coords = list(zip(coords_x, coords_y))\n",
        "coords"
      ],
      "id": "99383254",
      "execution_count": null,
      "outputs": []
    },
    {
      "cell_type": "markdown",
      "metadata": {},
      "source": [
        "Third, we transform the list of coordinates into a `list` of `shapely` points:\n"
      ],
      "id": "4bd05147"
    },
    {
      "cell_type": "code",
      "metadata": {},
      "source": [
        "pnt = [shapely.Point(i) for i in coords]\n",
        "pnt"
      ],
      "id": "085d3966",
      "execution_count": null,
      "outputs": []
    },
    {
      "cell_type": "markdown",
      "metadata": {},
      "source": [
        "and then to a `GeoSeries`:\n"
      ],
      "id": "56b147fb"
    },
    {
      "cell_type": "code",
      "metadata": {},
      "source": [
        "pnt = gpd.GeoSeries(pnt)\n",
        "pnt"
      ],
      "id": "651d235a",
      "execution_count": null,
      "outputs": []
    },
    {
      "cell_type": "markdown",
      "metadata": {},
      "source": [
        "The result is shown in @fig-random-points:\n"
      ],
      "id": "62d88c0a"
    },
    {
      "cell_type": "code",
      "metadata": {},
      "source": [
        "#| label: fig-random-points\n",
        "#| fig-cap: Randomly distributed points within the bounding box enclosing circles x and y. The point that intersects with both objects x and y are highlighted.\n",
        "\n",
        "base = pnt.plot(color='none', edgecolor='black')\n",
        "gpd.GeoSeries([x]).plot(ax=base, color='none', edgecolor='darkgrey');\n",
        "gpd.GeoSeries([y]).plot(ax=base, color='none', edgecolor='darkgrey');"
      ],
      "id": "fig-random-points",
      "execution_count": null,
      "outputs": []
    },
    {
      "cell_type": "markdown",
      "metadata": {},
      "source": [
        "Now, we get back to our question: how to subset the points to only return the point that intersects with both x and y? \n",
        "The code chunks below demonstrate three ways to achieve the same result. \n",
        "We can calculate a boolean `Series`, evaluating whether each point of `pnt` intersects with the intersection of x and y: \n"
      ],
      "id": "26bc9783"
    },
    {
      "cell_type": "code",
      "metadata": {},
      "source": [
        "sel = pnt.intersects(x.intersection(y))\n",
        "sel"
      ],
      "id": "94744a1e",
      "execution_count": null,
      "outputs": []
    },
    {
      "cell_type": "markdown",
      "metadata": {},
      "source": [
        "then use it to subset `pnt` to get the result `pnt1`:\n"
      ],
      "id": "9f51364a"
    },
    {
      "cell_type": "code",
      "metadata": {},
      "source": [
        "pnt1 = pnt[sel]\n",
        "pnt1"
      ],
      "id": "898db275",
      "execution_count": null,
      "outputs": []
    },
    {
      "cell_type": "markdown",
      "metadata": {},
      "source": [
        "We can also find the intersection between the input points represented by `pnt`, using the intersection of `x` and `y` as the subsetting/clipping object. Since the second argument is an individual `shapely` geometry (`x.intersection(y)`), we get \"pairwise\" intersections of each `pnt` with it: \n"
      ],
      "id": "f71b312a"
    },
    {
      "cell_type": "code",
      "metadata": {},
      "source": [
        "pnt2 = pnt.intersection(x.intersection(y))\n",
        "pnt2"
      ],
      "id": "3963dd5b",
      "execution_count": null,
      "outputs": []
    },
    {
      "cell_type": "markdown",
      "metadata": {},
      "source": [
        "The result is shown in @fig-intersection-points:\n"
      ],
      "id": "90d7ac17"
    },
    {
      "cell_type": "code",
      "metadata": {},
      "source": [
        "#| label: fig-intersection-points\n",
        "#| fig-cap: Randomly distributed points within the bounding box enclosing circles x and y. The point that intersects with both objects x and y are highlighted.\n",
        "\n",
        "base = pnt.plot(color='none', edgecolor='black')\n",
        "gpd.GeoSeries([x]).plot(ax=base, color='none', edgecolor='darkgrey');\n",
        "gpd.GeoSeries([y]).plot(ax=base, color='none', edgecolor='darkgrey');\n",
        "pnt2.plot(ax=base, color='red');"
      ],
      "id": "fig-intersection-points",
      "execution_count": null,
      "outputs": []
    },
    {
      "cell_type": "markdown",
      "metadata": {},
      "source": [
        "Empty geometries can be filtered out to retain the required subset, and to get `pnt2` which is identical to `pnt1`:\n"
      ],
      "id": "8199dd7f"
    },
    {
      "cell_type": "code",
      "metadata": {},
      "source": [
        "pnt2 = pnt2[~pnt2.is_empty]  ## Subset non-empty geometries\n",
        "pnt2"
      ],
      "id": "abeecb37",
      "execution_count": null,
      "outputs": []
    },
    {
      "cell_type": "markdown",
      "metadata": {},
      "source": [
        "This second approach will return features that partly intersect with `x.intersection(y)` but with modified geometries for spatially extensive features that cross the border of the subsetting object. The results are identical, but the implementation differs substantially.\n",
        "\n",
        "Although the example above is rather contrived and provided for educational rather than applied purposes, and we encourage the reader to reproduce the results to deepen your understanding for handling geographic vector objects in R, it raises an important question: which implementation to use? Generally, more concise implementations should be favored, meaning the first approach above. We will return to the question of choosing between different implementations of the same technique or algorithm in Chapter 11.\n",
        "\n",
        "### Geometry unions {#sec-geometry-unions}\n",
        "\n",
        "As we saw in @sec-vector-attribute-aggregation, spatial aggregation can silently dissolve the geometries of touching polygons in the same group. This is demonstrated in the code chunk below in which 49 `us_states` are aggregated into 4 regions using the `.dissolve` method:\n"
      ],
      "id": "426e1d24"
    },
    {
      "cell_type": "code",
      "metadata": {},
      "source": [
        "regions = us_states.dissolve(by='REGION', aggfunc='sum').reset_index()\n",
        "regions"
      ],
      "id": "93dedaef",
      "execution_count": null,
      "outputs": []
    },
    {
      "cell_type": "markdown",
      "metadata": {},
      "source": [
        "The result is shown in @fig-dissolve:\n"
      ],
      "id": "4356913f"
    },
    {
      "cell_type": "code",
      "metadata": {},
      "source": [
        "#| label: fig-dissolve\n",
        "#| fig-cap: 'Spatial aggregation on contiguous polygons, illustrated by aggregating the population of US states into regions, with population represented by color. Note the operation automatically dissolves boundaries between states.'\n",
        "\n",
        "fig, axes = plt.subplots(ncols=2, figsize=(9, 2.5))\n",
        "us_states.plot(ax=axes[0], edgecolor='black', column='total_pop_15', legend=True, cmap='PuRd')\n",
        "regions.plot(ax=axes[1], edgecolor='black', column='total_pop_15', legend=True, cmap='PuRd')\n",
        "axes[0].set_title('State')\n",
        "axes[1].set_title('Region');"
      ],
      "id": "fig-dissolve",
      "execution_count": null,
      "outputs": []
    },
    {
      "cell_type": "markdown",
      "metadata": {},
      "source": [
        "What is going on in terms of the geometries? Behind the scenes, `.dissolve` combines the geometries and dissolve the boundaries between them using the [`.unary_union`](https://geopandas.org/en/stable/docs/reference/api/geopandas.GeoSeries.unary_union.html#geopandas.GeoSeries.unary_union) method per group. This is demonstrated in the code chunk below which creates a united western US using the standalone `unary_union` operation:\n"
      ],
      "id": "915f5298"
    },
    {
      "cell_type": "code",
      "metadata": {},
      "source": [
        "us_west = us_states[us_states['REGION'] == 'West']\n",
        "us_west_union = us_west['geometry'].unary_union"
      ],
      "id": "0e8b3807",
      "execution_count": null,
      "outputs": []
    },
    {
      "cell_type": "markdown",
      "metadata": {},
      "source": [
        "Note that the result is a `shapely` geometry, as the individual attributes are \"lost\" as part of dissolving. The result is shown in @fig-dissolve2.\n"
      ],
      "id": "14db6318"
    },
    {
      "cell_type": "code",
      "metadata": {},
      "source": [
        "#| label: fig-dissolve2\n",
        "#| fig-cap: Western US\n",
        "\n",
        "us_west_union"
      ],
      "id": "fig-dissolve2",
      "execution_count": null,
      "outputs": []
    },
    {
      "cell_type": "markdown",
      "metadata": {},
      "source": [
        "To dissolve two (or more) groups of a `GeoDataFrame` into one geometry, we can either use a combined condition:\n"
      ],
      "id": "da5ab8a4"
    },
    {
      "cell_type": "code",
      "metadata": {},
      "source": [
        "sel = (us_states['REGION'] == 'West') | (us_states['NAME'] == 'Texas')\n",
        "texas_union = us_states[sel]\n",
        "texas_union = texas_union['geometry'].unary_union"
      ],
      "id": "7777bb59",
      "execution_count": null,
      "outputs": []
    },
    {
      "cell_type": "markdown",
      "metadata": {},
      "source": [
        "or concatenate the two separate subsets:\n"
      ],
      "id": "dd815dcf"
    },
    {
      "cell_type": "code",
      "metadata": {},
      "source": [
        "us_west = us_states[us_states['REGION'] == 'West']\n",
        "texas = us_states[us_states['NAME'] == 'Texas']\n",
        "texas_union = pd.concat([us_west, texas]).unary_union"
      ],
      "id": "c658e098",
      "execution_count": null,
      "outputs": []
    },
    {
      "cell_type": "markdown",
      "metadata": {},
      "source": [
        "and then dissove using `.unary_union`. The result is identical in both cases, shown in @fig-dissolve3.\n"
      ],
      "id": "1dd44fbb"
    },
    {
      "cell_type": "code",
      "metadata": {},
      "source": [
        "#| label: fig-dissolve3\n",
        "#| fig-cap: Western US and Texas\n",
        "\n",
        "texas_union"
      ],
      "id": "fig-dissolve3",
      "execution_count": null,
      "outputs": []
    },
    {
      "cell_type": "markdown",
      "metadata": {},
      "source": [
        "### Type transformations {#sec-type-transformations}\n",
        "\n",
        "Transformation of geometries, from one type to another, also known as \"geometry casting\", is often required to facilitate spatial analysis. \n",
        "The `shapely` package can be used for geometry casting. \n",
        "The exact expression(s) depend on the specific transformation we are interested in. \n",
        "In general, you need to figure out the required input of the respective construstor function according to the \"destination\" geometry (e.g., `shapely.LineString`, etc.), then reshape the input of the \"source\" geometry into the right form to be passed to that function.\n",
        "\n",
        "Let's create a `\"MultiPoint\"` to illustrate how geometry casting works on `shapely` geometry objects:\n"
      ],
      "id": "7f726aa6"
    },
    {
      "cell_type": "code",
      "metadata": {},
      "source": [
        "multipoint = shapely.MultiPoint([(1,1), (3,3), (5,1)])\n",
        "multipoint"
      ],
      "id": "93e9298d",
      "execution_count": null,
      "outputs": []
    },
    {
      "cell_type": "markdown",
      "metadata": {},
      "source": [
        "A `\"LineString\"` can be created using `shapely.LineString` from a `list` of points. Consequently, a `\"MultiPoint\"` can be converted to a `\"LineString\"` by extracting the individual points into a `list`, then passing them to `shapely.LineString`:\n"
      ],
      "id": "51349515"
    },
    {
      "cell_type": "code",
      "metadata": {},
      "source": [
        "linestring = shapely.LineString(list(multipoint.geoms))\n",
        "linestring"
      ],
      "id": "0a0abf43",
      "execution_count": null,
      "outputs": []
    },
    {
      "cell_type": "markdown",
      "metadata": {},
      "source": [
        "A `\"Polygon\"` can also be created using function `shapely.Polygon`, which acceps a sequence of point coordinates. In principle, the last coordinate must be equal to the first, in order to form a closed shape. However, `shapely.Polygon` is able to complete the last coordinate automatically. Therefore:\n"
      ],
      "id": "13929b7a"
    },
    {
      "cell_type": "code",
      "metadata": {},
      "source": [
        "polygon = shapely.Polygon([[p.x, p.y] for p in multipoint.geoms])\n",
        "polygon"
      ],
      "id": "d8234863",
      "execution_count": null,
      "outputs": []
    },
    {
      "cell_type": "markdown",
      "metadata": {},
      "source": [
        "The source `\"MultiPoint\"` geometry, and the derived `\"LineString\"` and `\"Polygon\"` geometries are shown in @fig-casting1. Note that we convert the `shapely` geometries to `GeoSeries` for easier multi-panel plotting:\n"
      ],
      "id": "e094cd53"
    },
    {
      "cell_type": "code",
      "metadata": {},
      "source": [
        "#| label: fig-casting1\n",
        "#| fig-cap: Examples of linestring and polygon casted from a multipoint geometry.\n",
        "\n",
        "fig, axes = plt.subplots(ncols=3, figsize=(8,4))\n",
        "gpd.GeoSeries(multipoint).plot(ax=axes[0])\n",
        "gpd.GeoSeries(linestring).plot(ax=axes[1])\n",
        "gpd.GeoSeries(polygon).plot(ax=axes[2])\n",
        "axes[0].set_title(\"MultiPoint\")\n",
        "axes[1].set_title(\"LineString\")\n",
        "axes[2].set_title(\"Polygon\");"
      ],
      "id": "fig-casting1",
      "execution_count": null,
      "outputs": []
    },
    {
      "cell_type": "markdown",
      "metadata": {},
      "source": [
        "Conversion from `\"MultiPoint\"` to `\"LineString\"` is a common operation that creates a line object from ordered point observations, such as GPS measurements or geotagged media. This allows spatial operations such as the length of the path traveled. Conversion from `\"MultiPoint\"` or `\"LineString\"` to `\"Polygon\"` is often used to calculate an area, for example from the set of GPS measurements taken around a lake or from the corners of a building lot.\n",
        "\n",
        "Our `\"LineString\"` geometry can be converted bact to a `\"MultiPoint\"` geometry by passing its coordinates directly to `shapely.MultiPoint`:\n"
      ],
      "id": "a9d1e354"
    },
    {
      "cell_type": "code",
      "metadata": {},
      "source": [
        "# 'LineString' -> 'MultiPoint'\n",
        "shapely.MultiPoint(linestring.coords)"
      ],
      "id": "ab6e2d8c",
      "execution_count": null,
      "outputs": []
    },
    {
      "cell_type": "markdown",
      "metadata": {},
      "source": [
        "The `\"Polygon\"` (exterior) coordinates can be passed to `shapely.MultiPoint` as well:\n"
      ],
      "id": "de82615e"
    },
    {
      "cell_type": "code",
      "metadata": {},
      "source": [
        "# 'Polygon' -> 'MultiPoint'\n",
        "shapely.MultiPoint(polygon.exterior.coords)"
      ],
      "id": "8002fd8d",
      "execution_count": null,
      "outputs": []
    },
    {
      "cell_type": "markdown",
      "metadata": {},
      "source": [
        "Summary / table of possible transformations... (?)\n",
        "\n",
        "Let's apply another commonly used type transformation to demonstrate. As input, we will create a `\"MultiLineString\"` geometry composed of three lines:\n"
      ],
      "id": "08537dda"
    },
    {
      "cell_type": "code",
      "metadata": {},
      "source": [
        "l1 = shapely.LineString([(1, 5), (4, 3)])\n",
        "l2 = shapely.LineString([(4, 4), (4, 1)])\n",
        "l3 = shapely.LineString([(2, 2), (4, 2)])\n",
        "ml = shapely.MultiLineString([l1, l2, l3])\n",
        "ml"
      ],
      "id": "e998e97a",
      "execution_count": null,
      "outputs": []
    },
    {
      "cell_type": "markdown",
      "metadata": {},
      "source": [
        "Let's place it into a `GeoSeries`:\n"
      ],
      "id": "39e69bd7"
    },
    {
      "cell_type": "code",
      "metadata": {},
      "source": [
        "geom = gpd.GeoSeries([ml])\n",
        "geom"
      ],
      "id": "3ee24b86",
      "execution_count": null,
      "outputs": []
    },
    {
      "cell_type": "markdown",
      "metadata": {},
      "source": [
        "and finally into a `GeoDataFrame` with an attribute called `\"id\"`:\n"
      ],
      "id": "f51dfb98"
    },
    {
      "cell_type": "code",
      "metadata": {},
      "source": [
        "dat = gpd.GeoDataFrame(geometry = geom, data = pd.DataFrame({'id': [1]}))\n",
        "dat"
      ],
      "id": "c1504cf2",
      "execution_count": null,
      "outputs": []
    },
    {
      "cell_type": "markdown",
      "metadata": {},
      "source": [
        "You can imagine it as a road or river network. The above layer `dat` has only one row that defines all the lines. This restricts the number of operations that can be done, for example it prevents adding names to each line segment or calculating lengths of single lines. Using `shapely` methods which we are already familiar with (see above), the individual single-part geometries (i.e., the \"parts\") can be accessed through the `.geoms` property:\n"
      ],
      "id": "14b5ab1c"
    },
    {
      "cell_type": "code",
      "metadata": {},
      "source": [
        "list(ml.geoms)"
      ],
      "id": "f650de32",
      "execution_count": null,
      "outputs": []
    },
    {
      "cell_type": "markdown",
      "metadata": {},
      "source": [
        "However, spoecifically for the \"multi-part to single part\" type transformation scenarios, there is also a method called `.explode`, which can convert an entire multi-part `GeoDataFrame` to a single-part one. The advantage is that the original attributes (such as `id`) are retained, so that we can keep track of the original multi-part geometry properties that each part came from. The `index_parts=True` argument also lets us keep track of the original multipart geometry indices, and part indices, named `level_0` and `level_1`, respectively:\n"
      ],
      "id": "ee3cb458"
    },
    {
      "cell_type": "code",
      "metadata": {},
      "source": [
        "dat1 = dat.explode(index_parts=True).reset_index()\n",
        "dat1"
      ],
      "id": "a7d66cb2",
      "execution_count": null,
      "outputs": []
    },
    {
      "cell_type": "markdown",
      "metadata": {},
      "source": [
        "For example, here we see that all `\"LineString\"` geometries came from the same multi-part geometry (`level_0`=`0`), which had three parts (`level_1`=`0`,`1`,`2`).\n",
        "\n",
        "@fig-multilinestring-to-linestring demonstrates the effect of `.explode` in converting a layer with multi-part geometries into a layer with single part geometries. \n"
      ],
      "id": "84df8159"
    },
    {
      "cell_type": "code",
      "metadata": {},
      "source": [
        "#| label: fig-multilinestring-to-linestring\n",
        "#| fig-cap: 'Transformation from a `\"MultiLineString\"` layer with one feature (left), to a `\"LineString\"` layer with three features (right) using `.explode`'\n",
        "\n",
        "fig, axes = plt.subplots(ncols=2)\n",
        "dat.plot(ax=axes[0], column='id')\n",
        "dat1.plot(ax=axes[1], column='level_1')\n",
        "axes[0].set_title('MultiLineString\\n1 feature')\n",
        "axes[1].set_title('LineString\\n3 features');"
      ],
      "id": "fig-multilinestring-to-linestring",
      "execution_count": null,
      "outputs": []
    },
    {
      "cell_type": "markdown",
      "metadata": {},
      "source": [
        "By the way, the opposite transformation, i.e., \"single-part to multi-part\", is acheived using the `.dissolve` method (@sec-geometry-unions).\n",
        "\n",
        "## Geometric operations on raster data {#sec-geo-ras}\n",
        "\n",
        "### Geometric intersections\n",
        "\n",
        "In @sec-spatial-subsetting we have shown how to extract values from a raster overlaid by other spatial objects. In case the area of interest is defined by a raster B, to retrieve a spatial output, that is, a (smaller) subset of raster A, we can:\n",
        "\n",
        "* Extract the bounding box polygon of B (hereby, `clip`)\n",
        "* Mask and crop A (hereby, `elev.tif`) using B (@sec-raster-cropping)\n",
        "\n",
        "For example, suppose that we want to get a subset of the `elev.tif` raster using another, smaller, raster. For demonstration, let's create (see @sec-raster-from-scratch) that smaller raster, hereby named `clip`. We first create a $3 \\times 3$ array of raster values:\n"
      ],
      "id": "7676d0d4"
    },
    {
      "cell_type": "code",
      "metadata": {},
      "source": [
        "clip = np.array([1] * 9).reshape(3, 3)\n",
        "clip"
      ],
      "id": "6393b849",
      "execution_count": null,
      "outputs": []
    },
    {
      "cell_type": "markdown",
      "metadata": {},
      "source": [
        "Then, we define the transformation matrix, in such a way that `clip` intersects with `elev.tif` (@fig-raster-intersection):\n"
      ],
      "id": "fabb765b"
    },
    {
      "cell_type": "code",
      "metadata": {},
      "source": [
        "new_transform = rasterio.transform.from_origin(\n",
        "    west=0.9, \n",
        "    north=0.45, \n",
        "    xsize=0.3, \n",
        "    ysize=0.3\n",
        ")\n",
        "new_transform"
      ],
      "id": "4cd79982",
      "execution_count": null,
      "outputs": []
    },
    {
      "cell_type": "markdown",
      "metadata": {},
      "source": [
        "Now, for subsetting, we will derive a `shapely` geometry representing the `clip` raster extent, using `rasterio.transform.array_bounds`:\n"
      ],
      "id": "20ae8e29"
    },
    {
      "cell_type": "code",
      "metadata": {},
      "source": [
        "bbox = rasterio.transform.array_bounds(\n",
        "    clip.shape[1], # columns\n",
        "    clip.shape[0], # rows\n",
        "    new_transform\n",
        ")\n",
        "bbox"
      ],
      "id": "1665c4a6",
      "execution_count": null,
      "outputs": []
    },
    {
      "cell_type": "markdown",
      "metadata": {},
      "source": [
        "The four numeric values can be transformed into a rectangular `shapely` geometry using `shapely.box`:\n"
      ],
      "id": "7466f853"
    },
    {
      "cell_type": "code",
      "metadata": {},
      "source": [
        "bbox = shapely.box(*bbox)\n",
        "bbox"
      ],
      "id": "da411e7f",
      "execution_count": null,
      "outputs": []
    },
    {
      "cell_type": "markdown",
      "metadata": {},
      "source": [
        "@fig-raster-intersection shows the alignment of `bbox` and `elev.tif`:\n"
      ],
      "id": "67e5e16f"
    },
    {
      "cell_type": "code",
      "metadata": {},
      "source": [
        "#| label: fig-raster-intersection\n",
        "#| fig-cap: 'The `elev.tif` raster, and the extent of another (smaller) raster `clip` which we use to subset it'\n",
        "\n",
        "fig, ax = plt.subplots()\n",
        "rasterio.plot.show(src_elev, ax=ax)\n",
        "gpd.GeoSeries([bbox]).plot(color='none', ax=ax);"
      ],
      "id": "fig-raster-intersection",
      "execution_count": null,
      "outputs": []
    },
    {
      "cell_type": "markdown",
      "metadata": {},
      "source": [
        "From here on, subsetting can be done using masking and cropping, just like with any other vector layer, regardless whether it is rectangular or not. We elaborate on masking and cropping in @sec-raster-cropping (check that section for details about `rasterio.mask.mask`), but for completeness let's go through that last step:\n"
      ],
      "id": "b29428f8"
    },
    {
      "cell_type": "code",
      "metadata": {},
      "source": [
        "out_image, out_transform = rasterio.mask.mask(\n",
        "    src_elev, \n",
        "    [bbox], \n",
        "    crop=True,\n",
        "    all_touched=True,\n",
        "    nodata=0\n",
        ")"
      ],
      "id": "2628f8fb",
      "execution_count": null,
      "outputs": []
    },
    {
      "cell_type": "markdown",
      "metadata": {},
      "source": [
        "The resulting subset array `out_image` contains all pixels intersecting with `clip` *pixels* (not necessarily with the centroids!). However, due to the `all_touched=True` argument, those pixels which intersect with `clip`, but their centroid does not, retain their original values (e.g., `17`, `23`) rather than turned into \"No Data\" (e.g., `0`):\n"
      ],
      "id": "593e134c"
    },
    {
      "cell_type": "code",
      "metadata": {},
      "source": [
        "out_image"
      ],
      "id": "c5f56126",
      "execution_count": null,
      "outputs": []
    },
    {
      "cell_type": "markdown",
      "metadata": {},
      "source": [
        "Therefore, in our case, subset `out_image` dimensions are $2 \\times 2$ (@fig-raster-intersection2):\n"
      ],
      "id": "73038462"
    },
    {
      "cell_type": "code",
      "metadata": {},
      "source": [
        "#| label: fig-raster-intersection2\n",
        "#| fig-cap: The resulting subset of the `elev.tif` raster\n",
        "\n",
        "fig, ax = plt.subplots()\n",
        "rasterio.plot.show(out_image, transform=out_transform, ax=ax)\n",
        "gpd.GeoSeries([bbox]).plot(color='none', ax=ax);"
      ],
      "id": "fig-raster-intersection2",
      "execution_count": null,
      "outputs": []
    },
    {
      "cell_type": "markdown",
      "metadata": {},
      "source": [
        "### Extent and origin\n",
        "\n",
        "When merging or performing map algebra on rasters, their resolution, projection, origin and/or extent have to match. \n",
        "Otherwise, how should we add the values of one raster with a resolution of 0.2 decimal degrees to a second raster with a resolution of 1 decimal degree? \n",
        "The same problem arises when we would like to merge satellite imagery from different sensors with different projections and resolutions. \n",
        "We can deal with such mismatches by aligning the rasters.\n",
        "Typically, raster alignment is done through resampling---that way, it is guaranteed that the rasters match exactly (@sec-raster-resampling).\n",
        "However, sometimes it can be useful to modify raster placement and extent \"manually\", by adding or removing rows and columns, or by modifying the origin, that is, shifting the raster. \n",
        "For example, it may be useful to add extra rows and columns to a raster prior to focal operations, so that it is easier to operate on the edges.\n",
        "\n",
        "Let's demostrate the first operation, raster padding. \n",
        "First, we will read the array with the `elev.tif` values:\n"
      ],
      "id": "8456b321"
    },
    {
      "cell_type": "code",
      "metadata": {},
      "source": [
        "r = src_elev.read(1)\n",
        "r"
      ],
      "id": "d0291796",
      "execution_count": null,
      "outputs": []
    },
    {
      "cell_type": "markdown",
      "metadata": {},
      "source": [
        "To pad an `ndarray`, we can use the `np.pad` function. \n",
        "The function accepts an array, and a tuple of the form `((rows_top,rows_bottom),(columns_left, columns_right))`. \n",
        "Also, we can specify the value that's being used for padding with `constant_values` (e.g., `18`). \n",
        "For example, here we pad `r` with one extra row and two extra columns, on both sides:\n"
      ],
      "id": "cdea887f"
    },
    {
      "cell_type": "code",
      "metadata": {},
      "source": [
        "rows = 1\n",
        "cols = 2\n",
        "s = np.pad(r, ((rows,rows),(cols,cols)), constant_values=18)\n",
        "s"
      ],
      "id": "a75fc814",
      "execution_count": null,
      "outputs": []
    },
    {
      "cell_type": "markdown",
      "metadata": {},
      "source": [
        "However, for `s` to be used in spatial operations, we also have to update its transformation matrix. \n",
        "Whenever we add extra columns on the left, or extra rows on top, the raster *origin* changes. To reflect that fact, we take to \"original\" origin and add the required multiple of pixel widths or heights (i.e., raster resolution). \n",
        "\n",
        "Recall from @sec-raster-from-scratch, here is the transformation matrix of `elev.tif`:\n"
      ],
      "id": "71059fa0"
    },
    {
      "cell_type": "code",
      "metadata": {},
      "source": [
        "src_elev.transform "
      ],
      "id": "3b26da23",
      "execution_count": null,
      "outputs": []
    },
    {
      "cell_type": "markdown",
      "metadata": {},
      "source": [
        "From the transformation matrix, we can extract the origin:\n"
      ],
      "id": "6a7f62c9"
    },
    {
      "cell_type": "code",
      "metadata": {},
      "source": [
        "xmin, ymax = src_elev.transform[2], src_elev.transform[5]\n",
        "xmin, ymax"
      ],
      "id": "11093520",
      "execution_count": null,
      "outputs": []
    },
    {
      "cell_type": "markdown",
      "metadata": {},
      "source": [
        "And the resolution:\n"
      ],
      "id": "a0122ea0"
    },
    {
      "cell_type": "code",
      "metadata": {},
      "source": [
        "dx, dy = src_elev.transform[0], src_elev.transform[4]\n",
        "dx, dy"
      ],
      "id": "882fef20",
      "execution_count": null,
      "outputs": []
    },
    {
      "cell_type": "markdown",
      "metadata": {},
      "source": [
        "Now we can actually update the origin:\n"
      ],
      "id": "6a42d9d0"
    },
    {
      "cell_type": "code",
      "metadata": {},
      "source": [
        "xmin_new = xmin - dx * cols\n",
        "ymax_new = ymax - dy * rows\n",
        "xmin_new, ymax_new"
      ],
      "id": "ccc4d9d0",
      "execution_count": null,
      "outputs": []
    },
    {
      "cell_type": "markdown",
      "metadata": {},
      "source": [
        "Let's create the updated transformation matrix (@sec-raster-from-scratch). Keep in mind that the meaning of the last two arguments is `xsize`, `ysize`, so we need to pass the absolute value of `dy` (since it is negative).\n"
      ],
      "id": "c7af41ab"
    },
    {
      "cell_type": "code",
      "metadata": {},
      "source": [
        "new_transform = rasterio.transform.from_origin(xmin_new, ymax_new, dx, abs(dy))\n",
        "new_transform"
      ],
      "id": "57edd6b8",
      "execution_count": null,
      "outputs": []
    },
    {
      "cell_type": "markdown",
      "metadata": {},
      "source": [
        "@fig-raster-shift-origin shows the padded raster, with the outline of the original one, demonstrating that the origin was shifted correctly:\n"
      ],
      "id": "0b818957"
    },
    {
      "cell_type": "code",
      "metadata": {},
      "source": [
        "#| label: fig-raster-shift-origin\n",
        "#| fig-cap: 'The padded `elev.tif` raster, and the outline of the extent of the original (in red)'\n",
        "\n",
        "fig, ax = plt.subplots()\n",
        "rasterio.plot.show(s, transform=new_transform, cmap='Greys', ax=ax)\n",
        "elev_bbox = gpd.GeoSeries(shapely.box(*src_elev.bounds))\n",
        "elev_bbox.plot(color='none', edgecolor='red', ax=ax);"
      ],
      "id": "fig-raster-shift-origin",
      "execution_count": null,
      "outputs": []
    },
    {
      "cell_type": "markdown",
      "metadata": {},
      "source": [
        "We can shift a raster origin not just when padding, but in any other use case just by changing its transformation matrix. The effect is that the raster id going to be shifted. This is rarely required in real-life scenarios, but it is useful for understanding the concept of *raster origin*. For example, let's shift the origin of `elev.tif` by `(-0.25,0.25)`:\n"
      ],
      "id": "c7078ab3"
    },
    {
      "cell_type": "code",
      "metadata": {},
      "source": [
        "xmin_new = xmin - 0.25  # shift xmin to the left\n",
        "ymax_new = ymax + 0.25  # shift ymax upwards\n",
        "xmin_new, ymax_new"
      ],
      "id": "3e579e1c",
      "execution_count": null,
      "outputs": []
    },
    {
      "cell_type": "markdown",
      "metadata": {},
      "source": [
        "To shift the origin in other directions change the two operators (`-`, `+`) accordingly.\n",
        "\n",
        "Again, let's create the updated transformation matrix:\n"
      ],
      "id": "d093a1ee"
    },
    {
      "cell_type": "code",
      "metadata": {},
      "source": [
        "new_transform = rasterio.transform.from_origin(xmin_new, ymax_new, dx, abs(dy))\n",
        "new_transform"
      ],
      "id": "067eb986",
      "execution_count": null,
      "outputs": []
    },
    {
      "cell_type": "markdown",
      "metadata": {},
      "source": [
        "@fig-raster-shift-origin2 shows the shifted raster and the outline of the original:\n"
      ],
      "id": "f78b8cc4"
    },
    {
      "cell_type": "code",
      "metadata": {},
      "source": [
        "#| label: fig-raster-shift-origin2\n",
        "#| fig-cap: 'The `elev.tif` raster shifted by `(0.25,0.25)` and the extent of the original (in red)'\n",
        "\n",
        "fig, ax = plt.subplots()\n",
        "rasterio.plot.show(r, transform=new_transform, cmap='Greys', ax=ax)\n",
        "elev_bbox.plot(color='none', edgecolor='red', ax=ax);"
      ],
      "id": "fig-raster-shift-origin2",
      "execution_count": null,
      "outputs": []
    },
    {
      "cell_type": "markdown",
      "metadata": {},
      "source": [
        "### Aggregation and disaggregation {#sec-raster-agg-disagg}\n",
        "\n",
        "Raster datasets vary based on their resolution, from high resolution datasets that enable individual trees to be seen, to low resolution datasets covering the whole Earth.\n",
        "Raster datasets can be transformed to either decrease (aggregate) or increase (disaggregate) their resolution for a number of reasons.\n",
        "Aggregation can reduce computational resource requirements of raster storage and subsequent steps, disaggregation can be used to match other datasets or to add detail.\n",
        "As an example, we here change the spatial resolution of `dem.tif` by a factor of 5 (Figure @fig-raster-aggregate). \n",
        "\n",
        "Raster aggregation is, in fact, a special case of raster resampling (see @sec-raster-resampling), where the target raster grid is aligned with the original raster, only with coarser pixels. Raster resampling, is the general case where the new grid is not necessarily an aggregation of the original one, but any other case as well (such as a rotated and/or shifted one, etc.). \n",
        "\n",
        "To aggregate a raster using `rasterio`, we go through [two steps](https://rasterio.readthedocs.io/en/stable/topics/resampling.html):\n",
        "\n",
        "* Reading the raster values (using `.read`) into an `out_shape` that is different from the original `.shape`\n",
        "* Updating the `transform` according to the `out_shape`\n",
        "\n",
        "Let's demonstrate, using the `dem.tif` file. Note the shape of the raster, it has 117 rows and 117 columns:\n"
      ],
      "id": "8209c652"
    },
    {
      "cell_type": "code",
      "metadata": {},
      "source": [
        "src.read(1).shape"
      ],
      "id": "3d81a8df",
      "execution_count": null,
      "outputs": []
    },
    {
      "cell_type": "markdown",
      "metadata": {},
      "source": [
        "Also note the `transform`, which tells us that the raster resolution is 30.85 $m$:\n"
      ],
      "id": "3818e48b"
    },
    {
      "cell_type": "code",
      "metadata": {},
      "source": [
        "src.transform"
      ],
      "id": "bbf34105",
      "execution_count": null,
      "outputs": []
    },
    {
      "cell_type": "markdown",
      "metadata": {},
      "source": [
        "Now, instead of reading the raster values the usual way, as in `src.read(1)`, we can specify `out_shape` to read the values into a different shape. \n",
        "Here, we calculate a new shape which is downscaled by a factor of `5`, i.e., the number of rows and columns is multiplied by `0.2`. \n",
        "We must truncate any \"partial\" rows and columns, e.g., using `int`. \n",
        "Each new pixel is now obtained, or \"resampled\", from $\\sim 5 \\times 5 = \\sim 25$ \"old\" raster values. \n",
        "We can choose the resampling method through the `resampling` parameter. \n",
        "Here we use `rasterio.enums.Resampling.average`, i.e., the new \"large\" pixel value is the average of all coinciding small pixels, which makes sense for our elevation data in `dem.tif`:\n"
      ],
      "id": "6994be5e"
    },
    {
      "cell_type": "code",
      "metadata": {},
      "source": [
        "factor = 0.2\n",
        "r = src.read(1,\n",
        "    out_shape=(\n",
        "        int(src.height * factor),\n",
        "        int(src.width * factor)\n",
        "        ),\n",
        "    resampling=rasterio.enums.Resampling.average\n",
        ")"
      ],
      "id": "c449c17f",
      "execution_count": null,
      "outputs": []
    },
    {
      "cell_type": "markdown",
      "metadata": {},
      "source": [
        "The resulting array `r` has a smaller `.shape`, as shown below:\n"
      ],
      "id": "82fc9c0c"
    },
    {
      "cell_type": "code",
      "metadata": {},
      "source": [
        "r.shape"
      ],
      "id": "72ec61ae",
      "execution_count": null,
      "outputs": []
    },
    {
      "cell_type": "markdown",
      "metadata": {},
      "source": [
        "Other useful [options](https://rasterio.readthedocs.io/en/stable/api/rasterio.enums.html#rasterio.enums.Resampling) include:\n",
        "\n",
        "* `rasterio.enums.Resampling.nearest`---Nearest neighbor resampling\n",
        "* `rasterio.enums.Resampling.bilinear`---Bilinear resampling\n",
        "* `rasterio.enums.Resampling.cubic`---Cubic resampling\n",
        "* `rasterio.enums.Resampling.lanczos`---Lanczos windowed resampling\n",
        "* `rasterio.enums.Resampling.mode`---Mode resampling (most common value)\n",
        "* `rasterio.enums.Resampling.min`---Minimum resampling\n",
        "* `rasterio.enums.Resampling.max`---Maximum resampling\n",
        "* `rasterio.enums.Resampling.med`---Median resampling\n",
        "* `rasterio.enums.Resampling.sum`---Median resampling\n",
        "\n",
        "See below (@sec-raster-resampling) for an explanation of these methods.\n",
        "\n",
        "The second step is to update the `transform`, taking into account the change in raster shape, as follows:\n"
      ],
      "id": "f7664544"
    },
    {
      "cell_type": "code",
      "metadata": {},
      "source": [
        "new_transform = src.transform * src.transform.scale(\n",
        "    (src.width / r.shape[1]),\n",
        "    (src.height / r.shape[0])\n",
        ")\n",
        "new_transform"
      ],
      "id": "00ee25be",
      "execution_count": null,
      "outputs": []
    },
    {
      "cell_type": "markdown",
      "metadata": {},
      "source": [
        "The original raster and the aggregated one, are shown in @fig-raster-aggregate:\n"
      ],
      "id": "228458a8"
    },
    {
      "cell_type": "code",
      "metadata": {},
      "source": [
        "#| label: fig-raster-aggregate\n",
        "#| fig-cap: 'Original raster (left), and aggregated raster (right).'\n",
        "\n",
        "fig, axes = plt.subplots(ncols=2, figsize=(8,4))\n",
        "rasterio.plot.show(src, ax=axes[0])\n",
        "rasterio.plot.show(r, transform=new_transform, ax=axes[1])\n",
        "axes[0].set_title('Original')\n",
        "axes[1].set_title('Aggregated (average)');"
      ],
      "id": "fig-raster-aggregate",
      "execution_count": null,
      "outputs": []
    },
    {
      "cell_type": "markdown",
      "metadata": {},
      "source": [
        "In case we need to export the new raster, we need to update the metadata: \n"
      ],
      "id": "f7682cb5"
    },
    {
      "cell_type": "code",
      "metadata": {},
      "source": [
        "dst_kwargs = src.meta.copy()\n",
        "dst_kwargs.update({\n",
        "    'transform': new_transform,\n",
        "    'width': r.shape[1],\n",
        "    'height': r.shape[0],\n",
        "})\n",
        "dst_kwargs"
      ],
      "id": "4143912d",
      "execution_count": null,
      "outputs": []
    },
    {
      "cell_type": "markdown",
      "metadata": {},
      "source": [
        "Then create a new file in writing mode, and write the values in `r` into that file (see @sec-data-output-raster): \n"
      ],
      "id": "9677bcdc"
    },
    {
      "cell_type": "code",
      "metadata": {},
      "source": [
        "dst = rasterio.open('output/dem_agg5.tif', 'w', **dst_kwargs)\n",
        "dst.write(r, 1)\n",
        "dst.close()"
      ],
      "id": "f4334a48",
      "execution_count": null,
      "outputs": []
    },
    {
      "cell_type": "markdown",
      "metadata": {},
      "source": [
        "The opposite operastion, disaggregation, is when we increase the resolution of raster objects. Either of the supported resampling methods (see above) can be used. However, since we are not actually summarizing information but transferring the value of a large pixel into multiple small pixels, it makes sense to use either:\n",
        "\n",
        "* Nearest neighbor resampling (`rasterio.enums.Resampling.nearest`), when want to keep the original values as-is, since when modifying them would be incorrect (such as in categorical rasters)\n",
        "* Smooting techniques, such as Bilinear resampling (`rasterio.enums.Resampling.bilinear`), when we would like the smaller pixels to reflect gradual change between the original values, e.g., when the disaggregated raster is used for visulalization purposes\n",
        "\n",
        "To disaggregate a raster, we go through the same workflow as for aggregation, only using a different factor, such as `factor=5` instead of `factor=0.2`, i.e., *increasing* the number of raster pixels instead of decreasing. In this example, we use bilinear interpolation to get a smoothed high-resolution raster:\n"
      ],
      "id": "c43f96f9"
    },
    {
      "cell_type": "code",
      "metadata": {},
      "source": [
        "factor = 5\n",
        "r2 = src.read(1,\n",
        "    out_shape=(\n",
        "        int(src.height * factor),\n",
        "        int(src.width * factor)\n",
        "        ),\n",
        "    resampling=rasterio.enums.Resampling.bilinear\n",
        ")"
      ],
      "id": "c9e59cc3",
      "execution_count": null,
      "outputs": []
    },
    {
      "cell_type": "markdown",
      "metadata": {},
      "source": [
        "Here is the size of the disaggregated raster:\n"
      ],
      "id": "7f459946"
    },
    {
      "cell_type": "code",
      "metadata": {},
      "source": [
        "r2.shape"
      ],
      "id": "5c632f93",
      "execution_count": null,
      "outputs": []
    },
    {
      "cell_type": "markdown",
      "metadata": {},
      "source": [
        "And here is the same expression as shown for aggregation, to calculate the new transform:\n"
      ],
      "id": "be8dd2af"
    },
    {
      "cell_type": "code",
      "metadata": {},
      "source": [
        "new_transform2 = src.transform * src.transform.scale(\n",
        "    (src.width / r2.shape[1]),\n",
        "    (src.height / r2.shape[0])\n",
        ")\n",
        "new_transform2"
      ],
      "id": "2ddcadc2",
      "execution_count": null,
      "outputs": []
    },
    {
      "cell_type": "markdown",
      "metadata": {},
      "source": [
        "A zoom-in on the top-left corner of the original raster and the disaggregated one, are shown in @fig-raster-disaggregate:\n"
      ],
      "id": "90a26a5a"
    },
    {
      "cell_type": "code",
      "metadata": {},
      "source": [
        "#| label: fig-raster-disaggregate\n",
        "#| fig-cap: 'Original raster (left), and disaggregated raster (right). The same top-left corner extent of both rasters is shown, to zoom-in and demonstrate the effect of bilinear interpolation.'\n",
        "\n",
        "fig, axes = plt.subplots(ncols=2, figsize=(8,4))\n",
        "rasterio.plot.show(src.read(1)[:5, :5], transform=src.transform, ax=axes[0])\n",
        "rasterio.plot.show(r2[:25, :25], transform=new_transform2, ax=axes[1])\n",
        "axes[0].set_title('Original')\n",
        "axes[1].set_title('Disaggregated (bilinear)');"
      ],
      "id": "fig-raster-disaggregate",
      "execution_count": null,
      "outputs": []
    },
    {
      "cell_type": "markdown",
      "metadata": {},
      "source": [
        "Code to export the disaggregated raster would be identical to the one used above for the aggregated raster, so omit it to save space.\n",
        "\n",
        "### Resampling {#sec-raster-resampling}\n",
        "\n",
        "The above methods of aggregation and disaggregation are only suitable when we want to change the resolution of our raster by the aggregation/disaggregation factor. \n",
        "However, what to do when we have two or more rasters with different resolutions and origins? \n",
        "This is the role of resampling---a process of computing values for new pixel locations. \n",
        "In short, this process takes the values of our original raster and recalculates new values for a target raster with custom resolution and origin (@fig-raster-resample).\n",
        "\n",
        "There are several methods for estimating values for a raster with different resolutions/origins (@fig-raster-resample). The main resampling methods include:\n",
        "\n",
        "* Nearest neighbor: assigns the value of the nearest cell of the original raster to the cell of the target one. This is a fast simple technique that is usually suitable for resampling categorical rasters.\n",
        "* Bilinear interpolation: assigns a weighted average of the four nearest cells from the original raster to the cell of the target one. This is the fastest method that is appropriate for continuous rasters.\n",
        "* Cubic interpolation: uses values of the 16 nearest cells of the original raster to determine the output cell value, applying third-order polynomial functions. Used for continuous rasters and results in a smoother surface compared to bilinear interpolation, but is computationally more demanding.\n",
        "* Cubic spline interpolation: also uses values of the 16 nearest cells of the original raster to determine the output cell value, but applies cubic splines (piecewise third-order polynomial functions). Used for continuous rasters.\n",
        "* Lanczos windowed sinc resampling: uses values of the 36 nearest cells of the original raster to determine the output cell value. Used for continuous rasters.\n",
        "* Additionally, we can use straightforward summary methods, taking into account all pixels that coincide with the target pixel, such as average (@fig-raster-aggregate), minimum, maximum (@fig-raster-resample), median, mode, and sum.\n",
        "\n",
        "The above explanation highlights that only nearest neighbor resampling is suitable for categorical rasters, while all remaining methods can be used (with different outcomes) for continuous rasters. \n",
        "\n",
        "With `rasterio`, resampling can be done using function `rasterio.warp.reproject`. \n",
        "Note, again, that raster reprojection is not fundamentally different from resampling---the difference is just whether the target grid is in the same CRS as the origin (resampling) or in a different CRS (reprojection). \n",
        "In other words, reprojection is *resampling* into a grid that is in a different CRS. We will demonstrate reprojection using `rasterio.warp.reproject` later on (@sec-reprojecting-raster-geometries). \n",
        "\n",
        "The information required for `rasterio.warp.reproject`, whether we are resampling or reprojecting, is:\n",
        "\n",
        "* The source and target *CRS*. These may be identical, when resampling, or different, when reprojecting.\n",
        "* The source and target *transform*\n",
        "\n",
        "Also, `rasterio.warp.reproject` works with file connections, so it requires a connection to an output file in write (`'w'`) mode. This makes the function efficient for large rasters.\n",
        "\n",
        "The target and destination CRS are straightforward to specify, depending on our choice. The source transform is also available, e.g., from the source file connection. \n",
        "The only complicated part is to figure out the *destination transform*. \n",
        "When resampling, the transform is typically derived from a *template* raster, such as an existing raster file that we would like our origin raster to match, or a numeric specification of our target grid (see below). \n",
        "Otherwise, when the exact grid is not of importance, we can simply aggregate or disaggregate our raster as shown above (@sec-raster-agg-disagg).\n",
        "(Note that when reprojecting, the target transform is not straightforward to figure out, therefore we use the `rasterio.warp.calculate_default_transform` function to calculate it, as will be shown in @sec-reprojecting-raster-geometries.)\n",
        "\n",
        "Let's demonstrate resampling into a destination grid which is specified through numeric contraints, such as the extent and resolution:\n"
      ],
      "id": "4ed8a4f1"
    },
    {
      "cell_type": "code",
      "metadata": {},
      "source": [
        "xmin = 794650\n",
        "xmax = 798250\n",
        "ymin = 8931750 \n",
        "ymax = 8935350\n",
        "res = 300"
      ],
      "id": "301cff84",
      "execution_count": null,
      "outputs": []
    },
    {
      "cell_type": "markdown",
      "metadata": {},
      "source": [
        "The transform is a function of the origin and resolution, and can be created using the `rasterio.transform.from_origin` function as follows:\n"
      ],
      "id": "f6e56355"
    },
    {
      "cell_type": "code",
      "metadata": {},
      "source": [
        "dst_transform = rasterio.transform.from_origin(west=xmin, north=ymax, xsize=res, ysize=res)\n",
        "dst_transform"
      ],
      "id": "e004e1d5",
      "execution_count": null,
      "outputs": []
    },
    {
      "cell_type": "markdown",
      "metadata": {},
      "source": [
        "Again, note that in case we needed to resample into a grid specified by an existing \"template\" raster, we could skip this step and simply use read the transform from that file, as in `rasterio.open('template.tif').transform`.\n",
        "\n",
        "Now we move on to creating the destination file connection. \n",
        "For that, we also have to know the raster dimensions. \n",
        "These can be derived from the extent and the resolution, as follows:\n"
      ],
      "id": "5b2b391b"
    },
    {
      "cell_type": "code",
      "metadata": {},
      "source": [
        "width = int((xmax - xmin) / res)\n",
        "height = int((ymax - ymin) / res)\n",
        "width, height"
      ],
      "id": "c1387393",
      "execution_count": null,
      "outputs": []
    },
    {
      "cell_type": "markdown",
      "metadata": {},
      "source": [
        "Now we create the destination file connection. \n",
        "We are using the same metadata as the source file, except for the dimensions and the transform, which are going to be different and reflecting the resampling process:\n"
      ],
      "id": "a2e5a724"
    },
    {
      "cell_type": "code",
      "metadata": {},
      "source": [
        "dst_kwargs = src.meta.copy()\n",
        "dst_kwargs.update({\n",
        "    'transform': dst_transform,\n",
        "    'width': width,\n",
        "    'height': height\n",
        "})\n",
        "dst = rasterio.open('output/dem_resample_nearest.tif', 'w', **dst_kwargs)"
      ],
      "id": "aca06c82",
      "execution_count": null,
      "outputs": []
    },
    {
      "cell_type": "markdown",
      "metadata": {},
      "source": [
        "Here is how we reproject, using function `rasterio.warp.reproject`. The resampling method being used here is nearest neighbor resampling:\n"
      ],
      "id": "392ef92f"
    },
    {
      "cell_type": "code",
      "metadata": {},
      "source": [
        "rasterio.warp.reproject(\n",
        "    source=rasterio.band(src, 1),\n",
        "    destination=rasterio.band(dst, 1),\n",
        "    src_transform=src.transform,\n",
        "    src_crs=src.crs,\n",
        "    dst_transform=dst_transform,\n",
        "    dst_crs=src.crs,\n",
        "    resampling=rasterio.enums.Resampling.nearest\n",
        ")"
      ],
      "id": "0a4820d4",
      "execution_count": null,
      "outputs": []
    },
    {
      "cell_type": "markdown",
      "metadata": {},
      "source": [
        "In the end, we close the file:\n"
      ],
      "id": "7a234e0a"
    },
    {
      "cell_type": "code",
      "metadata": {},
      "source": [
        "dst.close()"
      ],
      "id": "d92e7c1d",
      "execution_count": null,
      "outputs": []
    },
    {
      "cell_type": "markdown",
      "metadata": {},
      "source": [
        "Here is another code section to demontrate another resampling method, the maximum resampling, i.e., every new pixel gets the maximum value of all the original pixels it coincides with. Note that the transform is identical (@fig-raster-resample), so we do not need to calculate it again:\n"
      ],
      "id": "587ee632"
    },
    {
      "cell_type": "code",
      "metadata": {},
      "source": [
        "#| eval: false\n",
        "dst = rasterio.open('output/dem_resample_maximum.tif', 'w', **dst_kwargs)\n",
        "rasterio.warp.reproject(\n",
        "    source=rasterio.band(src, 1),\n",
        "    destination=rasterio.band(dst, 1),\n",
        "    src_transform=src.transform,\n",
        "    src_crs=src.crs,\n",
        "    dst_transform=dst_transform,\n",
        "    dst_crs=src.crs,\n",
        "    resampling=rasterio.enums.Resampling.max\n",
        ")\n",
        "dst.close()"
      ],
      "id": "5d98068f",
      "execution_count": null,
      "outputs": []
    },
    {
      "cell_type": "markdown",
      "metadata": {},
      "source": [
        "The original raster `dem.tif`, and the two resampling results `dem_resample_nearest.tif` and `dem_resample_maximum.tif`, are shown in @fig-raster-resample:\n"
      ],
      "id": "056ca47d"
    },
    {
      "cell_type": "code",
      "metadata": {},
      "source": [
        "#| label: fig-raster-resample\n",
        "#| fig-cap: 'Visual comparison of the original raster and two different resampling methods: nearest neighbor and maximum resampling.'\n",
        "\n",
        "fig, axes = plt.subplots(ncols=3, figsize=(8,4))\n",
        "rasterio.plot.show(src, ax=axes[0])\n",
        "rasterio.plot.show(rasterio.open('output/dem_resample_nearest.tif'), ax=axes[1])\n",
        "rasterio.plot.show(rasterio.open('output/dem_resample_maximum.tif'), ax=axes[2])\n",
        "axes[0].set_title('Original')\n",
        "axes[1].set_title('Nearest neighbor')\n",
        "axes[2].set_title('Maximum');"
      ],
      "id": "fig-raster-resample",
      "execution_count": null,
      "outputs": []
    },
    {
      "cell_type": "markdown",
      "metadata": {},
      "source": [
        "## Exercises\n"
      ],
      "id": "928e6728"
    }
  ],
  "metadata": {
    "kernelspec": {
      "name": "python3",
      "language": "python",
      "display_name": "Python 3 (ipykernel)"
    }
  },
  "nbformat": 4,
  "nbformat_minor": 5
}