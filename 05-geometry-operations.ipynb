{
  "cells": [
    {
      "cell_type": "markdown",
      "metadata": {},
      "source": [
        "# Geometry operations {#geometric-operations}\n",
        "\n",
        "## Prerequisites\n"
      ],
      "id": "3e2c5a7b"
    },
    {
      "cell_type": "code",
      "metadata": {},
      "source": [
        "#| echo: false\n",
        "import pandas as pd\n",
        "import matplotlib.pyplot as plt\n",
        "pd.options.display.max_rows = 6\n",
        "pd.options.display.max_columns = 6\n",
        "pd.options.display.max_colwidth = 35\n",
        "plt.rcParams['figure.figsize'] = (5, 5)"
      ],
      "id": "42aa1057",
      "execution_count": null,
      "outputs": []
    },
    {
      "cell_type": "markdown",
      "metadata": {},
      "source": [
        "Packages...\n"
      ],
      "id": "c323349b"
    },
    {
      "cell_type": "code",
      "metadata": {},
      "source": [
        "import numpy as np\n",
        "import shapely.geometry\n",
        "import geopandas as gpd\n",
        "import topojson as tp\n",
        "import rasterio\n",
        "import rasterio.warp\n",
        "import rasterio.plot"
      ],
      "id": "1affb009",
      "execution_count": null,
      "outputs": []
    },
    {
      "cell_type": "markdown",
      "metadata": {},
      "source": [
        "Sample data...\n"
      ],
      "id": "bb19d990"
    },
    {
      "cell_type": "code",
      "metadata": {},
      "source": [
        "seine = gpd.read_file('data/seine.gpkg')\n",
        "us_states = gpd.read_file('data/us_states.gpkg')\n",
        "nz = gpd.read_file('data/nz.gpkg')"
      ],
      "id": "acb188e3",
      "execution_count": null,
      "outputs": []
    },
    {
      "cell_type": "markdown",
      "metadata": {},
      "source": [
        "## Introduction\n",
        "\n",
        "So far the book has explained the structure of geographic datasets (Chapter 2), and how to manipulate them based on their non-geographic attributes (Chapter 3) and spatial relations (Chapter 4). This chapter focusses on manipulating the geographic elements of geographic objects, for example by simplifying and converting vector geometries, cropping raster datasets, and converting vector objects into rasters and from rasters into vectors. After reading it---and attempting the exercises at the end---you should understand and have control over the geometry column in sf objects and the extent and geographic location of pixels represented in rasters in relation to other geographic objects.\n",
        "\n",
        "@sec-geo-vec covers transforming vector geometries with 'unary' and 'binary' operations. Unary operations work on a single geometry in isolation, including simplification (of lines and polygons), the creation of buffers and centroids, and shifting/scaling/rotating single geometries using 'affine transformations' (@sec-simplification to @sec-affine-transformations). Binary transformations modify one geometry based on the shape of another, including clipping and geometry unions, covered in @sec-clipping and @sec-geometry-unions, respectively. Type transformations (from a polygon to a line, for example) are demonstrated in Section @sec-type-transformations.\n",
        "\n",
        "@sec-geo-ras covers geometric transformations on raster objects. This involves changing the size and number of the underlying pixels, and assigning them new values. It teaches how to change the resolution (also called raster aggregation and disaggregation), the extent and the origin of a raster. These operations are especially useful if one would like to align raster datasets from diverse sources. Aligned raster objects share a one-to-one correspondence between pixels, allowing them to be processed using map algebra operations, described in Section 4.3.2. The final Section 6 connects vector and raster objects. It shows how raster values can be 'masked' and 'extracted' by vector geometries. Importantly it shows how to 'polygonize' rasters and 'rasterize' vector datasets, making the two data models more interchangeable.\n",
        "\n",
        "## Geometric operations on vector data {#sec-geo-vec}\n",
        "\n",
        "This section is about operations that in some way change the geometry of vector layers. It is more advanced than the spatial data operations presented in the previous chapter (in @sec-spatial-vec), because here we drill down into the geometry: the functions discussed in this section work on the geometric (`GeoSeries`) part, either as standalone object or as part of a `GeoDataFrame`.\n",
        "\n",
        "### Simplification {#sec-simplification}\n",
        "\n",
        "Simplification is a process for generalization of vector objects (lines and polygons) usually for use in smaller scale maps. Another reason for simplifying objects is to reduce the amount of memory, disk space and network bandwidth they consume: it may be wise to simplify complex geometries before publishing them as interactive maps. The `geopandas` package provides the `.simplify` method, which uses the GEOS implementation of the Douglas-Peucker algorithm to reduce the vertex count. `.simplify` uses the `tolerance` to control the level of generalization in map units (see Douglas and Peucker 1973 for details). \n",
        "\n",
        "For example, a simplified geometry of a `\"LineString\"` geometry, representing the river Seine and tributaries, using tolerance of `2000` meters, can created using the following command:\n"
      ],
      "id": "cf053ff8"
    },
    {
      "cell_type": "code",
      "metadata": {},
      "source": [
        "seine_simp = seine.simplify(2000)  # 2000 m"
      ],
      "id": "08a31f9f",
      "execution_count": null,
      "outputs": []
    },
    {
      "cell_type": "markdown",
      "metadata": {},
      "source": [
        "Figure @fig-simplify-lines illustrates the input and the result of the simplification:\n"
      ],
      "id": "02c3a6e2"
    },
    {
      "cell_type": "code",
      "metadata": {},
      "source": [
        "#| label: fig-simplify-lines\n",
        "#| fig-cap: Comparison of the original and simplified geometry of the seine object.\n",
        "\n",
        "fig, axes = plt.subplots(ncols=2)\n",
        "seine.plot(ax=axes[0])\n",
        "seine_simp.plot(ax=axes[1])\n",
        "axes[0].set_title('Original')\n",
        "axes[1].set_title('Simplified (d=2000 m)');"
      ],
      "id": "fig-simplify-lines",
      "execution_count": null,
      "outputs": []
    },
    {
      "cell_type": "markdown",
      "metadata": {},
      "source": [
        "The resulting `seine_simp` object is a copy of the original `seine` but with fewer vertices. This is apparent, with the result being visually simpler (@fig-simplify-lines, right) and consuming less memory than the original object, as verified below:\n"
      ],
      "id": "65b8a22b"
    },
    {
      "cell_type": "code",
      "metadata": {},
      "source": [
        "import sys\n",
        "sys.getsizeof(seine)       ## Original (bytes)"
      ],
      "id": "edb2da0d",
      "execution_count": null,
      "outputs": []
    },
    {
      "cell_type": "code",
      "metadata": {},
      "source": [
        "sys.getsizeof(seine_simp)  ## Simplified (bytes)"
      ],
      "id": "b179a76e",
      "execution_count": null,
      "outputs": []
    },
    {
      "cell_type": "markdown",
      "metadata": {},
      "source": [
        "Simplification is also applicable for polygons. This is illustrated using `us_states`, representing the contiguous United States. As we show in @sec-reproj-geo-data, GEOS assumes that the data is in a projected CRS and this could lead to unexpected results when using a geographic CRS. Therefore, the first step is to project the data into some adequate projected CRS, such as US National Atlas Equal Area (epsg = `2163`) (on the left in Figure @fig-simplify-polygons):\n"
      ],
      "id": "41a99019"
    },
    {
      "cell_type": "code",
      "metadata": {},
      "source": [
        "us_states2163 = us_states.to_crs(2163)"
      ],
      "id": "6fe19daa",
      "execution_count": null,
      "outputs": []
    },
    {
      "cell_type": "markdown",
      "metadata": {},
      "source": [
        "The `.simplify` method from `geopandas` works the same way with a `\"Polygon\"`/`\"MultiPolygon\"` layer such as `us_states2163`:\n"
      ],
      "id": "e99f4ad4"
    },
    {
      "cell_type": "code",
      "metadata": {},
      "source": [
        "us_states_simp1 = us_states2163.simplify(100000)"
      ],
      "id": "e3c5c9f4",
      "execution_count": null,
      "outputs": []
    },
    {
      "cell_type": "markdown",
      "metadata": {},
      "source": [
        "A limitation with `.simplify` is that it simplifies objects on a per-geometry basis. This means the \"topology\" is lost, resulting in overlapping and \"holey\" areal units illustrated in Figure @fig-simplify-polygons (middle panel). The `toposimplify` function from `topojson` provides an alternative that overcomes this issue. By [default](https://mattijn.github.io/topojson/example/settings-tuning.html#simplify_algorithm) it uses the Douglas-Peucker algorithm like the `.simplify` method. Another algorithm known as Visvalingam-Whyatt, which overcomes some limitations of the Douglas-Peucker algorithm (Visvalingam and Whyatt 1993), is also available in `toposimplify`. The main advanatage of `toposimplify`, however, is that it is topologically \"aware\". That is, it simplifies the combined borders of the polygons (rather than each polygon on its own), thus ensuring that the overlap is maintained. The following code chunk uses this function to simplify `us_states2163`:\n"
      ],
      "id": "b5d46459"
    },
    {
      "cell_type": "code",
      "metadata": {},
      "source": [
        "topo = tp.Topology(us_states2163, prequantize=False)\n",
        "us_states_simp2 = topo.toposimplify(100000).to_gdf()"
      ],
      "id": "8de2ce58",
      "execution_count": null,
      "outputs": []
    },
    {
      "cell_type": "markdown",
      "metadata": {},
      "source": [
        "Figure @fig-simplify-polygons demonstrates the two simplification methods applied to `us_states2163`.\n"
      ],
      "id": "7ffffafd"
    },
    {
      "cell_type": "code",
      "metadata": {},
      "source": [
        "#| label: fig-simplify-polygons\n",
        "#| fig-cap: 'Polygon simplification in action, comparing the original geometry of the contiguous United States with simplified versions, generated with functions from the geopandas (middle), and topojson (right), packages.'\n",
        "\n",
        "fig, axes = plt.subplots(ncols=3, figsize=(8,4))\n",
        "us_states2163.plot(ax=axes[0], color='lightgrey', edgecolor='black')\n",
        "us_states_simp1.plot(ax=axes[1], color='lightgrey', edgecolor='black')\n",
        "us_states_simp2.plot(ax=axes[2], color='lightgrey', edgecolor='black')\n",
        "axes[0].set_title(\"Original\")\n",
        "axes[1].set_title(\"Simplified (w/ geopandas)\")\n",
        "axes[2].set_title(\"Simplified (w/ topojson)\");"
      ],
      "id": "fig-simplify-polygons",
      "execution_count": null,
      "outputs": []
    },
    {
      "cell_type": "markdown",
      "metadata": {},
      "source": [
        "### Centroids\n",
        "\n",
        "Centroid operations identify the center of geographic objects. Like statistical measures of central tendency (including mean and median definitions of 'average'), there are many ways to define the geographic center of an object. All of them create single point representations of more complex vector objects.\n",
        "\n",
        "The most commonly used centroid operation is the geographic centroid. This type of centroid operation (often referred to as 'the centroid') represents the center of mass in a spatial object (think of balancing a plate on your finger). Geographic centroids have many uses, for example to create a simple point representation of complex geometries, or to estimate distances between polygons. Centroids of the geometries in a `GeoSeries` or a `GeoDataFrame` are accessible through the `.centroid` property, as demonstrated in the code below, which generates the geographic centroids of regions in New Zealand and tributaries to the River Seine, illustrated with black points in @fig-centroid-pnt-on-surface.\n"
      ],
      "id": "857c48c7"
    },
    {
      "cell_type": "code",
      "metadata": {},
      "source": [
        "nz_centroid = nz.centroid\n",
        "seine_centroid = seine.centroid"
      ],
      "id": "1afdb4bf",
      "execution_count": null,
      "outputs": []
    },
    {
      "cell_type": "markdown",
      "metadata": {},
      "source": [
        "Sometimes the geographic centroid falls outside the boundaries of their parent objects (think of a doughnut). In such cases point on surface operations can be used to guarantee the point will be in the parent object (e.g., for labeling irregular multipolygon objects such as island states), as illustrated by the red points in @fig-centroid-pnt-on-surface. Notice that these red points always lie on their parent objects. They were created with the `representative_point` method, as follows:\n"
      ],
      "id": "4c7b64a7"
    },
    {
      "cell_type": "code",
      "metadata": {},
      "source": [
        "nz_pos = nz.representative_point()\n",
        "seine_pos = seine.representative_point()"
      ],
      "id": "4c4de9a1",
      "execution_count": null,
      "outputs": []
    },
    {
      "cell_type": "markdown",
      "metadata": {},
      "source": [
        "The centroids and points in surface are illustrated in @fig-centroid-pnt-on-surface:\n"
      ],
      "id": "6e892d06"
    },
    {
      "cell_type": "code",
      "metadata": {},
      "source": [
        "#| label: fig-centroid-pnt-on-surface\n",
        "#| fig-cap: Centroids (black) and points on surface red of New Zealand and Seine datasets.\n",
        "\n",
        "fig, axes = plt.subplots(ncols=2)\n",
        "nz.plot(ax=axes[0], color=\"white\", edgecolor=\"lightgrey\")\n",
        "nz_centroid.plot(ax=axes[0], color=\"None\", edgecolor=\"black\")\n",
        "nz_pos.plot(ax=axes[0], color=\"None\", edgecolor=\"red\")\n",
        "seine.plot(ax=axes[1], color=\"grey\")\n",
        "seine_pos.plot(ax=axes[1], color=\"None\", edgecolor=\"red\")\n",
        "seine_centroid.plot(ax=axes[1], color=\"None\", edgecolor=\"black\");"
      ],
      "id": "fig-centroid-pnt-on-surface",
      "execution_count": null,
      "outputs": []
    },
    {
      "cell_type": "markdown",
      "metadata": {},
      "source": [
        "### Buffers {#sec-buffers}\n",
        "\n",
        "Buffers are polygons representing the area within a given distance of a geometric feature: regardless of whether the input is a point, line or polygon, the output is a polygon. Unlike simplification (which is often used for visualization and reducing file size) buffering tends to be used for geographic data analysis. How many points are within a given distance of this line? Which demographic groups are within travel distance of this new shop? These kinds of questions can be answered and visualized by creating buffers around the geographic entities of interest.\n",
        "\n",
        "@fig-buffers illustrates buffers of different sizes (5 and 50 km) surrounding the river Seine and tributaries. These buffers were created with commands below, which show that the `.buffer` method, applied to a `GeoSeries` (or `GeoDataFrame`) requires one important argument: the buffer distance, provided in the units of the CRS (in this case meters):\n"
      ],
      "id": "c71dafd8"
    },
    {
      "cell_type": "code",
      "metadata": {},
      "source": [
        "seine_buff_5km = seine.buffer(5000)\n",
        "seine_buff_50km = seine.buffer(50000)"
      ],
      "id": "8137a6d4",
      "execution_count": null,
      "outputs": []
    },
    {
      "cell_type": "markdown",
      "metadata": {},
      "source": [
        "The 5 and 50 km buffers are visualized in @fig-buffers:\n"
      ],
      "id": "96aac344"
    },
    {
      "cell_type": "code",
      "metadata": {},
      "source": [
        "#| label: fig-buffers\n",
        "#| fig-cap: 'Buffers around the Seine dataset of 5 km (left) and 50 km (right). Note the colors, which reflect the fact that one buffer is created per geometry feature.'\n",
        "\n",
        "fig, axes = plt.subplots(ncols=2)\n",
        "seine_buff_5km.plot(ax=axes[0], color=\"none\", edgecolor=[\"red\", \"green\", \"blue\"])\n",
        "seine_buff_50km.plot(ax=axes[1], color=\"none\", edgecolor=[\"red\", \"green\", \"blue\"])\n",
        "axes[0].set_title(\"5 km buffer\")\n",
        "axes[1].set_title(\"50 km buffer\");"
      ],
      "id": "fig-buffers",
      "execution_count": null,
      "outputs": []
    },
    {
      "cell_type": "markdown",
      "metadata": {},
      "source": [
        "Note that both `.centroid` and `.buffer` return a `GeoSeries` object, even when the input is a `GeoDataFrame`:\n"
      ],
      "id": "f4262f06"
    },
    {
      "cell_type": "code",
      "metadata": {},
      "source": [
        "seine_buff_5km"
      ],
      "id": "b19dd3aa",
      "execution_count": null,
      "outputs": []
    },
    {
      "cell_type": "markdown",
      "metadata": {},
      "source": [
        "In the common scenario when the original attributes of the input features need to be retained, you can replace the existing geometry with the new `GeoSeries` as in:\n"
      ],
      "id": "2b4cdf7d"
    },
    {
      "cell_type": "code",
      "metadata": {},
      "source": [
        "seine_buff_5km = seine.copy()\n",
        "seine_buff_5km['geometry'] = seine.buffer(5000)\n",
        "seine_buff_5km"
      ],
      "id": "2943e8cb",
      "execution_count": null,
      "outputs": []
    },
    {
      "cell_type": "markdown",
      "metadata": {},
      "source": [
        "### Affine transformations {#sec-affine-transformations}\n",
        "\n",
        "Affine transformation is any transformation that preserves lines and parallelism. However, angles or length are not necessarily preserved. Affine transformations include, among others, shifting (translation), scaling and rotation. Additionally, it is possible to use any combination of these. Affine transformations are an essential part of geocomputation. For example, shifting is needed for labels placement, scaling is used in non-contiguous area cartograms, and many affine transformations are applied when reprojecting or improving the geometry that was created based on a distorted or wrongly projected map. \n",
        "\n",
        "The `geopandas` package implements affine transformation, for objects of classes `GeoSeries` and `GeoDataFrame`. In both cases, the method is applied on the `GeoSeries` part, returning a new `GeoSeries` of transformed geometries. \n",
        "\n",
        "Affine transformations of `GeoSeries` can be done using the `.affine_transform` method, which is a wrapper around the `shapely.affinity.affine_transform` function. According to the [documentation](https://shapely.readthedocs.io/en/stable/manual.html#shapely.affinity.affine_transform), a 2D affine transformation requires a six-parameter list `[a,b,d,e,xoff,yoff]` which represents the following equations for transforming the coordinates:\n",
        "\n",
        "$$\n",
        "x' = a x + b y + x_\\mathrm{off}\n",
        "$$\n",
        "\n",
        "$$\n",
        "y' = d x + e y + y_\\mathrm{off}\n",
        "$$\n",
        "\n",
        "There are also simplified `GeoSeries` [methods](https://geopandas.org/en/stable/docs/user_guide/geometric_manipulations.html#affine-transformations) for specific scenarios: \n",
        "\n",
        "* `GeoSeries.translate(xoff=0.0, yoff=0.0, zoff=0.0)`\n",
        "* `GeoSeries.scale(xfact=1.0, yfact=1.0, zfact=1.0, origin='center')`\n",
        "* `GeoSeries.rotate(angle, origin='center', use_radians=False)`\n",
        "* `GeoSeries.skew(angle, origin='center', use_radians=False)`\n",
        "\n",
        "For example, *shifting* only requires the $x_{off}$ and $y_{off}$, using `.translate`. The code below shifts the y-coordinates by 100,000 meters to the north, but leaves the x-coordinates untouched:\n"
      ],
      "id": "4198911e"
    },
    {
      "cell_type": "code",
      "metadata": {},
      "source": [
        "nz_shift = nz.translate(0, 100000)"
      ],
      "id": "d8c1f4f5",
      "execution_count": null,
      "outputs": []
    },
    {
      "cell_type": "markdown",
      "metadata": {},
      "source": [
        "Scaling enlarges or shrinks objects by a factor. It can be applied either globally or locally. Global scaling increases or decreases all coordinates values in relation to the origin coordinates, while keeping all geometries topological relations intact. \n",
        "\n",
        "`Geopandas` implements local scaling using the `.scale` method. Local scaling treats geometries independently and requires points around which geometries are going to be scaled, e.g., centroids. In the example below, each geometry is shrunk by a factor of two around the centroids (middle panel in @fig-affine-transformations). To achieve that, we pass the `0.5` and `0.5` scaling factors (for x and y, respectively), and the `\"centroid\"` option for the point of origin. (Other than `\"centroid\"`, it is possible to use `\"center\"` for the bounding box center, or specific point coordinates.)\n"
      ],
      "id": "08ed812e"
    },
    {
      "cell_type": "code",
      "metadata": {},
      "source": [
        "nz_scale = nz.scale(0.5, 0.5, origin=\"centroid\")"
      ],
      "id": "7d3f60cc",
      "execution_count": null,
      "outputs": []
    },
    {
      "cell_type": "markdown",
      "metadata": {},
      "source": [
        "Rotating the geometries can be done using the `.rotate` method. When rotating, we need to specify the rotation angle (positive values imply clockwise rotation) and the `origin` points (using the same options as in `scale`). For example, the following expression rotates `nz` by 30 degrees counter-clockwise, around the geometry centroids:\n"
      ],
      "id": "a05ef7ec"
    },
    {
      "cell_type": "code",
      "metadata": {},
      "source": [
        "nz_rotate = nz.rotate(-30, origin=\"centroid\")"
      ],
      "id": "e451be17",
      "execution_count": null,
      "outputs": []
    },
    {
      "cell_type": "markdown",
      "metadata": {},
      "source": [
        "@fig-affine-transformations shows the original layer `nz`, and the shifting, scaling and rotation results.\n"
      ],
      "id": "1f4e6373"
    },
    {
      "cell_type": "code",
      "metadata": {},
      "source": [
        "#| label: fig-affine-transformations\n",
        "#| fig-cap: 'Illustrations of affine transformations: shift, scale and rotate.'\n",
        "\n",
        "fig, axes = plt.subplots(ncols=3, figsize=(8,4))\n",
        "nz.plot(ax=axes[0], color=\"lightgrey\", edgecolor=\"darkgrey\")\n",
        "nz_shift.plot(ax=axes[0], color=\"red\", edgecolor=\"darkgrey\")\n",
        "nz.plot(ax=axes[1], color=\"lightgrey\", edgecolor=\"darkgrey\")\n",
        "nz_scale.plot(ax=axes[1], color=\"red\", edgecolor=\"darkgrey\")\n",
        "nz.plot(ax=axes[2], color=\"lightgrey\", edgecolor=\"darkgrey\")\n",
        "nz_rotate.plot(ax=axes[2], color=\"red\", edgecolor=\"darkgrey\")\n",
        "axes[0].set_title(\"Shift\")\n",
        "axes[1].set_title(\"Scale\")\n",
        "axes[2].set_title(\"Rotate\");"
      ],
      "id": "fig-affine-transformations",
      "execution_count": null,
      "outputs": []
    },
    {
      "cell_type": "markdown",
      "metadata": {},
      "source": [
        "### Clipping {#sec-clipping}\n",
        "\n",
        "Spatial clipping is a form of spatial subsetting that involves changes to the geometry columns of at least some of the affected features.\n",
        "\n",
        "Clipping can only apply to features more complex than points: lines, polygons and their 'multi' equivalents. To illustrate the concept we will start with a simple example: two overlapping circles with a center point one unit away from each other and a radius of one (@fig-overlapping-circles).\n"
      ],
      "id": "f29b3dc6"
    },
    {
      "cell_type": "code",
      "metadata": {},
      "source": [
        "#| label: fig-overlapping-circles\n",
        "#| fig-cap: Overlapping circles.\n",
        "\n",
        "x = shapely.geometry.Point((0, 0)).buffer(1)\n",
        "y = shapely.geometry.Point((1, 0)).buffer(1)\n",
        "shapely.geometry.GeometryCollection([x, y])"
      ],
      "id": "fig-overlapping-circles",
      "execution_count": null,
      "outputs": []
    },
    {
      "cell_type": "markdown",
      "metadata": {},
      "source": [
        "Imagine you want to select not one circle or the other, but the space covered by both x and y. This can be done using the `.intersection` method from `shapely`, illustrated using objects named `x` and `y` which represent the left- and right-hand circles (@fig-intersection).\n"
      ],
      "id": "85fdc218"
    },
    {
      "cell_type": "code",
      "metadata": {},
      "source": [
        "#| label: fig-intersection\n",
        "#| fig-cap: Overlapping circles with a gray color indicating intersection between them.\n",
        "\n",
        "x.intersection(y)"
      ],
      "id": "fig-intersection",
      "execution_count": null,
      "outputs": []
    },
    {
      "cell_type": "markdown",
      "metadata": {},
      "source": [
        "The next lines of code demonstrate how this works for the `.difference`, `.union`, and `.symmetric_difference` operators:\n"
      ],
      "id": "947a2fa0"
    },
    {
      "cell_type": "code",
      "metadata": {},
      "source": [
        "x.difference(y)"
      ],
      "id": "d695a8fb",
      "execution_count": null,
      "outputs": []
    },
    {
      "cell_type": "code",
      "metadata": {},
      "source": [
        "x.union(y)"
      ],
      "id": "880f2344",
      "execution_count": null,
      "outputs": []
    },
    {
      "cell_type": "code",
      "metadata": {},
      "source": [
        "x.symmetric_difference(y)"
      ],
      "id": "81248b31",
      "execution_count": null,
      "outputs": []
    },
    {
      "cell_type": "markdown",
      "metadata": {},
      "source": [
        "### Subsetting and clipping\n",
        "\n",
        "Clipping objects can change their geometry but it can also subset objects, returning only features that intersect (or partly intersect) with a clipping/subsetting object. \n",
        "To illustrate this point, we will subset points that cover the bounding box of the circles x and y in @fig-overlapping-circles. \n",
        "Some points will be inside just one circle, some will be inside both and some will be inside neither. \n",
        "The following code sections generates a simple random distribution of points within the extent of circles x and y, resulting in output illustrated in @fig-random-points. \n",
        "We do this in two steps. First, we figure out the bounds where random points are to be generated:\n"
      ],
      "id": "f3234af1"
    },
    {
      "cell_type": "code",
      "metadata": {},
      "source": [
        "bounds = x.union(y).bounds\n",
        "bounds"
      ],
      "id": "0e1f41a0",
      "execution_count": null,
      "outputs": []
    },
    {
      "cell_type": "markdown",
      "metadata": {},
      "source": [
        "Second, we use `np.random.uniform` to calculate `n` random x and y coordinates within the given bounds:\n"
      ],
      "id": "8f91bafa"
    },
    {
      "cell_type": "code",
      "metadata": {},
      "source": [
        "np.random.seed(1)\n",
        "n = 10  ## Number of points to generate\n",
        "coords_x = np.random.uniform(bounds[0], bounds[2], n)\n",
        "coords_y = np.random.uniform(bounds[1], bounds[3], n)\n",
        "coords = list(zip(coords_x, coords_y))\n",
        "coords"
      ],
      "id": "96a78de8",
      "execution_count": null,
      "outputs": []
    },
    {
      "cell_type": "markdown",
      "metadata": {},
      "source": [
        "Third, we transform the list of coordinates into a `list` of `shapely` points:\n"
      ],
      "id": "cf34ab34"
    },
    {
      "cell_type": "code",
      "metadata": {},
      "source": [
        "pnt = [shapely.geometry.Point(i) for i in coords]\n",
        "pnt"
      ],
      "id": "15f18622",
      "execution_count": null,
      "outputs": []
    },
    {
      "cell_type": "markdown",
      "metadata": {},
      "source": [
        "and then to a `GeoSeries`:\n"
      ],
      "id": "4605ddef"
    },
    {
      "cell_type": "code",
      "metadata": {},
      "source": [
        "pnt = gpd.GeoSeries(pnt)\n",
        "pnt"
      ],
      "id": "64b85ea4",
      "execution_count": null,
      "outputs": []
    },
    {
      "cell_type": "markdown",
      "metadata": {},
      "source": [
        "The result is shown in @fig-random-points:\n"
      ],
      "id": "4f851b0d"
    },
    {
      "cell_type": "code",
      "metadata": {},
      "source": [
        "#| label: fig-random-points\n",
        "#| fig-cap: Randomly distributed points within the bounding box enclosing circles x and y. The point that intersects with both objects x and y are highlighted.\n",
        "\n",
        "base = pnt.plot(color='none', edgecolor='black')\n",
        "gpd.GeoSeries([x]).plot(ax=base, color='none', edgecolor='darkgrey');\n",
        "gpd.GeoSeries([y]).plot(ax=base, color='none', edgecolor='darkgrey');"
      ],
      "id": "fig-random-points",
      "execution_count": null,
      "outputs": []
    },
    {
      "cell_type": "markdown",
      "metadata": {},
      "source": [
        "Now, we get back to our question: how to subset the points to only return the point that intersects with both x and y? \n",
        "The code chunks below demonstrate three ways to achieve the same result. \n",
        "We can calculate a boolean `Series`, evaluating whether each point of `pnt` intersects with the intersection of x and y: \n"
      ],
      "id": "a07a0e31"
    },
    {
      "cell_type": "code",
      "metadata": {},
      "source": [
        "sel = pnt.intersects(x.intersection(y))\n",
        "sel"
      ],
      "id": "59fb6a58",
      "execution_count": null,
      "outputs": []
    },
    {
      "cell_type": "markdown",
      "metadata": {},
      "source": [
        "then use it to subset `pnt` to get the result `pnt1`:\n"
      ],
      "id": "3a1e8c38"
    },
    {
      "cell_type": "code",
      "metadata": {},
      "source": [
        "pnt1 = pnt[sel]\n",
        "pnt1"
      ],
      "id": "5146e5c7",
      "execution_count": null,
      "outputs": []
    },
    {
      "cell_type": "markdown",
      "metadata": {},
      "source": [
        "We can also find the intersection between the input points represented by `pnt`, using the intersection of `x` and `y` as the subsetting/clipping object. Since the second argument is an individual `shapely` geometry (`x.intersection(y)`), we get \"pairwise\" intersections of each `pnt` with it: \n"
      ],
      "id": "50fd989e"
    },
    {
      "cell_type": "code",
      "metadata": {},
      "source": [
        "pnt2 = pnt.intersection(x.intersection(y))\n",
        "pnt2"
      ],
      "id": "7bcf9b0d",
      "execution_count": null,
      "outputs": []
    },
    {
      "cell_type": "markdown",
      "metadata": {},
      "source": [
        "Empty geometries can be filtered out to retain the required subset, and to get `pnt2` which is identical to `pnt1`:\n"
      ],
      "id": "b11ddb2a"
    },
    {
      "cell_type": "code",
      "metadata": {},
      "source": [
        "pnt2 = pnt2[~pnt2.is_empty]  ## Subset non-empty geometries\n",
        "pnt2"
      ],
      "id": "e8e665c4",
      "execution_count": null,
      "outputs": []
    },
    {
      "cell_type": "markdown",
      "metadata": {},
      "source": [
        "This second approach will return features that partly intersect with `x.intersection(y)` but with modified geometries for spatially extensive features that cross the border of the subsetting object. The results are identical, but the implementation differs substantially.\n",
        "\n",
        "Although the example above is rather contrived and provided for educational rather than applied purposes, and we encourage the reader to reproduce the results to deepen your understanding for handling geographic vector objects in R, it raises an important question: which implementation to use? Generally, more concise implementations should be favored, meaning the first approach above. We will return to the question of choosing between different implementations of the same technique or algorithm in Chapter 11.\n",
        "\n",
        "### Geometry unions {#sec-geometry-unions}\n",
        "\n",
        "As we saw in @sec-vector-attribute-aggregation, spatial aggregation can silently dissolve the geometries of touching polygons in the same group. This is demonstrated in the code chunk below in which 49 `us_states` are aggregated into 4 regions using the `.dissolve` method:\n"
      ],
      "id": "099217f8"
    },
    {
      "cell_type": "code",
      "metadata": {},
      "source": [
        "regions = us_states.dissolve(by='REGION', aggfunc='sum').reset_index()\n",
        "regions"
      ],
      "id": "97becbd9",
      "execution_count": null,
      "outputs": []
    },
    {
      "cell_type": "markdown",
      "metadata": {},
      "source": [
        "The result is shown in @fig-dissolve:\n"
      ],
      "id": "0b76347f"
    },
    {
      "cell_type": "code",
      "metadata": {},
      "source": [
        "#| label: fig-dissolve\n",
        "#| fig-cap: 'Spatial aggregation on contiguous polygons, illustrated by aggregating the population of US states into regions, with population represented by color. Note the operation automatically dissolves boundaries between states.'\n",
        "\n",
        "fig, axes = plt.subplots(ncols=2, figsize=(9, 2.5))\n",
        "us_states.plot(ax=axes[0], edgecolor='black', column='total_pop_15', legend=True)\n",
        "regions.plot(ax=axes[1], edgecolor='black', column='total_pop_15', legend=True)\n",
        "axes[0].set_title('State')\n",
        "axes[1].set_title('Region');"
      ],
      "id": "fig-dissolve",
      "execution_count": null,
      "outputs": []
    },
    {
      "cell_type": "markdown",
      "metadata": {},
      "source": [
        "What is going on in terms of the geometries? Behind the scenes, `.dissolve` combines the geometries and dissolve the boundaries between them using the [`.unary_union`](https://geopandas.org/en/stable/docs/reference/api/geopandas.GeoSeries.unary_union.html#geopandas.GeoSeries.unary_union) method per group. This is demonstrated in the code chunk below which creates a united western US using the standalone `unary_union` operation:\n"
      ],
      "id": "63ee14b9"
    },
    {
      "cell_type": "code",
      "metadata": {},
      "source": [
        "us_west = us_states[us_states['REGION'] == 'West']\n",
        "us_west_union = us_west['geometry'].unary_union"
      ],
      "id": "dc9d6d9e",
      "execution_count": null,
      "outputs": []
    },
    {
      "cell_type": "markdown",
      "metadata": {},
      "source": [
        "Note that the result is a `shapely` geometry, as the individual attributes are \"lost\" as part of dissolving. The result is shown in @fig-dissolve2.\n"
      ],
      "id": "eec439ea"
    },
    {
      "cell_type": "code",
      "metadata": {},
      "source": [
        "#| label: fig-dissolve2\n",
        "#| fig-cap: Western US\n",
        "\n",
        "us_west_union"
      ],
      "id": "fig-dissolve2",
      "execution_count": null,
      "outputs": []
    },
    {
      "cell_type": "markdown",
      "metadata": {},
      "source": [
        "To dissolve two (or more) groups of a `GeoDataFrame` into one geometry, we can either use a combined condition:\n"
      ],
      "id": "47d19561"
    },
    {
      "cell_type": "code",
      "metadata": {},
      "source": [
        "sel = (us_states['REGION'] == 'West') | (us_states['NAME'] == 'Texas')\n",
        "texas_union = us_states[sel]\n",
        "texas_union = texas_union['geometry'].unary_union"
      ],
      "id": "b21bd3e7",
      "execution_count": null,
      "outputs": []
    },
    {
      "cell_type": "markdown",
      "metadata": {},
      "source": [
        "or concatenate the two separate subsets:\n"
      ],
      "id": "ef82c8e8"
    },
    {
      "cell_type": "code",
      "metadata": {},
      "source": [
        "us_west = us_states[us_states['REGION'] == 'West']\n",
        "texas = us_states[us_states['NAME'] == 'Texas']\n",
        "texas_union = pd.concat([us_west, texas]).unary_union"
      ],
      "id": "eccabf11",
      "execution_count": null,
      "outputs": []
    },
    {
      "cell_type": "markdown",
      "metadata": {},
      "source": [
        "and then dissove using `.unary_union`. The result is identical in both cases, shown in @fig-dissolve3.\n"
      ],
      "id": "7d1842da"
    },
    {
      "cell_type": "code",
      "metadata": {},
      "source": [
        "#| label: fig-dissolve3\n",
        "#| fig-cap: Western US and Texas\n",
        "\n",
        "texas_union"
      ],
      "id": "fig-dissolve3",
      "execution_count": null,
      "outputs": []
    },
    {
      "cell_type": "markdown",
      "metadata": {},
      "source": [
        "### Type transformations {#sec-type-transformations}\n",
        "\n",
        "Transformation of geometries, from one type to another, also known as \"geometry casting\", is often required to facilitate spatial analysis. \n",
        "The `shapely` package can be used for geometry casting. \n",
        "The exact expression(s) depend on the specific transformation we are interested in. \n",
        "In general, you need to figure out the required input of the respective construstor function according to the \"destination\" geometry (e.g., `shapely.geometry.LineString`, etc.), then reshape the input of the \"source\" geometry into the right form to be passed to that function.\n",
        "\n",
        "Let's create a `\"MultiPoint\"` to illustrate how geometry casting works on `shapely` geometry objects:\n"
      ],
      "id": "bccd6894"
    },
    {
      "cell_type": "code",
      "metadata": {},
      "source": [
        "multipoint = shapely.geometry.MultiPoint([(1,1), (3,3), (5,1)])\n",
        "multipoint"
      ],
      "id": "22882c6e",
      "execution_count": null,
      "outputs": []
    },
    {
      "cell_type": "markdown",
      "metadata": {},
      "source": [
        "A `\"LineString\"` can be created using `shapely.geometry.LineString` from a `list` of points. Consequently, a `\"MultiPoint\"` can be converted to a `\"LineString\"` by extracting the individual points into a `list`, then passing them to `shapely.geometry.LineString`:\n"
      ],
      "id": "8c9787b6"
    },
    {
      "cell_type": "code",
      "metadata": {},
      "source": [
        "linestring = shapely.geometry.LineString(list(multipoint.geoms))\n",
        "linestring"
      ],
      "id": "b6c3c644",
      "execution_count": null,
      "outputs": []
    },
    {
      "cell_type": "markdown",
      "metadata": {},
      "source": [
        "A `\"Polygon\"` can also be created using function `shapely.geometry.Polygon`, which acceps a sequence of point coordinates. In principle, the last coordinate must be equal to the first, in order to form a closed shape. However, `shapely.geometry.Polygon` is able to complete the last coordinate automatically. Therefore:\n"
      ],
      "id": "d0c40063"
    },
    {
      "cell_type": "code",
      "metadata": {},
      "source": [
        "polygon = shapely.geometry.Polygon([[p.x, p.y] for p in multipoint.geoms])\n",
        "polygon"
      ],
      "id": "d3c3646e",
      "execution_count": null,
      "outputs": []
    },
    {
      "cell_type": "markdown",
      "metadata": {},
      "source": [
        "The source `\"MultiPoint\"` geometry, and the derived `\"LineString\"` and `\"Polygon\"` geometries are shown in @fig-casting1. Note that we convert the `shapely` geometries to `GeoSeries` for easier multi-panel plotting:\n"
      ],
      "id": "aa4a0569"
    },
    {
      "cell_type": "code",
      "metadata": {},
      "source": [
        "#| label: fig-casting1\n",
        "#| fig-cap: Examples of linestring and polygon casted from a multipoint geometry.\n",
        "\n",
        "fig, axes = plt.subplots(ncols=3, figsize=(8,4))\n",
        "gpd.GeoSeries(multipoint).plot(ax=axes[0])\n",
        "gpd.GeoSeries(linestring).plot(ax=axes[1])\n",
        "gpd.GeoSeries(polygon).plot(ax=axes[2])\n",
        "axes[0].set_title(\"MultiPoint\")\n",
        "axes[1].set_title(\"LineString\")\n",
        "axes[2].set_title(\"Polygon\");"
      ],
      "id": "fig-casting1",
      "execution_count": null,
      "outputs": []
    },
    {
      "cell_type": "markdown",
      "metadata": {},
      "source": [
        "Conversion from multipoint to linestring is a common operation that creates a line object from ordered point observations, such as GPS measurements or geotagged media. This allows spatial operations such as the length of the path traveled. Conversion from multipoint or linestring to polygon is often used to calculate an area, for example from the set of GPS measurements taken around a lake or from the corners of a building lot.\n",
        "\n",
        "Our `\"LineString\"` geometry can be converted bact to a `\"MultiPoint\"` geometry by passing its coordinates directly to `shapely.geometry.MultiPoint`:\n"
      ],
      "id": "915fe05e"
    },
    {
      "cell_type": "code",
      "metadata": {},
      "source": [
        "# 'LineString' -> 'MultiPoint'\n",
        "shapely.geometry.MultiPoint(linestring.coords)"
      ],
      "id": "652cfb73",
      "execution_count": null,
      "outputs": []
    },
    {
      "cell_type": "markdown",
      "metadata": {},
      "source": [
        "The `\"Polygon\"` (exterior) coordinates can be passed to `shapely.geometry.MultiPoint` as well:\n"
      ],
      "id": "e8ce8937"
    },
    {
      "cell_type": "code",
      "metadata": {},
      "source": [
        "# 'Polygon' -> 'MultiPoint'\n",
        "shapely.geometry.MultiPoint(polygon.exterior.coords)"
      ],
      "id": "cedf31fc",
      "execution_count": null,
      "outputs": []
    },
    {
      "cell_type": "markdown",
      "metadata": {},
      "source": [
        "...\n",
        "\n",
        "## Geometric operations on raster data {#sec-geo-ras}\n",
        "\n",
        "### Geometric intersections\n",
        "\n",
        "...\n",
        "\n",
        "### Extent and origin\n",
        "\n",
        "...\n",
        "\n",
        "### Aggregation and disaggregation {#sec-raster-agg-disagg}\n",
        "\n",
        "Raster datasets vary based on their resolution, from high resolution datasets that enable individual trees to be seen, to low resolution datasets covering the whole Earth.\n",
        "Raster datasets can be transformed to either decrease (aggregate) or increase (disaggregate) their resolution for a number of reasons.\n",
        "Aggregation can reduce computational resource requirements of raster storage and subsequent steps, disaggregation can be used to match other datasets or to add detail.\n",
        "As an example, we here change the spatial resolution of `dem.tif` by a factor of 5 (Figure @fig-raster-aggregate). \n",
        "\n",
        "Raster aggregation is, in fact, a special case of raster resampling (see @sec-raster-resampling), where the target raster grid is aligned with the original raster, only with coarser pixels. Raster resampling, is the general case where the new grid is not necessarily an aggregation of the original one, but any other case as well (such as a rotated and/or shifted one, etc.). \n",
        "\n",
        "To aggregate a raster using `rasterio`, we go through [two steps](https://rasterio.readthedocs.io/en/stable/topics/resampling.html):\n",
        "\n",
        "* Reading the raster values (using `.read`) into an `out_shape` that is different from the original `.shape`\n",
        "* Updating the `transform` according to the `out_shape`\n",
        "\n",
        "Let's demonstrate. First, we create a file connection to `dem.tif`, using `rasterio.open`:\n"
      ],
      "id": "dd8ed740"
    },
    {
      "cell_type": "code",
      "metadata": {},
      "source": [
        "src = rasterio.open('data/dem.tif')"
      ],
      "id": "66432770",
      "execution_count": null,
      "outputs": []
    },
    {
      "cell_type": "markdown",
      "metadata": {},
      "source": [
        "Note the shape of the raster, it has 117 rows and 117 columns:\n"
      ],
      "id": "e4c66c30"
    },
    {
      "cell_type": "code",
      "metadata": {},
      "source": [
        "src.read(1).shape"
      ],
      "id": "a0024457",
      "execution_count": null,
      "outputs": []
    },
    {
      "cell_type": "markdown",
      "metadata": {},
      "source": [
        "Also note the `transform`, which tells us that the raster resolution is 30.85 $m$:\n"
      ],
      "id": "83f45f37"
    },
    {
      "cell_type": "code",
      "metadata": {},
      "source": [
        "src.transform"
      ],
      "id": "0df527d4",
      "execution_count": null,
      "outputs": []
    },
    {
      "cell_type": "markdown",
      "metadata": {},
      "source": [
        "Now, instead of reading the raster values the usual way, as in `src.read(1)`, we can specify `out_shape` to read the values into a different shape. \n",
        "Here, we calculate a new shape which is downscaled by a factor of `5`, i.e., the number of rows and columns is multiplied by `0.2`. \n",
        "We must truncate any \"partial\" rows and columns, e.g., using `int`. \n",
        "Each new pixel is now obtained, or \"resampled\", from $\\sim 5 \\times 5 = \\sim 25$ \"old\" raster values. \n",
        "We can choose the resampling method through the `resampling` parameter. \n",
        "Here we use `rasterio.enums.Resampling.average`, i.e., the new \"large\" pixel value is the average of all coinciding small pixels, which makes sense for our elevation data in `dem.tif`:\n"
      ],
      "id": "72c96dbb"
    },
    {
      "cell_type": "code",
      "metadata": {},
      "source": [
        "factor = 0.2\n",
        "r = src.read(1,\n",
        "    out_shape=(\n",
        "        int(src.height * factor),\n",
        "        int(src.width * factor)\n",
        "        ),\n",
        "    resampling=rasterio.enums.Resampling.average\n",
        ")"
      ],
      "id": "0a5cf3b0",
      "execution_count": null,
      "outputs": []
    },
    {
      "cell_type": "markdown",
      "metadata": {},
      "source": [
        "The resulting array `r` has a smaller `.shape`, as shown below:\n"
      ],
      "id": "abf9d7f1"
    },
    {
      "cell_type": "code",
      "metadata": {},
      "source": [
        "r.shape"
      ],
      "id": "a4b4da63",
      "execution_count": null,
      "outputs": []
    },
    {
      "cell_type": "markdown",
      "metadata": {},
      "source": [
        "Other useful [options](https://rasterio.readthedocs.io/en/stable/api/rasterio.enums.html#rasterio.enums.Resampling) include:\n",
        "\n",
        "* `rasterio.enums.Resampling.nearest`---Nearest neighbor resampling\n",
        "* `rasterio.enums.Resampling.bilinear`---Bilinear resampling\n",
        "* `rasterio.enums.Resampling.cubic`---Cubic resampling\n",
        "* `rasterio.enums.Resampling.lanczos`---Lanczos windowed resampling\n",
        "* `rasterio.enums.Resampling.mode`---Mode resampling (most common value)\n",
        "* `rasterio.enums.Resampling.min`---Minimum resampling\n",
        "* `rasterio.enums.Resampling.max`---Maximum resampling\n",
        "* `rasterio.enums.Resampling.med`---Median resampling\n",
        "* `rasterio.enums.Resampling.sum`---Median resampling\n",
        "\n",
        "See below (@sec-raster-resampling) for an explanation of these methods.\n",
        "\n",
        "The second step is to update the `transform`, taking into account the change in raster shape, as follows:\n"
      ],
      "id": "0f3b7cd2"
    },
    {
      "cell_type": "code",
      "metadata": {},
      "source": [
        "new_transform = src.transform * src.transform.scale(\n",
        "    (src.width / r.shape[0]),\n",
        "    (src.height / r.shape[1])\n",
        ")\n",
        "new_transform"
      ],
      "id": "9027ed22",
      "execution_count": null,
      "outputs": []
    },
    {
      "cell_type": "markdown",
      "metadata": {},
      "source": [
        "The original raster and the aggregated one, are shown in @fig-raster-aggregate:\n"
      ],
      "id": "7f60a7fd"
    },
    {
      "cell_type": "code",
      "metadata": {},
      "source": [
        "#| label: fig-raster-aggregate\n",
        "#| fig-cap: 'Original raster (left), and aggregated raster (right).'\n",
        "\n",
        "fig, axes = plt.subplots(ncols=2, figsize=(8,4))\n",
        "rasterio.plot.show(src, ax=axes[0])\n",
        "rasterio.plot.show(r, transform=new_transform, ax=axes[1])\n",
        "axes[0].set_title('Original')\n",
        "axes[1].set_title('Aggregated (average)');"
      ],
      "id": "fig-raster-aggregate",
      "execution_count": null,
      "outputs": []
    },
    {
      "cell_type": "markdown",
      "metadata": {},
      "source": [
        "In case we need to export the new raster, we need to update the metadata: \n"
      ],
      "id": "16eec60c"
    },
    {
      "cell_type": "code",
      "metadata": {},
      "source": [
        "dst_kwargs = src.meta.copy()\n",
        "dst_kwargs.update({\n",
        "    'transform': new_transform,\n",
        "    'width': r.shape[0],\n",
        "    'height': r.shape[1],\n",
        "})\n",
        "dst_kwargs"
      ],
      "id": "d17b12fc",
      "execution_count": null,
      "outputs": []
    },
    {
      "cell_type": "markdown",
      "metadata": {},
      "source": [
        "Then create a new file in writing mode, and write the values in `r` into that file (see @sec-data-output-raster): \n"
      ],
      "id": "f279dd2e"
    },
    {
      "cell_type": "code",
      "metadata": {},
      "source": [
        "dst = rasterio.open('output/dem_agg5.tif', 'w', **dst_kwargs)\n",
        "dst.write(r, 1)\n",
        "dst.close()"
      ],
      "id": "3bca4b24",
      "execution_count": null,
      "outputs": []
    },
    {
      "cell_type": "markdown",
      "metadata": {},
      "source": [
        "The opposite operastion, disaggregation, is when we increase the resolution of raster objects. Either of the supported resampling methods (see above) can be used. However, since we are not actually summarizing information but transferring the value of a large pixel into multiple small pixels, it makes sense to use either:\n",
        "\n",
        "* Nearest neighbor resampling (`rasterio.enums.Resampling.nearest`), when want to keep the original values as-is, since when modifying them would be incorrect (such as in categorical rasters)\n",
        "* Smooting techniques, such as Bilinear resampling (`rasterio.enums.Resampling.bilinear`), when we would like the smaller pixels to reflect gradual change between the original values, e.g., when the disaggregated raster is used for visulalization purposes\n",
        "\n",
        "To disaggregate a raster, we go through the same workflow as for aggregation, only using a different factor, such as `factor=5` instead of `factor=0.2`, i.e., *increasing* the number of raster pixels instead of decreasing. In this example, we use bilinear interpolation to get a smoothed high-resolution raster:\n"
      ],
      "id": "2a2b582a"
    },
    {
      "cell_type": "code",
      "metadata": {},
      "source": [
        "factor = 5\n",
        "r2 = src.read(1,\n",
        "    out_shape=(\n",
        "        int(src.height * factor),\n",
        "        int(src.width * factor)\n",
        "        ),\n",
        "    resampling=rasterio.enums.Resampling.bilinear\n",
        ")"
      ],
      "id": "1d9aeec9",
      "execution_count": null,
      "outputs": []
    },
    {
      "cell_type": "markdown",
      "metadata": {},
      "source": [
        "Here is the size of the disaggregated raster:\n"
      ],
      "id": "d5439e59"
    },
    {
      "cell_type": "code",
      "metadata": {},
      "source": [
        "r2.shape"
      ],
      "id": "14dba025",
      "execution_count": null,
      "outputs": []
    },
    {
      "cell_type": "markdown",
      "metadata": {},
      "source": [
        "And here is the same expression as shown for aggregation, to calculate the new transform:\n"
      ],
      "id": "b3bb221a"
    },
    {
      "cell_type": "code",
      "metadata": {},
      "source": [
        "new_transform2 = src.transform * src.transform.scale(\n",
        "    (src.width / r2.shape[0]),\n",
        "    (src.height / r2.shape[1])\n",
        ")\n",
        "new_transform2"
      ],
      "id": "33ca98c2",
      "execution_count": null,
      "outputs": []
    },
    {
      "cell_type": "markdown",
      "metadata": {},
      "source": [
        "A zoom-in on the top-left corner of the original raster and the disaggregated one, are shown in @fig-raster-disaggregate:\n"
      ],
      "id": "26003c62"
    },
    {
      "cell_type": "code",
      "metadata": {},
      "source": [
        "#| label: fig-raster-disaggregate\n",
        "#| fig-cap: 'Original raster (left), and disaggregated raster (right). The same top-left corner extent of both rasters is shown, to zoom-in and demonstrate the effect of bilinear interpolation.'\n",
        "\n",
        "fig, axes = plt.subplots(ncols=2, figsize=(8,4))\n",
        "rasterio.plot.show(src.read(1)[:5, :5], transform=src.transform, ax=axes[0])\n",
        "rasterio.plot.show(r2[:25, :25], transform=new_transform2, ax=axes[1])\n",
        "axes[0].set_title('Original')\n",
        "axes[1].set_title('Disaggregated (bilinear)');"
      ],
      "id": "fig-raster-disaggregate",
      "execution_count": null,
      "outputs": []
    },
    {
      "cell_type": "markdown",
      "metadata": {},
      "source": [
        "Code to export the disaggregated raster would be identical to the one used above for the aggregated raster, so omit it to save space.\n",
        "\n",
        "### Resampling {#sec-raster-resampling}\n",
        "\n",
        "The above methods of aggregation and disaggregation are only suitable when we want to change the resolution of our raster by the aggregation/disaggregation factor. \n",
        "However, what to do when we have two or more rasters with different resolutions and origins? \n",
        "This is the role of resampling---a process of computing values for new pixel locations. \n",
        "In short, this process takes the values of our original raster and recalculates new values for a target raster with custom resolution and origin (@fig-raster-resample).\n",
        "\n",
        "There are several methods for estimating values for a raster with different resolutions/origins (@fig-raster-resample). The main resampling methods include:\n",
        "\n",
        "* Nearest neighbor: assigns the value of the nearest cell of the original raster to the cell of the target one. This is a fast simple technique that is usually suitable for resampling categorical rasters.\n",
        "* Bilinear interpolation: assigns a weighted average of the four nearest cells from the original raster to the cell of the target one. This is the fastest method that is appropriate for continuous rasters.\n",
        "* Cubic interpolation: uses values of the 16 nearest cells of the original raster to determine the output cell value, applying third-order polynomial functions. Used for continuous rasters and results in a smoother surface compared to bilinear interpolation, but is computationally more demanding.\n",
        "* Cubic spline interpolation: also uses values of the 16 nearest cells of the original raster to determine the output cell value, but applies cubic splines (piecewise third-order polynomial functions). Used for continuous rasters.\n",
        "* Lanczos windowed sinc resampling: uses values of the 36 nearest cells of the original raster to determine the output cell value. Used for continuous rasters.\n",
        "* Additionally, we can use straightforward summary methods, taking into account all pixels that coincide with the target pixel, such as average (@fig-raster-aggregate), minimum, maximum (@fig-raster-resample), median, mode, and sum.\n",
        "\n",
        "The above explanation highlights that only nearest neighbor resampling is suitable for categorical rasters, while all remaining methods can be used (with different outcomes) for continuous rasters. \n",
        "\n",
        "With `rasterio`, resampling can be done using function `rasterio.warp.reproject`. \n",
        "Note, again, that raster reprojection is not fundamentally different from resampling---the difference is just whether the target grid is in the same CRS as the origin (resampling) or in a different CRS (reprojection). \n",
        "In other words, reprojection is *resampling* into a grid that is in a different CRS. We will demonstrate reprojection using `rasterio.warp.reproject` later on (@sec-reprojecting-raster-geometries). \n",
        "\n",
        "The information required for `rasterio.warp.reproject`, whether we are resampling or reprojecting, is:\n",
        "\n",
        "* The source and target *CRS*. These may be identical, when resampling, or different, when reprojecting.\n",
        "* The source and target *transform*\n",
        "\n",
        "Also, `rasterio.warp.reproject` works with file connections, so it requires a connection to an output file in write (`'w'`) mode. This makes the function efficient for large rasters.\n",
        "\n",
        "The target and destination CRS are straightforward to specify, depending on our choice. The source transform is also available, e.g., from the source file connection. \n",
        "The only complicated part is to figure out the *destination transform*. \n",
        "When resampling, the transform is typically derived from a *template* raster, such as an existing raster file that we would like our origin raster to match, or a numeric specification of our target grid (see below). \n",
        "Otherwise, when the exact grid is not of importance, we can simply aggregate or disaggregate our raster as shown above (@sec-raster-agg-disagg).\n",
        "(Note that when reprojecting, the target transform is not straightforward to figure out, therefore we use the `rasterio.warp.calculate_default_transform` function to calculate it, as will be shown in @sec-reprojecting-raster-geometries.)\n",
        "\n",
        "Let's demonstrate resampling into a destination grid which is specified through numeric contraints, such as the extent and resolution:\n"
      ],
      "id": "26a53082"
    },
    {
      "cell_type": "code",
      "metadata": {},
      "source": [
        "xmin = 794650\n",
        "xmax = 798250\n",
        "ymin = 8931750 \n",
        "ymax = 8935350\n",
        "res = 300"
      ],
      "id": "819a3cb1",
      "execution_count": null,
      "outputs": []
    },
    {
      "cell_type": "markdown",
      "metadata": {},
      "source": [
        "The transform is a function of the origin and resolution, and can be created using the `rasterio.transform.from_origin` function as follows:\n"
      ],
      "id": "c61e0ef9"
    },
    {
      "cell_type": "code",
      "metadata": {},
      "source": [
        "dst_transform = rasterio.transform.from_origin(west=xmin, north=ymax, xsize=res, ysize=res)\n",
        "dst_transform"
      ],
      "id": "ac68abaf",
      "execution_count": null,
      "outputs": []
    },
    {
      "cell_type": "markdown",
      "metadata": {},
      "source": [
        "Again, note that in case we needed to resample into a grid specified by an existing \"template\" raster, we could skip this step and simply use read the transform from that file, as in `rasterio.open('template.tif').transform`.\n",
        "\n",
        "Now we move on to creating the destination file connection. \n",
        "For that, we also have to know the raster dimensions. \n",
        "These can be derived from the extent and the resolution, as follows:\n"
      ],
      "id": "39b28a58"
    },
    {
      "cell_type": "code",
      "metadata": {},
      "source": [
        "width = int((xmax - xmin) / res)\n",
        "height = int((ymax - ymin) / res)\n",
        "width, height"
      ],
      "id": "e693d873",
      "execution_count": null,
      "outputs": []
    },
    {
      "cell_type": "markdown",
      "metadata": {},
      "source": [
        "Now we create the destination file connection. \n",
        "We are using the same metadata as the source file, except for the dimensions and the transform, which are going to be different and reflecting the resampling process:\n"
      ],
      "id": "0a2f5931"
    },
    {
      "cell_type": "code",
      "metadata": {},
      "source": [
        "dst_kwargs = src.meta.copy()\n",
        "dst_kwargs.update({\n",
        "    'transform': dst_transform,\n",
        "    'width': width,\n",
        "    'height': height\n",
        "})\n",
        "dst = rasterio.open('output/dem_resample_nearest.tif', 'w', **dst_kwargs)"
      ],
      "id": "f27502d2",
      "execution_count": null,
      "outputs": []
    },
    {
      "cell_type": "markdown",
      "metadata": {},
      "source": [
        "Here is how we reproject, using function `rasterio.warp.reproject`. The resampling method being used here is nearest neighbor resampling:\n"
      ],
      "id": "98f727fa"
    },
    {
      "cell_type": "code",
      "metadata": {},
      "source": [
        "rasterio.warp.reproject(\n",
        "    source=rasterio.band(src, 1),\n",
        "    destination=rasterio.band(dst, 1),\n",
        "    src_transform=src.transform,\n",
        "    src_crs=src.crs,\n",
        "    dst_transform=dst_transform,\n",
        "    dst_crs=src.crs,\n",
        "    resampling=rasterio.enums.Resampling.nearest\n",
        ")"
      ],
      "id": "c8e13df5",
      "execution_count": null,
      "outputs": []
    },
    {
      "cell_type": "markdown",
      "metadata": {},
      "source": [
        "In the end, we close the file:\n"
      ],
      "id": "4d5a1eb6"
    },
    {
      "cell_type": "code",
      "metadata": {},
      "source": [
        "dst.close()"
      ],
      "id": "a918d261",
      "execution_count": null,
      "outputs": []
    },
    {
      "cell_type": "markdown",
      "metadata": {},
      "source": [
        "Here is another code section to demontrate another resampling method, the maximum resampling, i.e., every new pixel gets the maximum value of all the original pixels it coincides with. Note that the transform is identical (@fig-raster-resample), so we do not need to calculate it again:\n"
      ],
      "id": "8dccfd39"
    },
    {
      "cell_type": "code",
      "metadata": {},
      "source": [
        "dst = rasterio.open('output/dem_resample_maximum.tif', 'w', **dst_kwargs)\n",
        "rasterio.warp.reproject(\n",
        "    source=rasterio.band(src, 1),\n",
        "    destination=rasterio.band(dst, 1),\n",
        "    src_transform=src.transform,\n",
        "    src_crs=src.crs,\n",
        "    dst_transform=dst_transform,\n",
        "    dst_crs=src.crs,\n",
        "    resampling=rasterio.enums.Resampling.max\n",
        ")\n",
        "dst.close()"
      ],
      "id": "27fb5a8f",
      "execution_count": null,
      "outputs": []
    },
    {
      "cell_type": "markdown",
      "metadata": {},
      "source": [
        "The original raster `dem.tif`, and the two resampling results `dem_resample_nearest.tif` and `dem_resample_maximum.tif`, are shown in @fig-raster-resample:\n"
      ],
      "id": "f66e85cc"
    },
    {
      "cell_type": "code",
      "metadata": {},
      "source": [
        "#| label: fig-raster-resample\n",
        "#| fig-cap: 'Visual comparison of the original raster and two different resampling methods: nearest neighbor and maximum resampling.'\n",
        "\n",
        "fig, axes = plt.subplots(ncols=3, figsize=(8,4))\n",
        "rasterio.plot.show(src, ax=axes[0])\n",
        "rasterio.plot.show(rasterio.open('output/dem_resample_nearest.tif'), ax=axes[1])\n",
        "rasterio.plot.show(rasterio.open('output/dem_resample_maximum.tif'), ax=axes[2])\n",
        "axes[0].set_title('Original')\n",
        "axes[1].set_title('Nearest neighbor')\n",
        "axes[2].set_title('Maximum');"
      ],
      "id": "fig-raster-resample",
      "execution_count": null,
      "outputs": []
    },
    {
      "cell_type": "markdown",
      "metadata": {},
      "source": [
        "## Exercises\n"
      ],
      "id": "1459098f"
    }
  ],
  "metadata": {
    "kernelspec": {
      "name": "python3",
      "language": "python",
      "display_name": "Python 3 (ipykernel)"
    }
  },
  "nbformat": 4,
  "nbformat_minor": 5
}