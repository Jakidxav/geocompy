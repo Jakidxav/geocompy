{
  "cells": [
    {
      "cell_type": "markdown",
      "metadata": {},
      "source": [
        "# Geographic data I/O {#read-write}\n",
        "\n",
        "## Prerequisites\n",
        "\n",
        "Let's import the required packages:\n"
      ],
      "id": "6ba6dfc9"
    },
    {
      "cell_type": "code",
      "metadata": {},
      "source": [
        "import numpy as np\n",
        "import fiona\n",
        "import geopandas as gpd\n",
        "import shapely\n",
        "import rasterio\n",
        "import rasterio.plot"
      ],
      "id": "337e5a22",
      "execution_count": null,
      "outputs": []
    },
    {
      "cell_type": "code",
      "metadata": {},
      "source": [
        "#| echo: false\n",
        "import pandas as pd\n",
        "import matplotlib.pyplot as plt\n",
        "pd.options.display.max_rows = 6\n",
        "pd.options.display.max_columns = 6\n",
        "pd.options.display.max_colwidth = 35\n",
        "plt.rcParams['figure.figsize'] = (5, 5)"
      ],
      "id": "56550ce4",
      "execution_count": null,
      "outputs": []
    },
    {
      "cell_type": "markdown",
      "metadata": {},
      "source": [
        "and load the sample data for this chapter:\n"
      ],
      "id": "edfa542a"
    },
    {
      "cell_type": "code",
      "metadata": {},
      "source": [
        "nz = gpd.read_file('data/nz.gpkg')\n",
        "nz_elev = rasterio.open('data/nz_elev.tif')"
      ],
      "id": "aac34047",
      "execution_count": null,
      "outputs": []
    },
    {
      "cell_type": "markdown",
      "metadata": {},
      "source": [
        "## Introduction\n",
        "\n",
        "This chapter is about reading and writing geographic data.\n",
        "Geographic data import is essential for geocomputation: real-world applications are impossible without data. \n",
        "Data output is also vital, enabling others to use valuable new or improved datasets resulting from your work. \n",
        "Taken together, these processes of import/output can be referred to as data I/O.\n",
        "\n",
        "Geographic data I/O is often done with few lines of code at the beginning and end of projects. \n",
        "It is often overlooked as a simple one step process. \n",
        "However, mistakes made at the outset of projects (e.g. using an out-of-date or in some way faulty dataset) can lead to large problems later down the line, so it is worth putting considerable time into identifying which datasets are available, where they can be found and how to retrieve them. \n",
        "These topics are covered in @sec-retrieving-open-data, which describes various geoportals, which collectively contain many terabytes of data, and how to use them. \n",
        "To further ease data access, a number of packages for downloading geographic data have been developed, as described in @sec-geographic-data-packages.\n",
        "\n",
        "There are many geographic file formats, each of which has pros and cons, described in @sec-file-formats. \n",
        "The process of reading and writing files in formats efficiently is covered in Sections @sec-data-input and @sec-data-output, respectively. \n",
        "The final Section @sec-visual-outputs demonstrates methods for saving visual outputs (maps), in preparation for @sec-map-making on visualization.\n",
        "\n",
        "## Retrieving open data {#sec-retrieving-open-data}\n",
        "\n",
        "A vast and ever-increasing amount of geographic data is available on the internet, much of which is free to access and use (with appropriate credit given to its providers).[^gis-open-datasets]\n",
        "In some ways there is now too much data, in the sense that there are often multiple places to access the same dataset. \n",
        "Some datasets are of poor quality. \n",
        "In this context, it is vital to know where to look, so the first section covers some of the most important sources. \n",
        "Various 'geoportals' (web services providing geospatial datasets such as [Data.gov](https://catalog.data.gov/dataset?metadata_type=geospatial)) are a good place to start, providing a wide range of data but often only for specific locations (as illustrated in the updated [Wikipedia page](https://en.wikipedia.org/wiki/Geoportal) on the topic).\n",
        "\n",
        "[^gis-open-datasets]: For example, visit <https://freegisdata.rtwilson.com/> for a list of websites with freely available geographic datasets.\n",
        "\n",
        "Some global geoportals overcome this issue. \n",
        "The [GEOSS portal](http://www.geoportal.org/) and the [Copernicus Open Access Hub](https://scihub.copernicus.eu/), for example, contain many raster datasets with global coverage. \n",
        "A wealth of vector datasets can be accessed from the [SEDAC](http://sedac.ciesin.columbia.edu/) portal run by the National Aeronautics and Space Administration (NASA) and the European Union's [INSPIRE geoportal](http://inspire-geoportal.ec.europa.eu/), with global and regional coverage.\n",
        "\n",
        "Most geoportals provide a graphical interface allowing datasets to be queried based on characteristics such as spatial and temporal extent, the United States Geological Survey's [EarthExplorer](https://earthexplorer.usgs.gov/) being a prime example. \n",
        "Exploring datasets interactively on a browser is an effective way of understanding available layers. \n",
        "Downloading data is best done with code, however, from reproducibility and efficiency perspectives. \n",
        "Downloads can be initiated from the command line using a variety of techniques, primarily via URLs and APIs (see the [Sentinel API](https://scihub.copernicus.eu/twiki/do/view/SciHubWebPortal/APIHubDescription) for example). \n",
        "Files hosted on static URLs can be downloaded with the following method, as illustrated in the code chunk below which accesses the [Natural Earth Data](https://www.naturalearthdata.com/) website to download the world airports layer zip file and to extract the contained Shapefile. \n",
        "Note that the download code is complicated by the fact that the server checks the `User-agent` header of the request, basically to make sure that the download takes place through a browser. \n",
        "To overcome this, we add a header corresponding to a request coming from a browser (such as Firefox) in our code:\n"
      ],
      "id": "e21b506b"
    },
    {
      "cell_type": "code",
      "metadata": {},
      "source": [
        "import urllib.request\n",
        "import zipfile\n",
        "\n",
        "# Set URL+filename\n",
        "url = 'https://www.naturalearthdata.com/http//www.naturalearthdata.com/download/10m/cultural/ne_10m_airports.zip'\n",
        "filename = 'output/ne_10m_airports.zip'\n",
        "\n",
        "# Download\n",
        "opener = urllib.request.build_opener()\n",
        "opener.addheaders = [('User-agent', 'Mozilla/5.0 (X11; Ubuntu; Linux x86_64; rv:109.0) Gecko/20100101 Firefox/116.0')]\n",
        "urllib.request.install_opener(opener)\n",
        "urllib.request.urlretrieve(url, filename)\n",
        "\n",
        "# Extract\n",
        "f = zipfile.ZipFile(filename, 'r')\n",
        "f.extractall('output')\n",
        "f.close()"
      ],
      "id": "fc9c73e9",
      "execution_count": null,
      "outputs": []
    },
    {
      "cell_type": "markdown",
      "metadata": {},
      "source": [
        "The Shapefile that has been created in the `output` directory can then be imported and plotted (@fig-ne-airports) as follows:\n"
      ],
      "id": "2195089f"
    },
    {
      "cell_type": "code",
      "metadata": {},
      "source": [
        "#| label: fig-ne-airports\n",
        "#| fig-cap: 'World airports layer, downloaded using Python from the Natural Earth Data website'\n",
        "\n",
        "ne = gpd.read_file(filename.replace('.zip', '.shp'))\n",
        "ne.plot();"
      ],
      "id": "fig-ne-airports",
      "execution_count": null,
      "outputs": []
    },
    {
      "cell_type": "markdown",
      "metadata": {},
      "source": [
        "## Geographic data packages {#sec-geographic-data-packages}\n",
        "\n",
        "Many Python packages have been developed for accessing geographic data, some of which are presented in @tbl-data-packages. \n",
        "These provide interfaces to one or more spatial libraries or geoportals and aim to make data access even quicker from the command line.\n",
        "\n",
        "| Package | Description |\n",
        "|---|-----------|\n",
        "| `cartopy`  | Download layers from [Natural Earth Data](https://www.naturalearthdata.com/downloads/) |  \n",
        "| `...`  | ... |  \n",
        "| `...`  | ... |  \n",
        "| `...`  | ... |  \n",
        ": Selected Python packages for geographic data retrieval  {#tbl-data-packages}\n",
        "\n",
        "Each data package has its own syntax for accessing data. \n",
        "This diversity is demonstrated in the subsequent code chunks, which show how to get data using three packages from @tbl-data-packages. \n",
        "Country borders are often useful and these can be accessed with the `cartopy.io.shapereader.natural_earth` function from the `cartopy` package, as follows. \n"
      ],
      "id": "d0c470e8"
    },
    {
      "cell_type": "code",
      "metadata": {},
      "source": [
        "import cartopy\n",
        "filename = cartopy.io.shapereader.natural_earth(\n",
        "    resolution='10m',\n",
        "    category='cultural',\n",
        "    name='admin_2_counties'\n",
        ")\n",
        "counties = gpd.read_file(filename)\n",
        "counties"
      ],
      "id": "75503b36",
      "execution_count": null,
      "outputs": []
    },
    {
      "cell_type": "markdown",
      "metadata": {},
      "source": [
        "The layer of counties is plotted in @fig-ne-counties:\n"
      ],
      "id": "a51c7666"
    },
    {
      "cell_type": "code",
      "metadata": {},
      "source": [
        "#| label: fig-ne-counties\n",
        "#| fig-cap: 'US counties, downloaded from the Natural Earth Data website using package `cartopy`'\n",
        "\n",
        "counties.plot();"
      ],
      "id": "fig-ne-counties",
      "execution_count": null,
      "outputs": []
    },
    {
      "cell_type": "markdown",
      "metadata": {},
      "source": [
        "Other layers can be accessed the same way: \n",
        "\n",
        "* you need to locate the `resolution`, `category`, and `name` of the requested dataset, then \n",
        "* run the `cartopy.io.shapereader.natural_earth`, which downloads the file(s) and returns the path, and\n",
        "* read the file into the Python environment, e.g., using `gpd.read_file`\n",
        "\n",
        "This is an alternative approach to \"directly\" downloading files (@sec-retrieving-open-data).\n",
        "\n",
        "## Geographic web services\n",
        "\n",
        "To complete...\n",
        "\n",
        "## File formats {#sec-file-formats}\n",
        "\n",
        "Geographic datasets are usually stored as files or in spatial databases. \n",
        "File formats can either store vector or raster data, while spatial databases such as [PostGIS](https://postgis.net/) can store both. \n",
        "The large variety of file formats may seem bewildering, but there has been much consolidation and standardization since the beginnings of GIS software in the 1960s when the first widely distributed program ([SYMAP](https://news.harvard.edu/gazette/story/2011/10/the-invention-of-gis/)) for spatial analysis was created at Harvard University [@coppock_history_1991].\n",
        "\n",
        "GDAL (which should be pronounced \"goo-dal\", with the double \"o\" making a reference to object-orientation), the Geospatial Data Abstraction Library, has resolved many issues associated with incompatibility between geographic file formats since its release in 2000. \n",
        "GDAL provides a unified and high-performance interface for reading and writing of many raster and vector data formats. \n",
        "Many open and proprietary GIS programs, including GRASS, ArcGIS and QGIS, use GDAL behind their GUIs for doing the legwork of ingesting and spitting out geographic data in appropriate formats.\n",
        "\n",
        "GDAL provides access to more than 200 vector and raster data formats. \n",
        "@tbl-file-formats presents some basic information about selected and often used spatial file formats.\n",
        "\n",
        "Name  | Extension  | Info  | Type  | Model |\n",
        "|-----|----|----------|-----|-----|\n",
        "ESRI Shapefile  | `.shp` (the main file)  | Popular format consisting of at least three files. No support for: files > 2GB;mixed types; names > 10 chars; cols > 255.  | Vector  | Partially open |\n",
        "GeoJSON  | `.geojson`  | Extends the JSON exchange format by including a subset of the simple feature representation; mostly used for storing coordinates in longitude and latitude; it is extended by the TopoJSON format  | Vector  | Open |\n",
        "KML  | `.kml`  | XML-based format for spatial visualization, developed for use with Google Earth. Zipped KML file forms the KMZ format.  | Vector  | Open |\n",
        "GPX  | `.gpx`  | XML schema created for exchange of GPS data.  | Vector  | Open |\n",
        "FlatGeobuf  | `.fgb`  | Single file format allowing for quick reading and writing of vector data. Has streaming capabilities.  | Vector  | Open |\n",
        "GeoTIFF  | `.tif/.tiff`  | Popular raster format. A TIFF file containing additional spatial metadata.  | Raster  | Open |\n",
        "Arc ASCII  | `.asc`  | Text format where the first six lines represent the raster header, followed by the raster cell values arranged in rows and columns.  | Raster  | Open |\n",
        "SQLite/SpatiaLite  | `.sqlite`  | Standalone relational database, SpatiaLite is the spatial extension of SQLite.  | Vector and raster  | Open |\n",
        "ESRI FileGDB  | `.gdb`  | Spatial and nonspatial objects created by ArcGIS. Allows: multiple feature classes; topology. Limited support from GDAL.  | Vector and raster  | Proprietary |\n",
        "GeoPackage  | `.gpkg`  | Lightweight database container based on SQLite allowing an easy and platform-independent exchange of geodata  | Vector and (very limited) raster  | Open |\n",
        ": Commonly used spatial data file formats {#tbl-file-formats}\n",
        "\n",
        "An important development ensuring the standardization and open-sourcing of file formats was the founding of the Open Geospatial Consortium ([OGC](http://www.opengeospatial.org/)) in 1994. \n",
        "Beyond defining the simple features data model (see @sec-simple-features), the OGC also coordinates the development of open standards, for example as used in file formats such as KML and GeoPackage. \n",
        "Open file formats of the kind endorsed by the OGC have several advantages over proprietary formats: the standards are published, ensure transparency and open up the possibility for users to further develop and adjust the file formats to their specific needs.\n",
        "\n",
        "ESRI Shapefile is the most popular vector data exchange format; however, it is not an open format (though its specification is open). \n",
        "It was developed in the early 1990s and has a number of limitations. \n",
        "First of all, it is a multi-file format, which consists of at least three files. \n",
        "It only supports 255 columns, column names are restricted to ten characters and the file size limit is 2 GB. \n",
        "Furthermore, ESRI Shapefile does not support all possible geometry types, for example, it is unable to distinguish between a polygon and a multipolygon. \n",
        "Despite these limitations, a viable alternative had been missing for a long time. \n",
        "In the meantime, [GeoPackage](https://www.geopackage.org/) emerged, and seems to be a more than suitable replacement candidate for ESRI Shapefile. \n",
        "GeoPackage is a format for exchanging geospatial information and an OGC standard. \n",
        "The GeoPackage standard describes the rules on how to store geospatial information in a tiny SQLite container. \n",
        "Hence, GeoPackage is a lightweight spatial database container, which allows the storage of vector and raster data but also of non-spatial data and extensions. \n",
        "Aside from GeoPackage, there are other geospatial data exchange formats worth checking out (@tbl-file-formats).\n",
        "\n",
        "The GeoTIFF format seems to be the most prominent raster data format. \n",
        "It allows spatial information, such as the CRS definition and the transformation matrix (see @sec-using-rasterio), to be embedded within a TIFF file. \n",
        "Similar to ESRI Shapefile, this format was firstly developed in the 1990s, but as an open format. \n",
        "Additionally, GeoTIFF is still being expanded and improved. \n",
        "One of the most significant recent addition to the GeoTIFF format is its variant called COG (Cloud Optimized GeoTIFF). \n",
        "Raster objects saved as COGs can be hosted on HTTP servers, so other people can read only parts of the file without downloading the whole file (see Sections 8.6.2 and 8.7.2...).\n",
        "\n",
        "There is also a plethora of other spatial data formats that we do not explain in detail or mention in @tbl-file-formats due to the book limits. \n",
        "If you need to use other formats, we encourage you to read the GDAL documentation about [vector](https://gdal.org/drivers/vector/index.html) and [raster](https://gdal.org/drivers/raster/index.html) drivers. \n",
        "Additionally, some spatial data formats can store other data models (types) than vector or raster. \n",
        "It includes LAS and LAZ formats for storing lidar point clouds, and NetCDF and HDF for storing multidimensional arrays.\n",
        "\n",
        "Finally, spatial data is also often stored using tabular (non-spatial) text formats, including CSV files or Excel spreadsheets. \n",
        "This can be convenient to share spatial datasets with people who, or software that, struggle with spatial data formats.\n",
        "\n",
        "## Data input (I) {#sec-data-input}\n",
        "\n",
        "Executing commands such as `geopandas.read_file` (the main function we use for loading vector data) or `rasterio.open`+`.read` (the main functions used for loading raster data) silently sets off a chain of events that reads data from files. \n",
        "Moreover, there are many Python packages containing a wide range of geographic data or providing simple access to different data sources. \n",
        "All of them load the data into the Python environment or, more precisely, assign objects to your workspace, stored in RAM and accessible within the Python session.\n",
        "\n",
        "### Vector data\n",
        "\n",
        "Spatial vector data comes in a wide variety of file formats. \n",
        "Most popular representations such as `.shp`, `.geojson`, and `.gpkg` files can be imported and exported with `geopandas` functions `read_file` and `to_file` (covered in Section \\@ref(sec-data-output)), respectively.\n",
        "\n",
        "`geopandas` uses GDAL to read and write data, via `fiona` (the [default](https://github.com/geopandas/geopandas/issues/2217)) or `pyogrio` packages (a recently developed alternative to `fiona`). \n",
        "After `fiona` is imported, the command `fiona.supported_drivers` can be used to list drivers available to GDAL, including whether they can (`r`), append (`a`), or write (`w`) data, or all three:\n"
      ],
      "id": "94400e2d"
    },
    {
      "cell_type": "code",
      "metadata": {},
      "source": [
        "fiona.supported_drivers"
      ],
      "id": "6bf8fcaa",
      "execution_count": null,
      "outputs": []
    },
    {
      "cell_type": "markdown",
      "metadata": {},
      "source": [
        "Other, less common, drivers can be [\"activated\"](https://geopandas.org/en/stable/docs/user_guide/io.html) by manually supplementing `fiona.supported_drivers`.\n",
        "The first argument of the `geopandas` versatile data import function `gpd.read_file` is `filename`, which is typically a string, but can also be a file connection.\n",
        "The content of a string could vary between different drivers.\n",
        "In most cases, as with the ESRI Shapefile (`.shp`) or the GeoPackage format (`.gpkg`), the `filename` argument would be a path or a URL to an actual file, such as `geodata.gpkg`.\n",
        "The driver is automatically selected based on the file extension, as demonstrated for a `.gpkg` file below:\n"
      ],
      "id": "d8e416f8"
    },
    {
      "cell_type": "code",
      "metadata": {},
      "source": [
        "world = gpd.read_file('data/world.gpkg')\n",
        "world"
      ],
      "id": "67b904cd",
      "execution_count": null,
      "outputs": []
    },
    {
      "cell_type": "markdown",
      "metadata": {},
      "source": [
        "For some drivers, such as a File Geodatabase (`OpenFileGDB`), `filename` could be provided as a folder name.\n",
        "GeoJSON string can also be read from a character string:\n"
      ],
      "id": "eafcfc6d"
    },
    {
      "cell_type": "code",
      "metadata": {},
      "source": [
        "gpd.read_file('{\"type\":\"Point\",\"coordinates\":[34.838848,31.296301]}')"
      ],
      "id": "0d8a56dc",
      "execution_count": null,
      "outputs": []
    },
    {
      "cell_type": "markdown",
      "metadata": {},
      "source": [
        "Alternatively, the `gpd.read_postgis` function can be used to read a vector layer from a PostGIS database.\n",
        "\n",
        "Some vector formats, such as GeoPackage, can store multiple data layers. \n",
        "By default, `gpd.read_file` automatically reads the first layer of the file specified in `filename`. \n",
        "However, using the `layer` argument you can specify any other layer.\n",
        "\n",
        "The `gpd.read_file` function also allows for reading just parts of the file into RAM with two possible mechanisms. \n",
        "The first one is related to the `where` argument, which allows specifying what part of the data to read using an SQL `WHERE` expression. \n",
        "An example below extracts data for Tanzania only (Figure ...). \n",
        "It is done by specifying that we want to get all rows for which `name_long` equals to `\"Tanzania\"`:\n"
      ],
      "id": "be11fab4"
    },
    {
      "cell_type": "code",
      "metadata": {},
      "source": [
        "tanzania = gpd.read_file('data/world.gpkg', where='name_long=\"Tanzania\"')\n",
        "tanzania"
      ],
      "id": "2573974c",
      "execution_count": null,
      "outputs": []
    },
    {
      "cell_type": "markdown",
      "metadata": {},
      "source": [
        "If you do not know the names of the available columns, a good approach is to just read one row of the data using the `rows` argument, which can be used to read the first N rows, then use the `.columns` property to examine the column names:\n"
      ],
      "id": "ff44f05d"
    },
    {
      "cell_type": "code",
      "metadata": {},
      "source": [
        "gpd.read_file('data/world.gpkg', rows=1).columns"
      ],
      "id": "675c153d",
      "execution_count": null,
      "outputs": []
    },
    {
      "cell_type": "markdown",
      "metadata": {},
      "source": [
        "The second mechanism uses the `mask` argument to filter data based on intersection with an existing geometry. \n",
        "This argument expects a geometry (`GeoDataFrame`, `GeoSeries`, or `shapely`) representing the area where we want to extract the data. \n",
        "Let's try it using a small example---we want to read polygons from our file that intersect with the buffer of 50,000 $m$ of Tanzania's borders. \n",
        "To do it, we need to (a) transform the geometry to a projected CRS (such as EPSG:32736), (b) prepare our \"filter\" by creating the buffer (@sec-buffers), and (c) transform back to the original CRS to be used as a mask:\n"
      ],
      "id": "0a5aefa0"
    },
    {
      "cell_type": "code",
      "metadata": {},
      "source": [
        "tanzania_buf = tanzania.to_crs(32736).buffer(50000).to_crs(4326)\n",
        "tanzania_buf.iloc[0]"
      ],
      "id": "a0d433ac",
      "execution_count": null,
      "outputs": []
    },
    {
      "cell_type": "markdown",
      "metadata": {},
      "source": [
        "Now, we can apply this \"filter\" using the `mask` argument.\n"
      ],
      "id": "23872ed2"
    },
    {
      "cell_type": "code",
      "metadata": {},
      "source": [
        "tanzania_neigh = gpd.read_file('data/world.gpkg', mask=tanzania_buf)\n",
        "tanzania_neigh"
      ],
      "id": "909ae977",
      "execution_count": null,
      "outputs": []
    },
    {
      "cell_type": "markdown",
      "metadata": {},
      "source": [
        "Our result, shown in @fig-read-shp-query, contains Tanzania and every country within its 50,000 $m$ buffer. \n",
        "Note that the last two expressions are used to add text labels with the `name_long` of each country, placed at the country centroid:\n"
      ],
      "id": "2b99cf72"
    },
    {
      "cell_type": "code",
      "metadata": {},
      "source": [
        "#| label: fig-read-shp-query\n",
        "#| fig-cap: Reading a subset of the vector data using a `where` query (left) and a `mask` (right)\n",
        "\n",
        "fig, axes = plt.subplots(ncols=2, figsize=(9,5))\n",
        "tanzania.plot(ax=axes[0], color='lightgrey', edgecolor='grey')\n",
        "tanzania_neigh.plot(ax=axes[1], color='lightgrey', edgecolor='grey')\n",
        "tanzania_buf.plot(ax=axes[1], color='none', edgecolor='red')\n",
        "axes[0].set_title('where')\n",
        "axes[1].set_title('mask')\n",
        "tanzania.apply(lambda x: axes[0].annotate(text=x['name_long'], xy=x.geometry.centroid.coords[0], ha='center'), axis=1)\n",
        "tanzania_neigh.apply(lambda x: axes[1].annotate(text=x['name_long'], xy=x.geometry.centroid.coords[0], ha='center'), axis=1);"
      ],
      "id": "fig-read-shp-query",
      "execution_count": null,
      "outputs": []
    },
    {
      "cell_type": "markdown",
      "metadata": {},
      "source": [
        "Often we need to read CSV files (or other tabular formats) which have x and y coordinate columns, and turn them into a `GeoDataFrame` with point geometries. \n",
        "To do that, we can import the file using `pandas` (e.g., `pd.read_csv` or `pd.read_excel`), then go from `DataFrame` to `GeoDataFrame` using the `gpd.points_from_xy` function, as shown earlier in the book (See @sec-vector-layer-from-scratch and @sec-spatial-joining). \n",
        "For example, the table `cycle_hire_xy.csv`, where the coordinates are stored in the `X` and `Y` columns in EPSG:4326, can be imported, converted to a `GeoDataFrame`, and plotted, as follows:\n"
      ],
      "id": "1902a130"
    },
    {
      "cell_type": "code",
      "metadata": {},
      "source": [
        "cycle_hire = pd.read_csv('data/cycle_hire_xy.csv')\n",
        "geom = gpd.points_from_xy(cycle_hire['X'], cycle_hire['Y'], crs=4326)\n",
        "geom = gpd.GeoSeries(geom)\n",
        "cycle_hire_xy = gpd.GeoDataFrame(data=cycle_hire, geometry=geom)\n",
        "cycle_hire_xy.plot();"
      ],
      "id": "410c3341",
      "execution_count": null,
      "outputs": []
    },
    {
      "cell_type": "markdown",
      "metadata": {},
      "source": [
        "Instead of columns describing 'XY' coordinates, a single column can also contain the geometry information. \n",
        "Well-known text (WKT), well-known binary (WKB), and the GeoJSON formats are examples of this. \n",
        "For instance, the `world_wkt.csv` file has a column named WKT representing polygons of the world's countries. \n",
        "To import and convert it to a `GeoDataFrame`, we can apply the `shapely.wkt.loads` function (@sec-geometries) on WKT strings, to convert them into `shapely` geometries:\n"
      ],
      "id": "7cb13b0e"
    },
    {
      "cell_type": "code",
      "metadata": {},
      "source": [
        "world_wkt = pd.read_csv('data/world_wkt.csv')\n",
        "world_wkt['geometry'] = world_wkt['WKT'].apply(shapely.wkt.loads)\n",
        "world_wkt = gpd.GeoDataFrame(world_wkt)\n",
        "world_wkt.plot();"
      ],
      "id": "ee1d6664",
      "execution_count": null,
      "outputs": []
    },
    {
      "cell_type": "markdown",
      "metadata": {},
      "source": [
        "::: {.callout-note}\n",
        "Not all of the supported vector file formats store information about their coordinate reference system. In these situations, it is possible to add the missing information using the `.set_crs` function. Please refer also to @sec-querying-and-setting-coordinate-systems for more information. \n",
        ":::\n",
        "\n",
        "As a final example, we will show how `geopandas` also reads KML files. \n",
        "A KML file stores geographic information in XML format---a data format for the creation of web pages and the transfer of data in an application-independent way (Nolan and Lang 2014 ...). Here, we access a KML file from the web. First, we need to \"activate\" the `KML` driver, which isn't available by default (see above):\n"
      ],
      "id": "6daf170a"
    },
    {
      "cell_type": "code",
      "metadata": {},
      "source": [
        "fiona.supported_drivers['KML'] = 'r'"
      ],
      "id": "45c12b33",
      "execution_count": null,
      "outputs": []
    },
    {
      "cell_type": "markdown",
      "metadata": {},
      "source": [
        "This file contains more than one layer. To list the available layers, we can use the `fiona.listlayers` function: \n"
      ],
      "id": "bed1e290"
    },
    {
      "cell_type": "code",
      "metadata": {},
      "source": [
        "u = 'https://developers.google.com/kml/documentation/KML_Samples.kml'\n",
        "fiona.listlayers(u)"
      ],
      "id": "78d13109",
      "execution_count": null,
      "outputs": []
    },
    {
      "cell_type": "markdown",
      "metadata": {},
      "source": [
        "Finally, we can choose the first layer `Placemarks` and read it, using `gpd.read_file` with an additional `layer` argument:\n"
      ],
      "id": "6537f684"
    },
    {
      "cell_type": "code",
      "metadata": {},
      "source": [
        "#| eval: false\n",
        "placemarks = gpd.read_file(u, layer='Placemarks')"
      ],
      "id": "7223aff5",
      "execution_count": null,
      "outputs": []
    },
    {
      "cell_type": "markdown",
      "metadata": {},
      "source": [
        "### Raster data\n",
        "\n",
        "Similar to vector data, raster data comes in many file formats with some of them supporting multilayer files. \n",
        "`rasterio.open` is used to create a file connection to a raster file, which can be subsequently used to read the metadata and/or the values, as shown previously (@sec-using-rasterio). \n",
        "For example: \n"
      ],
      "id": "4d14831e"
    },
    {
      "cell_type": "code",
      "metadata": {},
      "source": [
        "src = rasterio.open('data/srtm.tif')\n",
        "src"
      ],
      "id": "35aa140b",
      "execution_count": null,
      "outputs": []
    },
    {
      "cell_type": "markdown",
      "metadata": {},
      "source": [
        "All of the previous examples read spatial information from files stored on your hard drive. \n",
        "However, GDAL also allows reading data directly from online resources, such as HTTP/HTTPS/FTP web resources. \n",
        "The only thing we need to do is to add a `/vsicurl/` prefix before the path to the file. \n",
        "Let's try it by connecting to the global monthly snow probability at 500 m resolution for the period 2000-2012 (T. Hengl 2021 add reference...). \n",
        "Snow probability for December is stored as a Cloud Optimized GeoTIFF (COG) file (see @sec-file-formats). \n",
        "To read an online file, we just need to provide its URL together with the `/vsicurl/` prefix:\n"
      ],
      "id": "d8dfcda7"
    },
    {
      "cell_type": "code",
      "metadata": {},
      "source": [
        "url = \"/vsicurl/https://zenodo.org/record/5774954/files/clm_snow.prob_esacci.dec_p.90_500m_s0..0cm_2000..2012_v2.0.tif\"\n",
        "src = rasterio.open(url)\n",
        "src"
      ],
      "id": "385016fa",
      "execution_count": null,
      "outputs": []
    },
    {
      "cell_type": "markdown",
      "metadata": {},
      "source": [
        "In the example above `rasterio.open` creates a connection to the file without obtaining any values, as we did for the local `srtm.tif` file.\n",
        "The values can read, into an `ndarray`, using the `.read` method of the file connection (@sec-using-rasterio). \n",
        "This allows us also to just read a small portion of the data without downloading the entire file. \n",
        "This is very useful when working with large datasets hosted online from resource-constrained computing environments such as laptops.\n",
        "\n",
        "Another option is to extract raster values at particular points, directly from the file connection, using the `.sample` method (see @sec-spatial-subsetting). \n",
        "For example, we can get the snow probability for December in Reykjavik (70%) by specifying its coordinates and applying `.sample`:\n"
      ],
      "id": "50ec524d"
    },
    {
      "cell_type": "code",
      "metadata": {},
      "source": [
        "values = src.sample([(-21.94, 64.15)])\n",
        "list(values)"
      ],
      "id": "dd0e6689",
      "execution_count": null,
      "outputs": []
    },
    {
      "cell_type": "markdown",
      "metadata": {},
      "source": [
        "The example above efficiently extracts and downloads a single value instead of the entire GeoTIFF file, saving valuable resources.\n",
        "The `/vsicurl/` prefix **also works for vector file formats**, enabling you to import datasets from online storage with `geopandas` just by adding it before the vector file URL.\n",
        "\n",
        "Importantly, `/vsicurl/` is not the only prefix provided by GDAL---many more exist, such as `/vsizip/` to read spatial files from ZIP archives without decompressing them beforehand or `/vsis3/` for on-the-fly reading files available in AWS S3 buckets. You can learn more about it at <https://gdal.org/user/virtual_file_systems.html>.\n",
        "\n",
        "(To add example of reading rectangular extent...)\n",
        "\n",
        "## Data output (O) {#sec-data-output}\n",
        "\n",
        "Writing geographic data allows you to convert from one format to another and to save newly created objects for permanent storage. \n",
        "Depending on the data type (vector or raster), object class (e.g., `GeoDataFrame`), and type and amount of stored information (e.g., object size, range of values), it is important to know how to store spatial files in the most efficient way. \n",
        "The next two sections will demonstrate how to do this.\n",
        "\n",
        "### Vector data\n",
        "\n",
        "The counterpart of `gpd.read_file` is the `.to_file` method that a `GeoDataFrame` has. It allows you to write `GeoDataFrame` objects to a wide range of geographic vector file formats, including the most common, such as `.geojson`, `.shp` and `.gpkg`. Based on the file name, `.to_file` decides automatically which driver to use. The speed of the writing process depends also on the driver.\n"
      ],
      "id": "1a3f56a2"
    },
    {
      "cell_type": "code",
      "metadata": {},
      "source": [
        "world.to_file('output/world.gpkg')"
      ],
      "id": "52cbc4c4",
      "execution_count": null,
      "outputs": []
    },
    {
      "cell_type": "markdown",
      "metadata": {},
      "source": [
        "Note: if you try to write to the same data source again, the function will overwrite the file:\n"
      ],
      "id": "ee2e2cb4"
    },
    {
      "cell_type": "code",
      "metadata": {},
      "source": [
        "world.to_file('output/world.gpkg')"
      ],
      "id": "8b8e433c",
      "execution_count": null,
      "outputs": []
    },
    {
      "cell_type": "markdown",
      "metadata": {},
      "source": [
        "Instead of overwriting the file, we could add a new layer to the file with `mode='a'` (\"append\" mode, as opposed to the default `mode='w'` for \"write\" mode). Appending is supported by several spatial formats, including GeoPackage. For example:\n"
      ],
      "id": "7a5ddf9d"
    },
    {
      "cell_type": "code",
      "metadata": {},
      "source": [
        "world.to_file('output/world_many_features.gpkg')\n",
        "world.to_file('output/world_many_features.gpkg', mode='a')"
      ],
      "id": "7d566ef7",
      "execution_count": null,
      "outputs": []
    },
    {
      "cell_type": "markdown",
      "metadata": {},
      "source": [
        "Here, `world_many_features.gpkg` will contain a polygonal layer named `world` with two \"copies\" of each country (that is 177×2=354 features, whereas the `world` layer has 177 features).\n",
        "\n",
        "Alternatively, you can create another, separate, layer, within the same file. The GeoPackage format also supports multiple layers within one file. For example:\n"
      ],
      "id": "9ffad274"
    },
    {
      "cell_type": "code",
      "metadata": {},
      "source": [
        "world.to_file('output/world_many_layers.gpkg')\n",
        "world.to_file('output/world_many_layers.gpkg', layer='world2')"
      ],
      "id": "0e887d0e",
      "execution_count": null,
      "outputs": []
    },
    {
      "cell_type": "markdown",
      "metadata": {},
      "source": [
        "In this case, `world_many_layers.gpkg` has two \"layers\", `world_many_layers` (same as the file name, when `layer` is unspecified) and `world2`. Incidentally, the contents of the two layers is identical, but this doesn't have to be so. Each layer from such a file can be imported separately, as in: \n"
      ],
      "id": "290a45bb"
    },
    {
      "cell_type": "code",
      "metadata": {},
      "source": [
        "gpd.read_file('output/world_many_layers.gpkg', layer='world_many_layers').head(1)"
      ],
      "id": "4a479cc5",
      "execution_count": null,
      "outputs": []
    },
    {
      "cell_type": "code",
      "metadata": {},
      "source": [
        "gpd.read_file('output/world_many_layers.gpkg', layer='world2').head(1)"
      ],
      "id": "73f3b784",
      "execution_count": null,
      "outputs": []
    },
    {
      "cell_type": "markdown",
      "metadata": {},
      "source": [
        "### Raster data {#sec-data-output-raster}\n",
        "\n",
        "To write a raster file using **rasterio**, we need to pass a raster file path to `rasterio.open`, in writing (`'w'`) mode. This implies creating a new empty file (or overwriting an existing one). As opposed to read (`'r'`, the default) mode, the `rasterio.open` function needs quite a lot of information, in addition to the file path and mode:\n",
        "\n",
        "* An array with the raster values\n",
        "* Metadata describing the raster format and spatial properties\n",
        "\n",
        "The metadata needs to specify the following properties:\n",
        "\n",
        "* `driver`---The file format (The recommendation is `'GTiff'` for GeoTIFF)\n",
        "* `height`---Number of rows\n",
        "* `width`---Number of columns\n",
        "* `count`---Number of bands\n",
        "* `nodata`---The value which represents \"No Data\", if any\n",
        "* `dtype`---The raster data type, one of **numpy** types (e.g., `np.int64`)\n",
        "* `crs`---The CRS, using an EPSG code (e.g., `4326`)\n",
        "* `transform`---The transform matrix\n",
        "* `compress`---A compression method to apply, such as `'lzw'`. This is optional and most useful for large rasters. Note that, at the time of writing, this [doesn't work well](https://gis.stackexchange.com/questions/404738/why-does-rasterio-compression-reduces-image-size-with-single-band-but-not-with-m) for writing multiband rasters.\n",
        "\n",
        "Once the file connection with the right metadata is ready, we do the actual writing using the `.write` method of the file connection. If there are several bands we may execute the `.write` method several times, as in `.write(a,n)`, where `a` is the array with band values and `n` is the band index (starting from `1`, see below). When done, we close the file connection using the `.close` method. Some functions, such as `rasterio.warp.reproject` used for resampling and reprojecting, directly accept a file connection in `'w'` mode, thus handling the writing (of a resampled or reprojected raster) for us.\n",
        "\n",
        "Most of the properties are either straightforward to choose, based on our aims, (e.g., `driver`, `crs`, `compress`, `nodata`), or directly derived from the array with the raster values itself (e.g., `height`, `width`, `count`, `dtype`). The most complicated property is the `transform`, which specifies the raster origin and resolution. The `transform` is typically either obtained from an existing raster (serving as a \"template\"), or created from scratch based on manually specified origin and resolution values (e.g., using `rasterio.transform.from_origin`), or calculate automatically (e.g., using `rasterio.warp.calculate_default_transform`).\n",
        "\n",
        "Earlier in the book, we have already demonstrated the four most common scenarios of writing rasters:\n",
        "\n",
        "* Creating from scratch (@sec-raster-from-scratch)---We created and wrote two rasters from scratch by associating the `elev` and `grain` arrays with an arbitrary spatial extent. The custom arbitrary `transform` created using `rasterio.transform.from_origin`.\n",
        "* Aggregating (@sec-raster-agg-disagg)---We wrote an aggregated a raster, by reading a resampled array from an exising raster, then updating the `transform` using `.transform.scale`.\n",
        "* Resampling (@sec-raster-resampling)---We resampled a raster into a custom grid, manually creating the `transform` using `rasterio.transform.from_origin`, then resampling and writing the output using `rasterio.warp.reproject`.\n",
        "* Reprojecting (@sec-reprojecting-raster-geometries)---We reprojected a raster into another CRS, by automatically calculating an optimal `transform` using `rasterio.warp.calculate_default_transform`, then resampling and writing the output using `rasterio.warp.reproject`.\n",
        "\n",
        "A miminal example of writing a raster file named `r.tif` from scratch (i.e., the 1^st^ scenario), to remind some of these concepts, is given below:\n"
      ],
      "id": "454120bc"
    },
    {
      "cell_type": "code",
      "metadata": {},
      "source": [
        "# An array with raster values\n",
        "r = np.array([1,2,3,4]).reshape(2,2).astype(np.int8)\n",
        "r"
      ],
      "id": "cad79f5e",
      "execution_count": null,
      "outputs": []
    },
    {
      "cell_type": "code",
      "metadata": {},
      "source": [
        "# Calculating the transform\n",
        "new_transform = rasterio.transform.from_origin(\n",
        "    west=-0.5, \n",
        "    north=51.5, \n",
        "    xsize=2, \n",
        "    ysize=2\n",
        ")\n",
        "new_transform"
      ],
      "id": "a394ddea",
      "execution_count": null,
      "outputs": []
    },
    {
      "cell_type": "code",
      "metadata": {},
      "source": [
        "# Creating the file connection with the metadata\n",
        "dst = rasterio.open(\n",
        "    'output/r.tif', 'w', \n",
        "    driver = 'GTiff',\n",
        "    height = r.shape[0],\n",
        "    width = r.shape[1],\n",
        "    count = 1,\n",
        "    dtype = r.dtype,\n",
        "    crs = 4326,\n",
        "    transform = new_transform\n",
        ")\n",
        "dst"
      ],
      "id": "c6335c22",
      "execution_count": null,
      "outputs": []
    },
    {
      "cell_type": "code",
      "metadata": {},
      "source": [
        "# Writing the array values into the file\n",
        "dst.write(r, 1)"
      ],
      "id": "938a1c3a",
      "execution_count": null,
      "outputs": []
    },
    {
      "cell_type": "code",
      "metadata": {},
      "source": [
        "# Closing the file\n",
        "dst.close()"
      ],
      "id": "0f2e8760",
      "execution_count": null,
      "outputs": []
    },
    {
      "cell_type": "markdown",
      "metadata": {},
      "source": [
        "This code section creates a new file `output/r.tif`, which is a $2 \\times 2$ raster, having a 2 decimal degree resolution, with the top-left corner placed over London.\n",
        "\n",
        "To summarize, the various scenarios differ in two aspects:\n",
        "\n",
        "* The way that the `transform` for the output raster is obtained: \n",
        "    * Imported from an existing raster (see below)\n",
        "    * Created from scratch, using `rasterio.transform.from_origin` (@sec-raster-from-scratch)\n",
        "    * Calculate automatically, using `rasterio.warp.calculate_default_transform` (@sec-reprojecting-raster-geometries)\n",
        "* The way that the raster is written:\n",
        "    * Using the `.write` method, given an existing array (@sec-raster-from-scratch, @sec-raster-agg-disagg)\n",
        "    * Using `rasterio.warp.reproject` to calculate and write a resampled or reprojected array (@sec-raster-resampling, @sec-reprojecting-raster-geometries)\n",
        "\n",
        "To make the picture of raster export complete, there are three important concepts we haven't covered yet: array and raster data types, writing multiband rasters, and handling \"No Data\" values.\n",
        "\n",
        "Arrays (i.e., `ndarray` objects defined in package **numpy**) are used to store raster values when reading them from file, using `.read` (@sec-using-rasterio). All values in an array are of the same type, whereas the **numpy** package supports numerous numeric data types of various precision (and, accordingly, memory footprint). Raster formats, such as GeoTIFF, support exactly the same data types, which means that reading a raster file uses as little RAM as possible. The most relevant types are summarized in @tbl-numpy-data-types.\n",
        "\n",
        "| Data type | Description |\n",
        "|---|-------------|\n",
        "| `int8` | Integer in a single byte (`-128` to `127`)\n",
        "| `int16` | Integer in 16 bits (`-32768` to `32767`)\n",
        "| `int32` | Integer in 32 bits (`-2147483648` to `2147483647`)\n",
        "| `uint8` | Unsigned integer (`0` to `255`)\n",
        "| `uint16` | Unsigned integer (`0` to `65535`)\n",
        "| `uint32` | Unsigned integer (`0` to `4294967295`)\n",
        "| `float16` | Half-precision (16 bit) float (`-65504` to `65504`)\n",
        "| `float32` | Single-precision (32 bit) float (`1e-38` to `1e38`)\n",
        "| `float64` | Double-precision (64 bit) float (`1e-308` to `1e308`)\n",
        "\n",
        ": Numeric `numpy` data which are commonly used for rasters {#tbl-numpy-data-types}\n",
        "\n",
        "The raster data type can be specified when writing a raster (see above). For an existing raster file, the data type is accessible through the `.dtype` property of the metadata: \n"
      ],
      "id": "1bac8e53"
    },
    {
      "cell_type": "code",
      "metadata": {},
      "source": [
        "rasterio.open('output/r.tif').meta['dtype']"
      ],
      "id": "2abd95a9",
      "execution_count": null,
      "outputs": []
    },
    {
      "cell_type": "markdown",
      "metadata": {},
      "source": [
        "The file `r.tif` has the data type `np.int8`, which we specified when creating it according to the data type of the original array:\n"
      ],
      "id": "01ed6f1c"
    },
    {
      "cell_type": "code",
      "metadata": {},
      "source": [
        "r.dtype"
      ],
      "id": "13660a23",
      "execution_count": null,
      "outputs": []
    },
    {
      "cell_type": "markdown",
      "metadata": {},
      "source": [
        "When reading the data back into the Python session, the array with the same data type is recreated:\n"
      ],
      "id": "d594d36c"
    },
    {
      "cell_type": "code",
      "metadata": {},
      "source": [
        "rasterio.open('output/r.tif').read().dtype"
      ],
      "id": "66dadbe0",
      "execution_count": null,
      "outputs": []
    },
    {
      "cell_type": "markdown",
      "metadata": {},
      "source": [
        "Writing multiband rasters is similar to writing single-band rasters, only that we need to: \n",
        "\n",
        "* Define the number of layers (the `count` property in the metadata) that are going to be in the file we are creating\n",
        "* Execute the `.write` method multiple times, once for each layer\n",
        "\n",
        "For completeness, let's demonstrate writing a multi-band raster named `r3.tif`, which is similar to `r.tif`, but having three bands with values `r`, `r*2`, and `r*3` (i.e., the array `r` multiplied by 1, 2, or 3). Since most of the metadata is going to be the same, this is also a good opportunity to (re-)demonstrate updating an existing metadata object rather than creating one from scratch. \n",
        "\n",
        "First, let's make a copy of the metadata we already have in `r.tif`:\n"
      ],
      "id": "27c226fc"
    },
    {
      "cell_type": "code",
      "metadata": {},
      "source": [
        "dst_kwds = rasterio.open('output/r.tif').meta.copy()\n",
        "dst_kwds"
      ],
      "id": "4e7a3704",
      "execution_count": null,
      "outputs": []
    },
    {
      "cell_type": "markdown",
      "metadata": {},
      "source": [
        "Second, we update the `count` entry, replacing `1` (single-band) with `3` (three-band):\n"
      ],
      "id": "b04fb95d"
    },
    {
      "cell_type": "code",
      "metadata": {},
      "source": [
        "dst_kwds.update(count=3)\n",
        "dst_kwds"
      ],
      "id": "a9dd05bb",
      "execution_count": null,
      "outputs": []
    },
    {
      "cell_type": "markdown",
      "metadata": {},
      "source": [
        "Finally, we can create a file connection using the updated metadata and then write the values of the three bands:\n"
      ],
      "id": "b4242cdd"
    },
    {
      "cell_type": "code",
      "metadata": {},
      "source": [
        "dst = rasterio.open('output/r3.tif', 'w', **dst_kwds)\n",
        "dst.write(r,   1)\n",
        "dst.write(r*2, 2)\n",
        "dst.write(r*3, 3)\n",
        "dst.close()"
      ],
      "id": "0c3dc70a",
      "execution_count": null,
      "outputs": []
    },
    {
      "cell_type": "markdown",
      "metadata": {},
      "source": [
        "As a result, a three-band raster named `r3.tif` is created. \n",
        "\n",
        "Rasters often contain \"No Data\" values, representing missing data, e.g., unreliable measurement due to clouds or pixels outside of the photographed extent. \n",
        "In a **numpy** `ndarray` object, \"No Data\" values may be represented by the special `np.nan` value. \n",
        "However, due to computer memory limitations, only arrays of type `float` can contain `np.nan`, while arrays of type `int` cannot. \n",
        "For `int` rasters containing \"No Data\", we typically mark missing data with a specific value beyond the valid range (e.g., `-9999`). \n",
        "The missing data \"flag\" is stored in the file (set through the `nodata` property of the file connection, see above). \n",
        "When reading an `int` raster with \"No Data\" back into Python, we need to be aware of these flags. Let's demonstrate through examples.\n",
        "\n",
        "We will start with the simpler case, rasters of type `float`. Since `float` arrays may contain the \"native\" value `np.nan`, representing \"No Data\" is straightforward. \n",
        "For example, suppose that we have a `float` array with `np.nan`:\n"
      ],
      "id": "c65f4ac9"
    },
    {
      "cell_type": "code",
      "metadata": {},
      "source": [
        "r = np.array([1.1,2.1,np.nan,4.1]).reshape(2,2)\n",
        "r"
      ],
      "id": "e446f79c",
      "execution_count": null,
      "outputs": []
    },
    {
      "cell_type": "code",
      "metadata": {},
      "source": [
        "r.dtype"
      ],
      "id": "f744d682",
      "execution_count": null,
      "outputs": []
    },
    {
      "cell_type": "markdown",
      "metadata": {},
      "source": [
        "When writing the array to file, we do not need to specify any particular `nodata` value:\n"
      ],
      "id": "f8d3cddb"
    },
    {
      "cell_type": "code",
      "metadata": {},
      "source": [
        "dst = rasterio.open(\n",
        "    'output/r_nodata_float.tif', 'w', \n",
        "    driver = 'GTiff',\n",
        "    height = r.shape[0],\n",
        "    width = r.shape[1],\n",
        "    count = 1,\n",
        "    dtype = r.dtype,\n",
        "    crs = 4326,\n",
        "    transform = new_transform\n",
        ")\n",
        "dst.write(r, 1)\n",
        "dst.close()"
      ],
      "id": "3bb196c1",
      "execution_count": null,
      "outputs": []
    },
    {
      "cell_type": "markdown",
      "metadata": {},
      "source": [
        "This is equivalent to `nodata=None`:\n"
      ],
      "id": "87cfb93f"
    },
    {
      "cell_type": "code",
      "metadata": {},
      "source": [
        "rasterio.open('output/r_nodata_float.tif').meta"
      ],
      "id": "2e289747",
      "execution_count": null,
      "outputs": []
    },
    {
      "cell_type": "markdown",
      "metadata": {},
      "source": [
        "Reading from the raster back into the Python session reproduces the same exact array, with `np.nan`:\n"
      ],
      "id": "c6b3912a"
    },
    {
      "cell_type": "code",
      "metadata": {},
      "source": [
        "rasterio.open('output/r_nodata_float.tif').read()"
      ],
      "id": "4142ad8e",
      "execution_count": null,
      "outputs": []
    },
    {
      "cell_type": "markdown",
      "metadata": {},
      "source": [
        "Now, suppose that we have an `np.int32` array with missing data, which is inevitably flagged using a specific `int` value such as `-9999` (remember that we can't store `np.nan` in an `int` array!):\n"
      ],
      "id": "5a6689bf"
    },
    {
      "cell_type": "code",
      "metadata": {},
      "source": [
        "r = np.array([1,2,-9999,4]).reshape(2,2).astype(np.int32)\n",
        "r"
      ],
      "id": "190893fa",
      "execution_count": null,
      "outputs": []
    },
    {
      "cell_type": "code",
      "metadata": {},
      "source": [
        "r.dtype"
      ],
      "id": "447f44e3",
      "execution_count": null,
      "outputs": []
    },
    {
      "cell_type": "markdown",
      "metadata": {},
      "source": [
        "When writing the array to file, we must specify `nodata=-9999` to keep track of our \"No Data\" flag:\n"
      ],
      "id": "751f26a9"
    },
    {
      "cell_type": "code",
      "metadata": {},
      "source": [
        "dst = rasterio.open(\n",
        "    'output/r_nodata_int.tif', 'w', \n",
        "    driver = 'GTiff',\n",
        "    height = r.shape[0],\n",
        "    width = r.shape[1],\n",
        "    count = 1,\n",
        "    dtype = r.dtype,\n",
        "    nodata = -9999,\n",
        "    crs = 4326,\n",
        "    transform = new_transform\n",
        ")\n",
        "dst.write(r, 1)\n",
        "dst.close()"
      ],
      "id": "8a1b15c4",
      "execution_count": null,
      "outputs": []
    },
    {
      "cell_type": "markdown",
      "metadata": {},
      "source": [
        "Examining the metadata confirms that the `nodata=-9999` setting was stored in the file `r_nodata_int.tif`. \n"
      ],
      "id": "71505e51"
    },
    {
      "cell_type": "code",
      "metadata": {},
      "source": [
        "rasterio.open('output/r_nodata_int.tif').meta"
      ],
      "id": "42c2f8ee",
      "execution_count": null,
      "outputs": []
    },
    {
      "cell_type": "markdown",
      "metadata": {},
      "source": [
        "If you try to open the file in GIS software, such as QGIS, you will see the missing data interpreted (e.g., the pixel shown as blank), meaning that the software is aware of the flag. \n",
        "However, reading the data back into Python reproduces an `int` array with `-9999`, for the same reason stated before:\n"
      ],
      "id": "0c4f3fe3"
    },
    {
      "cell_type": "code",
      "metadata": {},
      "source": [
        "src = rasterio.open('output/r_nodata_int.tif')\n",
        "r = src.read()\n",
        "r"
      ],
      "id": "ddd3b350",
      "execution_count": null,
      "outputs": []
    },
    {
      "cell_type": "markdown",
      "metadata": {},
      "source": [
        "The Python user must thefore be mindful of \"No Data\" `int` rasters, for example to avoid interpreting the value `-9999` literally. \n",
        "For example, if we \"forget\" about the `nodata` flag, the literal calculation of the `.mean` would incorrectly include the value `-9999`:\n"
      ],
      "id": "c66d68ad"
    },
    {
      "cell_type": "code",
      "metadata": {},
      "source": [
        "r.mean()"
      ],
      "id": "067c1fab",
      "execution_count": null,
      "outputs": []
    },
    {
      "cell_type": "markdown",
      "metadata": {},
      "source": [
        "There are two basic ways to deal with the situation:\n",
        "\n",
        "* Converting the raster to `float`\n",
        "* Using \"No Data\" masks\n",
        "\n",
        "First, particularly with small rasters where memory constraints are irrelevant, it may be more convenient to go from `int` to `float`, to gain the ability of the natural `np.nan` representation. \n",
        "Here is how we can do this with `r_nodata_int.tif`. We detect the missing data flag, conver the raster to `float`, and assign `np.nan` into the cells that are supposed to be missing:\n"
      ],
      "id": "58f45268"
    },
    {
      "cell_type": "code",
      "metadata": {},
      "source": [
        "mask = r == src.nodata\n",
        "r = r.astype(np.float64)\n",
        "r[mask] = np.nan\n",
        "r"
      ],
      "id": "09d948ff",
      "execution_count": null,
      "outputs": []
    },
    {
      "cell_type": "markdown",
      "metadata": {},
      "source": [
        "From there on, we deal with `np.nan` the usual way, such as using `np.nanmean` to calculate the mean excluding \"No Data\":\n"
      ],
      "id": "4a38b620"
    },
    {
      "cell_type": "code",
      "metadata": {},
      "source": [
        "np.nanmean(r)"
      ],
      "id": "e9bc3009",
      "execution_count": null,
      "outputs": []
    },
    {
      "cell_type": "markdown",
      "metadata": {},
      "source": [
        "The second approach is to read the values into a so-called [\"masked\" array](https://numpy.org/doc/stable/reference/maskedarray.generic.html#what-is-a-masked-array), using the argument `masked=True`. \n",
        "A masked array can be thought of as an extended `ndarray`, with two components: `.data` (the values) and `.mask` (a corresponding boolean array marking \"No Data\" values): \n"
      ],
      "id": "aeeb803a"
    },
    {
      "cell_type": "code",
      "metadata": {},
      "source": [
        "r = src.read(masked=True)\n",
        "r"
      ],
      "id": "1a14ff80",
      "execution_count": null,
      "outputs": []
    },
    {
      "cell_type": "markdown",
      "metadata": {},
      "source": [
        "Using masked arrays is beyond the scope of this book. However, the basic idea is that many **numpy** operations \"honor\" the mask, so that the user does not have to keep track of the way that \"No Data\" values are marked, similarly to the natural `np.nan` representation. For example, the `.mean` of a masked array ignores the value `-9999`, because it is masked, taking into account just the valid values `1`, `2`, and `4`:\n"
      ],
      "id": "37b73a53"
    },
    {
      "cell_type": "code",
      "metadata": {},
      "source": [
        "r.mean()"
      ],
      "id": "78deeaac",
      "execution_count": null,
      "outputs": []
    },
    {
      "cell_type": "markdown",
      "metadata": {},
      "source": [
        "Keep in mind that, somewhat confusingly, `float` rasters may represent \"No Data\" using a specific value (such as `-9999.0`), instead, or in addition to (!), the native `np.nan` representation. \n",
        "In such cases, the same considerations shown for `int` apply to `float` rasters as well. \n",
        "\n",
        "## Visual outputs {#sec-visual-outputs}\n",
        "\n",
        "Visual outputs can be exported to a file using the [`plt.savefig`](https://matplotlib.org/stable/api/_as_gen/matplotlib.pyplot.savefig.html) function. \n",
        "For example, the following code section recreates @fig-read-shp-query (see above), but this time the last expression saves the image to a JPG image named `plot_geopandas.jpg`:\n"
      ],
      "id": "e511c14b"
    },
    {
      "cell_type": "code",
      "metadata": {},
      "source": [
        "#| output: false\n",
        "\n",
        "fig, axes = plt.subplots(ncols=2, figsize=(9,5))\n",
        "tanzania.plot(ax=axes[0], color='lightgrey', edgecolor='grey')\n",
        "tanzania_neigh.plot(ax=axes[1], color='lightgrey', edgecolor='grey')\n",
        "tanzania_buf.plot(ax=axes[1], color='none', edgecolor='red')\n",
        "axes[0].set_title('where')\n",
        "axes[1].set_title('mask')\n",
        "tanzania.apply(lambda x: axes[0].annotate(text=x['name_long'], xy=x.geometry.centroid.coords[0], ha='center'), axis=1)\n",
        "tanzania_neigh.apply(lambda x: axes[1].annotate(text=x['name_long'], xy=x.geometry.centroid.coords[0], ha='center'), axis=1);\n",
        "plt.savefig('output/plot_geopandas.jpg')"
      ],
      "id": "3b26fa31",
      "execution_count": null,
      "outputs": []
    },
    {
      "cell_type": "markdown",
      "metadata": {},
      "source": [
        "Figures with rasters can be exported exactly the same way. \n",
        "For example, the following code section (see next chapter...) creates an image of a raster and a vector layer, which is then exported to a file named `plot_rasterio.jpg`:\n"
      ],
      "id": "42bfee25"
    },
    {
      "cell_type": "code",
      "metadata": {},
      "source": [
        "#| output: false\n",
        "\n",
        "fig, ax = plt.subplots(figsize=(5, 5))\n",
        "rasterio.plot.show(nz_elev, ax=ax)\n",
        "nz.to_crs(nz_elev.crs).plot(ax=ax, facecolor='none', edgecolor='r');\n",
        "plt.savefig('output/plot_rasterio.jpg')"
      ],
      "id": "0812f118",
      "execution_count": null,
      "outputs": []
    },
    {
      "cell_type": "markdown",
      "metadata": {},
      "source": [
        "Image file properties can be controlled through the `plt.subplots` and `plt.savefig` parameters. \n",
        "For example, the following code section exports the same raster plot to a file named `plot_rasterio2.svg`, which has different dimensions (width = 5 $in$, height = 7 $in$), a different format (SVG), and different resolution (300 $DPI$:)\n"
      ],
      "id": "b6f9beca"
    },
    {
      "cell_type": "code",
      "metadata": {},
      "source": [
        "#| output: false\n",
        "\n",
        "fig, ax = plt.subplots(figsize=(5, 7))\n",
        "rasterio.plot.show(nz_elev, ax=ax)\n",
        "nz.to_crs(nz_elev.crs).plot(ax=ax, facecolor='none', edgecolor='r');\n",
        "plt.savefig('output/plot_rasterio2.svg', dpi=300)"
      ],
      "id": "1d3611fd",
      "execution_count": null,
      "outputs": []
    },
    {
      "cell_type": "markdown",
      "metadata": {},
      "source": [
        "## Exercises"
      ],
      "id": "d4e3c14d"
    }
  ],
  "metadata": {
    "kernelspec": {
      "name": "python3",
      "language": "python",
      "display_name": "Python 3 (ipykernel)"
    }
  },
  "nbformat": 4,
  "nbformat_minor": 5
}