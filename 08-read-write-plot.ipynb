{
  "cells": [
    {
      "cell_type": "markdown",
      "metadata": {},
      "source": [
        "# Geographic data I/O {#read-write}\n",
        "\n",
        "## Prerequisites\n",
        "\n",
        "This chapter requires the following packages, used in previous chapters:\n"
      ],
      "id": "497b4ab5"
    },
    {
      "cell_type": "code",
      "metadata": {},
      "source": [
        "import fiona\n",
        "import geopandas as gpd\n",
        "import shapely\n",
        "import rasterio"
      ],
      "id": "804ea5f3",
      "execution_count": null,
      "outputs": []
    },
    {
      "cell_type": "code",
      "metadata": {},
      "source": [
        "#| echo: false\n",
        "import pandas as pd\n",
        "import matplotlib.pyplot as plt\n",
        "pd.options.display.max_rows = 6\n",
        "pd.options.display.max_columns = 6\n",
        "pd.options.display.max_colwidth = 35\n",
        "plt.rcParams['figure.figsize'] = (5, 5)"
      ],
      "id": "c23d55fe",
      "execution_count": null,
      "outputs": []
    },
    {
      "cell_type": "markdown",
      "metadata": {},
      "source": [
        "## Introduction\n",
        "\n",
        "This chapter is about reading and writing geographic data.\n",
        "Geographic data import is essential for geocomputation: real-world applications are impossible without data. \n",
        "Data output is also vital, enabling others to use valuable new or improved datasets resulting from your work. \n",
        "Taken together, these processes of import/output can be referred to as data I/O.\n",
        "\n",
        "Geographic data I/O is often done with few lines of code at the beginning and end of projects. \n",
        "It is often overlooked as a simple one step process. \n",
        "However, mistakes made at the outset of projects (e.g. using an out-of-date or in some way faulty dataset) can lead to large problems later down the line, so it is worth putting considerable time into identifying which datasets are available, where they can be found and how to retrieve them. \n",
        "These topics are covered in @sec-retrieving-open-data, which describes various geoportals, which collectively contain many terabytes of data, and how to use them. \n",
        "To further ease data access, a number of packages for downloading geographic data have been developed, as described in @sec-geographic-data-packages.\n",
        "\n",
        "There are many geographic file formats, each of which has pros and cons, described in @sec-file-formats. \n",
        "The process of reading and writing files in formats efficiently is covered in Sections @sec-data-input and @sec-data-output, respectively. \n",
        "The final Section @sec-visual-outputs demonstrates methods for saving visual outputs (maps), in preparation for @sec-map-making on visualization.\n",
        "\n",
        "## Retrieving open data {#sec-retrieving-open-data}\n",
        "\n",
        "## Geographic data packages {#sec-geographic-data-packages}\n",
        "\n",
        "## Geographic web services\n",
        "\n",
        "## File formats {#sec-file-formats}\n",
        "\n",
        "Geographic datasets are usually stored as files or in spatial databases. \n",
        "File formats can either store vector or raster data, while spatial databases such as [PostGIS](https://postgis.net/) can store both. \n",
        "The large variety of file formats may seem bewildering, but there has been much consolidation and standardization since the beginnings of GIS software in the 1960s when the first widely distributed program ([SYMAP](https://news.harvard.edu/gazette/story/2011/10/the-invention-of-gis/)) for spatial analysis was created at Harvard University [@coppock_history_1991].\n",
        "\n",
        "GDAL (which should be pronounced \"goo-dal\", with the double \"o\" making a reference to object-orientation), the Geospatial Data Abstraction Library, has resolved many issues associated with incompatibility between geographic file formats since its release in 2000. \n",
        "GDAL provides a unified and high-performance interface for reading and writing of many raster and vector data formats. \n",
        "Many open and proprietary GIS programs, including GRASS, ArcGIS and QGIS, use GDAL behind their GUIs for doing the legwork of ingesting and spitting out geographic data in appropriate formats.\n",
        "\n",
        "GDAL provides access to more than 200 vector and raster data formats. \n",
        "@tbl-file-formats presents some basic information about selected and often used spatial file formats.\n",
        "\n",
        "Name  | Extension  | Info  | Type  | Model |\n",
        "|-----|----|----------|-----|-----|\n",
        "ESRI Shapefile  | `.shp` (the main file)  | Popular format consisting of at least three files. No support for: files > 2GB;mixed types; names > 10 chars; cols > 255.  | Vector  | Partially open |\n",
        "GeoJSON  | `.geojson`  | Extends the JSON exchange format by including a subset of the simple feature representation; mostly used for storing coordinates in longitude and latitude; it is extended by the TopoJSON format  | Vector  | Open |\n",
        "KML  | `.kml`  | XML-based format for spatial visualization, developed for use with Google Earth. Zipped KML file forms the KMZ format.  | Vector  | Open |\n",
        "GPX  | `.gpx`  | XML schema created for exchange of GPS data.  | Vector  | Open |\n",
        "FlatGeobuf  | `.fgb`  | Single file format allowing for quick reading and writing of vector data. Has streaming capabilities.  | Vector  | Open |\n",
        "GeoTIFF  | `.tif/.tiff`  | Popular raster format. A TIFF file containing additional spatial metadata.  | Raster  | Open |\n",
        "Arc ASCII  | `.asc`  | Text format where the first six lines represent the raster header, followed by the raster cell values arranged in rows and columns.  | Raster  | Open |\n",
        "SQLite/SpatiaLite  | `.sqlite`  | Standalone relational database, SpatiaLite is the spatial extension of SQLite.  | Vector and raster  | Open |\n",
        "ESRI FileGDB  | `.gdb`  | Spatial and nonspatial objects created by ArcGIS. Allows: multiple feature classes; topology. Limited support from GDAL.  | Vector and raster  | Proprietary |\n",
        "GeoPackage  | `.gpkg`  | Lightweight database container based on SQLite allowing an easy and platform-independent exchange of geodata  | Vector and (very limited) raster  | Open |\n",
        ": Commonly used spatial data file formats {#tbl-file-formats}\n",
        "\n",
        "An important development ensuring the standardization and open-sourcing of file formats was the founding of the Open Geospatial Consortium ([OGC](http://www.opengeospatial.org/)) in 1994. \n",
        "Beyond defining the simple features data model (see @sec-simple-features), the OGC also coordinates the development of open standards, for example as used in file formats such as KML and GeoPackage. \n",
        "Open file formats of the kind endorsed by the OGC have several advantages over proprietary formats: the standards are published, ensure transparency and open up the possibility for users to further develop and adjust the file formats to their specific needs.\n",
        "\n",
        "ESRI Shapefile is the most popular vector data exchange format; however, it is not an open format (though its specification is open). \n",
        "It was developed in the early 1990s and has a number of limitations. \n",
        "First of all, it is a multi-file format, which consists of at least three files. \n",
        "It only supports 255 columns, column names are restricted to ten characters and the file size limit is 2 GB. \n",
        "Furthermore, ESRI Shapefile does not support all possible geometry types, for example, it is unable to distinguish between a polygon and a multipolygon. \n",
        "Despite these limitations, a viable alternative had been missing for a long time. \n",
        "In the meantime, [GeoPackage](https://www.geopackage.org/) emerged, and seems to be a more than suitable replacement candidate for ESRI Shapefile. \n",
        "GeoPackage is a format for exchanging geospatial information and an OGC standard. \n",
        "The GeoPackage standard describes the rules on how to store geospatial information in a tiny SQLite container. \n",
        "Hence, GeoPackage is a lightweight spatial database container, which allows the storage of vector and raster data but also of non-spatial data and extensions. \n",
        "Aside from GeoPackage, there are other geospatial data exchange formats worth checking out (@tbl-file-formats).\n",
        "\n",
        "The GeoTIFF format seems to be the most prominent raster data format. \n",
        "It allows spatial information, such as the CRS definition and the transformation matrix (see @sec-using-rasterio), to be embedded within a TIFF file. \n",
        "Similar to ESRI Shapefile, this format was firstly developed in the 1990s, but as an open format. \n",
        "Additionally, GeoTIFF is still being expanded and improved. \n",
        "One of the most significant recent addition to the GeoTIFF format is its variant called COG (Cloud Optimized GeoTIFF). \n",
        "Raster objects saved as COGs can be hosted on HTTP servers, so other people can read only parts of the file without downloading the whole file (see Sections 8.6.2 and 8.7.2...).\n",
        "\n",
        "There is also a plethora of other spatial data formats that we do not explain in detail or mention in @tbl-file-formats due to the book limits. \n",
        "If you need to use other formats, we encourage you to read the GDAL documentation about [vector](https://gdal.org/drivers/vector/index.html) and [raster](https://gdal.org/drivers/raster/index.html) drivers. \n",
        "Additionally, some spatial data formats can store other data models (types) than vector or raster. \n",
        "It includes LAS and LAZ formats for storing lidar point clouds, and NetCDF and HDF for storing multidimensional arrays.\n",
        "\n",
        "Finally, spatial data is also often stored using tabular (non-spatial) text formats, including CSV files or Excel spreadsheets. \n",
        "This can be convenient to share spatial datasets with people who, or software that, struggle with spatial data formats.\n",
        "\n",
        "## Data input (I) {#sec-data-input}\n",
        "\n",
        "Executing commands such as `geopandas.read_file` (the main function we use for loading vector data) or `rasterio.open`+`.read` (the main functions used for loading raster data) silently sets off a chain of events that reads data from files. \n",
        "Moreover, there are many Python packages containing a wide range of geographic data or providing simple access to different data sources. \n",
        "All of them load the data into the Python environment or, more precisely, assign objects to your workspace, stored in RAM and accessible within the Python session.\n",
        "\n",
        "### Vector data\n",
        "\n",
        "Spatial vector data comes in a wide variety of file formats. \n",
        "Most popular representations such as `.shp`, `.geojson`, and `.gpkg` files can be imported and exported with `geopandas` functions `read_file` and `to_file` (covered in Section \\@ref(sec-data-output)), respectively.\n",
        "\n",
        "`geopandas` uses GDAL to read and write data, via `fiona` (the [default](https://github.com/geopandas/geopandas/issues/2217)) or `pyogrio` packages (a recently developed alternative to `fiona`). \n",
        "After `fiona` is imported, the command `fiona.supported_drivers` can be used to list drivers available to GDAL, including whether they can (`r`), append (`a`), or write (`w`) data, or all three:\n"
      ],
      "id": "660e22eb"
    },
    {
      "cell_type": "code",
      "metadata": {},
      "source": [
        "fiona.supported_drivers"
      ],
      "id": "d450431b",
      "execution_count": null,
      "outputs": []
    },
    {
      "cell_type": "markdown",
      "metadata": {},
      "source": [
        "Other, less common, drivers can be [\"activated\"](https://geopandas.org/en/stable/docs/user_guide/io.html) by manually supplementing `fiona.supported_drivers`.\n",
        "The first argument of the `geopandas` versatile data import function `gpd.read_file` is `filename`, which is typically a string, but can also be a file connection.\n",
        "The content of a string could vary between different drivers.\n",
        "In most cases, as with the ESRI Shapefile (`.shp`) or the GeoPackage format (`.gpkg`), the `filename` argument would be a path or a URL to an actual file, such as `geodata.gpkg`.\n",
        "The driver is automatically selected based on the file extension, as demonstrated for a `.gpkg` file below:\n"
      ],
      "id": "7054b2cd"
    },
    {
      "cell_type": "code",
      "metadata": {},
      "source": [
        "world = gpd.read_file('data/world.gpkg')\n",
        "world"
      ],
      "id": "0b2cc294",
      "execution_count": null,
      "outputs": []
    },
    {
      "cell_type": "markdown",
      "metadata": {},
      "source": [
        "For some drivers, such as a File Geodatabase (`OpenFileGDB`), `filename` could be provided as a folder name.\n",
        "GeoJSON string can also be read from a character string:\n"
      ],
      "id": "7618007e"
    },
    {
      "cell_type": "code",
      "metadata": {},
      "source": [
        "gpd.read_file('{\"type\":\"Point\",\"coordinates\":[34.838848,31.296301]}')"
      ],
      "id": "b54a58c2",
      "execution_count": null,
      "outputs": []
    },
    {
      "cell_type": "markdown",
      "metadata": {},
      "source": [
        "Alternatively, the `gpd.read_postgis` function can be used to read a vector layer from a PostGIS database.\n",
        "\n",
        "Some vector formats, such as GeoPackage, can store multiple data layers. \n",
        "By default, `gpd.read_file` automatically reads the first layer of the file specified in `filename`. \n",
        "However, using the `layer` argument you can specify any other layer.\n",
        "\n",
        "The `gpd.read_file` function also allows for reading just parts of the file into RAM with two possible mechanisms. \n",
        "The first one is related to the `where` argument, which allows specifying what part of the data to read using an SQL `WHERE` expression. \n",
        "An example below extracts data for Tanzania only (Figure ...). \n",
        "It is done by specifying that we want to get all rows for which `name_long` equals to `\"Tanzania\"`:\n"
      ],
      "id": "8fef0fb6"
    },
    {
      "cell_type": "code",
      "metadata": {},
      "source": [
        "tanzania = gpd.read_file('data/world.gpkg', where='name_long=\"Tanzania\"')\n",
        "tanzania"
      ],
      "id": "5d65cea5",
      "execution_count": null,
      "outputs": []
    },
    {
      "cell_type": "markdown",
      "metadata": {},
      "source": [
        "If you do not know the names of the available columns, a good approach is to just read one row of the data using the `rows` argument, which can be used to read the first N rows, then use the `.columns` property to examine the column names:\n"
      ],
      "id": "70416399"
    },
    {
      "cell_type": "code",
      "metadata": {},
      "source": [
        "gpd.read_file('data/world.gpkg', rows=1).columns"
      ],
      "id": "af0445f3",
      "execution_count": null,
      "outputs": []
    },
    {
      "cell_type": "markdown",
      "metadata": {},
      "source": [
        "The second mechanism uses the `mask` argument to filter data based on intersection with an existing geometry. \n",
        "This argument expects a geometry (`GeoDataFrame`, `GeoSeries`, or `shapely`) representing the area where we want to extract the data. \n",
        "Let's try it using a small example---we want to read polygons from our file that intersect with the buffer of 50,000 $m$ of Tanzania's borders. \n",
        "To do it, we need to (a) transform the geometry to a projected CRS (such as EPSG:32736), (b) prepare our \"filter\" by creating the buffer (@sec-buffers), and (c) transform back to the original CRS to be used as a mask:\n"
      ],
      "id": "1cd279e2"
    },
    {
      "cell_type": "code",
      "metadata": {},
      "source": [
        "tanzania_buf = tanzania.to_crs(32736).buffer(50000).to_crs(4326)\n",
        "tanzania_buf.iloc[0]"
      ],
      "id": "c9bffc10",
      "execution_count": null,
      "outputs": []
    },
    {
      "cell_type": "markdown",
      "metadata": {},
      "source": [
        "Now, we can apply this \"filter\" using the `mask` argument.\n"
      ],
      "id": "4a1dc179"
    },
    {
      "cell_type": "code",
      "metadata": {},
      "source": [
        "tanzania_neigh = gpd.read_file('data/world.gpkg', mask=tanzania_buf)\n",
        "tanzania_neigh"
      ],
      "id": "a1b722b5",
      "execution_count": null,
      "outputs": []
    },
    {
      "cell_type": "markdown",
      "metadata": {},
      "source": [
        "Our result, shown in @fig-read-shp-query, contains Tanzania and every country within its 50,000 $m$ buffer. \n",
        "Note that the last two expressions are used to add text labels with the `name_long` of each country, placed at the country centroid:\n"
      ],
      "id": "bf007a58"
    },
    {
      "cell_type": "code",
      "metadata": {},
      "source": [
        "#| label: fig-read-shp-query\n",
        "#| fig-cap: Reading a subset of the vector data using a `where` query (left) and a `mask` (right)\n",
        "\n",
        "fig, axes = plt.subplots(ncols=2, figsize=(9,5))\n",
        "tanzania.plot(ax=axes[0], color='lightgrey', edgecolor='grey')\n",
        "tanzania_neigh.plot(ax=axes[1], color='lightgrey', edgecolor='grey')\n",
        "tanzania_buf.plot(ax=axes[1], color='none', edgecolor='red')\n",
        "axes[0].set_title('where')\n",
        "axes[1].set_title('mask')\n",
        "tanzania.apply(lambda x: axes[0].annotate(text=x['name_long'], xy=x.geometry.centroid.coords[0], ha='center'), axis=1)\n",
        "tanzania_neigh.apply(lambda x: axes[1].annotate(text=x['name_long'], xy=x.geometry.centroid.coords[0], ha='center'), axis=1);"
      ],
      "id": "fig-read-shp-query",
      "execution_count": null,
      "outputs": []
    },
    {
      "cell_type": "markdown",
      "metadata": {},
      "source": [
        "Often we need to read CSV files (or other tabular formats) which have x and y coordinate columns, and turn them into a `GeoDataFrame` with point geometries. \n",
        "To do that, we can import the file using `pandas` (e.g., `pd.read_csv` or `pd.read_excel`), then go from `DataFrame` to `GeoDataFrame` using the `gpd.points_from_xy` function, as shown earlier in the book (See @sec-vector-layer-from-scratch and @sec-spatial-joining). \n",
        "For example, the table `cycle_hire_xy.csv`, where the coordinates are stored in the `X` and `Y` columns in EPSG:4326, can be imported, converted to a `GeoDataFrame`, and plotted, as follows:\n"
      ],
      "id": "1281de5c"
    },
    {
      "cell_type": "code",
      "metadata": {},
      "source": [
        "cycle_hire = pd.read_csv('data/cycle_hire_xy.csv')\n",
        "geom = gpd.points_from_xy(cycle_hire['X'], cycle_hire['Y'], crs=4326)\n",
        "geom = gpd.GeoSeries(geom)\n",
        "cycle_hire_xy = gpd.GeoDataFrame(data=cycle_hire, geometry=geom)\n",
        "cycle_hire_xy.plot();"
      ],
      "id": "8b3fed63",
      "execution_count": null,
      "outputs": []
    },
    {
      "cell_type": "markdown",
      "metadata": {},
      "source": [
        "Instead of columns describing 'XY' coordinates, a single column can also contain the geometry information. \n",
        "Well-known text (WKT), well-known binary (WKB), and the GeoJSON formats are examples of this. \n",
        "For instance, the `world_wkt.csv` file has a column named WKT representing polygons of the world's countries. \n",
        "To import and convert it to a `GeoDataFrame`, we can apply the `shapely.wkt.loads` function (@sec-geometries) on WKT strings, to convert them into `shapely` geometries:\n"
      ],
      "id": "f0f57282"
    },
    {
      "cell_type": "code",
      "metadata": {},
      "source": [
        "world_wkt = pd.read_csv('data/world_wkt.csv')\n",
        "world_wkt['geometry'] = world_wkt['WKT'].apply(shapely.wkt.loads)\n",
        "world_wkt = gpd.GeoDataFrame(world_wkt)\n",
        "world_wkt.plot();"
      ],
      "id": "923283ec",
      "execution_count": null,
      "outputs": []
    },
    {
      "cell_type": "markdown",
      "metadata": {},
      "source": [
        "::: {.callout-note}\n",
        "Not all of the supported vector file formats store information about their coordinate reference system. In these situations, it is possible to add the missing information using the `.set_crs` function. Please refer also to @sec-querying-and-setting-coordinate-systems for more information. \n",
        ":::\n",
        "\n",
        "As a final example, we will show how `geopandas` also reads KML files. \n",
        "A KML file stores geographic information in XML format---a data format for the creation of web pages and the transfer of data in an application-independent way (Nolan and Lang 2014 ...). Here, we access a KML file from the web. First, we need to \"activate\" the `KML` driver, which isn't available by default (see above):\n"
      ],
      "id": "87a63094"
    },
    {
      "cell_type": "code",
      "metadata": {},
      "source": [
        "fiona.supported_drivers['KML'] = 'r'"
      ],
      "id": "38765215",
      "execution_count": null,
      "outputs": []
    },
    {
      "cell_type": "markdown",
      "metadata": {},
      "source": [
        "This file contains more than one layer. To list the available layers, we can use the `fiona.listlayers` function: \n"
      ],
      "id": "761087e5"
    },
    {
      "cell_type": "code",
      "metadata": {},
      "source": [
        "u = 'https://developers.google.com/kml/documentation/KML_Samples.kml'\n",
        "fiona.listlayers(u)"
      ],
      "id": "08fae919",
      "execution_count": null,
      "outputs": []
    },
    {
      "cell_type": "markdown",
      "metadata": {},
      "source": [
        "Finally, we can choose the first layer `Placemarks` and read it, using `gpd.read_file` with an additional `layer` argument:\n"
      ],
      "id": "3eb4bab0"
    },
    {
      "cell_type": "code",
      "metadata": {},
      "source": [
        "gpd.read_file(u, layer='Placemarks')"
      ],
      "id": "50f8ff33",
      "execution_count": null,
      "outputs": []
    },
    {
      "cell_type": "markdown",
      "metadata": {},
      "source": [
        "### Raster data\n",
        "\n",
        "Similar to vector data, raster data comes in many file formats with some of them supporting multilayer files. \n",
        "`rasterio.open` is used to create a file connection to a raster file, which can be subsequently used to read the metadata and/or the values, as shown previously (@sec-using-rasterio). \n",
        "For example: \n"
      ],
      "id": "abbc3bfc"
    },
    {
      "cell_type": "code",
      "metadata": {},
      "source": [
        "src = rasterio.open('data/srtm.tif')\n",
        "src"
      ],
      "id": "6910e666",
      "execution_count": null,
      "outputs": []
    },
    {
      "cell_type": "markdown",
      "metadata": {},
      "source": [
        "All of the previous examples read spatial information from files stored on your hard drive. \n",
        "However, GDAL also allows reading data directly from online resources, such as HTTP/HTTPS/FTP web resources. \n",
        "The only thing we need to do is to add a `/vsicurl/` prefix before the path to the file. \n",
        "Let's try it by connecting to the global monthly snow probability at 500 m resolution for the period 2000-2012 (T. Hengl 2021 add reference...). \n",
        "Snow probability for December is stored as a Cloud Optimized GeoTIFF (COG) file (see @sec-file-formats). \n",
        "To read an online file, we just need to provide its URL together with the `/vsicurl/` prefix:\n"
      ],
      "id": "537ad471"
    },
    {
      "cell_type": "code",
      "metadata": {},
      "source": [
        "url = \"/vsicurl/https://zenodo.org/record/5774954/files/clm_snow.prob_esacci.dec_p.90_500m_s0..0cm_2000..2012_v2.0.tif\"\n",
        "src = rasterio.open(url)\n",
        "src"
      ],
      "id": "b9d888a1",
      "execution_count": null,
      "outputs": []
    },
    {
      "cell_type": "markdown",
      "metadata": {},
      "source": [
        "In the example above `rasterio.open` creates a connection to the file without obtaining any values, as we did for the local `srtm.tif` file.\n",
        "The values can read, into an `ndarray`, using the `.read` method of the file connection (@sec-using-rasterio). \n",
        "This allows us also to just read a small portion of the data without downloading the entire file. \n",
        "This is very useful when working with large datasets hosted online from resource-constrained computing environments such as laptops.\n",
        "\n",
        "Another option is to extract raster values at particular points, directly from the file connection, using the `.sample` method (see @sec-spatial-subsetting). \n",
        "For example, we can get the snow probability for December in Reykjavik (70%) by specifying its coordinates and applying `.sample`:\n"
      ],
      "id": "1c232329"
    },
    {
      "cell_type": "code",
      "metadata": {},
      "source": [
        "values = src.sample([(-21.94, 64.15)])\n",
        "list(values)"
      ],
      "id": "91ed461f",
      "execution_count": null,
      "outputs": []
    },
    {
      "cell_type": "markdown",
      "metadata": {},
      "source": [
        "The example above efficiently extracts and downloads a single value instead of the entire GeoTIFF file, saving valuable resources.\n",
        "The `/vsicurl/` prefix **also works for vector file formats**, enabling you to import datasets from online storage with `geopandas` just by adding it before the vector file URL.\n",
        "\n",
        "Importantly, `/vsicurl/` is not the only prefix provided by GDAL---many more exist, such as `/vsizip/` to read spatial files from ZIP archives without decompressing them beforehand or `/vsis3/` for on-the-fly reading files available in AWS S3 buckets. You can learn more about it at <https://gdal.org/user/virtual_file_systems.html>.\n",
        "\n",
        "## Data output (O) {#sec-data-output}\n",
        "\n",
        "Writing geographic data allows you to convert from one format to another and to save newly created objects for permanent storage. \n",
        "Depending on the data type (vector or raster), object class (e.g., `GeoDataFrame`), and type and amount of stored information (e.g., object size, range of values), it is important to know how to store spatial files in the most efficient way. \n",
        "The next two sections will demonstrate how to do this.\n",
        "\n",
        "### Vector data\n",
        "\n",
        "The counterpart of `gpd.read_file` is the `.to_file` method that a `GeoDataFrame` has. It allows you to write `GeoDataFrame` objects to a wide range of geographic vector file formats, including the most common, such as `.geojson`, `.shp` and `.gpkg`. Based on the file name, `.to_file` decides automatically which driver to use. The speed of the writing process depends also on the driver.\n"
      ],
      "id": "dca686c2"
    },
    {
      "cell_type": "code",
      "metadata": {},
      "source": [
        "world.to_file('output/world.gpkg')"
      ],
      "id": "6269c948",
      "execution_count": null,
      "outputs": []
    },
    {
      "cell_type": "markdown",
      "metadata": {},
      "source": [
        "Note: if you try to write to the same data source again, the function will overwrite the file:\n"
      ],
      "id": "660b7389"
    },
    {
      "cell_type": "code",
      "metadata": {},
      "source": [
        "world.to_file('output/world.gpkg')"
      ],
      "id": "32bc6616",
      "execution_count": null,
      "outputs": []
    },
    {
      "cell_type": "markdown",
      "metadata": {},
      "source": [
        "Instead of overwriting the file, we could add a new layer to the file with `mode='a'` (\"append\" mode, as opposed to the default `mode='w'` for \"write\" mode). Appending is supported by several spatial formats, including GeoPackage. For example:\n"
      ],
      "id": "0b3d227b"
    },
    {
      "cell_type": "code",
      "metadata": {},
      "source": [
        "world.to_file('output/world_many_features.gpkg')\n",
        "world.to_file('output/world_many_features.gpkg', mode='a')"
      ],
      "id": "aa1dd6f5",
      "execution_count": null,
      "outputs": []
    },
    {
      "cell_type": "markdown",
      "metadata": {},
      "source": [
        "Here, `world_many_features.gpkg` will contain a polygonal layer named `world` with two \"copies\" of each country (that is 177×2=354 features, whereas the `world` layer has 177 features).\n",
        "\n",
        "Alternatively, you can create another, separate, layer, within the same file. The GeoPackage format also supports multiple layers within one file. For example:\n"
      ],
      "id": "23acb230"
    },
    {
      "cell_type": "code",
      "metadata": {},
      "source": [
        "world.to_file('output/world_many_layers.gpkg')\n",
        "world.to_file('output/world_many_layers.gpkg', layer='world2')"
      ],
      "id": "30e2e53a",
      "execution_count": null,
      "outputs": []
    },
    {
      "cell_type": "markdown",
      "metadata": {},
      "source": [
        "In this case, `world_many_layers.gpkg` has two \"layers\", `world_many_layers` (same as the file name, when `layer` is unspecified) and `world2`. Incidentally, the contents of the two layers is identical, but this doesn't have to be so. Each layer from such a file can be imported separately, as in: \n"
      ],
      "id": "60e749e5"
    },
    {
      "cell_type": "code",
      "metadata": {},
      "source": [
        "gpd.read_file('output/world_many_layers.gpkg', layer='world_many_layers').head(1)"
      ],
      "id": "8d378dfd",
      "execution_count": null,
      "outputs": []
    },
    {
      "cell_type": "code",
      "metadata": {},
      "source": [
        "gpd.read_file('output/world_many_layers.gpkg', layer='world2').head(1)"
      ],
      "id": "53b22f1c",
      "execution_count": null,
      "outputs": []
    },
    {
      "cell_type": "markdown",
      "metadata": {},
      "source": [
        "### Raster data {#sec-data-output-raster}\n",
        "\n",
        "...\n",
        "\n",
        "## Visual outputs {#sec-visual-outputs}\n",
        "\n",
        "## Exercises"
      ],
      "id": "874aa9ce"
    }
  ],
  "metadata": {
    "kernelspec": {
      "name": "python3",
      "language": "python",
      "display_name": "Python 3 (ipykernel)"
    }
  },
  "nbformat": 4,
  "nbformat_minor": 5
}