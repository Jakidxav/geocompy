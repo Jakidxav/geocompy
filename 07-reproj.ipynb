{
  "cells": [
    {
      "cell_type": "markdown",
      "metadata": {},
      "source": [
        "# Reprojecting geographic data {#sec-reproj-geo-data}\n",
        "\n",
        "## Prerequisites\n"
      ],
      "id": "64a8bc42"
    },
    {
      "cell_type": "code",
      "metadata": {},
      "source": [
        "#| echo: false\n",
        "import pandas as pd\n",
        "pd.options.display.max_rows = 6\n",
        "pd.options.display.max_columns = 6\n",
        "pd.options.display.max_colwidth = 35\n",
        "plt.rcParams['figure.figsize'] = (5, 5)"
      ],
      "id": "9afc6a77",
      "execution_count": null,
      "outputs": []
    },
    {
      "cell_type": "markdown",
      "metadata": {},
      "source": [
        "Let's import the required packages:\n"
      ],
      "id": "04870d2a"
    },
    {
      "cell_type": "code",
      "metadata": {},
      "source": [
        "import matplotlib.pyplot as plt\n",
        "import numpy as np\n",
        "import geopandas as gpd\n",
        "import rasterio\n",
        "import rasterio.warp\n",
        "from rasterio.plot import show\n",
        "import pyproj"
      ],
      "id": "8506cb53",
      "execution_count": null,
      "outputs": []
    },
    {
      "cell_type": "markdown",
      "metadata": {},
      "source": [
        "and load the sample data:\n"
      ],
      "id": "e51323f5"
    },
    {
      "cell_type": "code",
      "metadata": {},
      "source": [
        "src_srtm = rasterio.open('data/srtm.tif')\n",
        "src_nlcd = rasterio.open('data/nlcd.tif')\n",
        "zion = gpd.read_file('data/zion.gpkg')\n",
        "world = gpd.read_file('data/world.gpkg')"
      ],
      "id": "84195e7f",
      "execution_count": null,
      "outputs": []
    },
    {
      "cell_type": "markdown",
      "metadata": {},
      "source": [
        "## Introduction\n",
        "\n",
        "@sec-coordinate-reference-systems introduced coordinate reference systems (CRSs), with a focus on the two major types: geographic ('lon/lat', with units in degrees longitude and latitude) and projected (typically with units of meters from a datum) coordinate systems. This chapter builds on that knowledge and goes further. It demonstrates how to set and transform geographic data from one CRS to another and, furthermore, highlights specific issues that can arise due to ignoring CRSs that you should be aware of, especially if your data is stored with lon/lat coordinates. \n",
        "\n",
        "In many projects there is no need to worry about, let alone convert between, different CRSs. It is important to know if your data is in a projected or geographic coordinate system, and the consequences of this for geometry operations. However, if you know the CRS of your data and the consequences for geometry operations (covered in the next section), CRSs should just work behind the scenes: people often suddenly need to learn about CRSs when things go wrong. Having a clearly defined project CRS that all project data is in, plus understanding how and why to use different CRSs, can ensure that things don't go wrong. Furthermore, learning about coordinate systems will deepen your knowledge of geographic datasets and how to use them effectively.\n",
        "\n",
        "This chapter teaches the fundamentals of CRSs, demonstrates the consequences of using different CRSs (including what can go wrong), and how to 'reproject' datasets from one coordinate system to another. In the next section we introduce CRSs in Python, followed by @sec-querying-and-setting-coordinate-systems which shows how to get and set CRSs associated with spatial objects. Section @sec-geometry-operations-on-projected-and-unprojected-data demonstrates the importance of knowing what CRS your data is in with reference to a worked example of creating buffers. We tackle questions of when to reproject and which CRS to use in Section @sec-when-to-reproject and Section @sec-which-crs-to-use, respectively. We cover reprojecting vector and raster objects in sections @sec-reprojecting-vector-geometries and @sec-reprojecting-raster-geometries and modifying map projections in @sec-custom-map-projections.\n",
        "\n",
        "## Coordinate Reference Systems\n",
        "\n",
        "Most modern geographic tools that require CRS conversions, including Python packages and desktop GIS software such as QGIS, interface with [PROJ](https://proj.org/), an open source C++ library that \"transforms coordinates from one coordinate reference system (CRS) to another\". CRSs can be described in many ways, including the following.\n",
        "\n",
        "* Simple yet potentially ambiguous statements such as \"it's in lon/lat coordinates\".\n",
        "* Formalized yet now outdated 'proj4 strings' such as `+proj=longlat +ellps=WGS84 +datum=WGS84 +no_defs`.\n",
        "* With an identifying 'authority:code' text string such as `EPSG:4326`.\n",
        "\n",
        "Each refers to the same thing: the 'WGS84' coordinate system that forms the basis of Global Positioning System (GPS) coordinates and many other datasets. But which one is correct?\n",
        "\n",
        "The short answer is that the third way to identify CRSs is correct: `EPSG:4326` is understood by `geopandas` and `rasterio` packages covered in this book, plus many other software projects for working with geographic data including [QGIS](https://docs.qgis.org/3.22/en/docs/user_manual/working_with_projections/working_with_projections.html) and [PROJ](https://proj.org/development/quickstart.html). `EPSG:4326` is future-proof. Furthermore, although it is machine readable, unlike the proj-string representation \"EPSG:4326\" is short, easy to remember and highly 'findable' online (searching for EPSG:4326 yields a dedicated page on the website [epsg.io](https://epsg.io/4326), for example). The more concise identifier `4326` is also understood by `geopandas` and `rasterio`, but we recommend the more explicit `AUTHORITY:CODE` representation to prevent ambiguity and to provide context.\n",
        "\n",
        "The longer answer is that none of the three descriptions are sufficient and more detail is needed for unambiguous CRS handling and transformations: due to the complexity of CRSs, it is not possible to capture all relevant information about them in such short text strings. For this reason, the Open Geospatial Consortium (OGC, which also developed the simple features specification that the sf package implements) developed an open standard format for describing CRSs that is called WKT (Well Known Text). This is detailed in a [100+ page document](file:///home/michael/Downloads/18-010r7_Geographic_information__Well-known_text_representation_of_coordinate_reference_systems.pdf) that \"defines the structure and content of a text string implementation of the abstract model for coordinate reference systems described in ISO 19111:2019\" (Open Geospatial Consortium 2019...to add citation!). The WKT representation of the WGS84 CRS, which has the identifier `EPSG:4326` is as follows:\n"
      ],
      "id": "ac68135b"
    },
    {
      "cell_type": "code",
      "metadata": {},
      "source": [
        "crs = pyproj.CRS.from_string('EPSG:4326') # or '.from_epsg(4326)'\n",
        "print(crs.to_wkt(pretty=True))"
      ],
      "id": "41d28c7c",
      "execution_count": null,
      "outputs": []
    },
    {
      "cell_type": "markdown",
      "metadata": {},
      "source": [
        "The output of the command shows how the CRS identifier (also known as a Spatial Reference Identifier or [SRID](https://postgis.net/workshops/postgis-intro/projection.html)) works: it is simply a look-up, providing a unique identifier associated with a more complete WKT representation of the CRS. This raises the question: what happens if there is a mismatch between the identifier and the longer WKT representation of a CRS? On this point Open Geospatial Consortium (2019... to add citation!) is clear, the verbose WKT representation takes precedence over the [identifier](https://docs.opengeospatial.org/is/18-010r7/18-010r7.html#37):\n",
        "\n",
        "> Should any attributes or values given in the cited identifier be in conflict with attributes or values given explicitly in the WKT description, the WKT values shall prevail.\n",
        "\n",
        "The convention of referring to CRSs identifiers in the form AUTHORITY:CODE, which is also used by geographic software written in other languages, allows a wide range of formally defined coordinate systems to be referred to.26 The most commonly used authority in CRS identifiers is EPSG, an acronym for the European Petroleum Survey Group which published a standardized list of CRSs (the EPSG was [taken over](http://wiki.gis.com/wiki/index.php/European_Petroleum_Survey_Group) by the oil and gas body the Geomatics Committee of the International Association of Oil & Gas Producers (...to add citation!) in 2005). Other authorities can be used in CRS identifiers. ESRI:54030, for example, refers to ESRI’s implementation of the Robinson projection, which has the following WKT string:\n"
      ],
      "id": "1a26375d"
    },
    {
      "cell_type": "code",
      "metadata": {},
      "source": [
        "crs = pyproj.CRS.from_string('ESRI:54030')\n",
        "print(crs.to_wkt(pretty=True))"
      ],
      "id": "c5d8ca45",
      "execution_count": null,
      "outputs": []
    },
    {
      "cell_type": "markdown",
      "metadata": {},
      "source": [
        "WKT strings are exhaustive, detailed, and precise, allowing for unambiguous CRSs storage and transformations. They contain all relevant information about any given CRS, including its datum and ellipsoid, prime meridian, projection, and units.\n",
        "\n",
        "Recent PROJ versions (6+) still allow use of proj-strings to define coordinate operations, but some proj-string keys (`+nadgrids`, `+towgs84`, `+k`, `+init=epsg:`) are either no longer supported or are discouraged. Additionally, only three datums (i.e., WGS84, NAD83, and NAD27) can be directly set in proj-string. Longer explanations of the evolution of CRS definitions and the PROJ library can be found in Bivand (2021), Chapter 2 of Pebesma and Bivand (2022), and a blog post by Floris Vanderhaeghe (...to add citations!). As outlined in the [PROJ documentation](https://proj.org/development/reference/cpp/cpp_general.html) there are different versions of the WKT CRS format including WKT1 and two variants of WKT2, the latter of which (WKT2, 2018 specification) corresponds to the ISO 19111:2019 (Open Geospatial Consortium 2019...to add citations!).\n",
        "\n",
        "## Querying and setting coordinate systems {#sec-querying-and-setting-coordinate-systems}\n",
        "\n",
        "Let's look at how CRSs are stored in Python spatial objects and how they can be queried and set. First we will look at getting and setting CRSs in vector geographic data objects. Consider the `GeoDataFrame` object named `world`, imported from a file `world.gpkg`. The object `world` represents countries worldwide. Its CRS can be retrieved using the `.crs` property:\n"
      ],
      "id": "307908bc"
    },
    {
      "cell_type": "code",
      "metadata": {},
      "source": [
        "world.crs"
      ],
      "id": "ed34f774",
      "execution_count": null,
      "outputs": []
    },
    {
      "cell_type": "markdown",
      "metadata": {},
      "source": [
        "...\n",
        "\n",
        "## Geometry operations on projected and unprojected data {#sec-geometry-operations-on-projected-and-unprojected-data}\n",
        "\n",
        "## When to reproject? {#sec-when-to-reproject}\n",
        "\n",
        "## Which CRS to use? {#sec-which-crs-to-use}\n",
        "\n",
        "## Reprojecting vector geometries {#sec-reprojecting-vector-geometries}\n",
        "\n",
        "@sec-spatial-class demonstrated how vector geometries are made-up of points, and how points form the basis of more complex objects such as lines and polygons. Reprojecting vectors thus consists of transforming the coordinates of these points, which form the vertices of lines and polygons.\n",
        "\n",
        "@sec-geometry-operations-on-projected-and-unprojected-data contains an example in which at least one `GeoDataFrame` object must be transformed into an equivalent object with a different CRS to calculate the distance between two objects (?).\n",
        "\n",
        "...\n",
        "\n",
        "## Reprojecting raster geometries {#sec-reprojecting-raster-geometries}\n",
        "\n",
        "The projection concepts described in the previous section apply equally to rasters. \n",
        "However, there are important differences in reprojection of vectors and rasters: transforming a vector object involves changing the coordinates of every vertex but this does not apply to raster data. \n",
        "Rasters are composed of rectangular cells of the same size (expressed by map units, such as degrees or meters), so it is usually impracticable to transform coordinates of pixels separately. \n",
        "Raster reprojection involves creating a new raster object, often with a different number of columns and rows than the original. \n",
        "The attributes must subsequently be re-estimated, allowing the new pixels to be 'filled' with appropriate values. \n",
        "In other words, raster reprojection can be thought of as two separate spatial operations: a vector reprojection of the raster extent to another CRS (@sec-reprojecting-vector-geometries), and computation of new pixel values through resampling (@sec-raster-resampling). \n",
        "Thus in most cases when both raster and vector data are used, it is better to avoid reprojecting rasters and reproject vectors instead.\n",
        "\n",
        ":::{.callout-note}\n",
        "Reprojection of the regular rasters is also known as warping. Additionally, there is a second similar operation called \"transformation\". Instead of resampling all of the values, it leaves all values intact but recomputes new coordinates for every raster cell, changing the grid geometry. For example, it could convert the input raster (a regular grid) into a curvilinear grid. The `rasterio`, like common raster file formats (such as GeoTIFF), does not support curvilinear grids (?).\n",
        ":::\n",
        "\n",
        "The raster reprojection process is done using two functions from the `rasterio.warp` sub-package:\n",
        "\n",
        "* `rasterio.warp.calculate_default_transform`\n",
        "* `rasterio.warp.reproject`\n",
        "\n",
        "The first function, `calculate_default_transform`, is used to calculate the new transformation matrix in the destination CRS, according to the source raster dimensions and bounds. \n",
        "Alternatively, the destination transformation matrix can be obtained from an existing raster; this is common practice when we need to align one raster with another, for instance to be able to combine them in raster algebra operations (@sec-raster-local-operations) (see below). \n",
        "The second function `rasterio.warp.reproject` then actually calculates cell values in the destination grid, using the user-selected resampling method (such as nearest neighbor, or bilinear). \n",
        "\n",
        "Let's take a look at two examples of raster transformation: using categorical and continuous data. \n",
        "Land cover data are usually represented by categorical maps. The `nlcd.tif` file provides information for a small area in Utah, USA obtained from National Land Cover Database 2011 in the NAD83 / UTM zone 12N CRS, as shown in the output of the code chunk below (only first line of output shown). \n",
        "We already created a connection to the `nlcd.tif` file, named `src_nlcd`:\n"
      ],
      "id": "02aadfb6"
    },
    {
      "cell_type": "code",
      "metadata": {},
      "source": [
        "src_nlcd"
      ],
      "id": "16db61bd",
      "execution_count": null,
      "outputs": []
    },
    {
      "cell_type": "markdown",
      "metadata": {},
      "source": [
        "Recall that the raster transformation matrix and dimensions are accessible from the file connection as follows. This information will be required to calculate the destination transformation matrix (hereby printed collectively in a `tuple`):\n"
      ],
      "id": "d2f6bf81"
    },
    {
      "cell_type": "code",
      "metadata": {},
      "source": [
        "src_nlcd.transform, src_nlcd.width, src_nlcd.height"
      ],
      "id": "3f8087fe",
      "execution_count": null,
      "outputs": []
    },
    {
      "cell_type": "markdown",
      "metadata": {},
      "source": [
        "First, let's define the destination CRS. In this case, we choose WGS84 (EPSG code `4326`):\n"
      ],
      "id": "8151476d"
    },
    {
      "cell_type": "code",
      "metadata": {},
      "source": [
        "dst_crs = 'EPSG:4326'"
      ],
      "id": "a033b799",
      "execution_count": null,
      "outputs": []
    },
    {
      "cell_type": "markdown",
      "metadata": {},
      "source": [
        "Now, we are ready to claculate the destination raster transformation matrix (`dst_transform`), and the destination dimensions (`dst_width`, `dst_height`), as follows: \n"
      ],
      "id": "a41c084c"
    },
    {
      "cell_type": "code",
      "metadata": {},
      "source": [
        "dst_transform, dst_width, dst_height = rasterio.warp.calculate_default_transform(\n",
        "    src_nlcd.crs,\n",
        "    dst_crs,\n",
        "    src_nlcd.width,\n",
        "    src_nlcd.height,\n",
        "    *src_nlcd.bounds\n",
        ")\n",
        "dst_transform, dst_width, dst_height"
      ],
      "id": "18f8901d",
      "execution_count": null,
      "outputs": []
    },
    {
      "cell_type": "markdown",
      "metadata": {},
      "source": [
        "Note that `*`, in `*src_nlcd.bounds`, is used to unpack `src_nlcd.bounds` to four separate arguments, which `calculate_default_transform` requires:\n"
      ],
      "id": "56dd9d14"
    },
    {
      "cell_type": "code",
      "metadata": {},
      "source": [
        "src_nlcd.bounds"
      ],
      "id": "3dedf1fb",
      "execution_count": null,
      "outputs": []
    },
    {
      "cell_type": "markdown",
      "metadata": {},
      "source": [
        "Next, we will create the metadata file used for writing the reprojected raster to file. For convenience, we are taking the metadata of the source raster (`src_nlcd.meta`), making a copy (`dst_kwargs`), and then updating those specific properties that need to be changed. Note that the reprojection process typically creates \"No Data\" pixels, even when there were none in the input raster, since the raster orientation changes and the edges need to be \"filled\" to get back a rectangular extent. We need to specify a \"No Data\" value of our choice, if there is none, or use the existing source raster setting, such as `255` in this case:\n"
      ],
      "id": "a8ac049a"
    },
    {
      "cell_type": "code",
      "metadata": {},
      "source": [
        "dst_kwargs = src_nlcd.meta.copy()\n",
        "dst_kwargs.update({\n",
        "    'crs': dst_crs,\n",
        "    'transform': dst_transform,\n",
        "    'width': dst_width,\n",
        "    'height': dst_height\n",
        "})\n",
        "dst_kwargs"
      ],
      "id": "72cf73b8",
      "execution_count": null,
      "outputs": []
    },
    {
      "cell_type": "markdown",
      "metadata": {},
      "source": [
        "We are ready to create the reprojected raster. Here, reprojection takes place between two file connections, meaning that the raster value arrays are not being read into memory at once. It is also possible to reproject into an in-memory `ndarray` object, see the [documentation](https://rasterio.readthedocs.io/en/latest/api/rasterio.warp.html#rasterio.warp.reproject).\n",
        "\n",
        "To write the reprojected raster, we first create a destination file connection `dst_nlcd`, pointing at the output file path of our choice (`output/nlcd_4326.tif`), using the updated metadata object created earlier (`dst_kwargs`):\n"
      ],
      "id": "bf70451d"
    },
    {
      "cell_type": "code",
      "metadata": {},
      "source": [
        "dst_nlcd = rasterio.open('output/nlcd_4326.tif', 'w', **dst_kwargs)"
      ],
      "id": "ad29f4be",
      "execution_count": null,
      "outputs": []
    },
    {
      "cell_type": "markdown",
      "metadata": {},
      "source": [
        "Then, we use the `rasterio.warp.reproject` function to calculate and write the reprojection result into the `dst_nlcd` file connection. Note that the `source` and `destination` accept a \"band\" object, created using `rasterio.band`. In this case, there is just one band. If there were more bands, we would have to repeat the procedure for each band, using `i` instead of `1` inside a [loop](https://rasterio.readthedocs.io/en/latest/topics/reproject.html#reprojecting-a-geotiff-dataset):\n"
      ],
      "id": "cbdfeecf"
    },
    {
      "cell_type": "code",
      "metadata": {},
      "source": [
        "rasterio.warp.reproject(\n",
        "    source=rasterio.band(src_nlcd, 1),\n",
        "    destination=rasterio.band(dst_nlcd, 1),\n",
        "    src_transform=src_nlcd.transform,\n",
        "    src_crs=src_nlcd.crs,\n",
        "    dst_transform=dst_transform,\n",
        "    dst_crs=dst_crs,\n",
        "    resampling=rasterio.warp.Resampling.nearest\n",
        ")"
      ],
      "id": "c3873bec",
      "execution_count": null,
      "outputs": []
    },
    {
      "cell_type": "markdown",
      "metadata": {},
      "source": [
        "Finally, we close the file connection so that the data are actually written:\n"
      ],
      "id": "631076e7"
    },
    {
      "cell_type": "code",
      "metadata": {},
      "source": [
        "dst_nlcd.close()"
      ],
      "id": "a9a1083d",
      "execution_count": null,
      "outputs": []
    },
    {
      "cell_type": "markdown",
      "metadata": {},
      "source": [
        "Many properties of the new object differ from the previous one, including the number of columns and rows (and therefore number of cells), resolution (transformed from meters into degrees), and extent, as summarized again below (note that the number of categories increases from 8 to 9 because of the addition of NA values, not because a new category has been created — the land cover classes are preserved).\n"
      ],
      "id": "49b4d9a0"
    },
    {
      "cell_type": "code",
      "metadata": {},
      "source": [
        "src_nlcd.meta"
      ],
      "id": "b5f5e491",
      "execution_count": null,
      "outputs": []
    },
    {
      "cell_type": "code",
      "metadata": {},
      "source": [
        "src_nlcd_4326 = rasterio.open('output/nlcd_4326.tif')\n",
        "src_nlcd_4326.meta"
      ],
      "id": "e21c50e4",
      "execution_count": null,
      "outputs": []
    },
    {
      "cell_type": "markdown",
      "metadata": {},
      "source": [
        "Examining the unique raster values tells us that the new raster has the same categories, plus the value `255` representing \"No Data\":\n"
      ],
      "id": "733c90c8"
    },
    {
      "cell_type": "code",
      "metadata": {},
      "source": [
        "np.unique(src_nlcd.read(1))"
      ],
      "id": "31337895",
      "execution_count": null,
      "outputs": []
    },
    {
      "cell_type": "code",
      "metadata": {},
      "source": [
        "np.unique(src_nlcd_4326.read(1))"
      ],
      "id": "a4a123ba",
      "execution_count": null,
      "outputs": []
    },
    {
      "cell_type": "code",
      "metadata": {},
      "source": [
        "#| label: fig-raster-reproject-nlcd\n",
        "#| fig-cap: Reprojecting a categorical raster using nearest neighbor resampling\n",
        "\n",
        "fig, axes = plt.subplots(ncols=2, figsize=(9,5))\n",
        "show(src_nlcd, ax=axes[0], cmap='Set3')\n",
        "show(src_nlcd_4326, ax=axes[1], cmap='Set3')\n",
        "axes[0].set_title('Original (EPSG:26912)')\n",
        "axes[1].set_title('Reprojected (EPSG:4326)');"
      ],
      "id": "fig-raster-reproject-nlcd",
      "execution_count": null,
      "outputs": []
    },
    {
      "cell_type": "markdown",
      "metadata": {},
      "source": [
        "In the above example, we automatically calculated an optimal (i.e., most information preserving) destination grid using `rasterio.warp.calculate_default_transform`. \n",
        "This is appropriate when there are no specific requirements for the destination raster spatial properties. \n",
        "Namely, we are not required to otain a specific origin and resolution, but just wish to preserve the raster values as much as possible.\n",
        "To do that, `calculate_default_transform` \"tries\" to keep the extent and resolution of the destination raster as similar as possible to the source. \n",
        "In other situations, however, we need to reproject a raster into a specific \"template\", so that it corresponds, for instance, with other rasters we use in the analysis. \n",
        "In the following code section, we reproject the `nlcd.tif` raster, again, buit this time using the `nlcd_4326.tif` reprojection result as the \"template\" to demonstrate this alternative workflow.\n",
        "\n",
        "First, we create a connection to our \"template\" raster to read its metadata:\n"
      ],
      "id": "1bcaf270"
    },
    {
      "cell_type": "code",
      "metadata": {},
      "source": [
        "template = rasterio.open('output/nlcd_4326.tif')\n",
        "template.meta"
      ],
      "id": "8ebb818d",
      "execution_count": null,
      "outputs": []
    },
    {
      "cell_type": "markdown",
      "metadata": {},
      "source": [
        "Then, we create a write-mode connection to our destination raster, using this metadata, meaning that as the resampling result is going to have identical metadata as the \"template\":\n"
      ],
      "id": "48a5bfc9"
    },
    {
      "cell_type": "code",
      "metadata": {},
      "source": [
        "dst_nlcd_2 = rasterio.open('output/nlcd_4326_2.tif', 'w', **template.meta)"
      ],
      "id": "bc45c575",
      "execution_count": null,
      "outputs": []
    },
    {
      "cell_type": "markdown",
      "metadata": {},
      "source": [
        "Now, we can resample and write the result:\n"
      ],
      "id": "ae878831"
    },
    {
      "cell_type": "code",
      "metadata": {},
      "source": [
        "rasterio.warp.reproject(\n",
        "    source=rasterio.band(src_nlcd, 1),\n",
        "    destination=rasterio.band(dst_nlcd_2, 1),\n",
        "    src_transform=src_nlcd.transform,\n",
        "    src_crs=src_nlcd.crs,\n",
        "    dst_transform=dst_nlcd_2.transform,\n",
        "    dst_crs=dst_nlcd_2.crs,\n",
        "    resampling=rasterio.warp.Resampling.nearest\n",
        ")"
      ],
      "id": "89d9aee8",
      "execution_count": null,
      "outputs": []
    },
    {
      "cell_type": "code",
      "metadata": {},
      "source": [
        "dst_nlcd_2.close()"
      ],
      "id": "eb48f092",
      "execution_count": null,
      "outputs": []
    },
    {
      "cell_type": "markdown",
      "metadata": {},
      "source": [
        "Naturally, in this case, the outputs `nlcd_4326.tif` and `nlcd_4326_2.tif` are identical, as we used the same \"template\" and the same source data: \n"
      ],
      "id": "eba4d2fd"
    },
    {
      "cell_type": "code",
      "metadata": {},
      "source": [
        "d = rasterio.open('output/nlcd_4326.tif').read(1) == rasterio.open('output/nlcd_4326_2.tif').read(1)\n",
        "d"
      ],
      "id": "8bb28ded",
      "execution_count": null,
      "outputs": []
    },
    {
      "cell_type": "code",
      "metadata": {},
      "source": [
        "np.all(d)"
      ],
      "id": "5b785037",
      "execution_count": null,
      "outputs": []
    },
    {
      "cell_type": "markdown",
      "metadata": {},
      "source": [
        "The difference is that in the first example we calculate the template automatically, using `rasterio.warp.calculate_default_transform`, while in the second example we used an existing raster as the \"template\".\n",
        "\n",
        "Importantly, when the template raster has much more \"coarse\" resolution than the source raster, the:\n",
        "\n",
        "* `rasterio.warp.Resampling.average` (for continuous rasters), or \n",
        "* `rasterio.warp.Resampling.mode` (for categorical rasters)\n",
        "\n",
        "resampling method should be used, instead of `rasterio.warp.Resampling.nearest`. Otherwise, much of the data will be lost, as the \"nearest\" method can capture one pixel value only for each destination raster pixel. \n",
        "\n",
        "Reprojecting continuous rasters (with numeric or, in this case, integer values) follows an almost identical procedure. This is demonstrated below with `srtm.tif` from the Shuttle Radar Topography Mission (SRTM), which represents height in meters above sea level (elevation) with the WGS84 CRS.\n",
        "\n",
        "We will reproject this dataset into a projected CRS, but not with the nearest neighbor method which is appropriate for categorical data. Instead, we will use the bilinear method which computes the output cell value based on the four nearest cells in the original raster. The values in the projected dataset are the distance-weighted average of the values from these four cells: the closer the input cell is to the center of the output cell, the greater its weight. The following code section create a text string representing WGS 84 / UTM zone 12N, and reproject the raster into this CRS, using the bilinear method. The code is practically the same, except for changing the source and destination file names, and replacing `nearest` with `bilinear`:\n"
      ],
      "id": "510d471a"
    },
    {
      "cell_type": "code",
      "metadata": {},
      "source": [
        "dst_crs = 'EPSG:32612'\n",
        "dst_transform, dst_width, dst_height = rasterio.warp.calculate_default_transform(\n",
        "    src_srtm.crs,\n",
        "    dst_crs,\n",
        "    src_srtm.width,\n",
        "    src_srtm.height,\n",
        "    *src_srtm.bounds\n",
        ")\n",
        "dst_kwargs = src_srtm.meta.copy()\n",
        "dst_kwargs.update({\n",
        "    'crs': dst_crs,\n",
        "    'transform': dst_transform,\n",
        "    'width': dst_width,\n",
        "    'height': dst_height\n",
        "})\n",
        "dst_srtm = rasterio.open('output/srtm_32612.tif', 'w', **dst_kwargs)\n",
        "rasterio.warp.reproject(\n",
        "    source=rasterio.band(src_srtm, 1),\n",
        "    destination=rasterio.band(dst_srtm, 1),\n",
        "    src_transform=src_srtm.transform,\n",
        "    src_crs=src_srtm.crs,\n",
        "    dst_transform=dst_transform,\n",
        "    dst_crs=dst_crs,\n",
        "    resampling=rasterio.warp.Resampling.bilinear\n",
        ")\n",
        "dst_srtm.close()"
      ],
      "id": "af01b555",
      "execution_count": null,
      "outputs": []
    },
    {
      "cell_type": "markdown",
      "metadata": {},
      "source": [
        "@fig-raster-reproject-srtm shows the input and the reprojected SRTM rasters.\n"
      ],
      "id": "0d25ec2e"
    },
    {
      "cell_type": "code",
      "metadata": {},
      "source": [
        "#| label: fig-raster-reproject-srtm\n",
        "#| fig-cap: Reprojecting a continuous raster using bilinear resampling\n",
        "\n",
        "fig, axes = plt.subplots(ncols=2, figsize=(9,5))\n",
        "show(src_srtm, ax=axes[0])\n",
        "show(rasterio.open('output/srtm_32612.tif'), ax=axes[1])\n",
        "axes[0].set_title('Original (EPSG:4326)')\n",
        "axes[1].set_title('Reprojected (EPSG:32612)');"
      ],
      "id": "fig-raster-reproject-srtm",
      "execution_count": null,
      "outputs": []
    },
    {
      "cell_type": "markdown",
      "metadata": {},
      "source": [
        "## Custom map projections {#sec-custom-map-projections}\n",
        "\n",
        "## Exercises\n"
      ],
      "id": "98a7d1c9"
    }
  ],
  "metadata": {
    "kernelspec": {
      "name": "python3",
      "language": "python",
      "display_name": "Python 3"
    }
  },
  "nbformat": 4,
  "nbformat_minor": 5
}