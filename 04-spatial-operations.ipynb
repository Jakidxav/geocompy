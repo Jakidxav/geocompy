{
  "cells": [
    {
      "cell_type": "markdown",
      "metadata": {},
      "source": [
        "# Spatial data operations {#sec-spatial-operations}\n",
        "\n",
        "## Prerequisites\n"
      ],
      "id": "f031f0a5"
    },
    {
      "cell_type": "code",
      "metadata": {},
      "source": [
        "#| echo: false\n",
        "import pandas as pd\n",
        "import matplotlib.pyplot as plt\n",
        "pd.set_option(\"display.max_rows\", 4)\n",
        "pd.set_option(\"display.max_columns\", 6)\n",
        "pd.options.display.max_colwidth = 35\n",
        "plt.rcParams[\"figure.figsize\"] = (5, 5)"
      ],
      "id": "3be0a4a4",
      "execution_count": null,
      "outputs": []
    },
    {
      "cell_type": "markdown",
      "metadata": {},
      "source": [
        "Packages...\n"
      ],
      "id": "4d058821"
    },
    {
      "cell_type": "code",
      "metadata": {},
      "source": [
        "import shapely.geometry\n",
        "import geopandas as gpd\n",
        "import numpy as np\n",
        "import os\n",
        "import rasterio\n",
        "import scipy.ndimage\n",
        "\n",
        "from rasterio.plot import show"
      ],
      "id": "0a3d7797",
      "execution_count": null,
      "outputs": []
    },
    {
      "cell_type": "markdown",
      "metadata": {},
      "source": [
        "Let us load the sample data for this chapter:\n"
      ],
      "id": "1b986171"
    },
    {
      "cell_type": "code",
      "metadata": {},
      "source": [
        "#| echo: false\n",
        "from pathlib import Path\n",
        "data_path = Path(\"data\")\n",
        "file_path = Path(\"data/landsat.tif\")\n",
        "if not file_path.exists():\n",
        "  if not data_path.is_dir():\n",
        "     os.mkdir(data_path)\n",
        "  print(\"Attempting to get the data\")\n",
        "  import requests\n",
        "  r = requests.get(\"https://github.com/geocompr/py/releases/download/0.1/landsat.tif\")  \n",
        "  with open(file_path, \"wb\") as f:\n",
        "    f.write(r.content)"
      ],
      "id": "56cb419d",
      "execution_count": null,
      "outputs": []
    },
    {
      "cell_type": "code",
      "metadata": {},
      "source": [
        "nz = gpd.read_file(\"data/nz.gpkg\")\n",
        "nz_height = gpd.read_file(\"data/nz_height.gpkg\")\n",
        "world = gpd.read_file('data/world.gpkg')\n",
        "src_elev = rasterio.open(\"data/elev.tif\")\n",
        "src_multi_rast = rasterio.open(\"data/landsat.tif\")\n",
        "src_grain = rasterio.open('data/grain.tif')"
      ],
      "id": "002ff866",
      "execution_count": null,
      "outputs": []
    },
    {
      "cell_type": "markdown",
      "metadata": {},
      "source": [
        "## Introduction\n",
        "\n",
        "## Spatial operations on vector data {#sec-spatial-vec}\n",
        "\n",
        "### Spatial subsetting\n",
        "\n",
        "Spatial subsetting is the process of taking a spatial object and returning a new object containing only features that relate in space to another object. Analogous to attribute subsetting (covered in @sec-vector-attribute-subsetting), subsets of `GeoDataFrame`s can be created with square bracket (`[`) operator using the syntax `x[y]`, where `x` is an `GeoDataFrame` from which a subset of rows/features will be returned, and `y` is the 'subsetting object'. `y`, in turn, can be created using one of the binary geometry relation methods, such as `.intersects` (see @sec-topological-relations). \n",
        "\n",
        "To demonstrate spatial subsetting, we will use the `nz` and `nz_height` layers, which contain geographic data on the 16 main regions and 101 highest points in New Zealand, respectively (@fig-spatial-subset), in a projected coordinate system. The following code chunk creates an object representing Canterbury, then uses spatial subsetting to return all high points in the region:\n"
      ],
      "id": "537ac15b"
    },
    {
      "cell_type": "code",
      "metadata": {},
      "source": [
        "canterbury = nz[nz[\"Name\"] == \"Canterbury\"]\n",
        "sel = nz_height.intersects(canterbury['geometry'].iloc[0])\n",
        "canterbury_height = nz_height[sel]"
      ],
      "id": "74761350",
      "execution_count": null,
      "outputs": []
    },
    {
      "cell_type": "code",
      "metadata": {},
      "source": [
        "#| label: fig-spatial-subset\n",
        "#| fig-cap: Spatial subsetting of points by intersection with polygon\n",
        "\n",
        "fig, axes = plt.subplots(1, 2, figsize=(8, 4))\n",
        "base = nz.plot(color=\"white\", edgecolor=\"lightgrey\", ax=axes[0])\n",
        "nz_height.plot(ax=base, color=\"None\", edgecolor=\"red\")\n",
        "base = nz.plot(color=\"white\", edgecolor=\"lightgrey\", ax=axes[1])\n",
        "canterbury_height.plot(ax=base, color=\"None\", edgecolor=\"red\");"
      ],
      "id": "fig-spatial-subset",
      "execution_count": null,
      "outputs": []
    },
    {
      "cell_type": "markdown",
      "metadata": {},
      "source": [
        "Spatial subsetting 2...\n"
      ],
      "id": "c458408e"
    },
    {
      "cell_type": "code",
      "metadata": {},
      "source": [
        "non_canterbury_height = nz_height.overlay(canterbury, how='difference')"
      ],
      "id": "151d9e48",
      "execution_count": null,
      "outputs": []
    },
    {
      "cell_type": "markdown",
      "metadata": {},
      "source": [
        "Plot...\n"
      ],
      "id": "f2d0f130"
    },
    {
      "cell_type": "code",
      "metadata": {},
      "source": [
        "base = nz.plot(color=\"white\", edgecolor=\"lightgrey\")\n",
        "non_canterbury_height.plot(ax=base, color=\"None\", edgecolor=\"red\");"
      ],
      "id": "09a81a37",
      "execution_count": null,
      "outputs": []
    },
    {
      "cell_type": "markdown",
      "metadata": {},
      "source": [
        "...\n",
        "\n",
        "\n",
        "\n",
        "### Topological relations {#sec-topological-relations}\n",
        "\n",
        "...\n"
      ],
      "id": "63a4f6ae"
    },
    {
      "cell_type": "code",
      "metadata": {},
      "source": [
        "from shapely.geometry import Point, LineString, Polygon\n",
        "points = gpd.GeoSeries([Point(0.2,0.1), Point(0.7,0.2), Point(0.4,0.8)])\n",
        "line = LineString([(0.4,0.2), (1,0.5)])\n",
        "poly = Polygon([(0,0), (0,1), (1,1), (1,0.5), (0,0)])\n",
        "\n",
        "p = gpd.GeoSeries(poly).plot(color='yellow')\n",
        "p = gpd.GeoSeries(line).plot(ax=p, color='red')\n",
        "points.plot(ax=p)"
      ],
      "id": "52893c78",
      "execution_count": null,
      "outputs": []
    },
    {
      "cell_type": "code",
      "metadata": {},
      "source": [
        "points.intersects(poly)"
      ],
      "id": "b530321b",
      "execution_count": null,
      "outputs": []
    },
    {
      "cell_type": "code",
      "metadata": {},
      "source": [
        "points.within(poly)"
      ],
      "id": "11b6b02f",
      "execution_count": null,
      "outputs": []
    },
    {
      "cell_type": "code",
      "metadata": {},
      "source": [
        "points.touches(poly)"
      ],
      "id": "a10f386f",
      "execution_count": null,
      "outputs": []
    },
    {
      "cell_type": "code",
      "metadata": {},
      "source": [
        "points.disjoint(poly)"
      ],
      "id": "676643c8",
      "execution_count": null,
      "outputs": []
    },
    {
      "cell_type": "code",
      "metadata": {},
      "source": [
        "points.distance(poly) < 0.2"
      ],
      "id": "de72870f",
      "execution_count": null,
      "outputs": []
    },
    {
      "cell_type": "markdown",
      "metadata": {},
      "source": [
        "### DE-9IM strings\n",
        "\n",
        "...\n",
        "\n",
        "\n",
        "\n",
        "### Spatial joining\n",
        "\n",
        "Joining two non-spatial datasets relies on a shared 'key' variable, as described in @sec-vector-attribute-joining. Spatial data joining applies the same concept, but instead relies on spatial relations, described in the previous section. As with attribute data, joining adds new columns to the target object (the argument x in joining functions), from a source object (y).\n",
        "\n",
        "The process is illustrated by the following example: imagine you have ten points randomly distributed across the Earth's surface and you ask, for the points that are on land, which countries are they in? Implementing this idea in a reproducible example will build your geographic data handling skills and show how spatial joins work. The starting point is to create points that are randomly scattered over the Earth's surface:\n"
      ],
      "id": "7472117f"
    },
    {
      "cell_type": "code",
      "metadata": {},
      "source": [
        "np.random.seed(11)  ## set seed for reproducibility\n",
        "bb = world.total_bounds  ## the world's bounds\n",
        "x = np.random.uniform(low=bb[0], high=bb[2], size=10)\n",
        "y = np.random.uniform(low=bb[1], high=bb[3], size=10)\n",
        "random_points = gpd.points_from_xy(x, y, crs=4326)\n",
        "random_points = gpd.GeoSeries(random_points)\n",
        "random_points = gpd.GeoDataFrame({'geometry': random_points})\n",
        "random_points"
      ],
      "id": "2740f779",
      "execution_count": null,
      "outputs": []
    },
    {
      "cell_type": "markdown",
      "metadata": {},
      "source": [
        "The scenario illustrated in @fig-spatial-join shows that the `random_points` object (top left) lacks attribute data, while the world (top right) has attributes, including country names shown for a sample of countries in the legend. Spatial joins are implemented with `gpd.sjoin`, as illustrated in the code chunk below. The output is the `random_joined` object which is illustrated in @fig-spatial-join (bottom left). Before creating the joined dataset, we use spatial subsetting to create world_random, which contains only countries that contain random points, to verify the number of country names returned in the joined dataset should be four (see the top right panel of @fig-spatial-join).\n"
      ],
      "id": "f24576c5"
    },
    {
      "cell_type": "code",
      "metadata": {},
      "source": [
        "# Subset\n",
        "world_random = world[world.intersects(random_points.unary_union)]\n",
        "world_random"
      ],
      "id": "d3715fc7",
      "execution_count": null,
      "outputs": []
    },
    {
      "cell_type": "code",
      "metadata": {},
      "source": [
        "# Spatial join\n",
        "random_joined = gpd.sjoin(random_points, world, how='left')\n",
        "random_joined"
      ],
      "id": "4a399a0e",
      "execution_count": null,
      "outputs": []
    },
    {
      "cell_type": "code",
      "metadata": {},
      "source": [
        "#| label: fig-spatial-join\n",
        "#| fig-cap: Illustration of a spatial join. A new attribute variable is added to random points (top left) from source world object (top right) resulting in the data represented in the final panel.\n",
        "\n",
        "fig, axes = plt.subplots(2, 2, figsize=(9, 5))\n",
        "base = world.plot(color=\"white\", edgecolor=\"lightgrey\", ax=axes[0][0])\n",
        "random_points.plot(ax=base, color=\"None\", edgecolor=\"red\")\n",
        "base = world.plot(color=\"white\", edgecolor=\"lightgrey\", ax=axes[0][1])\n",
        "world_random.plot(ax=base, column='name_long')\n",
        "base = world.plot(color=\"white\", edgecolor=\"lightgrey\", ax=axes[1][0])\n",
        "random_joined.geometry.plot(ax=base, color='grey');\n",
        "random_joined.plot(ax=base, column='name_long', legend=True)\n",
        "fig.delaxes(axes[1][1]);"
      ],
      "id": "fig-spatial-join",
      "execution_count": null,
      "outputs": []
    },
    {
      "cell_type": "markdown",
      "metadata": {},
      "source": [
        "### Non-overlapping joins\n",
        "\n",
        "...\n",
        "\n",
        "### Spatial aggregation\n",
        "\n",
        "As with attribute data aggregation, spatial data aggregation condenses data: aggregated outputs have fewer rows than non-aggregated inputs. Statistical aggregating functions, such as mean, average, or sum, summarise multiple values of a variable, and return a single value per grouping variable. Section ... demonstrated how the `.groupby` method, combined with summary functions such as `.sum`, condense data based on attribute variables. This section shows how grouping by spatial objects can be acheived using spatial joins combined with non-spatial aggregation.\n",
        "\n",
        "\n",
        "Returning to the example of New Zealand, imagine you want to find out the average height of high points in each region: it is the geometry of the source (`nz`, in this case) that defines how values in the target object (`nz_height`) are grouped. This can be done in two steps. First, we \"attach\" the region classification of each point, using spatial join. Note that just one distinct attribute (such as `Name` in this case) is sufficient for our purposes:\n"
      ],
      "id": "7e30dac7"
    },
    {
      "cell_type": "code",
      "metadata": {},
      "source": [
        "gpd.sjoin(nz_height, nz[['Name', 'geometry']], how='left')"
      ],
      "id": "c56d9fb8",
      "execution_count": null,
      "outputs": []
    },
    {
      "cell_type": "markdown",
      "metadata": {},
      "source": [
        "Second, ...\n",
        "\n",
        "\n",
        "\n",
        "### Joining incongruent layers\n",
        "\n",
        "Spatial congruence is an important concept related to spatial aggregation. An aggregating object (which we will refer to as `y`) is congruent with the target object (`x`) if the two objects have shared borders. Often this is the case for administrative boundary data, whereby larger units---such as Middle Layer Super Output Areas (MSOAs) in the UK or districts in many other European countries---are composed of many smaller units.\n",
        "\n",
        "Incongruent aggregating objects, by contrast, do not share common borders with the target (Qiu, Zhang, and Zhou 2012). This is problematic for spatial aggregation (and other spatial operations) illustrated in @fig-nz-and-grid: aggregating the centroid of each sub-zone will not return accurate results. Areal interpolation overcomes this issue by transferring values from one set of areal units to another, using a range of algorithms including simple area weighted approaches and more sophisticated approaches such as 'pycnophylactic' methods (Tobler 1979).\n",
        "\n",
        "To demonstrate, we will create a \"synthetic\" layer comprising a [regular grid](https://gis.stackexchange.com/questions/322589/rasterizing-polygon-grid-in-python-geopandas-rasterio) of rectangles of size $100\\times100$ $km$, covering the extent of the `nz` layer:\n"
      ],
      "id": "484e8f6b"
    },
    {
      "cell_type": "code",
      "metadata": {},
      "source": [
        "xmin, ymin, xmax, ymax = nz.total_bounds\n",
        "res = 100000\n",
        "cols = list(range(int(np.floor(xmin)), int(np.ceil(xmax+res)), res))\n",
        "rows = list(range(int(np.floor(ymin)), int(np.ceil(ymax+res)), res))\n",
        "rows.reverse()\n",
        "polygons = []\n",
        "for x in cols:\n",
        "    for y in rows:\n",
        "        polygons.append( shapely.geometry.Polygon([(x,y), (x+res, y), (x+res, y-res), (x, y-res)]) )\n",
        "grid = gpd.GeoDataFrame({'geometry': polygons}, crs=nz.crs)\n",
        "sel = grid.intersects(shapely.geometry.box(*nz.total_bounds))\n",
        "grid = grid[sel]\n",
        "grid['id'] = grid.index\n",
        "grid"
      ],
      "id": "502c6f38",
      "execution_count": null,
      "outputs": []
    },
    {
      "cell_type": "markdown",
      "metadata": {},
      "source": [
        "as shown in @fig-nz-and-grid.\n"
      ],
      "id": "70e1e9aa"
    },
    {
      "cell_type": "code",
      "metadata": {},
      "source": [
        "#| label: fig-nz-and-grid\n",
        "#| fig-cap: The nz layer and a regular grid of rectangles\n",
        "\n",
        "base = grid.plot(color='none', edgecolor='grey')\n",
        "nz.plot(ax=base, column='Population', edgecolor='black', legend=True);"
      ],
      "id": "fig-nz-and-grid",
      "execution_count": null,
      "outputs": []
    },
    {
      "cell_type": "markdown",
      "metadata": {},
      "source": [
        "Our goal, now, is to \"transfer\" the `Population` attribute to the rectangular grid polygons, which is an example of a join between incongruent layers. To do that, we basically need to calculate--for each `grid` cell---the weighted sum of the population in `nz` polygons coinciding with that cell. The weights in the weighted sum calculation are the ratios between the area of the coinciding \"part\" out of the entire `nz` polygon. That is, we (inevitably) assume that the population in each `nz` polygon is equally distributed across space, therefore a partial `nz` polygon contains the respective partial population size.\n",
        "\n",
        "We start with calculating the entire area of each `nz` polygon, as follows, using the `.area` method (see @sec-area-length):\n"
      ],
      "id": "511097cb"
    },
    {
      "cell_type": "code",
      "metadata": {},
      "source": [
        "nz['area'] = nz.area\n",
        "nz"
      ],
      "id": "908ccbde",
      "execution_count": null,
      "outputs": []
    },
    {
      "cell_type": "markdown",
      "metadata": {},
      "source": [
        "Next, we use the `.overlay` method to calculate the pairwise intersections between `nz` and `grid`, hereby named `nz_grid`. We also calculate the area of the intersections, hereby named `area_sub`. If an `nz` polygon was completely within a single `grid` polygon, then `area_sub` is going to be equal to `area`; otherwise, it is going to be smaller:\n"
      ],
      "id": "61ed36be"
    },
    {
      "cell_type": "code",
      "metadata": {},
      "source": [
        "nz_grid = nz.overlay(grid)\n",
        "nz_grid = nz_grid[['id', 'area', 'Population', 'geometry']]\n",
        "nz_grid['area_sub'] = nz_grid.area\n",
        "nz_grid"
      ],
      "id": "5a37410a",
      "execution_count": null,
      "outputs": []
    },
    {
      "cell_type": "markdown",
      "metadata": {},
      "source": [
        "We are going to elaborate on the `.overlay` method in...\n",
        "\n",
        "The resulting layer `nz_grid` is shown in @fig-nz-and-grid2. \n"
      ],
      "id": "45b723dd"
    },
    {
      "cell_type": "code",
      "metadata": {},
      "source": [
        "#| label: fig-nz-and-grid2\n",
        "#| fig-cap: 'The nz layer and a regular grid of rectangles: after an overlay operation'\n",
        "\n",
        "base = grid.plot(color='none', edgecolor='grey')\n",
        "nz_grid.plot(ax=base, column='Population', edgecolor='black', legend=True);"
      ],
      "id": "fig-nz-and-grid2",
      "execution_count": null,
      "outputs": []
    },
    {
      "cell_type": "markdown",
      "metadata": {},
      "source": [
        "Note that each of the \"intersections\" still holds the `Population` attribute of its \"origin\" feature of `nz`, as depicted in @fig-nz-and-grid2. The real population size of each `nz_grid` feature, however, is smaller (or equal), depending on the geographic area proportion that it occupies out of the original `nz` feature. To make the \"correction\", we first calculate the ratio (`area_prop`) and then multiply it by the population. The new (lowercase) attribute `population` now has the correct estimate of population sizes in `nz_grid`:\n"
      ],
      "id": "e9ec121a"
    },
    {
      "cell_type": "code",
      "metadata": {},
      "source": [
        "nz_grid['area_prop'] = nz_grid['area_sub'] / nz_grid['area']\n",
        "nz_grid['population'] = nz_grid['Population'] * nz_grid['area_prop']\n",
        "nz_grid"
      ],
      "id": "5ceb674f",
      "execution_count": null,
      "outputs": []
    },
    {
      "cell_type": "markdown",
      "metadata": {},
      "source": [
        "What is left to be done is to sum (see @sec-vector-attribute-aggregation) the population in all parts forming the same grid cell:\n"
      ],
      "id": "e918f03d"
    },
    {
      "cell_type": "code",
      "metadata": {},
      "source": [
        "nz_grid = nz_grid.groupby('id')['population'].sum().reset_index()\n",
        "nz_grid"
      ],
      "id": "d344a33f",
      "execution_count": null,
      "outputs": []
    },
    {
      "cell_type": "markdown",
      "metadata": {},
      "source": [
        "and join (see @sec-vector-attribute-joining) them back to the `grid` layer:\n"
      ],
      "id": "3c45a6e4"
    },
    {
      "cell_type": "code",
      "metadata": {},
      "source": [
        "grid = pd.merge(grid, nz_grid[['id', 'population']], on='id', how='left')\n",
        "grid"
      ],
      "id": "d364d578",
      "execution_count": null,
      "outputs": []
    },
    {
      "cell_type": "markdown",
      "metadata": {},
      "source": [
        "The final result `grid`, with the incongruently-joined `population` attribute from `nz`, is shown in @fig-nz-and-grid3. \n"
      ],
      "id": "021ccfdf"
    },
    {
      "cell_type": "code",
      "metadata": {},
      "source": [
        "#| label: fig-nz-and-grid3\n",
        "#| fig-cap: 'The nz layer and a regular grid of rectangles: final result'\n",
        "\n",
        "base = grid.plot(column='population', edgecolor='black', legend=True);\n",
        "nz.plot(ax=base, color='none', edgecolor='grey', legend=True);"
      ],
      "id": "fig-nz-and-grid3",
      "execution_count": null,
      "outputs": []
    },
    {
      "cell_type": "markdown",
      "metadata": {},
      "source": [
        "We can demonstrate that, expectedly, the summed population in `nz` and `grid` is identical, even though the geometry is different (since we created `grid` to completely cover `nz`):\n"
      ],
      "id": "d13ae17e"
    },
    {
      "cell_type": "code",
      "metadata": {},
      "source": [
        "nz['Population'].sum()"
      ],
      "id": "dd770869",
      "execution_count": null,
      "outputs": []
    },
    {
      "cell_type": "code",
      "metadata": {},
      "source": [
        "grid['population'].sum()"
      ],
      "id": "0cc75955",
      "execution_count": null,
      "outputs": []
    },
    {
      "cell_type": "markdown",
      "metadata": {},
      "source": [
        "The procedure in this section is known as an area-weighted interpolation of a spatially extensive (e.g., population) variable. An area-weighted interpolation of a spatially intensive variable (e.g., population density) is almost identical, except that we would have to calculate the weighted `.mean` rather than `.sum`, to preserve the average rather than the sum. \n",
        "\n",
        "### Distance relations\n",
        "\n",
        "While topological relations are binary — a feature either intersects with another or does not — distance relations are continuous. The distance between two objects is calculated with the `distance` method. The method is applied on a `GeoSeries` (or a `GeoDataFrame`), with the argument being an individual `shapely` geometry. The result is a `Series` of pairwise distances.\n",
        "\n",
        "This is illustrated in the code chunk below, which finds the distance between the three highest point in New Zealand:\n"
      ],
      "id": "15540204"
    },
    {
      "cell_type": "code",
      "metadata": {},
      "source": [
        "nz_heighest = nz_height.sort_values(by='elevation', ascending=False).iloc[:3, :]\n",
        "nz_heighest"
      ],
      "id": "4aa9adb3",
      "execution_count": null,
      "outputs": []
    },
    {
      "cell_type": "markdown",
      "metadata": {},
      "source": [
        "and the geographic centroid of the Canterbury region, created in Section 4.2.1: \n"
      ],
      "id": "ffb31577"
    },
    {
      "cell_type": "code",
      "metadata": {},
      "source": [
        "canterbury_centroid = canterbury.centroid.iloc[0]"
      ],
      "id": "7730507f",
      "execution_count": null,
      "outputs": []
    },
    {
      "cell_type": "markdown",
      "metadata": {},
      "source": [
        "Here are the distances:\n"
      ],
      "id": "75651d94"
    },
    {
      "cell_type": "code",
      "metadata": {},
      "source": [
        "nz_heighest.distance(canterbury_centroid)"
      ],
      "id": "87e85873",
      "execution_count": null,
      "outputs": []
    },
    {
      "cell_type": "markdown",
      "metadata": {},
      "source": [
        "To obtain a distance matrix, i.e., a pairwise set of distances between all combinations of features in objects `x` and `y`, we need to use the `.apply` method. This is illustrated in the command below, which finds the distances between the first three features in `nz_height` and the Otago and Canterbury regions of New Zealand represented by the object `co`:\n"
      ],
      "id": "86ee49f8"
    },
    {
      "cell_type": "code",
      "metadata": {},
      "source": [
        "sel = nz['Name'].str.contains('Canter|Otag')\n",
        "co = nz[sel]\n",
        "co"
      ],
      "id": "2761f99d",
      "execution_count": null,
      "outputs": []
    },
    {
      "cell_type": "markdown",
      "metadata": {},
      "source": [
        "The distance matrix `d` is obtained as follows (technically speaking, this is a `DataFrame`). In plain language, we take the geometry from each each row in `nz_height.iloc[:3, :]`, and apply the `.distance` method on `co` with that row as the argument:\n"
      ],
      "id": "53808168"
    },
    {
      "cell_type": "code",
      "metadata": {},
      "source": [
        "d = nz_height.iloc[:3, :].apply(lambda x: co.distance(x['geometry']), axis=1)\n",
        "d"
      ],
      "id": "c00ba719",
      "execution_count": null,
      "outputs": []
    },
    {
      "cell_type": "markdown",
      "metadata": {},
      "source": [
        "Note that the distance between the second and third features in `nz_height` and the second feature in `co` is zero. This demonstrates the fact that distances between points and polygons refer to the distance to any part of the polygon: The second and third points in `nz_height` are in Otago, which can be verified by plotting them:\n"
      ],
      "id": "754dcf49"
    },
    {
      "cell_type": "code",
      "metadata": {},
      "source": [
        "base = co.iloc[[1]].plot(color='none')\n",
        "nz_height.iloc[1:3, :].plot(ax=base);"
      ],
      "id": "a8bd6b54",
      "execution_count": null,
      "outputs": []
    },
    {
      "cell_type": "markdown",
      "metadata": {},
      "source": [
        "## Spatial operations on raster data {#spatial-ras}\n",
        "\n",
        "### Spatial subsetting\n",
        "\n",
        "The previous chapter (Section @sec-manipulating-raster-objects) demonstrated how to retrieve values associated with specific cell IDs or row and column combinations. Raster objects can also be extracted by location (coordinates) and other spatial objects. To use coordinates for subsetting, we can use the `.sample` method of a `rasterio` file connection object, combined with a list of coordinate tuples. The methods is demonstrated below to find the value of the cell that covers a point located at coordinates of 0.1, 0.1 in `elev`. The returned object is a *generator*: \n"
      ],
      "id": "a3a5e801"
    },
    {
      "cell_type": "code",
      "metadata": {},
      "source": [
        "src_elev.sample([(0.1, 0.1)])"
      ],
      "id": "434b442a",
      "execution_count": null,
      "outputs": []
    },
    {
      "cell_type": "markdown",
      "metadata": {},
      "source": [
        "In case we want all values at once we can apply `list`. The result is `16`:\n"
      ],
      "id": "d4cdfec5"
    },
    {
      "cell_type": "code",
      "metadata": {},
      "source": [
        "list(src_elev.sample([(0.1, 0.1)]))"
      ],
      "id": "d0c15b71",
      "execution_count": null,
      "outputs": []
    },
    {
      "cell_type": "markdown",
      "metadata": {},
      "source": [
        "Raster objects can also be subset with another raster object, as demonstrated in the code chunk below:\n",
        "\n",
        "...\n"
      ],
      "id": "ea2e18ff"
    },
    {
      "cell_type": "code",
      "metadata": {},
      "source": [
        "# ..."
      ],
      "id": "c2de6edc",
      "execution_count": null,
      "outputs": []
    },
    {
      "cell_type": "markdown",
      "metadata": {},
      "source": [
        "Another common use case of spatial subsetting is using a boolean mask, based on another raster with the same extent and resolution, or the original one, as illustrated in Figure .... To do that, we \"erase\" the values in the array of one raster, according to another corresponding \"mask\" raster. For example, let us read the `elev.tif` raster array: \n"
      ],
      "id": "876abd50"
    },
    {
      "cell_type": "code",
      "metadata": {},
      "source": [
        "elev = src_elev.read(1)\n",
        "elev"
      ],
      "id": "777f265b",
      "execution_count": null,
      "outputs": []
    },
    {
      "cell_type": "markdown",
      "metadata": {},
      "source": [
        "and create a correspinding random mask:\n"
      ],
      "id": "6e18df0c"
    },
    {
      "cell_type": "code",
      "metadata": {},
      "source": [
        "np.random.seed(1)\n",
        "mask = np.random.choice([True, False], elev.shape)\n",
        "mask"
      ],
      "id": "8a95d1bd",
      "execution_count": null,
      "outputs": []
    },
    {
      "cell_type": "markdown",
      "metadata": {},
      "source": [
        "In the code chunk above, we have created a mask object called `mask` with values randomly assigned to `True` and `False`. Next, we want to keep those values of `elev` which are `False` in `mask` (i.e., they are *not* masked). In other words, we want to mask `elev` with `mask`. The result is stored in a copy named `elev1`. To be able to store `np.nan` in the raster, we also need to convert it to float (see @sec-summarizing-raster-objects):\n"
      ],
      "id": "9e3d3e15"
    },
    {
      "cell_type": "code",
      "metadata": {},
      "source": [
        "elev1 = elev.copy()\n",
        "elev1 = elev1.astype('float64')\n",
        "elev1[mask] = np.nan\n",
        "elev1"
      ],
      "id": "6403d81b",
      "execution_count": null,
      "outputs": []
    },
    {
      "cell_type": "markdown",
      "metadata": {},
      "source": [
        "The result is shown in @fig-raster-subset.\n"
      ],
      "id": "aac0d76a"
    },
    {
      "cell_type": "code",
      "metadata": {},
      "source": [
        "#| label: fig-raster-subset\n",
        "#| fig-cap: Original raster (left). Raster mask (middle). Output of masking a raster (right).\n",
        "\n",
        "fig, axes = plt.subplots(ncols=3, figsize=(9,5))\n",
        "show(elev, ax=axes[0])\n",
        "show(mask, ax=axes[1])\n",
        "show(elev1, ax=axes[2])\n",
        "axes[0].set_title(\"Original\")\n",
        "axes[1].set_title(\"Mask\")\n",
        "axes[2].set_title(\"Result\");"
      ],
      "id": "fig-raster-subset",
      "execution_count": null,
      "outputs": []
    },
    {
      "cell_type": "markdown",
      "metadata": {},
      "source": [
        "The above approach can be also used to replace some values (e.g., expected to be wrong) with `nan`:\n"
      ],
      "id": "4c5b9ac3"
    },
    {
      "cell_type": "code",
      "metadata": {},
      "source": [
        "elev1 = elev.copy()\n",
        "elev1 = elev1.astype('float64')\n",
        "elev1[elev1 < 20] = np.nan\n",
        "elev1"
      ],
      "id": "11057c0d",
      "execution_count": null,
      "outputs": []
    },
    {
      "cell_type": "markdown",
      "metadata": {},
      "source": [
        "These operations are in fact Boolean local operations, since we compare cell-wise two rasters. The next subsection explores these and related operations in more detail.\n",
        "\n",
        "### Map algebra {#sec-map-algebra}\n",
        "\n",
        "The term 'map algebra' was coined in the late 1970s to describe a \"set of conventions, capabilities, and techniques\" for the analysis of geographic raster and (although less prominently) vector data (Tomlin 1994). In this context, we define map algebra more narrowly, as operations that modify or summarise raster cell values, with reference to surrounding cells, zones, or statistical functions that apply to every cell.\n",
        "\n",
        "Map algebra operations tend to be fast, because raster datasets only implicitly store coordinates, hence the old adage “raster is faster but vector is corrector”. The location of cells in raster datasets can be calculated by using its matrix position and the resolution and origin of the dataset (stored in the header). For the processing, however, the geographic position of a cell is barely relevant as long as we make sure that the cell position is still the same after the processing. Additionally, if two or more raster datasets share the same extent, projection and resolution, one could treat them as matrices for the processing.\n",
        "\n",
        "This is the way that map algebra works with the terra package. First, the headers of the raster datasets are queried and (in cases where map algebra operations work on more than one dataset) checked to ensure the datasets are compatible. Second, map algebra retains the so-called one-to-one locational correspondence, meaning that cells cannot move. This differs from matrix algebra, in which values change position, for example when multiplying or dividing matrices.\n",
        "\n",
        "Map algebra (or cartographic modeling with raster data) divides raster operations into four subclasses (Tomlin 1990), with each working on one or several grids simultaneously:\n",
        "\n",
        "* Local or per-cell operations\n",
        "* Focal or neighborhood operations. Most often the output cell value is the result of a 3 x 3 input cell block\n",
        "* Zonal operations are similar to focal operations, but the surrounding pixel grid on which new values are computed can have irregular sizes and shapes\n",
        "* Global or per-raster operations; that means the output cell derives its value potentially from one or several entire rasters\n",
        "\n",
        "This typology classifies map algebra operations by the number of cells used for each pixel processing step and the type of the output. For the sake of completeness, we should mention that raster operations can also be classified by discipline such as terrain, hydrological analysis, or image classification. The following sections explain how each type of map algebra operations can be used, with reference to worked examples.\n",
        "\n",
        "### Local operations {#sec-raster-local-operations}\n",
        "\n",
        "Local operations comprise all cell-by-cell operations in one or several layers. \n",
        "Raster algebra is a classical use case of local operations - this includes adding or subtracting values from a raster, squaring and multipling rasters. \n",
        "Raster algebra also allows logical operations such as finding all raster cells that are greater than a specific value (5 in our example below). \n",
        "Local operations are applied using the `numpy` array operations syntax, as demonstrated below:\n",
        "\n",
        "First, we need to read raster values:\n"
      ],
      "id": "9d571a53"
    },
    {
      "cell_type": "code",
      "metadata": {},
      "source": [
        "elev = src_elev.read(1)\n",
        "elev"
      ],
      "id": "f96bdfb3",
      "execution_count": null,
      "outputs": []
    },
    {
      "cell_type": "markdown",
      "metadata": {},
      "source": [
        "Now, any element-wise array operation can be applied. For example:\n"
      ],
      "id": "da3f2865"
    },
    {
      "cell_type": "code",
      "metadata": {},
      "source": [
        "elev + elev"
      ],
      "id": "e8f9bcea",
      "execution_count": null,
      "outputs": []
    },
    {
      "cell_type": "markdown",
      "metadata": {},
      "source": [
        "@fig-raster-local-operations demonstrates a few more examples.\n"
      ],
      "id": "7f2223a7"
    },
    {
      "cell_type": "code",
      "metadata": {},
      "source": [
        "#| label: fig-raster-local-operations\n",
        "#| fig-cap: 'Examples of different local operations of the elev raster object: adding two rasters, squaring, applying logarithmic transformation, and performing a logical operation.'\n",
        "\n",
        "fig, axes = plt.subplots(ncols=4, figsize=(9,5))\n",
        "show(elev + elev, ax=axes[0], cmap=\"Oranges\")\n",
        "show(elev ** 2, ax=axes[1], cmap=\"Oranges\")\n",
        "show(np.log(elev), ax=axes[2], cmap=\"Oranges\")\n",
        "show(elev > 5, ax=axes[3], cmap=\"Oranges\")\n",
        "axes[0].set_title(\"elev+elev\")\n",
        "axes[1].set_title(\"elev ** 2\")\n",
        "axes[2].set_title(\"np.log(elev)\")\n",
        "axes[3].set_title(\"elev > 5\");"
      ],
      "id": "fig-raster-local-operations",
      "execution_count": null,
      "outputs": []
    },
    {
      "cell_type": "markdown",
      "metadata": {},
      "source": [
        "Another good example of local operations is the classification of intervals of numeric values into groups such as grouping a digital elevation model into low (class 1), middle (class 2) and high elevations (class 3). Here, we assign the raster values in the ranges 0–12, 12–24 and 24–36 are reclassified to take values 1, 2 and 3, respectively.\n"
      ],
      "id": "3b9b72d7"
    },
    {
      "cell_type": "code",
      "metadata": {},
      "source": [
        "recl = elev.copy()\n",
        "recl[(elev > 0)  & (elev <= 12)] = 1\n",
        "recl[(elev > 12) & (elev <= 24)] = 2\n",
        "recl[(elev > 24) & (elev <= 36)] = 3"
      ],
      "id": "23bb1f01",
      "execution_count": null,
      "outputs": []
    },
    {
      "cell_type": "markdown",
      "metadata": {},
      "source": [
        "The reclassified result is shown in @fig-raster-reclassify.\n"
      ],
      "id": "734e150d"
    },
    {
      "cell_type": "code",
      "metadata": {},
      "source": [
        "#| label: fig-raster-reclassify\n",
        "#| fig-cap: Reclassifying a continuous raster into three categories.\n",
        "\n",
        "fig, axes = plt.subplots(ncols=2, figsize=(9,5))\n",
        "show(elev, ax=axes[0], cmap=\"Oranges\")\n",
        "show(recl, ax=axes[1], cmap=\"Oranges\")\n",
        "axes[0].set_title(\"Original\")\n",
        "axes[1].set_title(\"Reclassified\");"
      ],
      "id": "fig-raster-reclassify",
      "execution_count": null,
      "outputs": []
    },
    {
      "cell_type": "markdown",
      "metadata": {},
      "source": [
        "The calculation of the normalized difference vegetation index (NDVI) is a well-known local (pixel-by-pixel) raster operation. It returns a raster with values between -1 and 1; positive values indicate the presence of living plants (mostly > 0.2). NDVI is calculated from red and near-infrared (NIR) bands of remotely sensed imagery, typically from satellite systems such as Landsat or Sentinel. Vegetation absorbs light heavily in the visible light spectrum, and especially in the red channel, while reflecting NIR light, explaining the NVDI formula:\n",
        "\n",
        "$$NDVI=\\frac{NIR-Red} {NIR+Red}$$\n",
        "\n",
        "Let's calculate NDVI for the multispectral satellite file of the Zion National Park.\n"
      ],
      "id": "6889b1ea"
    },
    {
      "cell_type": "code",
      "metadata": {},
      "source": [
        "multi_rast = src_multi_rast.read()\n",
        "nir = multi_rast[3,:,:]\n",
        "red = multi_rast[2,:,:]\n",
        "ndvi = (nir-red)/(nir+red)"
      ],
      "id": "7f5ce826",
      "execution_count": null,
      "outputs": []
    },
    {
      "cell_type": "markdown",
      "metadata": {},
      "source": [
        "Convert values >1 to \"No Data\":\n"
      ],
      "id": "9a4ce240"
    },
    {
      "cell_type": "code",
      "metadata": {},
      "source": [
        "ndvi[ndvi>1] = np.nan"
      ],
      "id": "bf0d3f38",
      "execution_count": null,
      "outputs": []
    },
    {
      "cell_type": "markdown",
      "metadata": {},
      "source": [
        "When plotting an RGB image using the `show` function, the function assumes that:\n",
        "\n",
        "* Values are in the range `[0,1]` for floats, or `[0,255]` for integers (otherwise clipped)\n",
        "* The order of bands is RGB\n",
        "\n",
        "To \"prepare\" the multi-band raster for `show`, we therefore reverse the order of bands (which is originally BGR+NIR), and divided by the maximum to set the maximum value at `1`:\n"
      ],
      "id": "778adff5"
    },
    {
      "cell_type": "code",
      "metadata": {},
      "source": [
        "multi_rast_rgb = multi_rast[(2,1,0), :, :] / multi_rast.max()"
      ],
      "id": "f1a02818",
      "execution_count": null,
      "outputs": []
    },
    {
      "cell_type": "markdown",
      "metadata": {},
      "source": [
        "The result is shown in @fig-raster-ndvi.\n"
      ],
      "id": "006a953c"
    },
    {
      "cell_type": "code",
      "metadata": {},
      "source": [
        "#| label: fig-raster-ndvi\n",
        "#| fig-cap: RGB image (left) and NDVI values (right) calculated for the example satellite file of the Zion National Park.\n",
        "\n",
        "fig, axes = plt.subplots(ncols=2, figsize=(9,5))\n",
        "show(multi_rast_rgb, ax=axes[0], cmap=\"RdYlGn\")\n",
        "show(ndvi, ax=axes[1], cmap=\"Greens\")\n",
        "axes[0].set_title(\"RGB image\")\n",
        "axes[1].set_title(\"NDVI\");"
      ],
      "id": "fig-raster-ndvi",
      "execution_count": null,
      "outputs": []
    },
    {
      "cell_type": "markdown",
      "metadata": {},
      "source": [
        "### Focal operations\n",
        "\n",
        "While local functions operate on one cell, though possibly from multiple layers, focal operations take into account a central (focal) cell and its neighbors. \n",
        "The neighborhood (also named kernel, filter or moving window) under consideration is typically of size 3-by-3 cells (that is the central cell and its eight surrounding neighbors), but can take on any other (not necessarily rectangular) shape as defined by the user. \n",
        "A focal operation applies an aggregation function to all cells within the specified neighborhood, uses the corresponding output as the new value for the the central cell, and moves on to the next central cell (Figure ...). \n",
        "Other names for this operation are spatial filtering and convolution (Burrough, McDonnell, and Lloyd 2015).\n",
        "\n",
        "In Python, the `scipy.ndimage` package has a comprehensive collection of [functions](https://docs.scipy.org/doc/scipy/reference/ndimage.html#filters) to perform filtering of `numpy` arrays, such as:\n",
        "\n",
        "* `minimum_filter`\n",
        "* `maximum_filter`\n",
        "* `uniform_filter` (i.e., mean filter)\n",
        "* `median_filter`\n",
        "etc.\n",
        "\n",
        "In this group of functions, we define the shape of the moving window with either one of:\n",
        "\n",
        "* `size`—a single number or tuple, implying a filter of those dimensions\n",
        "* `footprint`—a boolean array, representing both the window shape and the identity of elements being included\n",
        "\n",
        "In addition to specific built-in filters, \n",
        "\n",
        "* `convolve` applies the sum function after multiplying by a custom `weights` array\n",
        "* `generic_filter` makes it possible to pass any custom function, where the user can specify any type of custom window-based calculatio.\n",
        "\n",
        "For example, here we apply the minimum filter with window size of `3` on `elev`: \n"
      ],
      "id": "0ee5923f"
    },
    {
      "cell_type": "code",
      "metadata": {},
      "source": [
        "elev"
      ],
      "id": "71c14a62",
      "execution_count": null,
      "outputs": []
    },
    {
      "cell_type": "code",
      "metadata": {},
      "source": [
        "elev_min = scipy.ndimage.minimum_filter(elev, size=3)\n",
        "elev_min"
      ],
      "id": "e3b84934",
      "execution_count": null,
      "outputs": []
    },
    {
      "cell_type": "markdown",
      "metadata": {},
      "source": [
        "Special care should be given to the edge pixels. How should they be calculated? `scipy.ndimage` gives several options through the `mode` parameter:\n",
        "\n",
        "* `reflect` (the default)\n",
        "* `constant`\n",
        "* `nearest`\n",
        "* `mirror`\n",
        "* `wrap`\n",
        "\n",
        "Sometimes artificially extending raster edges is considered unsuitable. \n",
        "In other words, we may wish the resulting raster to contain pixel values with \"complete\" windows only, for example to have a uniform sample size or because values in all directions matter (such as in topographic calculations). \n",
        "There is no specific option *not* to extend edges in `scipy.ndimage`. \n",
        "However, to get the same effect, the edges of the filtered array can be assigned with `nan`, in a number of rows and columns according to filter size. \n",
        "For example, when using a filter of `size=3`, the first \"layer\" of pixels may be assigned with `nan`, reflecting the fact that these pixels have incomplete 3*3 neighborhoods:\n"
      ],
      "id": "7750a77a"
    },
    {
      "cell_type": "code",
      "metadata": {},
      "source": [
        "elev_min = elev_min.astype('float')\n",
        "elev_min[:, [0, -1]] = np.nan\n",
        "elev_min[[0, -1], :] = np.nan\n",
        "elev_min"
      ],
      "id": "412455b4",
      "execution_count": null,
      "outputs": []
    },
    {
      "cell_type": "markdown",
      "metadata": {},
      "source": [
        "We can quickly check if the output meets our expectations. \n",
        "In our example, the minimum value has to be always the upper left corner of the moving window (remember we have created the input raster by row-wise incrementing the cell values by one starting at the upper left corner). \n",
        "\n",
        "Focal functions or filters play a dominant role in image processing. Low-pass or smoothing filters use the mean function to remove extremes. \n",
        "In the case of categorical data, we can replace the mean with the mode, which is the most common value. \n",
        "By contrast, high-pass filters accentuate features. The line detection Laplace and Sobel filters might serve as an example here. \n",
        "\n",
        "Terrain processing, the calculation of topographic characteristics such as slope, aspect and flow directions, relies on focal functions. \n",
        "The `TerrainAttribute` function from package `richdem` can be used to calculate common [metrics](https://richdem.readthedocs.io/en/latest/python_api.html?highlight=TerrainAttribute#richdem.TerrainAttribute), specified through the `attrib` argument, namely:\n",
        "\n",
        "* `slope_riserun` \tHorn (1981) doi: 10.1109/PROC.1981.11918\n",
        "* `slope_percentage` \tHorn (1981) doi: 10.1109/PROC.1981.11918\n",
        "* `slope_degrees` \tHorn (1981) doi: 10.1109/PROC.1981.11918\n",
        "* `slope_radians` \tHorn (1981) doi: 10.1109/PROC.1981.11918\n",
        "* `aspect` \tHorn (1981) doi: 10.1109/PROC.1981.11918\n",
        "* `curvature` \tZevenbergen and Thorne (1987) doi: 10.1002/esp.3290120107\n",
        "* `planform_curvature` \tZevenbergen and Thorne (1987) doi: 10.1002/esp.3290120107\n",
        "* `profile_curvature` \tZevenbergen and Thorne (1987) doi: 10.1002/esp.3290120107\n",
        "\n",
        "### Zonal operations\n",
        "\n",
        "Just like focal operations, zonal operations apply an aggregation function to multiple raster cells. \n",
        "However, a second raster, usually with categorical values, defines the zonal filters (or 'zones') in the case of zonal operations, as opposed to a predefined neighborhood window in the case of focal operation presented in the previous section. \n",
        "Consequently, raster cells defining the zonal filter do not necessarily have to be neighbors. \n",
        "Our grain size raster is a good example, as illustrated in the right panel of Figure 3.2: different grain sizes are spread irregularly throughout the raster. \n",
        "Finally, the result of a zonal operation is a summary table grouped by zone which is why this operation is also known as zonal statistics in the GIS world. This is in contrast to focal operations which return a raster object.\n",
        "\n",
        "To demonstrate, let us get back to the `grain` and `elev` rasters (Figure 3.2). To calculate zonal statistics, we use the arrays with raster values. The `elev` array was already imported earlier:\n",
        "\n",
        "```{python}geopandas as gpd"
      ],
      "id": "0ab14e29"
    },
    {
      "cell_type": "code",
      "metadata": {},
      "source": [
        "grain = src_grain.read(1)\n",
        "grain"
      ],
      "id": "1383b2ba",
      "execution_count": null,
      "outputs": []
    },
    {
      "cell_type": "markdown",
      "metadata": {},
      "source": [
        "Our interntion is to calculate the average (or any other summary function, for that matter) of *elevation* in each zone defined by *grain* values. First, we can obtain the unique values defining the zones using `np.unique`: \n"
      ],
      "id": "7b6cade0"
    },
    {
      "cell_type": "code",
      "metadata": {},
      "source": [
        "np.unique(grain)"
      ],
      "id": "42c9c7a2",
      "execution_count": null,
      "outputs": []
    },
    {
      "cell_type": "markdown",
      "metadata": {},
      "source": [
        "Now, we can use [dictionary conprehension](https://stackoverflow.com/questions/14507591/python-dictionary-comprehension) to \"split\" the `elev` array into separate one-dimensional arrays with values per `grain` group, with keys being the unique `grain` values:\n"
      ],
      "id": "da8456de"
    },
    {
      "cell_type": "code",
      "metadata": {},
      "source": [
        "z = {i: elev[grain == i] for i in np.unique(grain)}\n",
        "z"
      ],
      "id": "4b271c65",
      "execution_count": null,
      "outputs": []
    },
    {
      "cell_type": "markdown",
      "metadata": {},
      "source": [
        "At this stage, we can expand the dictionary comprehension expression to calculate the mean elevation associated with each grain size class. Instead of placing the elevation values (`elev[grain==i]`) into the dictionary values, we place their mean (`elev[grain==i].mean()`):\n"
      ],
      "id": "6e33ddeb"
    },
    {
      "cell_type": "code",
      "metadata": {},
      "source": [
        "z = {i: elev[grain == i].mean() for i in np.unique(grain)}\n",
        "z"
      ],
      "id": "12b5aa13",
      "execution_count": null,
      "outputs": []
    },
    {
      "cell_type": "markdown",
      "metadata": {},
      "source": [
        "This returns the statistics for each category, here the mean elevation for each grain size class. For example, the mean elevation in pixels characterized by grain size `0` is `14.8`, and so on.\n",
        "\n",
        "### Global operations and distances\n",
        "\n",
        "...\n",
        "\n",
        "### Map algebra counterparts in vector processing\n",
        "\n",
        "...\n",
        "\n",
        "### Merging rasters\n",
        "\n",
        "...\n",
        "\n",
        "## Exercises\n",
        "\n",
        "* Write a function which accepts and array and an `int` specifying the number of rows/columns to erase along an array edges. The function needs to return the modified array with `nan` values along its edges.\n"
      ],
      "id": "0ae4ece3"
    }
  ],
  "metadata": {
    "kernelspec": {
      "name": "python3",
      "language": "python",
      "display_name": "Python 3"
    }
  },
  "nbformat": 4,
  "nbformat_minor": 5
}