{
  "cells": [
    {
      "cell_type": "markdown",
      "metadata": {},
      "source": [
        "# Spatial data operations {#spatial-operations}\n",
        "\n",
        "## Prerequisites"
      ]
    },
    {
      "cell_type": "code",
      "execution_count": 1,
      "metadata": {},
      "outputs": [],
      "source": [
        "#| echo: false\n",
        "import pandas as pd\n",
        "import matplotlib.pyplot as plt\n",
        "pd.set_option(\"display.max_rows\", 4)\n",
        "pd.set_option(\"display.max_columns\", 6)\n",
        "pd.options.display.max_rows = 10\n",
        "pd.options.display.max_columns = 6\n",
        "pd.options.display.max_colwidth = 35\n",
        "plt.rcParams[\"figure.figsize\"] = (5, 5)"
      ]
    },
    {
      "cell_type": "markdown",
      "metadata": {},
      "source": [
        "Packages..."
      ]
    },
    {
      "cell_type": "code",
      "execution_count": 2,
      "metadata": {},
      "outputs": [
        {
          "name": "stderr",
          "output_type": "stream",
          "text": [
            "/home/michael/.local/lib/python3.8/site-packages/geopandas/_compat.py:111: UserWarning: The Shapely GEOS version (3.10.2-CAPI-1.16.0) is incompatible with the GEOS version PyGEOS was compiled with (3.10.1-CAPI-1.16.0). Conversions between both will be slow.\n",
            "  warnings.warn(\n"
          ]
        }
      ],
      "source": [
        "import geopandas as gpd\n",
        "import numpy as np\n",
        "import os\n",
        "import rasterio\n",
        "import scipy.ndimage\n",
        "\n",
        "from rasterio.plot import show"
      ]
    },
    {
      "cell_type": "markdown",
      "metadata": {},
      "source": [
        "Let us load the sample data for this chapter:"
      ]
    },
    {
      "cell_type": "code",
      "execution_count": 3,
      "metadata": {},
      "outputs": [],
      "source": [
        "#| echo: false\n",
        "from pathlib import Path\n",
        "data_path = Path(\"data\")\n",
        "file_path = Path(\"data/landsat.tif\")\n",
        "if not file_path.exists():\n",
        "  if not data_path.is_dir():\n",
        "     os.mkdir(data_path)\n",
        "  print(\"Attempting to get the data\")\n",
        "  import requests\n",
        "  r = requests.get(\"https://github.com/geocompr/py/releases/download/0.1/landsat.tif\")  \n",
        "  with open(file_path, \"wb\") as f:\n",
        "    f.write(r.content)"
      ]
    },
    {
      "cell_type": "code",
      "execution_count": 4,
      "metadata": {},
      "outputs": [],
      "source": [
        "nz = gpd.read_file(\"data/nz.gpkg\")\n",
        "nz_height = gpd.read_file(\"data/nz_height.gpkg\")\n",
        "world = gpd.read_file('data/world.gpkg')\n",
        "src_elev = rasterio.open(\"data/elev.tif\")\n",
        "src_multi_rast = rasterio.open(\"data/landsat.tif\")"
      ]
    },
    {
      "cell_type": "markdown",
      "metadata": {},
      "source": [
        "## Introduction\n",
        "\n",
        "## Spatial operations on vector data {#spatial-vec}\n",
        "\n",
        "### Spatial subsetting\n",
        "\n",
        "Spatial subsetting is the process of taking a spatial object and returning a new object containing only features that relate in space to another object. Analogous to attribute subsetting (covered in @sec-vector-attribute-subsetting), subsets of sf data frames can be created with square bracket ([) operator using the syntax x[y, , op = st_intersects], where x is an sf object from which a subset of rows will be returned, y is the ‘subsetting object’ and , op = st_intersects is an optional argument that specifies the topological relation (also known as the binary predicate) used to do the subsetting. The default topological relation used when an op argument is not provided is st_intersects(): the command x[y, ] is identical to x[y, , op = st_intersects] shown above but not x[y, , op = st_disjoint] (the meaning of these and other topological relations is described in the next section). The filter() function from the tidyverse can also be used but this approach is more verbose, as we will see in the examples below.\n",
        "\n",
        "To demonstrate spatial subsetting, we will use the nz and nz_height datasets in the spData package, which contain geographic data on the 16 main regions and 101 highest points in New Zealand, respectively (@fig-spatial-subset), in a projected coordinate system. The following code chunk creates an object representing Canterbury, then uses spatial subsetting to return all high points in the region:"
      ]
    },
    {
      "cell_type": "code",
      "execution_count": 5,
      "metadata": {},
      "outputs": [],
      "source": [
        "canterbury = nz[nz[\"Name\"] == \"Canterbury\"]\n",
        "sel = nz_height.intersects(canterbury['geometry'].iloc[0])\n",
        "canterbury_height = nz_height[sel]"
      ]
    },
    {
      "cell_type": "code",
      "execution_count": 6,
      "metadata": {},
      "outputs": [
        {
          "data": {
            "image/png": "[encoded data removed]",
            "text/plain": [
              "<Figure size 576x288 with 2 Axes>"
            ]
          },
          "metadata": {
            "needs_background": "light"
          },
          "output_type": "display_data"
        }
      ],
      "source": [
        "#| label: fig-spatial-subset\n",
        "#| fig-cap: Spatial subsetting of points by intersection with polygon\n",
        "\n",
        "fig, axes = plt.subplots(1, 2, figsize=(8, 4))\n",
        "base = nz.plot(color=\"white\", edgecolor=\"lightgrey\", ax=axes[0])\n",
        "nz_height.plot(ax=base, color=\"None\", edgecolor=\"red\")\n",
        "base = nz.plot(color=\"white\", edgecolor=\"lightgrey\", ax=axes[1])\n",
        "canterbury_height.plot(ax=base, color=\"None\", edgecolor=\"red\");"
      ]
    },
    {
      "cell_type": "markdown",
      "metadata": {},
      "source": [
        "Spatial subsetting 2..."
      ]
    },
    {
      "cell_type": "code",
      "execution_count": 7,
      "metadata": {},
      "outputs": [],
      "source": [
        "non_canterbury_height = nz_height.overlay(canterbury, how='difference')"
      ]
    },
    {
      "cell_type": "markdown",
      "metadata": {},
      "source": [
        "Plot..."
      ]
    },
    {
      "cell_type": "code",
      "execution_count": 8,
      "metadata": {},
      "outputs": [
        {
          "data": {
            "image/png": "[encoded data removed]",
            "text/plain": [
              "<Figure size 360x360 with 1 Axes>"
            ]
          },
          "metadata": {
            "needs_background": "light"
          },
          "output_type": "display_data"
        }
      ],
      "source": [
        "base = nz.plot(color=\"white\", edgecolor=\"lightgrey\")\n",
        "non_canterbury_height.plot(ax=base, color=\"None\", edgecolor=\"red\");"
      ]
    },
    {
      "cell_type": "markdown",
      "metadata": {},
      "source": [
        "...\n",
        "\n",
        "\n",
        "\n",
        "### Topological relations\n",
        "\n",
        "..."
      ]
    },
    {
      "cell_type": "code",
      "execution_count": 9,
      "metadata": {},
      "outputs": [
        {
          "data": {
            "text/plain": [
              "<AxesSubplot:>"
            ]
          },
          "execution_count": 9,
          "metadata": {},
          "output_type": "execute_result"
        },
        {
          "data": {
            "image/png": "[encoded data removed]",
            "text/plain": [
              "<Figure size 360x360 with 1 Axes>"
            ]
          },
          "metadata": {
            "needs_background": "light"
          },
          "output_type": "display_data"
        }
      ],
      "source": [
        "from shapely.geometry import Point, LineString, Polygon\n",
        "points = gpd.GeoSeries([Point(0.2,0.1), Point(0.7,0.2), Point(0.4,0.8)])\n",
        "line = LineString([(0.4,0.2), (1,0.5)])\n",
        "poly = Polygon([(0,0), (0,1), (1,1), (1,0.5), (0,0)])\n",
        "\n",
        "p = gpd.GeoSeries(poly).plot(color='yellow')\n",
        "p = gpd.GeoSeries(line).plot(ax=p, color='red')\n",
        "points.plot(ax=p)"
      ]
    },
    {
      "cell_type": "code",
      "execution_count": 10,
      "metadata": {},
      "outputs": [
        {
          "data": {
            "text/plain": [
              "0     True\n",
              "1    False\n",
              "2     True\n",
              "dtype: bool"
            ]
          },
          "execution_count": 10,
          "metadata": {},
          "output_type": "execute_result"
        }
      ],
      "source": [
        "points.intersects(poly)"
      ]
    },
    {
      "cell_type": "code",
      "execution_count": 11,
      "metadata": {},
      "outputs": [
        {
          "data": {
            "text/plain": [
              "0    False\n",
              "1    False\n",
              "2     True\n",
              "dtype: bool"
            ]
          },
          "execution_count": 11,
          "metadata": {},
          "output_type": "execute_result"
        }
      ],
      "source": [
        "points.within(poly)"
      ]
    },
    {
      "cell_type": "code",
      "execution_count": 12,
      "metadata": {},
      "outputs": [
        {
          "data": {
            "text/plain": [
              "0     True\n",
              "1    False\n",
              "2    False\n",
              "dtype: bool"
            ]
          },
          "execution_count": 12,
          "metadata": {},
          "output_type": "execute_result"
        }
      ],
      "source": [
        "points.touches(poly)"
      ]
    },
    {
      "cell_type": "code",
      "execution_count": 13,
      "metadata": {},
      "outputs": [
        {
          "data": {
            "text/plain": [
              "0    False\n",
              "1     True\n",
              "2    False\n",
              "dtype: bool"
            ]
          },
          "execution_count": 13,
          "metadata": {},
          "output_type": "execute_result"
        }
      ],
      "source": [
        "points.disjoint(poly)"
      ]
    },
    {
      "cell_type": "code",
      "execution_count": 14,
      "metadata": {},
      "outputs": [
        {
          "data": {
            "text/plain": [
              "0    True\n",
              "1    True\n",
              "2    True\n",
              "dtype: bool"
            ]
          },
          "execution_count": 14,
          "metadata": {},
          "output_type": "execute_result"
        }
      ],
      "source": [
        "points.distance(poly) < 0.2"
      ]
    },
    {
      "cell_type": "markdown",
      "metadata": {},
      "source": [
        "### DE-9IM strings\n",
        "\n",
        "...\n",
        "\n",
        "\n",
        "\n",
        "### Spatial joining\n",
        "\n",
        "Joining two non-spatial datasets relies on a shared 'key' variable, as described in @sec-vector-attribute-joining. Spatial data joining applies the same concept, but instead relies on spatial relations, described in the previous section. As with attribute data, joining adds new columns to the target object (the argument x in joining functions), from a source object (y).\n",
        "\n",
        "The process is illustrated by the following example: imagine you have ten points randomly distributed across the Earth's surface and you ask, for the points that are on land, which countries are they in? Implementing this idea in a reproducible example will build your geographic data handling skills and show how spatial joins work. The starting point is to create points that are randomly scattered over the Earth's surface:"
      ]
    },
    {
      "cell_type": "code",
      "execution_count": 15,
      "metadata": {},
      "outputs": [
        {
          "data": {
            "text/html": [
              "<div>\n",
              "<style scoped>\n",
              "    .dataframe tbody tr th:only-of-type {\n",
              "        vertical-align: middle;\n",
              "    }\n",
              "\n",
              "    .dataframe tbody tr th {\n",
              "        vertical-align: top;\n",
              "    }\n",
              "\n",
              "    .dataframe thead th {\n",
              "        text-align: right;\n",
              "    }\n",
              "</style>\n",
              "<table border=\"1\" class=\"dataframe\">\n",
              "  <thead>\n",
              "    <tr style=\"text-align: right;\">\n",
              "      <th></th>\n",
              "      <th>geometry</th>\n",
              "    </tr>\n",
              "  </thead>\n",
              "  <tbody>\n",
              "    <tr>\n",
              "      <th>0</th>\n",
              "      <td>POINT (-115.10291 36.78178)</td>\n",
              "    </tr>\n",
              "    <tr>\n",
              "      <th>1</th>\n",
              "      <td>POINT (-172.98891 -71.02938)</td>\n",
              "    </tr>\n",
              "    <tr>\n",
              "      <th>2</th>\n",
              "      <td>POINT (-13.24134 65.23272)</td>\n",
              "    </tr>\n",
              "    <tr>\n",
              "      <th>3</th>\n",
              "      <td>POINT (80.97621 58.85495)</td>\n",
              "    </tr>\n",
              "    <tr>\n",
              "      <th>4</th>\n",
              "      <td>POINT (-28.72671 -61.25002)</td>\n",
              "    </tr>\n",
              "    <tr>\n",
              "      <th>5</th>\n",
              "      <td>POINT (-5.24625 19.83849)</td>\n",
              "    </tr>\n",
              "    <tr>\n",
              "      <th>6</th>\n",
              "      <td>POINT (-175.39891 -86.34517)</td>\n",
              "    </tr>\n",
              "    <tr>\n",
              "      <th>7</th>\n",
              "      <td>POINT (-4.54623 -69.64082)</td>\n",
              "    </tr>\n",
              "    <tr>\n",
              "      <th>8</th>\n",
              "      <td>POINT (159.05039 -34.99599)</td>\n",
              "    </tr>\n",
              "    <tr>\n",
              "      <th>9</th>\n",
              "      <td>POINT (126.28622 -62.49509)</td>\n",
              "    </tr>\n",
              "  </tbody>\n",
              "</table>\n",
              "</div>"
            ],
            "text/plain": [
              "                       geometry\n",
              "0   POINT (-115.10291 36.78178)\n",
              "1  POINT (-172.98891 -71.02938)\n",
              "2    POINT (-13.24134 65.23272)\n",
              "3     POINT (80.97621 58.85495)\n",
              "4   POINT (-28.72671 -61.25002)\n",
              "5     POINT (-5.24625 19.83849)\n",
              "6  POINT (-175.39891 -86.34517)\n",
              "7    POINT (-4.54623 -69.64082)\n",
              "8   POINT (159.05039 -34.99599)\n",
              "9   POINT (126.28622 -62.49509)"
            ]
          },
          "execution_count": 15,
          "metadata": {},
          "output_type": "execute_result"
        }
      ],
      "source": [
        "np.random.seed(11)  ## set seed for reproducibility\n",
        "bb = world.total_bounds  ## the world's bounds\n",
        "x = np.random.uniform(low=bb[0], high=bb[2], size=10)\n",
        "y = np.random.uniform(low=bb[1], high=bb[3], size=10)\n",
        "random_points = gpd.points_from_xy(x, y, crs=4326)\n",
        "random_points = gpd.GeoSeries(random_points)\n",
        "random_points = gpd.GeoDataFrame({'geometry': random_points})\n",
        "random_points"
      ]
    },
    {
      "cell_type": "markdown",
      "metadata": {},
      "source": [
        "The scenario illustrated in @fig-spatial-join shows that the `random_points` object (top left) lacks attribute data, while the world (top right) has attributes, including country names shown for a sample of countries in the legend. Spatial joins are implemented with `gpd.sjoin`, as illustrated in the code chunk below. The output is the `random_joined` object which is illustrated in @fig-spatial-join (bottom left). Before creating the joined dataset, we use spatial subsetting to create world_random, which contains only countries that contain random points, to verify the number of country names returned in the joined dataset should be four (see the top right panel of @fig-spatial-join)."
      ]
    },
    {
      "cell_type": "code",
      "execution_count": 16,
      "metadata": {},
      "outputs": [
        {
          "data": {
            "text/html": [
              "<div>\n",
              "<style scoped>\n",
              "    .dataframe tbody tr th:only-of-type {\n",
              "        vertical-align: middle;\n",
              "    }\n",
              "\n",
              "    .dataframe tbody tr th {\n",
              "        vertical-align: top;\n",
              "    }\n",
              "\n",
              "    .dataframe thead th {\n",
              "        text-align: right;\n",
              "    }\n",
              "</style>\n",
              "<table border=\"1\" class=\"dataframe\">\n",
              "  <thead>\n",
              "    <tr style=\"text-align: right;\">\n",
              "      <th></th>\n",
              "      <th>iso_a2</th>\n",
              "      <th>name_long</th>\n",
              "      <th>continent</th>\n",
              "      <th>...</th>\n",
              "      <th>lifeExp</th>\n",
              "      <th>gdpPercap</th>\n",
              "      <th>geometry</th>\n",
              "    </tr>\n",
              "  </thead>\n",
              "  <tbody>\n",
              "    <tr>\n",
              "      <th>4</th>\n",
              "      <td>US</td>\n",
              "      <td>United States</td>\n",
              "      <td>North America</td>\n",
              "      <td>...</td>\n",
              "      <td>78.841463</td>\n",
              "      <td>51921.984639</td>\n",
              "      <td>MULTIPOLYGON (((-171.73166 63.7...</td>\n",
              "    </tr>\n",
              "    <tr>\n",
              "      <th>18</th>\n",
              "      <td>RU</td>\n",
              "      <td>Russian Federation</td>\n",
              "      <td>Europe</td>\n",
              "      <td>...</td>\n",
              "      <td>70.743659</td>\n",
              "      <td>25284.586202</td>\n",
              "      <td>MULTIPOLYGON (((-180.00000 64.9...</td>\n",
              "    </tr>\n",
              "    <tr>\n",
              "      <th>52</th>\n",
              "      <td>ML</td>\n",
              "      <td>Mali</td>\n",
              "      <td>Africa</td>\n",
              "      <td>...</td>\n",
              "      <td>57.007000</td>\n",
              "      <td>1865.160622</td>\n",
              "      <td>MULTIPOLYGON (((-11.51394 12.44...</td>\n",
              "    </tr>\n",
              "    <tr>\n",
              "      <th>159</th>\n",
              "      <td>AQ</td>\n",
              "      <td>Antarctica</td>\n",
              "      <td>Antarctica</td>\n",
              "      <td>...</td>\n",
              "      <td>NaN</td>\n",
              "      <td>NaN</td>\n",
              "      <td>MULTIPOLYGON (((-180.00000 -89....</td>\n",
              "    </tr>\n",
              "  </tbody>\n",
              "</table>\n",
              "<p>4 rows × 11 columns</p>\n",
              "</div>"
            ],
            "text/plain": [
              "    iso_a2           name_long      continent  ...    lifeExp     gdpPercap  \\\n",
              "4       US       United States  North America  ...  78.841463  51921.984639   \n",
              "18      RU  Russian Federation         Europe  ...  70.743659  25284.586202   \n",
              "52      ML                Mali         Africa  ...  57.007000   1865.160622   \n",
              "159     AQ          Antarctica     Antarctica  ...        NaN           NaN   \n",
              "\n",
              "                               geometry  \n",
              "4    MULTIPOLYGON (((-171.73166 63.7...  \n",
              "18   MULTIPOLYGON (((-180.00000 64.9...  \n",
              "52   MULTIPOLYGON (((-11.51394 12.44...  \n",
              "159  MULTIPOLYGON (((-180.00000 -89....  \n",
              "\n",
              "[4 rows x 11 columns]"
            ]
          },
          "execution_count": 16,
          "metadata": {},
          "output_type": "execute_result"
        }
      ],
      "source": [
        "# Subset\n",
        "world_random = world[world.intersects(random_points.unary_union)]\n",
        "world_random"
      ]
    },
    {
      "cell_type": "code",
      "execution_count": 17,
      "metadata": {},
      "outputs": [
        {
          "data": {
            "text/html": [
              "<div>\n",
              "<style scoped>\n",
              "    .dataframe tbody tr th:only-of-type {\n",
              "        vertical-align: middle;\n",
              "    }\n",
              "\n",
              "    .dataframe tbody tr th {\n",
              "        vertical-align: top;\n",
              "    }\n",
              "\n",
              "    .dataframe thead th {\n",
              "        text-align: right;\n",
              "    }\n",
              "</style>\n",
              "<table border=\"1\" class=\"dataframe\">\n",
              "  <thead>\n",
              "    <tr style=\"text-align: right;\">\n",
              "      <th></th>\n",
              "      <th>geometry</th>\n",
              "      <th>index_right</th>\n",
              "      <th>iso_a2</th>\n",
              "      <th>...</th>\n",
              "      <th>pop</th>\n",
              "      <th>lifeExp</th>\n",
              "      <th>gdpPercap</th>\n",
              "    </tr>\n",
              "  </thead>\n",
              "  <tbody>\n",
              "    <tr>\n",
              "      <th>0</th>\n",
              "      <td>POINT (-115.10291 36.78178)</td>\n",
              "      <td>4.0</td>\n",
              "      <td>US</td>\n",
              "      <td>...</td>\n",
              "      <td>318622525.0</td>\n",
              "      <td>78.841463</td>\n",
              "      <td>51921.984639</td>\n",
              "    </tr>\n",
              "    <tr>\n",
              "      <th>1</th>\n",
              "      <td>POINT (-172.98891 -71.02938)</td>\n",
              "      <td>NaN</td>\n",
              "      <td>NaN</td>\n",
              "      <td>...</td>\n",
              "      <td>NaN</td>\n",
              "      <td>NaN</td>\n",
              "      <td>NaN</td>\n",
              "    </tr>\n",
              "    <tr>\n",
              "      <th>2</th>\n",
              "      <td>POINT (-13.24134 65.23272)</td>\n",
              "      <td>NaN</td>\n",
              "      <td>NaN</td>\n",
              "      <td>...</td>\n",
              "      <td>NaN</td>\n",
              "      <td>NaN</td>\n",
              "      <td>NaN</td>\n",
              "    </tr>\n",
              "    <tr>\n",
              "      <th>3</th>\n",
              "      <td>POINT (80.97621 58.85495)</td>\n",
              "      <td>18.0</td>\n",
              "      <td>RU</td>\n",
              "      <td>...</td>\n",
              "      <td>143819666.0</td>\n",
              "      <td>70.743659</td>\n",
              "      <td>25284.586202</td>\n",
              "    </tr>\n",
              "    <tr>\n",
              "      <th>4</th>\n",
              "      <td>POINT (-28.72671 -61.25002)</td>\n",
              "      <td>NaN</td>\n",
              "      <td>NaN</td>\n",
              "      <td>...</td>\n",
              "      <td>NaN</td>\n",
              "      <td>NaN</td>\n",
              "      <td>NaN</td>\n",
              "    </tr>\n",
              "    <tr>\n",
              "      <th>5</th>\n",
              "      <td>POINT (-5.24625 19.83849)</td>\n",
              "      <td>52.0</td>\n",
              "      <td>ML</td>\n",
              "      <td>...</td>\n",
              "      <td>16962846.0</td>\n",
              "      <td>57.007000</td>\n",
              "      <td>1865.160622</td>\n",
              "    </tr>\n",
              "    <tr>\n",
              "      <th>6</th>\n",
              "      <td>POINT (-175.39891 -86.34517)</td>\n",
              "      <td>159.0</td>\n",
              "      <td>AQ</td>\n",
              "      <td>...</td>\n",
              "      <td>NaN</td>\n",
              "      <td>NaN</td>\n",
              "      <td>NaN</td>\n",
              "    </tr>\n",
              "    <tr>\n",
              "      <th>7</th>\n",
              "      <td>POINT (-4.54623 -69.64082)</td>\n",
              "      <td>NaN</td>\n",
              "      <td>NaN</td>\n",
              "      <td>...</td>\n",
              "      <td>NaN</td>\n",
              "      <td>NaN</td>\n",
              "      <td>NaN</td>\n",
              "    </tr>\n",
              "    <tr>\n",
              "      <th>8</th>\n",
              "      <td>POINT (159.05039 -34.99599)</td>\n",
              "      <td>NaN</td>\n",
              "      <td>NaN</td>\n",
              "      <td>...</td>\n",
              "      <td>NaN</td>\n",
              "      <td>NaN</td>\n",
              "      <td>NaN</td>\n",
              "    </tr>\n",
              "    <tr>\n",
              "      <th>9</th>\n",
              "      <td>POINT (126.28622 -62.49509)</td>\n",
              "      <td>NaN</td>\n",
              "      <td>NaN</td>\n",
              "      <td>...</td>\n",
              "      <td>NaN</td>\n",
              "      <td>NaN</td>\n",
              "      <td>NaN</td>\n",
              "    </tr>\n",
              "  </tbody>\n",
              "</table>\n",
              "<p>10 rows × 12 columns</p>\n",
              "</div>"
            ],
            "text/plain": [
              "                       geometry  index_right iso_a2  ...          pop  \\\n",
              "0   POINT (-115.10291 36.78178)          4.0     US  ...  318622525.0   \n",
              "1  POINT (-172.98891 -71.02938)          NaN    NaN  ...          NaN   \n",
              "2    POINT (-13.24134 65.23272)          NaN    NaN  ...          NaN   \n",
              "3     POINT (80.97621 58.85495)         18.0     RU  ...  143819666.0   \n",
              "4   POINT (-28.72671 -61.25002)          NaN    NaN  ...          NaN   \n",
              "5     POINT (-5.24625 19.83849)         52.0     ML  ...   16962846.0   \n",
              "6  POINT (-175.39891 -86.34517)        159.0     AQ  ...          NaN   \n",
              "7    POINT (-4.54623 -69.64082)          NaN    NaN  ...          NaN   \n",
              "8   POINT (159.05039 -34.99599)          NaN    NaN  ...          NaN   \n",
              "9   POINT (126.28622 -62.49509)          NaN    NaN  ...          NaN   \n",
              "\n",
              "     lifeExp     gdpPercap  \n",
              "0  78.841463  51921.984639  \n",
              "1        NaN           NaN  \n",
              "2        NaN           NaN  \n",
              "3  70.743659  25284.586202  \n",
              "4        NaN           NaN  \n",
              "5  57.007000   1865.160622  \n",
              "6        NaN           NaN  \n",
              "7        NaN           NaN  \n",
              "8        NaN           NaN  \n",
              "9        NaN           NaN  \n",
              "\n",
              "[10 rows x 12 columns]"
            ]
          },
          "execution_count": 17,
          "metadata": {},
          "output_type": "execute_result"
        }
      ],
      "source": [
        "# Spatial join\n",
        "random_joined = gpd.sjoin(random_points, world, how='left')\n",
        "random_joined"
      ]
    },
    {
      "cell_type": "code",
      "execution_count": 18,
      "metadata": {},
      "outputs": [
        {
          "data": {
            "image/png": "[encoded data removed]",
            "text/plain": [
              "<Figure size 648x360 with 4 Axes>"
            ]
          },
          "metadata": {
            "needs_background": "light"
          },
          "output_type": "display_data"
        }
      ],
      "source": [
        "#| label: fig-spatial-join\n",
        "#| fig-cap: \"Illustration of a spatial join. A new attribute variable is added to random points (top left) from source world object (top right) resulting in the data represented in the final panel.\"\n",
        "\n",
        "fig, axes = plt.subplots(2, 2, figsize=(9, 5))\n",
        "base = world.plot(color=\"white\", edgecolor=\"lightgrey\", ax=axes[0][0])\n",
        "random_points.plot(ax=base, color=\"None\", edgecolor=\"red\")\n",
        "base = world.plot(color=\"white\", edgecolor=\"lightgrey\", ax=axes[0][1])\n",
        "world_random.plot(ax=base, column='name_long')\n",
        "base = world.plot(color=\"white\", edgecolor=\"lightgrey\", ax=axes[1][0])\n",
        "random_joined.geometry.plot(ax=base, color='grey');\n",
        "random_joined.plot(ax=base, column='name_long', legend=True);"
      ]
    },
    {
      "cell_type": "markdown",
      "metadata": {},
      "source": [
        "### Non-overlapping joins\n",
        "\n",
        "...\n",
        "\n",
        "### Spatial aggregation\n",
        "\n",
        "As with attribute data aggregation, spatial data aggregation condenses data: aggregated outputs have fewer rows than non-aggregated inputs. Statistical aggregating functions, such as mean, average, or sum, summarise multiple values of a variable, and return a single value per grouping variable. Section ... demonstrated how the `.groupby` method, combined with summary functions such as `.sum`, condense data based on attribute variables. This section shows how grouping by spatial objects can be acheived using spatial joins combined with non-spatial aggregation."
      ]
    },
    {
      "cell_type": "markdown",
      "metadata": {},
      "source": [
        "\n",
        "Returning to the example of New Zealand, imagine you want to find out the average height of high points in each region: it is the geometry of the source (`nz`, in this case) that defines how values in the target object (`nz_height`) are grouped. This can be done in two steps. First, we \"attach\" the region classification of each point, using spatial join. Note that just one distinct attribute (such as `Name` in this case) is sufficient for our purposes:\n"
      ]
    },
    {
      "cell_type": "code",
      "execution_count": 24,
      "metadata": {},
      "outputs": [
        {
          "data": {
            "text/html": [
              "<div>\n",
              "<style scoped>\n",
              "    .dataframe tbody tr th:only-of-type {\n",
              "        vertical-align: middle;\n",
              "    }\n",
              "\n",
              "    .dataframe tbody tr th {\n",
              "        vertical-align: top;\n",
              "    }\n",
              "\n",
              "    .dataframe thead th {\n",
              "        text-align: right;\n",
              "    }\n",
              "</style>\n",
              "<table border=\"1\" class=\"dataframe\">\n",
              "  <thead>\n",
              "    <tr style=\"text-align: right;\">\n",
              "      <th></th>\n",
              "      <th>t50_fid</th>\n",
              "      <th>elevation</th>\n",
              "      <th>geometry</th>\n",
              "      <th>index_right</th>\n",
              "      <th>Name</th>\n",
              "    </tr>\n",
              "  </thead>\n",
              "  <tbody>\n",
              "    <tr>\n",
              "      <th>0</th>\n",
              "      <td>2353944</td>\n",
              "      <td>2723</td>\n",
              "      <td>POINT (1204142.603 5049971.287)</td>\n",
              "      <td>12</td>\n",
              "      <td>Southland</td>\n",
              "    </tr>\n",
              "    <tr>\n",
              "      <th>1</th>\n",
              "      <td>2354404</td>\n",
              "      <td>2820</td>\n",
              "      <td>POINT (1234725.325 5048309.302)</td>\n",
              "      <td>11</td>\n",
              "      <td>Otago</td>\n",
              "    </tr>\n",
              "    <tr>\n",
              "      <th>2</th>\n",
              "      <td>2354405</td>\n",
              "      <td>2830</td>\n",
              "      <td>POINT (1235914.511 5048745.117)</td>\n",
              "      <td>11</td>\n",
              "      <td>Otago</td>\n",
              "    </tr>\n",
              "    <tr>\n",
              "      <th>3</th>\n",
              "      <td>2369113</td>\n",
              "      <td>3033</td>\n",
              "      <td>POINT (1259701.635 5076570.049)</td>\n",
              "      <td>9</td>\n",
              "      <td>West Coast</td>\n",
              "    </tr>\n",
              "    <tr>\n",
              "      <th>4</th>\n",
              "      <td>2362630</td>\n",
              "      <td>2749</td>\n",
              "      <td>POINT (1378169.600 5158491.453)</td>\n",
              "      <td>10</td>\n",
              "      <td>Canterbury</td>\n",
              "    </tr>\n",
              "    <tr>\n",
              "      <th>...</th>\n",
              "      <td>...</td>\n",
              "      <td>...</td>\n",
              "      <td>...</td>\n",
              "      <td>...</td>\n",
              "      <td>...</td>\n",
              "    </tr>\n",
              "    <tr>\n",
              "      <th>96</th>\n",
              "      <td>2408394</td>\n",
              "      <td>2797</td>\n",
              "      <td>POINT (1821014.190 5647970.666)</td>\n",
              "      <td>7</td>\n",
              "      <td>Manawatu-Wanganui</td>\n",
              "    </tr>\n",
              "    <tr>\n",
              "      <th>97</th>\n",
              "      <td>2408395</td>\n",
              "      <td>2757</td>\n",
              "      <td>POINT (1820642.909 5648331.194)</td>\n",
              "      <td>7</td>\n",
              "      <td>Manawatu-Wanganui</td>\n",
              "    </tr>\n",
              "    <tr>\n",
              "      <th>98</th>\n",
              "      <td>2408397</td>\n",
              "      <td>2751</td>\n",
              "      <td>POINT (1820659.873 5649488.235)</td>\n",
              "      <td>2</td>\n",
              "      <td>Waikato</td>\n",
              "    </tr>\n",
              "    <tr>\n",
              "      <th>99</th>\n",
              "      <td>2408406</td>\n",
              "      <td>2720</td>\n",
              "      <td>POINT (1822262.592 5650428.656)</td>\n",
              "      <td>2</td>\n",
              "      <td>Waikato</td>\n",
              "    </tr>\n",
              "    <tr>\n",
              "      <th>100</th>\n",
              "      <td>2408411</td>\n",
              "      <td>2732</td>\n",
              "      <td>POINT (1822492.184 5650492.304)</td>\n",
              "      <td>2</td>\n",
              "      <td>Waikato</td>\n",
              "    </tr>\n",
              "  </tbody>\n",
              "</table>\n",
              "<p>101 rows × 5 columns</p>\n",
              "</div>"
            ],
            "text/plain": [
              "     t50_fid  elevation                         geometry  index_right  \\\n",
              "0    2353944       2723  POINT (1204142.603 5049971.287)           12   \n",
              "1    2354404       2820  POINT (1234725.325 5048309.302)           11   \n",
              "2    2354405       2830  POINT (1235914.511 5048745.117)           11   \n",
              "3    2369113       3033  POINT (1259701.635 5076570.049)            9   \n",
              "4    2362630       2749  POINT (1378169.600 5158491.453)           10   \n",
              "..       ...        ...                              ...          ...   \n",
              "96   2408394       2797  POINT (1821014.190 5647970.666)            7   \n",
              "97   2408395       2757  POINT (1820642.909 5648331.194)            7   \n",
              "98   2408397       2751  POINT (1820659.873 5649488.235)            2   \n",
              "99   2408406       2720  POINT (1822262.592 5650428.656)            2   \n",
              "100  2408411       2732  POINT (1822492.184 5650492.304)            2   \n",
              "\n",
              "                  Name  \n",
              "0            Southland  \n",
              "1                Otago  \n",
              "2                Otago  \n",
              "3           West Coast  \n",
              "4           Canterbury  \n",
              "..                 ...  \n",
              "96   Manawatu-Wanganui  \n",
              "97   Manawatu-Wanganui  \n",
              "98             Waikato  \n",
              "99             Waikato  \n",
              "100            Waikato  \n",
              "\n",
              "[101 rows x 5 columns]"
            ]
          },
          "execution_count": 24,
          "metadata": {},
          "output_type": "execute_result"
        }
      ],
      "source": [
        "gpd.sjoin(nz_height, nz[['Name', 'geometry']], how='left')"
      ]
    },
    {
      "cell_type": "markdown",
      "metadata": {},
      "source": [
        "Second, ..."
      ]
    },
    {
      "cell_type": "markdown",
      "metadata": {},
      "source": [
        "\n",
        "\n",
        "### Joining incongruent layers\n",
        "\n",
        "...\n",
        "\n",
        "\n",
        "\n",
        "### Distance relations\n",
        "\n",
        "...\n",
        "\n",
        "\n",
        "\n",
        "\n",
        "## Spatial operations on raster data {#spatial-ras}\n",
        "\n",
        "### Spatial subsetting\n",
        "\n",
        "The previous chapter (Section ...) demonstrated how to retrieve values associated with specific cell IDs or row and column combinations. Raster objects can also be extracted by location (coordinates) and other spatial objects. To use coordinates for subsetting, we can use the `.sample` method of a `rasterio` file connection object, combined with a list of coordinate tuples. The methods is demonstrated below to find the value of the cell that covers a point located at coordinates of 0.1, 0.1 in `elev`. The resutned object is a *generator*; in case we want all values at once we can apply `list`. The result is `16`:"
      ]
    },
    {
      "cell_type": "code",
      "execution_count": null,
      "metadata": {},
      "outputs": [],
      "source": [
        "list(src_elev.sample([(0.1, 0.1)]))"
      ]
    },
    {
      "cell_type": "markdown",
      "metadata": {},
      "source": [
        "Raster objects can also be subset with another raster object, as demonstrated in the code chunk below:\n",
        "\n",
        "..."
      ]
    },
    {
      "cell_type": "code",
      "execution_count": null,
      "metadata": {},
      "outputs": [],
      "source": [
        "# ..."
      ]
    },
    {
      "cell_type": "markdown",
      "metadata": {},
      "source": [
        "Another common use case of spatial subsetting is using a boolean mask, based on another raster with the same extent and resolution, or the original one, as illustrated in Figure .... To do that, we \"erase\" the values in the array of one raster, according to another corresponding \"mask\" raster. For example, let us read the `elev.tif` raster array: "
      ]
    },
    {
      "cell_type": "code",
      "execution_count": null,
      "metadata": {},
      "outputs": [],
      "source": [
        "elev = src_elev.read(1)\n",
        "elev"
      ]
    },
    {
      "cell_type": "markdown",
      "metadata": {},
      "source": [
        "and create a correspinding random mask:"
      ]
    },
    {
      "cell_type": "code",
      "execution_count": null,
      "metadata": {},
      "outputs": [],
      "source": [
        "np.random.seed(1)\n",
        "mask = np.random.choice([True, False], elev.shape)\n",
        "mask"
      ]
    },
    {
      "cell_type": "markdown",
      "metadata": {},
      "source": [
        "In the code chunk above, we have created a mask object called `mask` with values randomly assigned to `True` and `False`. Next, we want to keep those values of `elev` which are `False` in `mask` (i.e., they are *not* masked). In other words, we want to mask `elev` with `mask`. The result is stored in a copy named `elev1`:"
      ]
    },
    {
      "cell_type": "code",
      "execution_count": null,
      "metadata": {},
      "outputs": [],
      "source": [
        "elev1 = elev.copy()\n",
        "elev1[mask] = np.nan\n",
        "elev1"
      ]
    },
    {
      "cell_type": "markdown",
      "metadata": {},
      "source": [
        "The result is shown in figure..."
      ]
    },
    {
      "cell_type": "code",
      "execution_count": null,
      "metadata": {},
      "outputs": [],
      "source": [
        "fig, axes = plt.subplots(ncols=3, figsize=(9,5))\n",
        "show(elev, ax=axes[0])\n",
        "show(mask, ax=axes[1])\n",
        "show(elev1, ax=axes[2])\n",
        "axes[0].set_title(\"Original\")\n",
        "axes[1].set_title(\"Mask\")\n",
        "axes[2].set_title(\"Result\");"
      ]
    },
    {
      "cell_type": "markdown",
      "metadata": {},
      "source": [
        "The above approach can be also used to replace some values (e.g., expected to be wrong) with `nan`:"
      ]
    },
    {
      "cell_type": "code",
      "execution_count": null,
      "metadata": {},
      "outputs": [],
      "source": [
        "elev[elev < 20] = np.nan\n",
        "elev"
      ]
    },
    {
      "cell_type": "markdown",
      "metadata": {},
      "source": [
        "These operations are in fact Boolean local operations, since we compare cell-wise two rasters. The next subsection explores these and related operations in more detail.\n",
        "\n",
        "### Map algebra\n",
        "\n",
        "The term ‘map algebra’ was coined in the late 1970s to describe a “set of conventions, capabilities, and techniques” for the analysis of geographic raster and (although less prominently) vector data (Tomlin 1994). In this context, we define map algebra more narrowly, as operations that modify or summarise raster cell values, with reference to surrounding cells, zones, or statistical functions that apply to every cell.\n",
        "\n",
        "Map algebra operations tend to be fast, because raster datasets only implicitly store coordinates, hence the old adage “raster is faster but vector is corrector”. The location of cells in raster datasets can be calculated by using its matrix position and the resolution and origin of the dataset (stored in the header). For the processing, however, the geographic position of a cell is barely relevant as long as we make sure that the cell position is still the same after the processing. Additionally, if two or more raster datasets share the same extent, projection and resolution, one could treat them as matrices for the processing.\n",
        "\n",
        "This is the way that map algebra works with the terra package. First, the headers of the raster datasets are queried and (in cases where map algebra operations work on more than one dataset) checked to ensure the datasets are compatible. Second, map algebra retains the so-called one-to-one locational correspondence, meaning that cells cannot move. This differs from matrix algebra, in which values change position, for example when multiplying or dividing matrices.\n",
        "\n",
        "Map algebra (or cartographic modeling with raster data) divides raster operations into four subclasses (Tomlin 1990), with each working on one or several grids simultaneously:\n",
        "\n",
        "* Local or per-cell operations\n",
        "* Focal or neighborhood operations. Most often the output cell value is the result of a 3 x 3 input cell block\n",
        "* Zonal operations are similar to focal operations, but the surrounding pixel grid on which new values are computed can have irregular sizes and shapes\n",
        "* Global or per-raster operations; that means the output cell derives its value potentially from one or several entire rasters\n",
        "\n",
        "This typology classifies map algebra operations by the number of cells used for each pixel processing step and the type of the output. For the sake of completeness, we should mention that raster operations can also be classified by discipline such as terrain, hydrological analysis, or image classification. The following sections explain how each type of map algebra operations can be used, with reference to worked examples.\n",
        "\n",
        "\n",
        "### Local operations\n",
        "\n",
        "\n",
        "First, we need to read raster values:"
      ]
    },
    {
      "cell_type": "code",
      "execution_count": null,
      "metadata": {},
      "outputs": [],
      "source": [
        "elev = src_elev.read(1)\n",
        "elev"
      ]
    },
    {
      "cell_type": "markdown",
      "metadata": {},
      "source": [
        "Now, any element-wise array operation can be applied. For example:"
      ]
    },
    {
      "cell_type": "code",
      "execution_count": null,
      "metadata": {},
      "outputs": [],
      "source": [
        "elev + elev"
      ]
    },
    {
      "cell_type": "markdown",
      "metadata": {},
      "source": [
        "Here are few more examples:"
      ]
    },
    {
      "cell_type": "code",
      "execution_count": null,
      "metadata": {},
      "outputs": [],
      "source": [
        "fig, axes = plt.subplots(ncols=4, figsize=(9,5))\n",
        "show(elev + elev, ax=axes[0], cmap=\"Oranges\")\n",
        "show(elev ** 2, ax=axes[1], cmap=\"Oranges\")\n",
        "show(np.log(elev), ax=axes[2], cmap=\"Oranges\")\n",
        "show(elev > 5, ax=axes[3], cmap=\"Oranges\")\n",
        "axes[0].set_title(\"elev+elev\")\n",
        "axes[1].set_title(\"elev ** 2\")\n",
        "axes[2].set_title(\"np.log(elev)\")\n",
        "axes[3].set_title(\"elev > 5\");"
      ]
    },
    {
      "cell_type": "markdown",
      "metadata": {},
      "source": [
        "Another good example of local operations is the classification of intervals of numeric values into groups such as grouping a digital elevation model into low (class 1), middle (class 2) and high elevations (class 3). Here, we assign the raster values in the ranges 0–12, 12–24 and 24–36 are reclassified to take values 1, 2 and 3, respectively..."
      ]
    },
    {
      "cell_type": "code",
      "execution_count": null,
      "metadata": {},
      "outputs": [],
      "source": [
        "recl = elev.copy()\n",
        "recl[(elev > 0)  & (elev <= 12)] = 1\n",
        "recl[(elev > 12) & (elev <= 24)] = 2\n",
        "recl[(elev > 24) & (elev <= 36)] = 3"
      ]
    },
    {
      "cell_type": "markdown",
      "metadata": {},
      "source": [
        "Plot..."
      ]
    },
    {
      "cell_type": "code",
      "execution_count": null,
      "metadata": {},
      "outputs": [],
      "source": [
        "fig, axes = plt.subplots(ncols=2, figsize=(9,5))\n",
        "show(elev, ax=axes[0], cmap=\"Oranges\")\n",
        "show(recl, ax=axes[1], cmap=\"Oranges\")\n",
        "axes[0].set_title(\"Original\")\n",
        "axes[1].set_title(\"Reclassified\");"
      ]
    },
    {
      "cell_type": "markdown",
      "metadata": {},
      "source": [
        "The calculation of the normalized difference vegetation index (NDVI) is a well-known local (pixel-by-pixel) raster operation. It returns a raster with values between -1 and 1; positive values indicate the presence of living plants (mostly > 0.2). NDVI is calculated from red and near-infrared (NIR) bands of remotely sensed imagery, typically from satellite systems such as Landsat or Sentinel. Vegetation absorbs light heavily in the visible light spectrum, and especially in the red channel, while reflecting NIR light, explaining the NVDI formula:\n",
        "\n",
        "$$NDVI=\\frac{NIR-Red} {NIR+Red}$$\n",
        "\n",
        "Let's calculate NDVI for the multispectral satellite file of the Zion National Park."
      ]
    },
    {
      "cell_type": "code",
      "execution_count": null,
      "metadata": {},
      "outputs": [],
      "source": [
        "multi_rast = src_multi_rast.read()\n",
        "nir = multi_rast[3,:,:]\n",
        "red = multi_rast[2,:,:]\n",
        "ndvi = (nir-red)/(nir+red)"
      ]
    },
    {
      "cell_type": "markdown",
      "metadata": {},
      "source": [
        "Convert values >1 to \"No Data\":"
      ]
    },
    {
      "cell_type": "code",
      "execution_count": null,
      "metadata": {},
      "outputs": [],
      "source": [
        "ndvi[ndvi>1] = np.nan"
      ]
    },
    {
      "cell_type": "markdown",
      "metadata": {},
      "source": [
        "When plotting an RGB image using the `show` function, the function assumes that:\n",
        "\n",
        "* Values are in the range `[0,1]` for floats, or `[0,255]` for integers (otherwise clipped)\n",
        "* The order of bands is RGB\n",
        "\n",
        "To \"prepare\" the multi-band raster for `show`, we therefore reverse the order of bands (which is originally BGR+NIR), and divided by the maximum to set the maximum value at `1`:"
      ]
    },
    {
      "cell_type": "code",
      "execution_count": null,
      "metadata": {},
      "outputs": [],
      "source": [
        "multi_rast_rgb = multi_rast[(2,1,0), :, :]/multi_rast.max()"
      ]
    },
    {
      "cell_type": "markdown",
      "metadata": {},
      "source": [
        "Plot..."
      ]
    },
    {
      "cell_type": "code",
      "execution_count": null,
      "metadata": {},
      "outputs": [],
      "source": [
        "fig, axes = plt.subplots(ncols=2, figsize=(9,5))\n",
        "show(multi_rast_rgb, ax=axes[0], cmap=\"RdYlGn\")\n",
        "show(ndvi, ax=axes[1], cmap=\"Greens\")\n",
        "axes[0].set_title(\"RGB image\")\n",
        "axes[1].set_title(\"NDVI\");"
      ]
    },
    {
      "cell_type": "markdown",
      "metadata": {},
      "source": [
        "### Focal operations\n",
        "\n",
        "While local functions operate on one cell, though possibly from multiple layers, focal operations take into account a central (focal) cell and its neighbors. The neighborhood (also named kernel, filter or moving window) under consideration is typically of size 3-by-3 cells (that is the central cell and its eight surrounding neighbors), but can take on any other (not necessarily rectangular) shape as defined by the user. A focal operation applies an aggregation function to all cells within the specified neighborhood, uses the corresponding output as the new value for the the central cell, and moves on to the next central cell (Figure ...). Other names for this operation are spatial filtering and convolution (Burrough, McDonnell, and Lloyd 2015).\n",
        "\n",
        "In Python, the `scipy.ndimage` package has a comprehensive collection of [functions](https://docs.scipy.org/doc/scipy/reference/ndimage.html#filters) to perform filtering of `numpy` arrays, such as:\n",
        "\n",
        "* `minimum_filter`\n",
        "* `maximum_filter`\n",
        "* `uniform_filter` (i.e., mean filter)\n",
        "* `median_filter`\n",
        "etc.\n",
        "\n",
        "In this group of functions, we define the shape of the moving window with either one of:\n",
        "\n",
        "* `size`—a single number or tuple, implying a filter of those dimensions\n",
        "* `footprint`—a boolean array, representing both the window shape and the identity of elements being included\n",
        "\n",
        "In addition to specific built-in filters, \n",
        "\n",
        "* `convolve` applies the sum function after multiplying by a custom `weights` array\n",
        "* `generic_filter` makes it possible to pass any custom function, where the user can specify any type of custom window-based calculatio.\n",
        "\n",
        "For example, here we apply the minimum filter with window size of `3` on `elev`: "
      ]
    },
    {
      "cell_type": "code",
      "execution_count": null,
      "metadata": {},
      "outputs": [],
      "source": [
        "elev"
      ]
    },
    {
      "cell_type": "code",
      "execution_count": null,
      "metadata": {},
      "outputs": [],
      "source": [
        "elev_min = scipy.ndimage.minimum_filter(elev, size=3)\n",
        "elev_min"
      ]
    },
    {
      "cell_type": "markdown",
      "metadata": {},
      "source": [
        "Special care should be given to the edge pixels. How should they be calculated? `scipy.ndimage` gives several options through the `mode` parameter:\n",
        "\n",
        "* `reflect` (the default)\n",
        "* `constant`\n",
        "* `nearest`\n",
        "* `mirror`\n",
        "* `wrap`\n",
        "\n",
        "Sometimes artificially extending raster edges is considered unsuitable. In other words, we may wish the resulting raster to contain pixel values with \"complete\" windows only, for example to have a uniform sample size or because values in all directions matter (such as in topographic calculations). There is no specific option *not* to extent edges in `scipy.ndimage`. However, to get the same effect, the edges of the filtered array can be assigned with `nan`, in a number of rows and columns according to filter size. For example, when using a filter of `size=3`, the first \"layer\" of pixels may be assigned with `nan`, reflecting the fact that these pixels have incomplete 3*3 neighborhoods:"
      ]
    },
    {
      "cell_type": "code",
      "execution_count": null,
      "metadata": {},
      "outputs": [],
      "source": [
        "elev_min[:, [0, -1]] = np.nan\n",
        "elev_min[[0, -1], :] = np.nan\n",
        "elev_min"
      ]
    },
    {
      "cell_type": "markdown",
      "metadata": {},
      "source": [
        "We can quickly check if the output meets our expectations. In our example, the minimum value has to be always the upper left corner of the moving window (remember we have created the input raster by row-wise incrementing the cell values by one starting at the upper left corner). \n",
        "\n",
        "Focal functions or filters play a dominant role in image processing. Low-pass or smoothing filters use the mean function to remove extremes. In the case of categorical data, we can replace the mean with the mode, which is the most common value. By contrast, high-pass filters accentuate features. The line detection Laplace and Sobel filters might serve as an example here. \n",
        "\n",
        "Terrain processing, the calculation of topographic characteristics such as slope, aspect and flow directions, relies on focal functions. The `TerrainAttribute` function from package `richdem` can be used to calculate common [metrics](https://richdem.readthedocs.io/en/latest/python_api.html?highlight=TerrainAttribute#richdem.TerrainAttribute), specified through the `attrib` argument, namely:\n",
        "\n",
        "* `slope_riserun` \tHorn (1981) doi: 10.1109/PROC.1981.11918\n",
        "* `slope_percentage` \tHorn (1981) doi: 10.1109/PROC.1981.11918\n",
        "* `slope_degrees` \tHorn (1981) doi: 10.1109/PROC.1981.11918\n",
        "* `slope_radians` \tHorn (1981) doi: 10.1109/PROC.1981.11918\n",
        "* `aspect` \tHorn (1981) doi: 10.1109/PROC.1981.11918\n",
        "* `curvature` \tZevenbergen and Thorne (1987) doi: 10.1002/esp.3290120107\n",
        "* `planform_curvature` \tZevenbergen and Thorne (1987) doi: 10.1002/esp.3290120107\n",
        "* `profile_curvature` \tZevenbergen and Thorne (1987) doi: 10.1002/esp.3290120107\n",
        "\n",
        "\n",
        "\n",
        "\n",
        "### Zonal operations\n",
        "\n",
        "...\n",
        "\n",
        "### Global operations and distances\n",
        "\n",
        "...\n",
        "\n",
        "### Map algebra counterparts in vector processing\n",
        "\n",
        "...\n",
        "\n",
        "### Merging rasters\n",
        "\n",
        "...\n",
        "\n",
        "## Exercises\n",
        "\n",
        "* Write a function which accepts and array and an `int` specifying the number of rows/columns to erase along an array edges. The function needs to return the modified array with `nan` values along its edges.\n"
      ]
    }
  ],
  "metadata": {
    "kernelspec": {
      "display_name": "Python 3.8.10 64-bit",
      "language": "python",
      "name": "python3"
    },
    "language_info": {
      "codemirror_mode": {
        "name": "ipython",
        "version": 3
      },
      "file_extension": ".py",
      "mimetype": "text/x-python",
      "name": "python",
      "nbconvert_exporter": "python",
      "pygments_lexer": "ipython3",
      "version": "3.8.10"
    },
    "vscode": {
      "interpreter": {
        "hash": "31f2aee4e71d21fbe5cf8b01ff0e069b9275f58929596ceb00d14d90e3e16cd6"
      }
    }
  },
  "nbformat": 4,
  "nbformat_minor": 4
}
