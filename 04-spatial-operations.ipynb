{
  "cells": [
    {
      "cell_type": "markdown",
      "metadata": {},
      "source": [
        "# Spatial data operations {#sec-spatial-operations}\n",
        "\n",
        "## Prerequisites\n"
      ],
      "id": "99eba542"
    },
    {
      "cell_type": "code",
      "metadata": {},
      "source": [
        "#| echo: false\n",
        "import pandas as pd\n",
        "import matplotlib.pyplot as plt\n",
        "pd.set_option(\"display.max_rows\", 4)\n",
        "pd.set_option(\"display.max_columns\", 6)\n",
        "pd.options.display.max_colwidth = 35\n",
        "plt.rcParams[\"figure.figsize\"] = (5, 5)"
      ],
      "id": "a0dab924",
      "execution_count": null,
      "outputs": []
    },
    {
      "cell_type": "markdown",
      "metadata": {},
      "source": [
        "Let's import the required packages:\n"
      ],
      "id": "80535e65"
    },
    {
      "cell_type": "code",
      "metadata": {},
      "source": [
        "import shapely\n",
        "import geopandas as gpd\n",
        "import numpy as np\n",
        "import os\n",
        "import rasterio\n",
        "import scipy.ndimage\n",
        "import rasterio.plot\n",
        "import rasterio.merge\n",
        "import rasterio.features"
      ],
      "id": "7907cef3",
      "execution_count": null,
      "outputs": []
    },
    {
      "cell_type": "markdown",
      "metadata": {},
      "source": [
        "and load the sample data for this chapter:\n"
      ],
      "id": "8f0db7eb"
    },
    {
      "cell_type": "code",
      "metadata": {},
      "source": [
        "#| echo: false\n",
        "from pathlib import Path\n",
        "data_path = Path('data')\n",
        "file_path = Path('data/landsat.tif')\n",
        "if not file_path.exists():\n",
        "  if not data_path.is_dir():\n",
        "     os.mkdir(data_path)\n",
        "  print('Attempting to get the data')\n",
        "  import requests\n",
        "  r = requests.get('https://github.com/geocompx/geocompy/releases/download/0.1/landsat.tif')  \n",
        "  with open(file_path, 'wb') as f:\n",
        "    f.write(r.content)"
      ],
      "id": "4e01908a",
      "execution_count": null,
      "outputs": []
    },
    {
      "cell_type": "code",
      "metadata": {},
      "source": [
        "nz = gpd.read_file('data/nz.gpkg')\n",
        "nz_height = gpd.read_file('data/nz_height.gpkg')\n",
        "world = gpd.read_file('data/world.gpkg')\n",
        "cycle_hire = gpd.read_file('data/cycle_hire.gpkg')\n",
        "cycle_hire_osm = gpd.read_file('data/cycle_hire_osm.gpkg')\n",
        "src_elev = rasterio.open('data/elev.tif')\n",
        "src_multi_rast = rasterio.open('data/landsat.tif')\n",
        "src_grain = rasterio.open('data/grain.tif')"
      ],
      "id": "011c052b",
      "execution_count": null,
      "outputs": []
    },
    {
      "cell_type": "markdown",
      "metadata": {},
      "source": [
        "## Introduction\n",
        "\n",
        "## Spatial operations on vector data {#sec-spatial-vec}\n",
        "\n",
        "### Spatial subsetting {#sec-spatial-subsetting}\n",
        "\n",
        "Spatial subsetting is the process of taking a spatial object and returning a new object containing only features that relate in space to another object. \n",
        "Analogous to attribute subsetting (covered in @sec-vector-attribute-subsetting), subsets of `GeoDataFrame`s can be created with square bracket (`[`) operator using the syntax `x[y]`, where `x` is an `GeoDataFrame` from which a subset of rows/features will be returned, and `y` is the 'subsetting object'. \n",
        "`y`, in turn, can be created using one of the binary geometry relation methods, such as `.intersects` (see @sec-topological-relations). \n",
        "\n",
        "To demonstrate spatial subsetting, we will use the `nz` and `nz_height` layers, which contain geographic data on the 16 main regions and 101 highest points in New Zealand, respectively (@fig-spatial-subset), in a projected coordinate system. \n",
        "The following lines of code create an object representing Canterbury (`canterbury`), then use spatial subsetting to return all high points in the region (`canterbury_height`):\n"
      ],
      "id": "07cc9366"
    },
    {
      "cell_type": "code",
      "metadata": {},
      "source": [
        "canterbury = nz[nz['Name'] == 'Canterbury']\n",
        "canterbury"
      ],
      "id": "63167227",
      "execution_count": null,
      "outputs": []
    },
    {
      "cell_type": "code",
      "metadata": {},
      "source": [
        "# Does each 'nz_height' point intersect with 'canterbury'?\n",
        "sel = nz_height.intersects(canterbury['geometry'].iloc[0])\n",
        "sel"
      ],
      "id": "a0654dcc",
      "execution_count": null,
      "outputs": []
    },
    {
      "cell_type": "code",
      "metadata": {},
      "source": [
        "canterbury_height = nz_height[sel]\n",
        "canterbury_height"
      ],
      "id": "4646cb0d",
      "execution_count": null,
      "outputs": []
    },
    {
      "cell_type": "code",
      "metadata": {},
      "source": [
        "#| label: fig-spatial-subset\n",
        "#| fig-cap: Spatial subsetting of points by intersection with polygon\n",
        "\n",
        "fig, axes = plt.subplots(1, 2, figsize=(8, 4))\n",
        "base = nz.plot(color='white', edgecolor='lightgrey', ax=axes[0])\n",
        "nz_height.plot(ax=base, color='None', edgecolor='red')\n",
        "base = nz.plot(color='white', edgecolor='lightgrey', ax=axes[1])\n",
        "canterbury.plot(ax=base, color='grey', edgecolor='none')\n",
        "canterbury_height.plot(ax=base, color='None', edgecolor='red')\n",
        "axes[0].set_title('Original')\n",
        "axes[1].set_title('Subset (intersects)');"
      ],
      "id": "fig-spatial-subset",
      "execution_count": null,
      "outputs": []
    },
    {
      "cell_type": "markdown",
      "metadata": {},
      "source": [
        "Like in attribute subsetting (@sec-vector-attribute-subsetting), we are using a boolean series (`sel`), of the same length as the number of rows in the filtered table (`nz_height`), created based on a condition applied on itself. \n",
        "The difference is that the condition is not a comparison of attribute values, but an evaluation of a spatial relation. \n",
        "Namely, we evaluate whether each geometry of `nz_height` intersects with `canterbury` geometry, using the `.intersects` method.\n",
        "\n",
        "Various topological relations can be used for spatial subsetting which determine the type of spatial relationship that features in the target object must have with the subsetting object to be selected. \n",
        "These include touches, crosses or within, as we will see shortly in @sec-topological-relations. \n",
        "The most commonly used method `.intersects` method which we used in the last example is a 'catch all' topological relation, that will return features in the target that touch, cross or are within the source 'subsetting' object. \n",
        "Alternatively, we can evaluate other methods, such as `.disjoint` to obtain all points that *do not* intersect with Canterbury:\n"
      ],
      "id": "e92177f0"
    },
    {
      "cell_type": "code",
      "metadata": {},
      "source": [
        "# Is each 'nz_height' point disjoint from 'canterbury'?\n",
        "sel = nz_height.disjoint(canterbury['geometry'].iloc[0])\n",
        "canterbury_height2 = nz_height[sel]"
      ],
      "id": "b0989697",
      "execution_count": null,
      "outputs": []
    },
    {
      "cell_type": "markdown",
      "metadata": {},
      "source": [
        "as shown in @fig-spatial-subset-disjoint:\n"
      ],
      "id": "a919a385"
    },
    {
      "cell_type": "code",
      "metadata": {},
      "source": [
        "#| label: fig-spatial-subset-disjoint\n",
        "#| fig-cap: Spatial subsetting of points disjoint from a polygon\n",
        "\n",
        "fig, axes = plt.subplots(1, 2, figsize=(8, 4))\n",
        "base = nz.plot(color='white', edgecolor='lightgrey', ax=axes[0])\n",
        "nz_height.plot(ax=base, color='None', edgecolor='red')\n",
        "base = nz.plot(color='white', edgecolor='lightgrey', ax=axes[1])\n",
        "canterbury.plot(ax=base, color='grey', edgecolor='none')\n",
        "canterbury_height2.plot(ax=base, color='None', edgecolor='red');\n",
        "axes[0].set_title('Original')\n",
        "axes[1].set_title('Subset (disjoint)');"
      ],
      "id": "fig-spatial-subset-disjoint",
      "execution_count": null,
      "outputs": []
    },
    {
      "cell_type": "markdown",
      "metadata": {},
      "source": [
        "In case we need to subset according to several geometries at once, e.g., find out which points intersect with both Canterbury and Southland, we can dissolve the filtering subset before applying the `.intersects` (or any other) operator:\n"
      ],
      "id": "6a38c5d2"
    },
    {
      "cell_type": "code",
      "metadata": {},
      "source": [
        "canterbury_southland = nz[(nz['Name'] == 'Canterbury') | (nz['Name'] == 'Southland')]\n",
        "canterbury_southland = canterbury_southland.unary_union\n",
        "canterbury_southland"
      ],
      "id": "75273907",
      "execution_count": null,
      "outputs": []
    },
    {
      "cell_type": "code",
      "metadata": {},
      "source": [
        "sel = nz_height.intersects(canterbury_southland)\n",
        "canterbury_southland_height = nz_height[sel]\n",
        "canterbury_southland_height"
      ],
      "id": "636e34c8",
      "execution_count": null,
      "outputs": []
    },
    {
      "cell_type": "markdown",
      "metadata": {},
      "source": [
        "or, alternatively, we can use the `.isin` function to filter the regions and use `.overlay` to calculate the pairwise intersection between the `canterbury_southland` GeoDataFrame (with two rows for Canterbury and Southland, respectively) and the `nz_height` GeoDataFrame: \n"
      ],
      "id": "9e93d542"
    },
    {
      "cell_type": "code",
      "metadata": {},
      "source": [
        "canterbury_southland = nz[nz['Name'].isin(['Canterbury', 'Southland'])]\n",
        "canterbury_southland\n",
        "nz_height.overlay(canterbury_southland)"
      ],
      "id": "f50c3519",
      "execution_count": null,
      "outputs": []
    },
    {
      "cell_type": "markdown",
      "metadata": {},
      "source": [
        "The resulting subset is shown in @fig-spatial-subset2:\n"
      ],
      "id": "9517282a"
    },
    {
      "cell_type": "code",
      "metadata": {},
      "source": [
        "#| label: fig-spatial-subset2\n",
        "#| fig-cap: Spatial subsetting of points by intersection with more that one polygon\n",
        "fig, axes = plt.subplots(1, 2, figsize=(8, 4))\n",
        "base = nz.plot(color='white', edgecolor='lightgrey', ax=axes[0])\n",
        "nz_height.plot(ax=base, color='None', edgecolor='red')\n",
        "base = nz.plot(color='white', edgecolor='lightgrey', ax=axes[1])\n",
        "canterbury_southland.plot(ax=base, color='grey', edgecolor='none')\n",
        "canterbury_southland_height.plot(ax=base, color='None', edgecolor='red')\n",
        "axes[0].set_title('Original')\n",
        "axes[1].set_title('Subset (intersects)');"
      ],
      "id": "fig-spatial-subset2",
      "execution_count": null,
      "outputs": []
    },
    {
      "cell_type": "markdown",
      "metadata": {},
      "source": [
        "The next section further explores different types of spatial relation, also known as binary predicates (of which `.intersects` and `.disjoint` are two examples), that can be used to identify whether or not two features are spatially related or not.\n",
        "\n",
        "### Topological relations {#sec-topological-relations}\n",
        "\n",
        "<!--toDo: references should be fixed-->\n",
        "Topological relations describe the spatial relationships between objects. \n",
        "\"Binary topological relationships\", to give them their full name, are logical statements (in that the answer can only be `True` or `False`) about the spatial relationships between two objects defined by ordered sets of points (typically forming points, lines and polygons) in two or more dimensions (Egenhofer and Herring 1990).\n",
        "That may sound rather abstract and, indeed, the definition and classification of topological relations is based on mathematical foundations first published in book form in 1966 (Spanier 1995), with the field of algebraic topology continuing into the 21st century (Dieck 2008).\n",
        "\n",
        "Despite their mathematical origins, topological relations can be understood intuitively with reference to visualizations of commonly used functions that test for common types of spatial relationships.\n",
        "<!--toDo: update references to figures-->\n",
        "Figure 4.2 shows a variety of geometry pairs and their associated relations.\n",
        "The third and fourth pairs in Figure 4.2 (from left to right and then down) demonstrate that, for some relations, order is important: while the relations equals, intersects, crosses, touches and overlaps are symmetrical, meaning that if function(x, y) is true, function(y, x) will also by true, relations in which the order of the geometries are important such as contains and within are not. \n",
        "Notice that each geometry pair has a “DE-9IM” string such as FF2F11212, described in the next section. \n",
        "\n",
        "![Topological relations between vector geometries, inspired by Figures 1 and 2 in Egenhofer and Herring (1990). \n",
        "The relations for which the function(x, y) is true are printed for each geometry pair, with x represented in pink and y represented in blue.\n",
        "<!--toDo: move the used images from geocompr to the geocompy repo (this will make it more stable)-->\n",
        "The nature of the spatial relationship for each pair is described by the Dimensionally Extended 9-Intersection Model string.](https://r.geocompx.org/04-spatial-operations_files/figure-html/relations-1.png)\n",
        "\n",
        "In **shapely**, functions testing for different types of topological relations are known as [\"relationships\"](https://shapely.readthedocs.io/en/stable/manual.html#relationships).\n",
        "To see how topological relations work in practice, let's create a simple reproducible example, building on the relations illustrated in Figure 4.2 and consolidating knowledge of how vector geometries are represented from a previous chapter (@sec-geometry-columns and @sec-geometries):\n"
      ],
      "id": "8a0c4b6d"
    },
    {
      "cell_type": "code",
      "metadata": {},
      "source": [
        "points = gpd.GeoSeries([\n",
        "  shapely.Point(0.2,0.1), \n",
        "  shapely.Point(0.7,0.2), \n",
        "  shapely.Point(0.4,0.8)\n",
        "])\n",
        "line = gpd.GeoSeries([\n",
        "  shapely.LineString([(0.4,0.2), (1,0.5)])\n",
        "])\n",
        "poly = gpd.GeoSeries([\n",
        "  shapely.Polygon([(0,0), (0,1), (1,1), (1,0.5), (0,0)])\n",
        "])"
      ],
      "id": "8ea5fa6b",
      "execution_count": null,
      "outputs": []
    },
    {
      "cell_type": "markdown",
      "metadata": {},
      "source": [
        "The resulting `GeoSeries` named `points`, `line`, and `poly` are visualized as follows:\n"
      ],
      "id": "23de34d9"
    },
    {
      "cell_type": "code",
      "metadata": {},
      "source": [
        "#| label: fig-spatial-relations-geoms\n",
        "#| fig-cap: 'Points, line and polygon objects arranged to illustrate topological relations'\n",
        "\n",
        "ax = poly.plot(color='grey', edgecolor='red')\n",
        "ax = line.plot(ax=ax, color='black', linewidth=7)\n",
        "points.plot(ax=ax, color='none', edgecolor='black')\n",
        "for x, y, label in zip(points.x, points.y, [1,2,3]):\n",
        "    ax.annotate(label, xy=(x, y), xytext=(3, 3), weight='bold', textcoords=\"offset points\")"
      ],
      "id": "fig-spatial-relations-geoms",
      "execution_count": null,
      "outputs": []
    },
    {
      "cell_type": "markdown",
      "metadata": {},
      "source": [
        "A simple query is: which of the points in `points` intersect in some way with polygon `poly`?\n",
        "The question can be answered by inspection (points 1 and 3 are touching and within the polygon, respectively). \n",
        "This question can be answered with the `.intersects` method, which reports whether or not each geometry in a `GeoSeries` (`points`) intersects with a single `shapely` geometry (`poly.iloc[0]`). \n",
        "When both inputs are a `GeoSeries` object, a pairwise evaluation takes place between geometries aligned by index (`align=True`, the default) or by position (`align=False`):\n"
      ],
      "id": "c91d036b"
    },
    {
      "cell_type": "code",
      "metadata": {},
      "source": [
        "points.intersects(poly.iloc[0])"
      ],
      "id": "26b78572",
      "execution_count": null,
      "outputs": []
    },
    {
      "cell_type": "markdown",
      "metadata": {},
      "source": [
        "The result shown above is a boolean `Series`. Its contents should match your intuition: positive (`True`) results are returned for the first and third point, and a negative result (`False`) for the second are outside the polygon's border.\n",
        "Each value in this `Series` represents a feature in the first input (`points`).\n",
        "\n",
        "The `.apply` method can be used to obtain a matrix of *pairwise* results.\n",
        "In this case, the result is a `DataFrame`, where each row represents a `points` geometry and each column represents a `poly` geometry. We'll add another polygon to demonstrate:\n"
      ],
      "id": "de71ec71"
    },
    {
      "cell_type": "code",
      "metadata": {},
      "source": [
        "poly = gpd.GeoSeries([\n",
        "  shapely.Polygon([(0,0), (0,1), (1,1), (1,0.5), (0,0)]),\n",
        "  shapely.Polygon([(0,0), (1,0.5), (1,0), (0,0)])\n",
        "])\n",
        "points.apply(lambda x: poly.intersects(x))"
      ],
      "id": "08f1dca4",
      "execution_count": null,
      "outputs": []
    },
    {
      "cell_type": "markdown",
      "metadata": {},
      "source": [
        "The `.intersects` method returns `True` even in cases where the features just touch: intersects is a 'catch-all' topological operation which identifies many types of spatial relation, as illustrated in Figure 4.2.\n",
        "More restrictive questions include which points lie within the polygon, and which features are on or contain a shared boundary with it?\n",
        "These can be answered as follows:\n"
      ],
      "id": "25af9763"
    },
    {
      "cell_type": "code",
      "metadata": {},
      "source": [
        "points.within(poly.iloc[0])"
      ],
      "id": "86b67363",
      "execution_count": null,
      "outputs": []
    },
    {
      "cell_type": "code",
      "metadata": {},
      "source": [
        "points.touches(poly.iloc[0])"
      ],
      "id": "43392daf",
      "execution_count": null,
      "outputs": []
    },
    {
      "cell_type": "markdown",
      "metadata": {},
      "source": [
        "Note that although the first point touches the boundary polygon, it is not within it; the third point is within the polygon but does not touch any part of its border. \n",
        "The opposite of `.intersects` is `.disjoint`, which returns only objects that do not spatially relate in any way to the selecting object:\n"
      ],
      "id": "5548e05c"
    },
    {
      "cell_type": "code",
      "metadata": {},
      "source": [
        "points.disjoint(poly.iloc[0])"
      ],
      "id": "91efb372",
      "execution_count": null,
      "outputs": []
    },
    {
      "cell_type": "markdown",
      "metadata": {},
      "source": [
        "Another useful type of relation is \"within distance\", where we detect features that intersect with the target buffered by particular distance.\n",
        "Buffer distance determines how close target objects need to be before they are selected. This can be done by literally buffering (@sec-geometries) the target geometry, and evaluating intersection (`.intersects`, see above).\n",
        "Another way is to calculate the distances and compare them to the distance threshold:\n"
      ],
      "id": "0e19788c"
    },
    {
      "cell_type": "code",
      "metadata": {},
      "source": [
        "points.distance(poly.iloc[0]) < 0.2"
      ],
      "id": "d806593c",
      "execution_count": null,
      "outputs": []
    },
    {
      "cell_type": "markdown",
      "metadata": {},
      "source": [
        "Note that although point 2 is more than 0.2 units of distance from the nearest vertex of `poly`, it is still selected when the distance is set to 0.2. \n",
        "This is because distance is measured to the nearest edge, in this case the part of the the polygon that lies directly above point 2 in Figure 4.2.\n",
        "We can verify the actual distance between point 2 and the polygon is 0.13, as follows:\n"
      ],
      "id": "f525be75"
    },
    {
      "cell_type": "code",
      "metadata": {},
      "source": [
        "points.iloc[1].distance(poly.iloc[0])"
      ],
      "id": "a8e41f46",
      "execution_count": null,
      "outputs": []
    },
    {
      "cell_type": "markdown",
      "metadata": {},
      "source": [
        "### DE-9IM strings\n",
        "\n",
        "To complete...\n",
        "\n",
        "### Spatial joining {#sec-spatial-joining}\n",
        "\n",
        "Joining two non-spatial datasets relies on a shared 'key' variable, as described in @sec-vector-attribute-joining. Spatial data joining applies the same concept, but instead relies on spatial relations, described in the previous section. As with attribute data, joining adds new columns to the target object (the argument x in joining functions), from a source object (y).\n",
        "\n",
        "The process is illustrated by the following example: imagine you have ten points randomly distributed across the Earth's surface and you ask, for the points that are on land, which countries are they in? Implementing this idea in a reproducible example will build your geographic data handling skills and show how spatial joins work. The starting point is to create points that are randomly scattered over the Earth's surface:\n"
      ],
      "id": "677dd7bd"
    },
    {
      "cell_type": "code",
      "metadata": {},
      "source": [
        "np.random.seed(11)  ## set seed for reproducibility\n",
        "bb = world.total_bounds  ## the world's bounds\n",
        "x = np.random.uniform(low=bb[0], high=bb[2], size=10)\n",
        "y = np.random.uniform(low=bb[1], high=bb[3], size=10)\n",
        "random_points = gpd.points_from_xy(x, y, crs=4326)\n",
        "random_points = gpd.GeoSeries(random_points)\n",
        "random_points = gpd.GeoDataFrame({'geometry': random_points})\n",
        "random_points"
      ],
      "id": "536e97ad",
      "execution_count": null,
      "outputs": []
    },
    {
      "cell_type": "markdown",
      "metadata": {},
      "source": [
        "The scenario illustrated in @fig-spatial-join shows that the `random_points` object (top left) lacks attribute data, while the world (top right) has attributes, including country names shown for a sample of countries in the legend. Spatial joins are implemented with `gpd.sjoin`, as illustrated in the code chunk below. The output is the `random_joined` object which is illustrated in @fig-spatial-join (bottom left). Before creating the joined dataset, we use spatial subsetting to create world_random, which contains only countries that contain random points, to verify the number of country names returned in the joined dataset should be four (see the top right panel of @fig-spatial-join).\n"
      ],
      "id": "39f98a32"
    },
    {
      "cell_type": "code",
      "metadata": {},
      "source": [
        "# Subset\n",
        "world_random = world[world.intersects(random_points.unary_union)]\n",
        "world_random"
      ],
      "id": "f5dd0ceb",
      "execution_count": null,
      "outputs": []
    },
    {
      "cell_type": "code",
      "metadata": {},
      "source": [
        "# Spatial join\n",
        "random_joined = gpd.sjoin(random_points, world, how='left')\n",
        "random_joined"
      ],
      "id": "85104d0c",
      "execution_count": null,
      "outputs": []
    },
    {
      "cell_type": "code",
      "metadata": {},
      "source": [
        "#| label: fig-spatial-join\n",
        "#| fig-cap: Illustration of a spatial join. A new attribute variable is added to random points (top left) from source world object (top right) resulting in the data represented in the final panel.\n",
        "\n",
        "fig, axes = plt.subplots(2, 2, figsize=(8,4))\n",
        "base = world.plot(color='white', edgecolor='lightgrey', ax=axes[0][0])\n",
        "random_points.plot(ax=base, color='None', edgecolor='red')\n",
        "base = world.plot(color='white', edgecolor='lightgrey', ax=axes[0][1])\n",
        "world_random.plot(ax=base, column='name_long')\n",
        "base = world.plot(color='white', edgecolor='lightgrey', ax=axes[1][0])\n",
        "random_joined.geometry.plot(ax=base, color='grey');\n",
        "random_joined.plot(ax=base, column='name_long', legend=True)\n",
        "fig.delaxes(axes[1][1]);"
      ],
      "id": "fig-spatial-join",
      "execution_count": null,
      "outputs": []
    },
    {
      "cell_type": "markdown",
      "metadata": {},
      "source": [
        "### Non-overlapping joins\n",
        "\n",
        "Sometimes two geographic datasets do not touch but still have a strong geographic relationship. \n",
        "The datasets `cycle_hire` and `cycle_hire_osm`, provide a good example.\n",
        "Plotting them shows that they are often closely related but they do not touch, as shown in @fig-cycle-hire:\n"
      ],
      "id": "dbe0d073"
    },
    {
      "cell_type": "code",
      "metadata": {},
      "source": [
        "#| label: fig-cycle-hire\n",
        "#| fig-cap: The spatial distribution of cycle hire points in London based on official data (blue) and OpenStreetMap data (red).\n",
        "\n",
        "base = cycle_hire.plot(edgecolor='blue', color='none')\n",
        "cycle_hire_osm.plot(ax=base, edgecolor='red', color='none');"
      ],
      "id": "fig-cycle-hire",
      "execution_count": null,
      "outputs": []
    },
    {
      "cell_type": "markdown",
      "metadata": {},
      "source": [
        "We can check if any of the points are the same by creating a pairwise boolean matrix of `.intersects` relations, then evaluating whether any of the values in it is `True`. \n",
        "Note that the `.to_numpy` method is applied to go from a `DataFrame` to a `numpy` array, for which `.any` gives a global rather than a row-wise summary, which is what we want in this case:\n"
      ],
      "id": "7d20df99"
    },
    {
      "cell_type": "code",
      "metadata": {},
      "source": [
        "m = cycle_hire['geometry'].apply(\n",
        "  lambda x: cycle_hire_osm['geometry'].intersects(x)\n",
        ")\n",
        "m.to_numpy().any()"
      ],
      "id": "abb59e62",
      "execution_count": null,
      "outputs": []
    },
    {
      "cell_type": "markdown",
      "metadata": {},
      "source": [
        "Imagine that we need to join the capacity variable in `cycle_hire_osm` onto the official 'target' data contained in `cycle_hire`.\n",
        "This is when a non-overlapping join is needed. \n",
        "Spatial join (`gpd.sjoin`) along with buffered geometries can be used to do that.\n",
        "This is demonstrated below, using a threshold distance of 20 $m$. \n",
        "Note that we transform the data to a projected CRS (`27700`) to use real buffer distances, in meters. \n"
      ],
      "id": "2181dda8"
    },
    {
      "cell_type": "code",
      "metadata": {},
      "source": [
        "crs = 27700\n",
        "cycle_hire_buffers = cycle_hire.copy().to_crs(crs)\n",
        "cycle_hire_buffers['geometry'] = cycle_hire_buffers.buffer(20)\n",
        "z = gpd.sjoin(\n",
        "  cycle_hire_buffers, \n",
        "  cycle_hire_osm.to_crs(crs)\n",
        ")\n",
        "z"
      ],
      "id": "9c9f2038",
      "execution_count": null,
      "outputs": []
    },
    {
      "cell_type": "markdown",
      "metadata": {},
      "source": [
        "Note that the number of rows in the joined result is greater than the target.\n",
        "This is because some cycle hire stations in `cycle_hire_buffers` have multiple matches in `cycle_hire_osm`.\n",
        "To aggregate the values for the overlapping points and return the mean, we can use the aggregation methods learned in @sec-vector-attribute-aggregation, resulting in an object with the same number of rows as the target.\n",
        "We also go back from buffers to points using `.centroid`:\n"
      ],
      "id": "affd1f3b"
    },
    {
      "cell_type": "code",
      "metadata": {},
      "source": [
        "z = z[['id', 'capacity', 'geometry']] \\\n",
        "    .dissolve(by='id', aggfunc='mean') \\\n",
        "    .reset_index()\n",
        "z['geometry'] = z.centroid\n",
        "z"
      ],
      "id": "d6554625",
      "execution_count": null,
      "outputs": []
    },
    {
      "cell_type": "markdown",
      "metadata": {},
      "source": [
        "The capacity of nearby stations can be verified by comparing a plot of the capacity of the source `cycle_hire_osm` data with the results in this new object `z` (@fig-cycle-hire-z):\n"
      ],
      "id": "8c6e60bb"
    },
    {
      "cell_type": "code",
      "metadata": {},
      "source": [
        "#| label: fig-cycle-hire-z\n",
        "#| fig-cap: Non-overlapping join\n",
        "#| fig-subcap:\n",
        "#|   - Input\n",
        "#|   - Join result\n",
        "#| layout-ncol: 2\n",
        "\n",
        "# Input\n",
        "fig, ax = plt.subplots(1, 1, figsize=(6, 3))\n",
        "cycle_hire_osm.plot(column='capacity', legend=True, ax=ax);\n",
        "# Join result\n",
        "fig, ax = plt.subplots(1, 1, figsize=(6, 3))\n",
        "z.plot(column='capacity', legend=True, ax=ax);"
      ],
      "id": "fig-cycle-hire-z",
      "execution_count": null,
      "outputs": []
    },
    {
      "cell_type": "markdown",
      "metadata": {},
      "source": [
        "### Spatial aggregation\n",
        "\n",
        "As with attribute data aggregation, spatial data aggregation condenses data: aggregated outputs have fewer rows than non-aggregated inputs. \n",
        "Statistical aggregating functions, such as mean, average, or sum, summarise multiple values of a variable, and return a single value per grouping variable. \n",
        "@sec-vector-attribute-aggregation demonstrated how the `.groupby` method, combined with summary functions such as `.sum`, condense data based on attribute variables. \n",
        "This section shows how grouping by spatial objects can be acheived using spatial joins combined with non-spatial aggregation.\n",
        "\n",
        "Returning to the example of New Zealand, imagine you want to find out the average height of high points in each region. \n",
        "It is the geometry of the source (`nz`) that defines how values in the target object (`nz_height`) are grouped. \n",
        "This can be done in three steps:\n",
        "\n",
        "1. Figuring out which `nz` region each `nz_height` point falls in---using `gpd.sjoin`\n",
        "2. Summarizing the average elevation per region---using `.groupby` and `.mean`\n",
        "3. Joining the result back to `nz`---using `pd.merge`\n",
        "\n",
        "First, we 'attach' the region classification of each point, using spatial join. \n",
        "Note that we are using the minimal set of columns required: the geometries (for the spatial join to work), the point elevation (to later calculate an average), and the region name (to use as key when joining the results back to `nz`).\n"
      ],
      "id": "f0fe475c"
    },
    {
      "cell_type": "code",
      "metadata": {},
      "source": [
        "nz_height2 = gpd.sjoin(\n",
        "  nz_height[['elevation', 'geometry']], \n",
        "  nz[['Name', 'geometry']], \n",
        "  how='left'\n",
        ")\n",
        "nz_height2"
      ],
      "id": "1b3a8f63",
      "execution_count": null,
      "outputs": []
    },
    {
      "cell_type": "markdown",
      "metadata": {},
      "source": [
        "Second, we calculate the average elevation:\n"
      ],
      "id": "67ac644e"
    },
    {
      "cell_type": "code",
      "metadata": {},
      "source": [
        "nz_height3 = nz_height2.groupby('Name')[['elevation']].mean()\n",
        "nz_height3"
      ],
      "id": "4c8d4b51",
      "execution_count": null,
      "outputs": []
    },
    {
      "cell_type": "markdown",
      "metadata": {},
      "source": [
        "The third and final step is joining the averages with the `nz` layer:\n"
      ],
      "id": "359e08aa"
    },
    {
      "cell_type": "code",
      "metadata": {},
      "source": [
        "nz_height4 = pd.merge(nz[['Name', 'geometry']], nz_height3, on='Name', how='left')\n",
        "nz_height4"
      ],
      "id": "73b39128",
      "execution_count": null,
      "outputs": []
    },
    {
      "cell_type": "markdown",
      "metadata": {},
      "source": [
        "We now have create the `nz_height4` layer, which gives the average `nz_height` elevation value per polygon. The result is shown in @fig-nz-avg-nz-height. Note that the `missing_kwds` part determines the style of geometries where the symbology attribute (`elevation`) is missing, because the were no `nz_height` points overlapping with them. The default is to omit them, which is usually not what we want. With `{'color':'none','edgecolor':'black'}`, those polygons are shown with black outline and no fill.\n"
      ],
      "id": "4f5f1b9e"
    },
    {
      "cell_type": "code",
      "metadata": {},
      "source": [
        "#| label: fig-nz-avg-nz-height\n",
        "#| fig-cap: Average height of the top 101 high points across the regions of New Zealand\n",
        "\n",
        "nz_height4.plot(\n",
        "  column='elevation', \n",
        "  legend=True,\n",
        "  cmap='Blues', edgecolor='black',\n",
        "  missing_kwds={'color': 'none', 'edgecolor': 'black'}\n",
        ");"
      ],
      "id": "fig-nz-avg-nz-height",
      "execution_count": null,
      "outputs": []
    },
    {
      "cell_type": "markdown",
      "metadata": {},
      "source": [
        "### Joining incongruent layers\n",
        "\n",
        "Spatial congruence is an important concept related to spatial aggregation. An aggregating object (which we will refer to as `y`) is congruent with the target object (`x`) if the two objects have shared borders. Often this is the case for administrative boundary data, whereby larger units---such as Middle Layer Super Output Areas (MSOAs) in the UK or districts in many other European countries---are composed of many smaller units.\n",
        "\n",
        "Incongruent aggregating objects, by contrast, do not share common borders with the target (Qiu, Zhang, and Zhou 2012). This is problematic for spatial aggregation (and other spatial operations) illustrated in @fig-nz-and-grid: aggregating the centroid of each sub-zone will not return accurate results. Areal interpolation overcomes this issue by transferring values from one set of areal units to another, using a range of algorithms including simple area weighted approaches and more sophisticated approaches such as 'pycnophylactic' methods (Tobler 1979).\n",
        "\n",
        "To demonstrate, we will create a \"synthetic\" layer comprising a [regular grid](https://gis.stackexchange.com/questions/322589/rasterizing-polygon-grid-in-python-geopandas-rasterio) of rectangles of size $100\\times100$ $km$, covering the extent of the `nz` layer:\n"
      ],
      "id": "2b72e8a6"
    },
    {
      "cell_type": "code",
      "metadata": {},
      "source": [
        "xmin, ymin, xmax, ymax = nz.total_bounds\n",
        "res = 100000\n",
        "cols = list(range(int(np.floor(xmin)), int(np.ceil(xmax+res)), res))\n",
        "rows = list(range(int(np.floor(ymin)), int(np.ceil(ymax+res)), res))\n",
        "rows.reverse()\n",
        "polygons = []\n",
        "for x in cols:\n",
        "    for y in rows:\n",
        "        polygons.append( shapely.Polygon([(x,y), (x+res, y), (x+res, y-res), (x, y-res)]) )\n",
        "grid = gpd.GeoDataFrame({'geometry': polygons}, crs=nz.crs)\n",
        "sel = grid.intersects(shapely.box(*nz.total_bounds))\n",
        "grid = grid[sel]\n",
        "grid['id'] = grid.index\n",
        "grid"
      ],
      "id": "3ca3150e",
      "execution_count": null,
      "outputs": []
    },
    {
      "cell_type": "markdown",
      "metadata": {},
      "source": [
        "as shown in @fig-nz-and-grid.\n"
      ],
      "id": "3e9a20b4"
    },
    {
      "cell_type": "code",
      "metadata": {},
      "source": [
        "#| label: fig-nz-and-grid\n",
        "#| fig-cap: The nz layer and a regular grid of rectangles\n",
        "\n",
        "base = grid.plot(color='none', edgecolor='grey')\n",
        "nz.plot(ax=base, column='Population', edgecolor='black', legend=True, cmap='viridis_r');\n",
        "base.set_title('Population');"
      ],
      "id": "fig-nz-and-grid",
      "execution_count": null,
      "outputs": []
    },
    {
      "cell_type": "markdown",
      "metadata": {},
      "source": [
        "Our goal, now, is to \"transfer\" the `Population` attribute to the rectangular grid polygons, which is an example of a join between incongruent layers. To do that, we basically need to calculate--for each `grid` cell---the weighted sum of the population in `nz` polygons coinciding with that cell. The weights in the weighted sum calculation are the ratios between the area of the coinciding \"part\" out of the entire `nz` polygon. That is, we (inevitably) assume that the population in each `nz` polygon is equally distributed across space, therefore a partial `nz` polygon contains the respective partial population size.\n",
        "\n",
        "We start with calculating the entire area of each `nz` polygon, as follows, using the `.area` method (see @sec-area-length):\n"
      ],
      "id": "02a30a3b"
    },
    {
      "cell_type": "code",
      "metadata": {},
      "source": [
        "nz['area'] = nz.area\n",
        "nz"
      ],
      "id": "eb3274c3",
      "execution_count": null,
      "outputs": []
    },
    {
      "cell_type": "markdown",
      "metadata": {},
      "source": [
        "Next, we use the `.overlay` method to calculate the pairwise intersections between `nz` and `grid`, hereby named `nz_grid`. We also calculate the area of the intersections, hereby named `area_sub`. If an `nz` polygon was completely within a single `grid` polygon, then `area_sub` is going to be equal to `area`; otherwise, it is going to be smaller:\n"
      ],
      "id": "3ce18e82"
    },
    {
      "cell_type": "code",
      "metadata": {},
      "source": [
        "nz_grid = nz.overlay(grid)\n",
        "nz_grid = nz_grid[['id', 'area', 'Population', 'geometry']]\n",
        "nz_grid['area_sub'] = nz_grid.area\n",
        "nz_grid"
      ],
      "id": "b14b4ac2",
      "execution_count": null,
      "outputs": []
    },
    {
      "cell_type": "markdown",
      "metadata": {},
      "source": [
        "The resulting layer `nz_grid` is shown in @fig-nz-and-grid2. \n"
      ],
      "id": "86bdcdb4"
    },
    {
      "cell_type": "code",
      "metadata": {},
      "source": [
        "#| label: fig-nz-and-grid2\n",
        "#| fig-cap: 'The nz layer and a regular grid of rectangles: after an overlay operation'\n",
        "\n",
        "base = grid.plot(color='none', edgecolor='grey')\n",
        "nz_grid.plot(ax=base, column='Population', edgecolor='black', legend=True, cmap='viridis_r');"
      ],
      "id": "fig-nz-and-grid2",
      "execution_count": null,
      "outputs": []
    },
    {
      "cell_type": "markdown",
      "metadata": {},
      "source": [
        "Note that each of the \"intersections\" still holds the `Population` attribute of its \"origin\" feature of `nz`, as depicted in @fig-nz-and-grid2. The real population size of each `nz_grid` feature, however, is smaller (or equal), depending on the geographic area proportion that it occupies out of the original `nz` feature. To make the \"correction\", we first calculate the ratio (`area_prop`) and then multiply it by the population. The new (lowercase) attribute `population` now has the correct estimate of population sizes in `nz_grid`:\n"
      ],
      "id": "2683f534"
    },
    {
      "cell_type": "code",
      "metadata": {},
      "source": [
        "nz_grid['area_prop'] = nz_grid['area_sub'] / nz_grid['area']\n",
        "nz_grid['population'] = nz_grid['Population'] * nz_grid['area_prop']\n",
        "nz_grid"
      ],
      "id": "55ba6d05",
      "execution_count": null,
      "outputs": []
    },
    {
      "cell_type": "markdown",
      "metadata": {},
      "source": [
        "What is left to be done is to sum (see @sec-vector-attribute-aggregation) the population in all parts forming the same grid cell:\n"
      ],
      "id": "d111669a"
    },
    {
      "cell_type": "code",
      "metadata": {},
      "source": [
        "nz_grid = nz_grid.groupby('id')['population'].sum().reset_index()\n",
        "nz_grid"
      ],
      "id": "58276c2c",
      "execution_count": null,
      "outputs": []
    },
    {
      "cell_type": "markdown",
      "metadata": {},
      "source": [
        "and join (see @sec-vector-attribute-joining) them back to the `grid` layer: \n"
      ],
      "id": "045c275b"
    },
    {
      "cell_type": "code",
      "metadata": {},
      "source": [
        "grid = pd.merge(grid, nz_grid[['id', 'population']], on='id', how='left')\n",
        "grid"
      ],
      "id": "c6a0a295",
      "execution_count": null,
      "outputs": []
    },
    {
      "cell_type": "markdown",
      "metadata": {},
      "source": [
        "The final result `grid`, with the incongruently-joined `population` attribute from `nz`, is shown in @fig-nz-and-grid3. \n"
      ],
      "id": "5fe69190"
    },
    {
      "cell_type": "code",
      "metadata": {},
      "source": [
        "#| label: fig-nz-and-grid3\n",
        "#| fig-cap: 'The nz layer and a regular grid of rectangles: final result'\n",
        "\n",
        "base = grid.plot(column='population', edgecolor='black', legend=True, cmap='viridis_r');\n",
        "nz.plot(ax=base, color='none', edgecolor='grey', legend=True);"
      ],
      "id": "fig-nz-and-grid3",
      "execution_count": null,
      "outputs": []
    },
    {
      "cell_type": "markdown",
      "metadata": {},
      "source": [
        "We can demonstrate that, expectedly, the summed population in `nz` and `grid` is identical, even though the geometry is different (since we created `grid` to completely cover `nz`):\n"
      ],
      "id": "07aaf898"
    },
    {
      "cell_type": "code",
      "metadata": {},
      "source": [
        "nz['Population'].sum()"
      ],
      "id": "652ca51a",
      "execution_count": null,
      "outputs": []
    },
    {
      "cell_type": "code",
      "metadata": {},
      "source": [
        "grid['population'].sum()"
      ],
      "id": "b44f28ca",
      "execution_count": null,
      "outputs": []
    },
    {
      "cell_type": "markdown",
      "metadata": {},
      "source": [
        "The procedure in this section is known as an area-weighted interpolation of a spatially extensive (e.g., population) variable. An area-weighted interpolation of a spatially intensive variable (e.g., population density) is almost identical, except that we would have to calculate the weighted `.mean` rather than `.sum`, to preserve the average rather than the sum. \n",
        "\n",
        "### Distance relations\n",
        "\n",
        "While topological relations are binary — a feature either intersects with another or does not — distance relations are continuous. The distance between two objects is calculated with the `distance` method. The method is applied on a `GeoSeries` (or a `GeoDataFrame`), with the argument being an individual `shapely` geometry. The result is a `Series` of pairwise distances.\n",
        "\n",
        "This is illustrated in the code chunk below, which finds the distance between the three highest point in New Zealand:\n"
      ],
      "id": "b8b7b5ce"
    },
    {
      "cell_type": "code",
      "metadata": {},
      "source": [
        "nz_highest = nz_height \\\n",
        "  .sort_values(by='elevation', ascending=False) \\\n",
        "  .iloc[:3, :]\n",
        "nz_highest"
      ],
      "id": "137b1cb5",
      "execution_count": null,
      "outputs": []
    },
    {
      "cell_type": "markdown",
      "metadata": {},
      "source": [
        "and the geographic centroid of the Canterbury region, created in Section 4.2.1: \n"
      ],
      "id": "96935ebf"
    },
    {
      "cell_type": "code",
      "metadata": {},
      "source": [
        "canterbury_centroid = canterbury.centroid.iloc[0]"
      ],
      "id": "f2e51908",
      "execution_count": null,
      "outputs": []
    },
    {
      "cell_type": "markdown",
      "metadata": {},
      "source": [
        "Here are the distances:\n"
      ],
      "id": "7ff051fd"
    },
    {
      "cell_type": "code",
      "metadata": {},
      "source": [
        "nz_highest.distance(canterbury_centroid)"
      ],
      "id": "fef85f0e",
      "execution_count": null,
      "outputs": []
    },
    {
      "cell_type": "markdown",
      "metadata": {},
      "source": [
        "To obtain a distance matrix, i.e., a pairwise set of distances between all combinations of features in objects `x` and `y`, we need to use the `.apply` method. This is illustrated in the command below, which finds the distances between the first three features in `nz_height` and the Otago and Canterbury regions of New Zealand represented by the object `co`:\n"
      ],
      "id": "ecfe51f9"
    },
    {
      "cell_type": "code",
      "metadata": {},
      "source": [
        "sel = nz['Name'].str.contains('Canter|Otag')\n",
        "co = nz[sel]\n",
        "co"
      ],
      "id": "20c49dc2",
      "execution_count": null,
      "outputs": []
    },
    {
      "cell_type": "markdown",
      "metadata": {},
      "source": [
        "The distance matrix `d` is obtained as follows (technically speaking, this is a `DataFrame`). In plain language, we take the geometry from each each row in `nz_height.iloc[:3, :]`, and apply the `.distance` method on `co` with that row as the argument:\n"
      ],
      "id": "d9e38a8d"
    },
    {
      "cell_type": "code",
      "metadata": {},
      "source": [
        "d = nz_height.iloc[:3, :].apply(lambda x: co.distance(x['geometry']), axis=1)\n",
        "d"
      ],
      "id": "accb6c69",
      "execution_count": null,
      "outputs": []
    },
    {
      "cell_type": "markdown",
      "metadata": {},
      "source": [
        "Note that the distance between the second and third features in `nz_height` and the second feature in `co` is zero. This demonstrates the fact that distances between points and polygons refer to the distance to any part of the polygon: The second and third points in `nz_height` are in Otago, which can be verified by plotting them:\n"
      ],
      "id": "b1cb902f"
    },
    {
      "cell_type": "code",
      "metadata": {},
      "source": [
        "base = co.iloc[[1]].plot(color='none')\n",
        "nz_height.iloc[1:3, :].plot(ax=base);"
      ],
      "id": "6e5be100",
      "execution_count": null,
      "outputs": []
    },
    {
      "cell_type": "markdown",
      "metadata": {},
      "source": [
        "## Spatial operations on raster data {#sec-spatial-ras}\n",
        "\n",
        "### Spatial subsetting {#sec-spatial-subsetting}\n",
        "\n",
        "The previous chapter (Section @sec-manipulating-raster-objects) demonstrated how to retrieve values associated with specific cell IDs or row and column combinations. Raster objects can also be extracted by location (coordinates) and other spatial objects. To use coordinates for subsetting, we can use the [`.sample`](https://rasterio.readthedocs.io/en/stable/api/rasterio.io.html#rasterio.io.DatasetReader.sample) method of a `rasterio` file connection object, combined with a list of coordinate tuples. The methods is demonstrated below to find the value of the cell that covers a point located at coordinates of 0.1, 0.1 in `elev`. The returned object is a *generator*: \n"
      ],
      "id": "ec777e22"
    },
    {
      "cell_type": "code",
      "metadata": {},
      "source": [
        "src_elev.sample([(0.1, 0.1)])"
      ],
      "id": "cdb0adde",
      "execution_count": null,
      "outputs": []
    },
    {
      "cell_type": "markdown",
      "metadata": {},
      "source": [
        "In case we want all values at once we can apply `list`. The result is `16`:\n"
      ],
      "id": "16b37e2f"
    },
    {
      "cell_type": "code",
      "metadata": {},
      "source": [
        "list(src_elev.sample([(0.1, 0.1)]))"
      ],
      "id": "8f2f8704",
      "execution_count": null,
      "outputs": []
    },
    {
      "cell_type": "markdown",
      "metadata": {},
      "source": [
        "Another common use case of spatial subsetting is using a boolean mask, based on another raster with the same extent and resolution, or the original one, as illustrated in @fig-raster-subset. To do that, we \"erase\" the values in the array of one raster, according to another corresponding \"mask\" raster. For example, let us read the `elev.tif` raster array: \n"
      ],
      "id": "c4c0051f"
    },
    {
      "cell_type": "code",
      "metadata": {},
      "source": [
        "elev = src_elev.read(1)\n",
        "elev"
      ],
      "id": "26ee9acf",
      "execution_count": null,
      "outputs": []
    },
    {
      "cell_type": "markdown",
      "metadata": {},
      "source": [
        "and create a correspinding random mask:\n"
      ],
      "id": "053fe8ae"
    },
    {
      "cell_type": "code",
      "metadata": {},
      "source": [
        "np.random.seed(1)\n",
        "mask = np.random.choice([True, False], elev.shape)\n",
        "mask"
      ],
      "id": "ec383cad",
      "execution_count": null,
      "outputs": []
    },
    {
      "cell_type": "markdown",
      "metadata": {},
      "source": [
        "In the code chunk above, we have created a mask object called `mask` with values randomly assigned to `True` and `False`. Next, we want to keep those values of `elev` which are `False` in `mask` (i.e., they are *not* masked). In other words, we want to mask `elev` with `mask`. The result is stored in a copy named `elev1`. To be able to store `np.nan` in the raster, we also need to convert it to float (see @sec-summarizing-raster-objects):\n"
      ],
      "id": "8119dbe5"
    },
    {
      "cell_type": "code",
      "metadata": {},
      "source": [
        "elev1 = elev.copy()\n",
        "elev1 = elev1.astype('float64')\n",
        "elev1[mask] = np.nan\n",
        "elev1"
      ],
      "id": "53858e92",
      "execution_count": null,
      "outputs": []
    },
    {
      "cell_type": "markdown",
      "metadata": {},
      "source": [
        "The result is shown in @fig-raster-subset.\n"
      ],
      "id": "aec0fe63"
    },
    {
      "cell_type": "code",
      "metadata": {},
      "source": [
        "#| label: fig-raster-subset\n",
        "#| fig-cap: Original raster (left). Raster mask (middle). Output of masking a raster (right).\n",
        "\n",
        "fig, ax = plt.subplots(ncols=3, figsize=(8,4))\n",
        "rasterio.plot.show(elev, ax=ax[0])\n",
        "rasterio.plot.show(mask, ax=ax[1])\n",
        "rasterio.plot.show(elev1, ax=ax[2])\n",
        "ax[0].set_title('Original')\n",
        "ax[1].set_title('Mask')\n",
        "ax[2].set_title('Result');"
      ],
      "id": "fig-raster-subset",
      "execution_count": null,
      "outputs": []
    },
    {
      "cell_type": "markdown",
      "metadata": {},
      "source": [
        "The above approach can be also used to replace some values (e.g., expected to be wrong) with `np.nan`:\n"
      ],
      "id": "e9c6825d"
    },
    {
      "cell_type": "code",
      "metadata": {},
      "source": [
        "elev1 = elev.copy()\n",
        "elev1 = elev1.astype('float64')\n",
        "elev1[elev1 < 20] = np.nan\n",
        "elev1"
      ],
      "id": "c2242eea",
      "execution_count": null,
      "outputs": []
    },
    {
      "cell_type": "markdown",
      "metadata": {},
      "source": [
        "These operations are in fact Boolean local operations, since we compare cell-wise two rasters. The next subsection explores these and related operations in more detail.\n",
        "\n",
        "### Map algebra {#sec-map-algebra}\n",
        "\n",
        "The term 'map algebra' was coined in the late 1970s to describe a \"set of conventions, capabilities, and techniques\" for the analysis of geographic raster and (although less prominently) vector data (Tomlin 1994). In this context, we define map algebra more narrowly, as operations that modify or summarise raster cell values, with reference to surrounding cells, zones, or statistical functions that apply to every cell.\n",
        "\n",
        "Map algebra operations tend to be fast, because raster datasets only implicitly store coordinates, hence the old adage \"raster is faster but vector is corrector\". The location of cells in raster datasets can be calculated by using its matrix position and the resolution and origin of the dataset (stored in the header). For the processing, however, the geographic position of a cell is barely relevant as long as we make sure that the cell position is still the same after the processing. Additionally, if two or more raster datasets share the same extent, projection and resolution, one could treat them as matrices for the processing.\n",
        "\n",
        "This is the way that map algebra works with the terra package. First, the headers of the raster datasets are queried and (in cases where map algebra operations work on more than one dataset) checked to ensure the datasets are compatible. Second, map algebra retains the so-called one-to-one locational correspondence, meaning that cells cannot move. This differs from matrix algebra, in which values change position, for example when multiplying or dividing matrices.\n",
        "\n",
        "Map algebra (or cartographic modeling with raster data) divides raster operations into four subclasses (Tomlin 1990), with each working on one or several grids simultaneously:\n",
        "\n",
        "* Local or per-cell operations\n",
        "* Focal or neighborhood operations. Most often the output cell value is the result of a 3 x 3 input cell block\n",
        "* Zonal operations are similar to focal operations, but the surrounding pixel grid on which new values are computed can have irregular sizes and shapes\n",
        "* Global or per-raster operations; that means the output cell derives its value potentially from one or several entire rasters\n",
        "\n",
        "This typology classifies map algebra operations by the number of cells used for each pixel processing step and the type of the output. For the sake of completeness, we should mention that raster operations can also be classified by discipline such as terrain, hydrological analysis, or image classification. The following sections explain how each type of map algebra operations can be used, with reference to worked examples.\n",
        "\n",
        "### Local operations {#sec-raster-local-operations}\n",
        "\n",
        "Local operations comprise all cell-by-cell operations in one or several layers. \n",
        "Raster algebra is a classical use case of local operations - this includes adding or subtracting values from a raster, squaring and multipling rasters. \n",
        "Raster algebra also allows logical operations such as finding all raster cells that are greater than a specific value (5 in our example below). \n",
        "Local operations are applied using the `numpy` array operations syntax, as demonstrated below:\n",
        "\n",
        "First, we need to read raster values:\n"
      ],
      "id": "f86934c2"
    },
    {
      "cell_type": "code",
      "metadata": {},
      "source": [
        "elev = src_elev.read(1)\n",
        "elev"
      ],
      "id": "882e5394",
      "execution_count": null,
      "outputs": []
    },
    {
      "cell_type": "markdown",
      "metadata": {},
      "source": [
        "Now, any element-wise array operation can be applied. For example:\n"
      ],
      "id": "0c7d3868"
    },
    {
      "cell_type": "code",
      "metadata": {},
      "source": [
        "elev + elev"
      ],
      "id": "b7f4249f",
      "execution_count": null,
      "outputs": []
    },
    {
      "cell_type": "markdown",
      "metadata": {},
      "source": [
        "@fig-raster-local-operations demonstrates a few more examples.\n"
      ],
      "id": "d1fd939f"
    },
    {
      "cell_type": "code",
      "metadata": {},
      "source": [
        "#| label: fig-raster-local-operations\n",
        "#| fig-cap: 'Examples of different local operations of the elev raster object: adding two rasters, squaring, applying logarithmic transformation, and performing a logical operation.'\n",
        "\n",
        "fig, axes = plt.subplots(ncols=4, figsize=(8,4))\n",
        "rasterio.plot.show(elev + elev, ax=axes[0], cmap='Oranges')\n",
        "rasterio.plot.show(elev1 ** 2, ax=axes[1], cmap='Oranges')  # using elev here produces int8 overflows\n",
        "rasterio.plot.show(np.log(elev), ax=axes[2], cmap='Oranges')\n",
        "rasterio.plot.show(elev > 5, ax=axes[3], cmap='Oranges')\n",
        "axes[0].set_title('elev+elev')\n",
        "axes[1].set_title('elev ** 2')\n",
        "axes[2].set_title('np.log(elev)')\n",
        "axes[3].set_title('elev > 5');"
      ],
      "id": "fig-raster-local-operations",
      "execution_count": null,
      "outputs": []
    },
    {
      "cell_type": "markdown",
      "metadata": {},
      "source": [
        "Another good example of local operations is the classification of intervals of numeric values into groups such as grouping a digital elevation model into low (class 1), middle (class 2) and high elevations (class 3). Here, we assign the raster values in the ranges 0--12, 12--24 and 24--36 are reclassified to take values 1, 2 and 3, respectively.\n"
      ],
      "id": "f6c687a3"
    },
    {
      "cell_type": "code",
      "metadata": {},
      "source": [
        "recl = elev.copy()\n",
        "recl[(elev > 0)  & (elev <= 12)] = 1\n",
        "recl[(elev > 12) & (elev <= 24)] = 2\n",
        "recl[(elev > 24) & (elev <= 36)] = 3"
      ],
      "id": "26294fe9",
      "execution_count": null,
      "outputs": []
    },
    {
      "cell_type": "markdown",
      "metadata": {},
      "source": [
        "The reclassified result is shown in @fig-raster-reclassify.\n"
      ],
      "id": "c157d684"
    },
    {
      "cell_type": "code",
      "metadata": {},
      "source": [
        "#| label: fig-raster-reclassify\n",
        "#| fig-cap: Reclassifying a continuous raster into three categories.\n",
        "\n",
        "fig, axes = plt.subplots(ncols=2, figsize=(8,4))\n",
        "rasterio.plot.show(elev, ax=axes[0], cmap='Oranges')\n",
        "rasterio.plot.show(recl, ax=axes[1], cmap='Oranges')\n",
        "axes[0].set_title('Original')\n",
        "axes[1].set_title('Reclassified');"
      ],
      "id": "fig-raster-reclassify",
      "execution_count": null,
      "outputs": []
    },
    {
      "cell_type": "markdown",
      "metadata": {},
      "source": [
        "The calculation of the normalized difference vegetation index (NDVI) is a well-known local (pixel-by-pixel) raster operation. It returns a raster with values between -1 and 1; positive values indicate the presence of living plants (mostly > 0.2). NDVI is calculated from red and near-infrared (NIR) bands of remotely sensed imagery, typically from satellite systems such as Landsat or Sentinel. Vegetation absorbs light heavily in the visible light spectrum, and especially in the red channel, while reflecting NIR light, explaining the NVDI formula (@eq-ndvi):\n",
        "\n",
        "$$NDVI=\\frac{NIR-Red} {NIR+Red}$${#eq-ndvi}\n",
        "\n",
        "Let's calculate NDVI for the multispectral satellite file of the Zion National Park.\n"
      ],
      "id": "ee79687f"
    },
    {
      "cell_type": "code",
      "metadata": {},
      "source": [
        "multi_rast = src_multi_rast.read()\n",
        "nir = multi_rast[3,:,:]\n",
        "red = multi_rast[2,:,:]\n",
        "ndvi = (nir-red)/(nir+red)"
      ],
      "id": "a46ea5d1",
      "execution_count": null,
      "outputs": []
    },
    {
      "cell_type": "markdown",
      "metadata": {},
      "source": [
        "Convert values >1 to \"No Data\":\n"
      ],
      "id": "15a9f1b3"
    },
    {
      "cell_type": "code",
      "metadata": {},
      "source": [
        "ndvi[ndvi>1] = np.nan"
      ],
      "id": "35feec95",
      "execution_count": null,
      "outputs": []
    },
    {
      "cell_type": "markdown",
      "metadata": {},
      "source": [
        "When plotting an RGB image using the `show` function, the function assumes that:\n",
        "\n",
        "* Values are in the range `[0,1]` for floats, or `[0,255]` for integers (otherwise clipped)\n",
        "* The order of bands is RGB\n",
        "\n",
        "To \"prepare\" the multi-band raster for `show`, we therefore reverse the order of bands (which is originally BGR+NIR), and divided by the maximum to set the maximum value at `1`:\n"
      ],
      "id": "57f4944c"
    },
    {
      "cell_type": "code",
      "metadata": {},
      "source": [
        "multi_rast_rgb = multi_rast[(2,1,0), :, :] / multi_rast.max()"
      ],
      "id": "b623eec0",
      "execution_count": null,
      "outputs": []
    },
    {
      "cell_type": "markdown",
      "metadata": {},
      "source": [
        "The result is shown in @fig-raster-ndvi.\n"
      ],
      "id": "efdd7aa3"
    },
    {
      "cell_type": "code",
      "metadata": {},
      "source": [
        "#| label: fig-raster-ndvi\n",
        "#| fig-cap: RGB image (left) and NDVI values (right) calculated for the example satellite file of the Zion National Park.\n",
        "\n",
        "fig, axes = plt.subplots(ncols=2, figsize=(8,4))\n",
        "rasterio.plot.show(multi_rast_rgb, ax=axes[0], cmap='RdYlGn')\n",
        "rasterio.plot.show(ndvi, ax=axes[1], cmap='Greens')\n",
        "axes[0].set_title('RGB image')\n",
        "axes[1].set_title('NDVI');"
      ],
      "id": "fig-raster-ndvi",
      "execution_count": null,
      "outputs": []
    },
    {
      "cell_type": "markdown",
      "metadata": {},
      "source": [
        "### Focal operations\n",
        "\n",
        "While local functions operate on one cell, though possibly from multiple layers, focal operations take into account a central (focal) cell and its neighbors. \n",
        "The neighborhood (also named kernel, filter or moving window) under consideration is typically of size 3-by-3 cells (that is the central cell and its eight surrounding neighbors), but can take on any other (not necessarily rectangular) shape as defined by the user. \n",
        "A focal operation applies an aggregation function to all cells within the specified neighborhood, uses the corresponding output as the new value for the the central cell, and moves on to the next central cell (Figure ...). \n",
        "Other names for this operation are spatial filtering and convolution (Burrough, McDonnell, and Lloyd 2015).\n",
        "\n",
        "In Python, the `scipy.ndimage` package has a comprehensive collection of [functions](https://docs.scipy.org/doc/scipy/reference/ndimage.html#filters) to perform filtering of `numpy` arrays, such as:\n",
        "\n",
        "* `minimum_filter`\n",
        "* `maximum_filter`\n",
        "* `uniform_filter` (i.e., mean filter)\n",
        "* `median_filter`\n",
        "etc.\n",
        "\n",
        "In this group of functions, we define the shape of the moving window with either one of:\n",
        "\n",
        "* `size`—a single number or tuple, implying a filter of those dimensions\n",
        "* `footprint`—a boolean array, representing both the window shape and the identity of elements being included\n",
        "\n",
        "In addition to specific built-in filters, \n",
        "\n",
        "* `convolve` applies the sum function after multiplying by a custom `weights` array\n",
        "* `generic_filter` makes it possible to pass any custom function, where the user can specify any type of custom window-based calculatio.\n",
        "\n",
        "For example, here we apply the minimum filter with window size of `3` on `elev`: \n"
      ],
      "id": "02c03d82"
    },
    {
      "cell_type": "code",
      "metadata": {},
      "source": [
        "elev"
      ],
      "id": "362c93c4",
      "execution_count": null,
      "outputs": []
    },
    {
      "cell_type": "code",
      "metadata": {},
      "source": [
        "elev_min = scipy.ndimage.minimum_filter(elev, size=3)\n",
        "elev_min"
      ],
      "id": "4d557fe1",
      "execution_count": null,
      "outputs": []
    },
    {
      "cell_type": "markdown",
      "metadata": {},
      "source": [
        "Special care should be given to the edge pixels. How should they be calculated? `scipy.ndimage` gives several options through the `mode` parameter:\n",
        "\n",
        "* `reflect` (the default)\n",
        "* `constant`\n",
        "* `nearest`\n",
        "* `mirror`\n",
        "* `wrap`\n",
        "\n",
        "Sometimes artificially extending raster edges is considered unsuitable. \n",
        "In other words, we may wish the resulting raster to contain pixel values with \"complete\" windows only, for example to have a uniform sample size or because values in all directions matter (such as in topographic calculations). \n",
        "There is no specific option *not* to extend edges in `scipy.ndimage`. \n",
        "However, to get the same effect, the edges of the filtered array can be assigned with `nan`, in a number of rows and columns according to filter size. \n",
        "For example, when using a filter of `size=3`, the first \"layer\" of pixels may be assigned with `nan`, reflecting the fact that these pixels have incomplete 3*3 neighborhoods:\n"
      ],
      "id": "ac56299e"
    },
    {
      "cell_type": "code",
      "metadata": {},
      "source": [
        "elev_min = elev_min.astype('float')\n",
        "elev_min[:, [0, -1]] = np.nan\n",
        "elev_min[[0, -1], :] = np.nan\n",
        "elev_min"
      ],
      "id": "1bd8f166",
      "execution_count": null,
      "outputs": []
    },
    {
      "cell_type": "markdown",
      "metadata": {},
      "source": [
        "We can quickly check if the output meets our expectations. \n",
        "In our example, the minimum value has to be always the upper left corner of the moving window (remember we have created the input raster by row-wise incrementing the cell values by one starting at the upper left corner). \n",
        "\n",
        "Focal functions or filters play a dominant role in image processing. Low-pass or smoothing filters use the mean function to remove extremes. \n",
        "In the case of categorical data, we can replace the mean with the mode, which is the most common value. \n",
        "By contrast, high-pass filters accentuate features. The line detection Laplace and Sobel filters might serve as an example here. \n",
        "\n",
        "Terrain processing, the calculation of topographic characteristics such as slope, aspect and flow directions, relies on focal functions. \n",
        "The `TerrainAttribute` function from package `richdem` can be used to calculate common [metrics](https://richdem.readthedocs.io/en/latest/python_api.html?highlight=TerrainAttribute#richdem.TerrainAttribute), specified through the `attrib` argument, namely:\n",
        "\n",
        "* `slope_riserun` \tHorn (1981) doi: 10.1109/PROC.1981.11918\n",
        "* `slope_percentage` \tHorn (1981) doi: 10.1109/PROC.1981.11918\n",
        "* `slope_degrees` \tHorn (1981) doi: 10.1109/PROC.1981.11918\n",
        "* `slope_radians` \tHorn (1981) doi: 10.1109/PROC.1981.11918\n",
        "* `aspect` \tHorn (1981) doi: 10.1109/PROC.1981.11918\n",
        "* `curvature` \tZevenbergen and Thorne (1987) doi: 10.1002/esp.3290120107\n",
        "* `planform_curvature` \tZevenbergen and Thorne (1987) doi: 10.1002/esp.3290120107\n",
        "* `profile_curvature` \tZevenbergen and Thorne (1987) doi: 10.1002/esp.3290120107\n",
        "\n",
        "### Zonal operations\n",
        "\n",
        "Just like focal operations, zonal operations apply an aggregation function to multiple raster cells. \n",
        "However, a second raster, usually with categorical values, defines the zonal filters (or 'zones') in the case of zonal operations, as opposed to a predefined neighborhood window in the case of focal operation presented in the previous section. \n",
        "Consequently, raster cells defining the zonal filter do not necessarily have to be neighbors. \n",
        "Our grain size raster is a good example, as illustrated in the right panel of Figure 3.2: different grain sizes are spread irregularly throughout the raster. \n",
        "Finally, the result of a zonal operation is a summary table grouped by zone which is why this operation is also known as zonal statistics in the GIS world. This is in contrast to focal operations which return a raster object.\n",
        "\n",
        "To demonstrate, let us get back to the `grain` and `elev` rasters (Figure 3.2). To calculate zonal statistics, we use the arrays with raster values. The `elev` array was already imported earlier:\n"
      ],
      "id": "ed6dfeac"
    },
    {
      "cell_type": "code",
      "metadata": {},
      "source": [
        "grain = src_grain.read(1)\n",
        "grain"
      ],
      "id": "7734ac7e",
      "execution_count": null,
      "outputs": []
    },
    {
      "cell_type": "markdown",
      "metadata": {},
      "source": [
        "Our interntion is to calculate the average (or any other summary function, for that matter) of *elevation* in each zone defined by *grain* values. First, we can obtain the unique values defining the zones using `np.unique`: \n"
      ],
      "id": "2db02822"
    },
    {
      "cell_type": "code",
      "metadata": {},
      "source": [
        "np.unique(grain)"
      ],
      "id": "5bc75117",
      "execution_count": null,
      "outputs": []
    },
    {
      "cell_type": "markdown",
      "metadata": {},
      "source": [
        "Now, we can use [dictionary conprehension](https://stackoverflow.com/questions/14507591/python-dictionary-comprehension) to \"split\" the `elev` array into separate one-dimensional arrays with values per `grain` group, with keys being the unique `grain` values:\n"
      ],
      "id": "18b0d8ec"
    },
    {
      "cell_type": "code",
      "metadata": {},
      "source": [
        "z = {i: elev[grain == i] for i in np.unique(grain)}\n",
        "z"
      ],
      "id": "09c4eb73",
      "execution_count": null,
      "outputs": []
    },
    {
      "cell_type": "markdown",
      "metadata": {},
      "source": [
        "At this stage, we can expand the dictionary comprehension expression to calculate the mean elevation associated with each grain size class. Instead of placing the elevation values (`elev[grain==i]`) into the dictionary values, we place their mean (`elev[grain==i].mean()`):\n"
      ],
      "id": "82b3f3b9"
    },
    {
      "cell_type": "code",
      "metadata": {},
      "source": [
        "z = {i: elev[grain == i].mean() for i in np.unique(grain)}\n",
        "z"
      ],
      "id": "ec6ccb3d",
      "execution_count": null,
      "outputs": []
    },
    {
      "cell_type": "markdown",
      "metadata": {},
      "source": [
        "This returns the statistics for each category, here the mean elevation for each grain size class. For example, the mean elevation in pixels characterized by grain size `0` is `14.8`, and so on.\n",
        "\n",
        "### Global operations and distances {#sec-global-operations-and-distances}\n",
        "\n",
        "Global operations are a special case of zonal operations with the entire raster dataset representing a single zone.\n",
        "The most common global operations are descriptive statistics for the entire raster dataset such as the minimum or maximum---we already discussed those in @sec-summarizing-raster-objects.\n",
        "\n",
        "Aside from that, global operations are also useful for the computation of distance and weight rasters. \n",
        "In the first case, one can calculate the distance from each cell to specific target cells or vector geometries. \n",
        "For example, one might want to compute the distance to the nearest coast (see example in @sec-distance-to-nearest-geometry). \n",
        "We might also want to consider topography, that means, we are not only interested in the pure distance but would like also to avoid the crossing of mountain ranges when going to the coast. \n",
        "To do so, we can weight the distance with elevation so that each additional altitudinal meter \"prolongs\" the Euclidean distance (this is beyond the scope of the book). \n",
        "Visibility and viewshed computations also belong to the family of global operations (this is also beyond the scope of the book).\n",
        "\n",
        "### Map algebra counterparts in vector processing\n",
        "\n",
        "Many map algebra operations have a counterpart in vector processing (Liu and Mason 2009 to add citation...). Computing a distance raster (global operation) while only considering a maximum distance (logical focal operation) is the equivalent to a vector buffer operation (@sec-buffers). Reclassifying raster data (either local or zonal function depending on the input) is equivalent to dissolving vector data (Section @sec-geometry-unions). Overlaying two rasters (local operation), where one contains \"No Data\" values representing a mask, is similar to vector clipping (Section @sec-clipping). Quite similar to spatial clipping is intersecting two layers (Section @sec-spatial-subsetting). The difference is that these two layers (vector or raster) simply share an overlapping area. However, be careful with the wording. Sometimes the same words have slightly different meanings for raster and vector data models. While aggregating polygon geometries means dissolving boundaries, for raster data geometries it means increasing cell sizes and thereby reducing spatial resolution. Zonal operations dissolve the cells of one raster in accordance with the zones (categories) of another raster dataset using an aggregating function.\n",
        "\n",
        "### Merging rasters\n",
        "\n",
        "Suppose we would like to compute the NDVI (see @sec-raster-local-operations), and additionally want to compute terrain attributes from elevation data for observations within a study area. \n",
        "Such computations rely on remotely sensed information. \n",
        "The corresponding imagery is often divided into scenes covering a specific spatial extent (i.e., \"tiles\"), and frequently, a study area covers more than one scene. \n",
        "Then, we would need to merge (also known as \"mosaic\") the scenes covered by our study area. \n",
        "In the easiest case, we can just merge these scenes, that is put them side by side. \n",
        "However, the procedure is the same regardless of the number of scenes. \n",
        "In case when all scenes are \"aligned\" (i.e., share the same origin and resolution), this can be thought of as simply gluing them into one big raster; otherwise, all scenes are resampled (see @sec-raster-resampling) to the grid defined by the first scene. \n",
        "\n",
        "For example, let us merge digital elevation data from two SRTM elevation tiles, for Austria (`aut.tif`) and Switzerland (`ch.tif`). \n",
        "Merging can be done using function `rasterio.merge.merge`, which accepts a `list` of raster file connections, and returns the new `ndarray` and a \"transform\":\n"
      ],
      "id": "fcedf53a"
    },
    {
      "cell_type": "code",
      "metadata": {},
      "source": [
        "src_1 = rasterio.open('data/aut.tif')\n",
        "src_2 = rasterio.open('data/ch.tif')\n",
        "out_image, out_transform = rasterio.merge.merge([src_1, src_2])"
      ],
      "id": "892b11a0",
      "execution_count": null,
      "outputs": []
    },
    {
      "cell_type": "markdown",
      "metadata": {},
      "source": [
        "Both inputs and the result are shown in @fig-raster-merge:\n"
      ],
      "id": "1cad9967"
    },
    {
      "cell_type": "code",
      "metadata": {},
      "source": [
        "#| label: fig-raster-merge\n",
        "#| fig-cap: Raster merging\n",
        "\n",
        "fig, axes = plt.subplots(2, 2, figsize=(8,4))\n",
        "rasterio.plot.show(src_1, ax=axes[0][0])\n",
        "rasterio.plot.show(src_2, ax=axes[0][1])\n",
        "rasterio.plot.show(out_image, transform=out_transform, ax=axes[1][0])\n",
        "axes[1][1].axis('off')\n",
        "axes[0][0].set_title('aut.tif')\n",
        "axes[0][1].set_title('ch.tif')\n",
        "axes[1][0].set_title('Mosaic (aut.tif+ch.tif)');"
      ],
      "id": "fig-raster-merge",
      "execution_count": null,
      "outputs": []
    },
    {
      "cell_type": "markdown",
      "metadata": {},
      "source": [
        "By default (`method='first'`), areas of overlap retain the value of the *first* raster. Other possible methods are:\n",
        "\n",
        "* `'last'`---Value of the last raster\n",
        "* `'min'`---Minimum value\n",
        "* `'max'`---Maximum value\n",
        "\n",
        "When dealing with non-overlapping tiles, such as `aut.tif` and `ch.tif` (above), the `method` argument has no practical effect. However, it becomes relevant when we want to combine spectral imagery from scenes that were taken on different dates. The above four options for `method` do not cover the commonly required scenario when we would like to compute the mean value---for example to calculate a seasonal average NDVI image from a set of partially overlapping satellite images (such as Landsat). An alternative worflow to `rasterio.merge.merge`, for calculating a mosaic as well as \"averaging\" any overlaps, could be to go through two steps:\n",
        "\n",
        "* Resampling all scenes into a common \"global\" grid (@sec-raster-resampling), thereby producing a series of \"matching\" rasters (with the area surrounding each scene set as \"No Data\")\n",
        "* Averaging the rasters through raster algebra (@sec-raster-local-operations), as in `np.mean(m,axis=0)` or `np.nanmean(m,axis=0)`, where `m` is the multi-band array, which would return a single-band array of averages\n",
        "\n",
        "## Exercises\n",
        "\n",
        "* Write a function which accepts and array and an `int` specifying the number of rows/columns to erase along an array edges. The function needs to return the modified array with `np.nan` values along its edges.\n"
      ],
      "id": "c27b4b59"
    }
  ],
  "metadata": {
    "kernelspec": {
      "name": "python3",
      "language": "python",
      "display_name": "Python 3 (ipykernel)"
    }
  },
  "nbformat": 4,
  "nbformat_minor": 5
}