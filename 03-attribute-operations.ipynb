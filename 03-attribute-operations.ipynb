{
  "cells": [
    {
      "cell_type": "markdown",
      "metadata": {},
      "source": [
        "# Attribute data operations {#attr}\n",
        "\n",
        "## Prerequisites\n"
      ],
      "id": "ea7b2259"
    },
    {
      "cell_type": "code",
      "metadata": {},
      "source": [
        "#| echo: false\n",
        "import pandas as pd\n",
        "import matplotlib.pyplot as plt\n",
        "pd.options.display.max_rows = 6\n",
        "pd.options.display.max_columns = 6\n",
        "pd.options.display.max_colwidth = 35\n",
        "plt.rcParams['figure.figsize'] = (5, 5)"
      ],
      "id": "fdb63506",
      "execution_count": null,
      "outputs": []
    },
    {
      "cell_type": "markdown",
      "metadata": {},
      "source": [
        "Packages...\n"
      ],
      "id": "e2a8940d"
    },
    {
      "cell_type": "code",
      "metadata": {},
      "source": [
        "import numpy as np\n",
        "import pandas as pd\n",
        "import matplotlib.pyplot as plt\n",
        "import geopandas as gpd\n",
        "import rasterio"
      ],
      "id": "52b9ba88",
      "execution_count": null,
      "outputs": []
    },
    {
      "cell_type": "markdown",
      "metadata": {},
      "source": [
        "Sample data...\n"
      ],
      "id": "3a80e725"
    },
    {
      "cell_type": "code",
      "metadata": {},
      "source": [
        "#| echo: false\n",
        "import os\n",
        "from urllib.request import urlretrieve\n",
        "\n",
        "data_path = 'data'\n",
        "if not os.path.exists(data_path):\n",
        "  os.mkdir(data_path)\n",
        "  \n",
        "file_path = 'data/landsat.tif'\n",
        "url = 'https://github.com/geocompr/py/releases/download/0.1/landsat.tif'\n",
        "if not os.path.exists(file_path):\n",
        "  print('Attempting to get the data')\n",
        "  urlretrieve(url, file_path)"
      ],
      "id": "16985e06",
      "execution_count": null,
      "outputs": []
    },
    {
      "cell_type": "code",
      "metadata": {},
      "source": [
        "world = gpd.read_file('data/world.gpkg')\n",
        "src_elev = rasterio.open('data/elev.tif')\n",
        "src_multi_rast = rasterio.open('data/landsat.tif')"
      ],
      "id": "1e77f6fd",
      "execution_count": null,
      "outputs": []
    },
    {
      "cell_type": "markdown",
      "metadata": {},
      "source": [
        "## Introduction\n",
        "\n",
        "Attribute data is non-spatial information associated with geographic (geometry) data.\n",
        "A bus stop provides a simple example: its position would typically be represented by latitude and longitude coordinates (geometry data), in addition to its name.\n",
        "The Elephant & Castle / New Kent Road stop in London, for example has coordinates of `-0.098` degrees longitude and `51.495` degrees latitude which can be represented as `POINT (-0.098 51.495)` in the Simple Feature representation described in @sec-spatial-class.\n",
        "Attributes such as the name attribute of the `POINT` feature (to use Simple Features terminology) are the topic of this chapter.\n",
        "\n",
        "Another example is the elevation value (attribute) for a specific grid cell in raster data. Unlike the vector data model, the raster data model stores the coordinate of the grid cell indirectly, meaning the distinction between attribute and spatial information is less clear.\n",
        "To illustrate the point, think of a pixel in the 3rd row and the 4th column of a raster matrix.\n",
        "Its spatial location is defined by its index in the matrix: move from the origin four cells in the x direction (typically east and right on maps) and three cells in the y direction (typically south and down).\n",
        "The raster's resolution defines the distance for each x- and y-step which is specified in a header.\n",
        "The header is a vital component of raster datasets which specifies how pixels relate to geographic coordinates (see also Chapter @spatial-operations).\n",
        "\n",
        "This chapter teaches how to manipulate geographic objects based on attributes such as the names of bus stops in a vector dataset and elevations of pixels in a raster dataset. \n",
        "For vector data, this means techniques such as subsetting and aggregation (see @sec-vector-attribute-subsetting and @sec-vector-attribute-aggregation).\n",
        "@sec-vector-attribute-joining and @sec-creating-attributes-and-removing-spatial-information demonstrate how to join data onto simple feature objects using a shared ID and how to create new variables, respectively. \n",
        "Each of these operations has a spatial equivalent: `[` operator for subsetting a `(Geo)DataFrame` using a boolean `Series`, for example, is applicable both for subsetting objects based on their attribute and spatial relations derived using methods such as `.intersects`; you can also join attributes in two geographic datasets using spatial joins. This is good news: skills developed in this chapter are cross-transferable.\n",
        "@sec-spatial-operations extends the methods presented here to the spatial world.\n",
        "\n",
        "After a deep dive into various types of vector attribute operations in the next section, raster attribute data operations are covered in @sec-manipulating-raster-objects, which demonstrates how to create raster layers containing continuous and categorical attributes and extracting cell values from one or more layer (raster subsetting). \n",
        "@sec-summarizing-raster-objects provides an overview of 'global' raster operations which can be used to summarize entire raster datasets.\n",
        "\n",
        "## Vector attribute manipulation\n",
        "\n",
        "As mentioned in @sec-vector-layers, vector layers (`GeoDataFrame`, from package **geopandas**) are basically extended tables (`DataFrame` from package **pandas**), the difference being that a vector layer has a geometry column.\n",
        "Since `GeoDataFrame` extends `DataFrame`, all ordinary table-related operations from package **pandas** are supported for vector layers as well, as shown below.\n",
        "\n",
        "### Vector attribute subsetting {#sec-vector-attribute-subsetting}\n",
        "\n",
        "**pandas** supports several subsetting interfaces, though the most [recommended](https://stackoverflow.com/questions/38886080/python-pandas-series-why-use-loc) ones are:\n",
        "\n",
        "* `.loc`, which uses pandas indices, and\n",
        "* `.iloc`, which uses (implicit) numpy-style numeric indices.\n",
        "\n",
        "In both cases the method is followed by square brackets, and two indices, separated by a comma. Each index can comprise:\n",
        "\n",
        "* A specific value, as in `1`\n",
        "* A slice, as in `0:3`\n",
        "* A `list`, as in `[0,2,4]`\n",
        "* `:`—indicating \"all\" indices\n",
        "\n",
        "An exception to this rule is selecting columns using a list, as in `df[['a','b']]`, instead of `df.loc[:, ['a','b']]`, to select columns `'a'` and `'b'` from `df`.\n",
        "\n",
        "Here are few examples of subsetting the `GeoDataFrame` of world countries.\n",
        "\n",
        "Subsetting rows by position, e.g., the first three rows:\n"
      ],
      "id": "9dac0331"
    },
    {
      "cell_type": "code",
      "metadata": {},
      "source": [
        "world.iloc[0:3, :]"
      ],
      "id": "51398ff2",
      "execution_count": null,
      "outputs": []
    },
    {
      "cell_type": "markdown",
      "metadata": {},
      "source": [
        "which is equivalent to:\n"
      ],
      "id": "1a38b1e4"
    },
    {
      "cell_type": "code",
      "metadata": {},
      "source": [
        "world.iloc[:3]"
      ],
      "id": "cb735955",
      "execution_count": null,
      "outputs": []
    },
    {
      "cell_type": "markdown",
      "metadata": {},
      "source": [
        "as well as:\n"
      ],
      "id": "7d108ad3"
    },
    {
      "cell_type": "code",
      "metadata": {},
      "source": [
        "world.head(3)"
      ],
      "id": "186d38ee",
      "execution_count": null,
      "outputs": []
    },
    {
      "cell_type": "markdown",
      "metadata": {},
      "source": [
        "Subsetting columns by position, e.g., the first three columns:\n"
      ],
      "id": "fbe83cd3"
    },
    {
      "cell_type": "code",
      "metadata": {},
      "source": [
        "world.iloc[:, 0:3]"
      ],
      "id": "ecf9bfab",
      "execution_count": null,
      "outputs": []
    },
    {
      "cell_type": "markdown",
      "metadata": {},
      "source": [
        "Subsetting rows and columns by position:\n"
      ],
      "id": "f44282b1"
    },
    {
      "cell_type": "code",
      "metadata": {},
      "source": [
        "world.iloc[0:3, 0:3]"
      ],
      "id": "44b04246",
      "execution_count": null,
      "outputs": []
    },
    {
      "cell_type": "markdown",
      "metadata": {},
      "source": [
        "Subsetting columns by name:\n"
      ],
      "id": "df18c61b"
    },
    {
      "cell_type": "code",
      "metadata": {},
      "source": [
        "world[['name_long', 'geometry']]"
      ],
      "id": "9db448b1",
      "execution_count": null,
      "outputs": []
    },
    {
      "cell_type": "markdown",
      "metadata": {},
      "source": [
        "\"Slice\" of columns between given ones:\n"
      ],
      "id": "695bf726"
    },
    {
      "cell_type": "code",
      "metadata": {},
      "source": [
        "world.loc[:, 'name_long':'pop']"
      ],
      "id": "1a5b5327",
      "execution_count": null,
      "outputs": []
    },
    {
      "cell_type": "markdown",
      "metadata": {},
      "source": [
        "Subsetting by a list of boolean values (0 and 1 or True and False):\n"
      ],
      "id": "27dbf82e"
    },
    {
      "cell_type": "code",
      "metadata": {},
      "source": [
        "x = [1, 1, 0, 0, 0, 0, 0, 1, 1, 0, 0] \n",
        "world.iloc[:, x]"
      ],
      "id": "227b7d10",
      "execution_count": null,
      "outputs": []
    },
    {
      "cell_type": "markdown",
      "metadata": {},
      "source": [
        "We can remove specific rows by id using the `.drop` method, e.g., dropping rows 2, 3, and 5:\n"
      ],
      "id": "f2ae4d98"
    },
    {
      "cell_type": "code",
      "metadata": {},
      "source": [
        "world.drop([2, 3, 5])"
      ],
      "id": "c03a2337",
      "execution_count": null,
      "outputs": []
    },
    {
      "cell_type": "markdown",
      "metadata": {},
      "source": [
        "Or remove specific columns using the `.drop` method and `axis=1` (i.e., columns):\n"
      ],
      "id": "686fe179"
    },
    {
      "cell_type": "code",
      "metadata": {},
      "source": [
        "world.drop(['name_long', 'continent'], axis=1)"
      ],
      "id": "18e4b81e",
      "execution_count": null,
      "outputs": []
    },
    {
      "cell_type": "markdown",
      "metadata": {},
      "source": [
        "We can rename columns using the `.rename` method:\n"
      ],
      "id": "b5d9d289"
    },
    {
      "cell_type": "code",
      "metadata": {},
      "source": [
        "world[['name_long', 'pop']].rename(columns={'pop': 'population'})"
      ],
      "id": "8a2c1e4f",
      "execution_count": null,
      "outputs": []
    },
    {
      "cell_type": "markdown",
      "metadata": {},
      "source": [
        "The standard **numpy** comparison operators can be used in boolean subsetting, as illustrated in Table @tbl-comparison-operators.\n",
        "\n",
        "|`Symbol` | `Name` | \n",
        "|---|---|\n",
        "| `==` | Equal to |\n",
        "| `!=` | Not equal to |\n",
        "| `>`, `<` | Greater/Less than |\n",
        "| `>=`, `<=` | Greater/Less than or equal |\n",
        "| `&`, `|`, `~` | Logical operators: And, Or, Not |\n",
        "\n",
        ": Comparison operators that return Booleans (`True`/`False`). {#tbl-comparison-operators}\n",
        "\n",
        "The following example demonstrates logical vectors for subsetting by creating a new `GeoDataFrame` object called `small_countries` that contains only those countries whose surface area is smaller than 10,000 km^2^:\n"
      ],
      "id": "79cb61e3"
    },
    {
      "cell_type": "code",
      "metadata": {},
      "source": [
        "idx_small = world['area_km2'] < 10000  ## a logical 'Series'\n",
        "small_countries = world[idx_small]\n",
        "small_countries"
      ],
      "id": "9b4ce420",
      "execution_count": null,
      "outputs": []
    },
    {
      "cell_type": "markdown",
      "metadata": {},
      "source": [
        "The intermediary `idx_small` (short for index representing small countries) is a boolean `Series` that can be used to subset the seven smallest countries in the world by surface area.\n",
        "A more concise command, which omits the intermediary object, generates the same result:\n"
      ],
      "id": "ede5f6e2"
    },
    {
      "cell_type": "code",
      "metadata": {},
      "source": [
        "small_countries = world[world['area_km2'] < 10000]\n",
        "small_countries"
      ],
      "id": "48345ed4",
      "execution_count": null,
      "outputs": []
    },
    {
      "cell_type": "markdown",
      "metadata": {},
      "source": [
        "The various methods shown above can be chained for any combination with several subsetting steps, e.g.:\n"
      ],
      "id": "266d3a96"
    },
    {
      "cell_type": "code",
      "metadata": {},
      "source": [
        "world[world['continent'] == 'Asia']  \\\n",
        "    .loc[:, ['name_long', 'continent']]  \\\n",
        "    .iloc[0:5, :]"
      ],
      "id": "5bab512a",
      "execution_count": null,
      "outputs": []
    },
    {
      "cell_type": "markdown",
      "metadata": {},
      "source": [
        "We can also combine indexes:\n"
      ],
      "id": "fb7ce16a"
    },
    {
      "cell_type": "code",
      "metadata": {},
      "source": [
        "idx_small = world['area_km2'] < 10000\n",
        "idx_asia = world['continent'] == 'Asia'\n",
        "world.loc[idx_small & idx_asia, ['name_long', 'continent', 'area_km2']]"
      ],
      "id": "da865299",
      "execution_count": null,
      "outputs": []
    },
    {
      "cell_type": "markdown",
      "metadata": {},
      "source": [
        "### Vector attribute aggregation {#sec-vector-attribute-aggregation}\n",
        "\n",
        "Aggregation involves summarizing data based on one or more *grouping variables* (typically values in a column;geographic aggregation is covered in the next chapter). A classic example of this attribute-based aggregation is calculating the number of people per continent based on country-level data (one row per country).\n",
        "The `world` dataset contains the necessary ingredients: the columns `pop` and `continent`, the population and the grouping variable, respectively. The aim is to find the `sum()` of country populations for each continent, resulting in a smaller data frame. (Since aggregation is a form of data reduction, it can be a useful early step when working with large datasets). This aggregation can be achieved using a combination of `.groupby` and `.sum`:\n"
      ],
      "id": "0007ee04"
    },
    {
      "cell_type": "code",
      "metadata": {},
      "source": [
        "world_agg1 = world[['continent', 'pop']].groupby('continent').sum()\n",
        "world_agg1"
      ],
      "id": "6cdb6779",
      "execution_count": null,
      "outputs": []
    },
    {
      "cell_type": "markdown",
      "metadata": {},
      "source": [
        "If you dislike the scientific notation used by default to display the population sums, you can change the Pandas display format for float values like this: \n"
      ],
      "id": "bc3e779b"
    },
    {
      "cell_type": "code",
      "metadata": {},
      "source": [
        "pd.set_option('display.float_format', '{:.0f}'.format)\n",
        "world_agg1"
      ],
      "id": "f437c7ec",
      "execution_count": null,
      "outputs": []
    },
    {
      "cell_type": "markdown",
      "metadata": {},
      "source": [
        "The result is a (non-spatial) table with eight rows, one per continent, and two columns reporting the name and population of each continent.\n",
        "\n",
        "If we want to include the geometry in the aggregation result, we can use the `.dissolve` method.\n",
        "That way, in addition to the summed population, we also get the associated geometry per continent, i.e., the union of all countries.\n",
        "Note that we use the `by` parameter to choose which column(s) are used for grouping, and the `aggfunc` parameter to choose the aggregation function for non-geometry columns:\n"
      ],
      "id": "52de8da4"
    },
    {
      "cell_type": "code",
      "metadata": {},
      "source": [
        "world_agg2 = world[['continent', 'pop', 'geometry']] \\\n",
        "    .dissolve(by='continent', aggfunc='sum') \\\n",
        "    .reset_index()\n",
        "world_agg2"
      ],
      "id": "0c659af2",
      "execution_count": null,
      "outputs": []
    },
    {
      "cell_type": "markdown",
      "metadata": {},
      "source": [
        "@fig-spatial-aggregation shows the result:\n"
      ],
      "id": "884a23a1"
    },
    {
      "cell_type": "code",
      "metadata": {},
      "source": [
        "#| label: fig-spatial-aggregation\n",
        "#| fig-cap: Continents with summed population\n",
        "\n",
        "world_agg2.plot(column='pop', legend=True);"
      ],
      "id": "fig-spatial-aggregation",
      "execution_count": null,
      "outputs": []
    },
    {
      "cell_type": "markdown",
      "metadata": {},
      "source": [
        "The resulting `world_agg2` object is a `GeoDataFrame` containing 8 features representing the continents of the world (and the open ocean). \n",
        "\n",
        "Other options for the `aggfunc` parameter in `.dissolve` [include](https://geopandas.org/en/stable/docs/user_guide/aggregation_with_dissolve.html):\n",
        "\n",
        "* `'first'`\n",
        "* `'last'`\n",
        "* `'min'`\n",
        "* `'max'`\n",
        "* `'sum'`\n",
        "* `'mean'`\n",
        "* `'median'`\n",
        "\n",
        "Additionally, we can pass custom functions.\n",
        "\n",
        "As a more complex example, here is how we can calculate the total population, area, and count of countries, per continent:\n"
      ],
      "id": "b1ffc199"
    },
    {
      "cell_type": "code",
      "metadata": {},
      "source": [
        "world_agg3 = world.dissolve(\n",
        "    by='continent', aggfunc={\n",
        "         \"name_long\": \"count\",\n",
        "         \"pop\": \"sum\",\n",
        "         'area_km2': \"sum\"\n",
        "     }).rename(columns={'name_long': 'n'})\n",
        "world_agg3"
      ],
      "id": "f0fd7479",
      "execution_count": null,
      "outputs": []
    },
    {
      "cell_type": "markdown",
      "metadata": {},
      "source": [
        "Figure @fig-spatial-aggregation-different-functions visualizes the resulting layer (`world_agg3`) of continents with the three aggregated attributes.\n"
      ],
      "id": "6a2abb05"
    },
    {
      "cell_type": "code",
      "metadata": {},
      "source": [
        "#| label: fig-spatial-aggregation-different-functions\n",
        "#| fig-cap: 'Continent properties, calculated using spatial aggregation using different functions'\n",
        "\n",
        "fig, axes = plt.subplots(2, 2, figsize=(9, 5))\n",
        "world_agg3.plot(column='pop', edgecolor='black', legend=True, ax=axes[0][0])\n",
        "world_agg3.plot(column='area_km2', edgecolor='black', legend=True, ax=axes[0][1])\n",
        "world_agg3.plot(column='n', edgecolor='black', legend=True, ax=axes[1][0])\n",
        "axes[0][0].set_title('Summed population')\n",
        "axes[0][1].set_title('Summed area')\n",
        "axes[1][0].set_title('Count of countries')\n",
        "fig.delaxes(axes[1][1]);"
      ],
      "id": "fig-spatial-aggregation-different-functions",
      "execution_count": null,
      "outputs": []
    },
    {
      "cell_type": "markdown",
      "metadata": {},
      "source": [
        "Let's proceed with the last result to demonstrate other table-related operations. Given the `world_agg3` continent summary (@fig-spatial-aggregation-different-functions), we:\n",
        "\n",
        "* drop the geometry columns, \n",
        "* calculate population density of each continent, \n",
        "* arrange continents by the number countries they contain, and \n",
        "* keep only the 3 most populous continents. \n"
      ],
      "id": "da8c35d5"
    },
    {
      "cell_type": "code",
      "metadata": {},
      "source": [
        "world_agg4 = world_agg3.drop(columns=['geometry'])\n",
        "world_agg4['density'] = world_agg4['pop'] / world_agg4['area_km2']\n",
        "world_agg4 = world_agg4.sort_values(by='n', ascending=False)\n",
        "world_agg4 = world_agg4.head(3)\n",
        "world_agg4"
      ],
      "id": "c321d8b0",
      "execution_count": null,
      "outputs": []
    },
    {
      "cell_type": "markdown",
      "metadata": {},
      "source": [
        "### Vector attribute joining {#sec-vector-attribute-joining}\n",
        "\n",
        "Combining data from different sources is a common task in data preparation. Joins do this by combining tables based on a shared 'key' variable. \n",
        "**pandas** has a function named `pd.merge` for joining `(Geo)DataFrames` based on common column(s).\n",
        "The `pd.merge` function follows conventions used in the database language SQL (Grolemund and Wickham 2016). \n",
        "The `pd.merge` function works the same on `DataFrame` and `GeoDataFrame` objects.\n",
        "The result of `pd.merge` can be either a `DataFrame` or a `GeoDataFrame` object, depending on the inputs.\n",
        "\n",
        "A common type of attribute join on spatial data is to join `DataFrames` to `GeoDataFrames`.\n",
        "To achieve this, we use `pd.merge` with a `GeoDataFrame` as the first argument and add columns to it from a `DataFrame` specified as the second argument.\n",
        "In the following example, we combine data on coffee production with the `world` dataset.\n",
        "The coffee data is in a `DataFrame` called `coffee_data` imported from a CSV file of major coffee-producing nations:\n"
      ],
      "id": "d6de42d7"
    },
    {
      "cell_type": "code",
      "metadata": {},
      "source": [
        "coffee_data = pd.read_csv('data/coffee_data.csv')\n",
        "coffee_data"
      ],
      "id": "185f88e9",
      "execution_count": null,
      "outputs": []
    },
    {
      "cell_type": "markdown",
      "metadata": {},
      "source": [
        "Its three columns are: \n",
        "\n",
        "* `name_long` country name \n",
        "* `coffee_production_2016` and `coffee_production_2017` contain estimated values for coffee production in units of 60-kg bags per year.\n",
        "\n",
        "A left join, which preserves the first dataset, merges `world` with `coffee_data`, based on the common `'name_long'` column:\n"
      ],
      "id": "d89798ef"
    },
    {
      "cell_type": "code",
      "metadata": {},
      "source": [
        "world_coffee = pd.merge(world, coffee_data, on='name_long', how='left')\n",
        "world_coffee"
      ],
      "id": "4b081049",
      "execution_count": null,
      "outputs": []
    },
    {
      "cell_type": "markdown",
      "metadata": {},
      "source": [
        "The result is a `GeoDataFrame` object identical to the original `world` object, but with two new variables (`coffee_production_2016` and `coffee_production_2017`) on coffee production.\n",
        "This can be plotted as a map, as illustrated in @fig-join-coffee-production:\n"
      ],
      "id": "17245ae2"
    },
    {
      "cell_type": "code",
      "metadata": {},
      "source": [
        "#| label: fig-join-coffee-production\n",
        "#| fig-cap: 'World coffee production, thousand 60-kg bags by country, in 2017 (source: International Coffee Organization).'\n",
        "\n",
        "base = world_coffee.plot(color='white', edgecolor='lightgrey')\n",
        "coffee_map = world_coffee.plot(ax=base, column='coffee_production_2017')\n",
        "coffee_map.set_title('Coffee production');"
      ],
      "id": "fig-join-coffee-production",
      "execution_count": null,
      "outputs": []
    },
    {
      "cell_type": "markdown",
      "metadata": {},
      "source": [
        "To work, attribute-based joins need a 'key variable' in both datasets (`on` parameter of `pd.merge`). \n",
        "In the above example, both `world_coffee` and `world` DataFrames contained a column called `name_long`.\n",
        "(By default `pd.merge` uses all columns with matching names. However, it is recommended to explicitly specify the names of the columns to be used for matching, like we did in the last example.)\n",
        "\n",
        "In case where column names are not the same, you can use `left_on` and `right_on` to specify the respective columns.\n",
        "\n",
        "Note that the result `world_coffee` has the same number of rows as the original dataset `world`.\n",
        "Although there are only 47 rows in `coffee_data`, all 177 country records are kept intact in `world_coffee`. Rows in the original dataset with no match are assigned `np.nan` values for the new coffee production variables. \n",
        "This is a characteristic of a left join (specified with `how='left'`) and is what we typically want to do. \n",
        "\n",
        "What if we only want to keep countries that have a match in the key variable?\n",
        "In that case an inner join can be used:\n"
      ],
      "id": "4a605ce0"
    },
    {
      "cell_type": "code",
      "metadata": {},
      "source": [
        "pd.merge(world, coffee_data, on='name_long', how='inner')"
      ],
      "id": "28d28681",
      "execution_count": null,
      "outputs": []
    },
    {
      "cell_type": "markdown",
      "metadata": {},
      "source": [
        "An alternative way to join two (Geo)DataFrames is the aptly called `join` function: \n"
      ],
      "id": "5482117b"
    },
    {
      "cell_type": "code",
      "metadata": {},
      "source": [
        "world.join(coffee_data.set_index('name_long'), on='name_long', how='inner')"
      ],
      "id": "0f5e5d5b",
      "execution_count": null,
      "outputs": []
    },
    {
      "cell_type": "markdown",
      "metadata": {},
      "source": [
        "Note that in this case, we need to set the index of `coffee_data` to the `name_long` values to avoid error messages.\n",
        "\n",
        "### Creating attributes and removing spatial information {#sec-creating-attributes-and-removing-spatial-information}\n",
        "\n",
        "Often, we would like to create a new column based on already existing columns. For example, we want to calculate population density for each country. For this we need to divide a population column, here `pop`, by an area column, here `area_km2`. Note that we are working on a copy of `world` named `world2` so that we do not modify the original layer:\n"
      ],
      "id": "f9b11f4c"
    },
    {
      "cell_type": "code",
      "metadata": {},
      "source": [
        "world2 = world.copy()\n",
        "world2['pop_dens'] = world2['pop'] / world2['area_km2']\n",
        "world2"
      ],
      "id": "bcc5ac86",
      "execution_count": null,
      "outputs": []
    },
    {
      "cell_type": "markdown",
      "metadata": {},
      "source": [
        "To paste (i.e., concatenate) together existing columns, we can use the ordinary Python string operator `+`, as if we are working with individual strings rather than `Series`. For example, we want to combine the `continent` and `region_un` columns into a new column named `con_reg`, using `':'` as a separator. Subsequesntly, we remove the original columns using `.drop`:\n"
      ],
      "id": "6332b9e7"
    },
    {
      "cell_type": "code",
      "metadata": {},
      "source": [
        "world2['con_reg'] = world['continent'] + ':' + world2['region_un']\n",
        "world2 = world2.drop(['continent', 'region_un'], axis=1)\n",
        "world2"
      ],
      "id": "aa9a4889",
      "execution_count": null,
      "outputs": []
    },
    {
      "cell_type": "markdown",
      "metadata": {},
      "source": [
        "The resulting sf object has a new column called `con_reg` representing the continent and region of each country, e.g., `'South America:Americas'` for Argentina and other South America countries. The opposite operation, splitting one column into multiple columns based on a separator string, is done using the `.str.split` method. As a result we go back to the previous state of two separate `continent` and `region_un` columns (only that their position is now last, since they are newly created):\n"
      ],
      "id": "07a03e3f"
    },
    {
      "cell_type": "code",
      "metadata": {},
      "source": [
        "world2[['continent', 'region_un']] = world2['con_reg'] \\\n",
        "    .str.split(':', expand=True)\n",
        "world2"
      ],
      "id": "88f1aeab",
      "execution_count": null,
      "outputs": []
    },
    {
      "cell_type": "markdown",
      "metadata": {},
      "source": [
        "Renaming one or more columns can be done using the `.rename` method combined with the `columns` argument, which should be a dictionary of the form `old_name:new_name`. The following command, for example, renames the lengthy `name_long` column to simply `name`:\n"
      ],
      "id": "0982f1c3"
    },
    {
      "cell_type": "code",
      "metadata": {},
      "source": [
        "world2.rename(columns={'name_long': 'name'})"
      ],
      "id": "05398000",
      "execution_count": null,
      "outputs": []
    },
    {
      "cell_type": "markdown",
      "metadata": {},
      "source": [
        "To change all column names at once, we assign a `list` of the \"new\" column names into the `.columns` property. The `list` must be of the same length as the number of columns (i.e., `world.shape[1]`). This is illustrated below, which outputs the same `world2` object, but with very short names:\n"
      ],
      "id": "7577d132"
    },
    {
      "cell_type": "code",
      "metadata": {},
      "source": [
        "new_names = ['a', 'b', 'c', 'd', 'e', 'f', 'g', 'h', 'geom', 'i', 'j', 'k', 'l']\n",
        "world2.columns = new_names\n",
        "world2"
      ],
      "id": "0e56ad80",
      "execution_count": null,
      "outputs": []
    },
    {
      "cell_type": "markdown",
      "metadata": {},
      "source": [
        "To reorder columns, we can pass a modified columns list to the subsetting operator `[`. For example, the following expressions reorder `world2` columns in reverse alphabetical order:\n"
      ],
      "id": "7421dc30"
    },
    {
      "cell_type": "code",
      "metadata": {},
      "source": [
        "names = sorted(world2.columns, reverse=True)\n",
        "world2 = world2[names]\n",
        "world2"
      ],
      "id": "1c323b8f",
      "execution_count": null,
      "outputs": []
    },
    {
      "cell_type": "markdown",
      "metadata": {},
      "source": [
        "Each of these attribute data operations, even though they are defined in the `pandas` package and applicable to any `DataFrame`, preserve the geometry column and the `GeoDataFrame` class. Sometimes, however, it makes sense to remove the geometry, for example to speed-up aggregation or to export just the attribute data for statistical analysis. To go from `GeoDataFrame` to `DataFrame` we need to:\n",
        "\n",
        "1. Drop the geometry column\n",
        "1. Convert from `GeoDataFrame` into a `DataFrame`\n",
        "\n",
        "For example:\n"
      ],
      "id": "d37e0f2a"
    },
    {
      "cell_type": "code",
      "metadata": {},
      "source": [
        "world2 = world2.drop('geom', axis=1)\n",
        "world2 = pd.DataFrame(world2)\n",
        "world2"
      ],
      "id": "619521c9",
      "execution_count": null,
      "outputs": []
    },
    {
      "cell_type": "markdown",
      "metadata": {},
      "source": [
        "## Manipulating raster objects {#sec-manipulating-raster-objects}\n",
        "\n",
        "### Raster subsetting {#sec-raster-subsetting}\n",
        "\n",
        "When using `rasterio`, raster values are accessible through a `numpy` array, which can be imported with the `.read` method:\n"
      ],
      "id": "52d7104f"
    },
    {
      "cell_type": "code",
      "metadata": {},
      "source": [
        "elev = src_elev.read(1)\n",
        "elev"
      ],
      "id": "8be269ca",
      "execution_count": null,
      "outputs": []
    },
    {
      "cell_type": "markdown",
      "metadata": {},
      "source": [
        "Then, we can access any subset of cell values using `numpy` methods, e.g.:\n"
      ],
      "id": "e23c72a2"
    },
    {
      "cell_type": "code",
      "metadata": {},
      "source": [
        "elev[0, 0]  ## Value at row 1, column 1"
      ],
      "id": "fdacea24",
      "execution_count": null,
      "outputs": []
    },
    {
      "cell_type": "markdown",
      "metadata": {},
      "source": [
        "Cell values can be modified by overwriting existing values in conjunction with a subsetting operation, e.g. to set the upper left cell of elev to 0:\n"
      ],
      "id": "ab7c7e60"
    },
    {
      "cell_type": "code",
      "metadata": {},
      "source": [
        "elev[0, 0] = 0\n",
        "elev"
      ],
      "id": "10d747f3",
      "execution_count": null,
      "outputs": []
    },
    {
      "cell_type": "markdown",
      "metadata": {},
      "source": [
        "Multiple cells can also be modified in this way:\n"
      ],
      "id": "72f04c3a"
    },
    {
      "cell_type": "code",
      "metadata": {},
      "source": [
        "elev[0, 0:3] = 0\n",
        "elev"
      ],
      "id": "1a8936ad",
      "execution_count": null,
      "outputs": []
    },
    {
      "cell_type": "markdown",
      "metadata": {},
      "source": [
        "### Summarizing raster objects {#sec-summarizing-raster-objects}\n",
        "\n",
        "Global summaries of raster values can be calculated by applying `numpy` summary functions on the array with raster values, e.g. `np.mean`:\n"
      ],
      "id": "216a63af"
    },
    {
      "cell_type": "code",
      "metadata": {},
      "source": [
        "np.mean(elev)"
      ],
      "id": "20e75992",
      "execution_count": null,
      "outputs": []
    },
    {
      "cell_type": "markdown",
      "metadata": {},
      "source": [
        "Note that \"No Data\"-safe functions--such as `np.nanmean`---should be used in case the raster contains \"No Data\" values which need to be ignored. Before we can demontrate that, we must convert the array from `int` to `float`, as `int` arrays cannot contain `np.nan` (due to computer memory limitations):\n"
      ],
      "id": "0fc6be0a"
    },
    {
      "cell_type": "code",
      "metadata": {},
      "source": [
        "elev1 = elev.copy()\n",
        "elev1 = elev1.astype('float64')\n",
        "elev1"
      ],
      "id": "44fb3beb",
      "execution_count": null,
      "outputs": []
    },
    {
      "cell_type": "markdown",
      "metadata": {},
      "source": [
        "Now we can insert an `np.nan` value into the array. (Trying to do so in the original `elev` array raises an error, try it to see for yourself)\n"
      ],
      "id": "b0046831"
    },
    {
      "cell_type": "code",
      "metadata": {},
      "source": [
        "elev1[0, 2] = np.nan\n",
        "elev1"
      ],
      "id": "6a5d7d89",
      "execution_count": null,
      "outputs": []
    },
    {
      "cell_type": "markdown",
      "metadata": {},
      "source": [
        "With the `np.nan` value inplace, the summary value becomes unknown:\n"
      ],
      "id": "0986995f"
    },
    {
      "cell_type": "code",
      "metadata": {},
      "source": [
        "np.mean(elev1)"
      ],
      "id": "0611e359",
      "execution_count": null,
      "outputs": []
    },
    {
      "cell_type": "markdown",
      "metadata": {},
      "source": [
        "Therefore, we need to ignore the \"No Data\" value(s):\n"
      ],
      "id": "429ed61b"
    },
    {
      "cell_type": "code",
      "metadata": {},
      "source": [
        "np.nanmean(elev1)"
      ],
      "id": "41348f52",
      "execution_count": null,
      "outputs": []
    },
    {
      "cell_type": "markdown",
      "metadata": {},
      "source": [
        "Raster value statistics can be visualized in a variety of ways. \n",
        "One approach is to \"flatten\" the raster values into a one-dimensional array, then use a graphical function such as `plt.hist` or `plt.boxplot` (from `matplotlib.pyplot`).\n",
        "For example:\n"
      ],
      "id": "be20129a"
    },
    {
      "cell_type": "code",
      "metadata": {},
      "source": [
        "x = elev.flatten()\n",
        "plt.hist(x);"
      ],
      "id": "b0a12726",
      "execution_count": null,
      "outputs": []
    },
    {
      "cell_type": "markdown",
      "metadata": {},
      "source": [
        "## Exercises\n"
      ],
      "id": "56e7c9fa"
    }
  ],
  "metadata": {
    "kernelspec": {
      "name": "python3",
      "language": "python",
      "display_name": "Python 3 (ipykernel)"
    }
  },
  "nbformat": 4,
  "nbformat_minor": 5
}