{
  "cells": [
    {
      "cell_type": "markdown",
      "metadata": {},
      "source": [
        "# Making maps with Python {#sec-map-making}\n",
        "\n",
        "## Prerequisites\n"
      ],
      "id": "677a8be4"
    },
    {
      "cell_type": "code",
      "metadata": {},
      "source": [
        "#| echo: false\n",
        "#| label: getdata\n",
        "from pathlib import Path\n",
        "data_path = Path(\"data\")\n",
        "if data_path.is_dir():\n",
        "  pass\n",
        "  # print(\"path exists\") # directory exists\n",
        "else:\n",
        "  print(\"Attempting to get and unzip the data\")\n",
        "  import requests, zipfile, io\n",
        "  r = requests.get(\"https://github.com/geocompx/geocompy/releases/download/0.1/data.zip\")\n",
        "  z = zipfile.ZipFile(io.BytesIO(r.content))\n",
        "  z.extractall(\".\")"
      ],
      "id": "getdata",
      "execution_count": null,
      "outputs": []
    },
    {
      "cell_type": "markdown",
      "metadata": {},
      "source": [
        "Let's import the required packages:\n"
      ],
      "id": "bb50b2cb"
    },
    {
      "cell_type": "code",
      "metadata": {},
      "source": [
        "import matplotlib.pyplot as plt\n",
        "import geopandas as gpd\n",
        "import rasterio\n",
        "import rasterio.plot\n",
        "import contextily as ctx"
      ],
      "id": "4325a49f",
      "execution_count": null,
      "outputs": []
    },
    {
      "cell_type": "markdown",
      "metadata": {},
      "source": [
        "and load the sample data for this chapter:\n"
      ],
      "id": "1b9dfa52"
    },
    {
      "cell_type": "code",
      "metadata": {},
      "source": [
        "nz = gpd.read_file('data/nz.gpkg')\n",
        "nz_height = gpd.read_file('data/nz_height.gpkg')\n",
        "nz_elev = rasterio.open('data/nz_elev.tif')\n",
        "tanzania = gpd.read_file('data/world.gpkg', where='name_long=\"Tanzania\"')\n",
        "tanzania_buf = tanzania.to_crs(32736).buffer(50000).to_crs(4326)\n",
        "tanzania_neigh = gpd.read_file('data/world.gpkg', mask=tanzania_buf)"
      ],
      "id": "3fd503fb",
      "execution_count": null,
      "outputs": []
    },
    {
      "cell_type": "markdown",
      "metadata": {},
      "source": [
        "## Introduction\n",
        "\n",
        "<!-- - Geopandas explore has been used in previous chapters. -->\n",
        "<!-- - When to focus on visualisation? At the end of geographic data processing workflows. -->\n",
        "\n",
        "<!-- Input datasets: https://github.com/geocompx/spDatapy -->\n",
        "\n",
        "A satisfying and important aspect of geographic research is communicating the results. \n",
        "Map making---the art of cartography---is an ancient skill that involves communication, intuition, and an element of creativity. \n",
        "In addition to being fun and creative, cartography also has important practical applications. A carefully crafted map can be the best way of communicating the results of your work, but poorly designed maps can leave a bad impression. \n",
        "Common design issues include poor placement, size and readability of text and careless selection of colors, as outlined in the style guide of the Journal of Maps. \n",
        "Furthermore, poor map making can hinder the communication of results (Brewer 2015, add citation...):\n",
        "\n",
        "> Amateur-looking maps can undermine your audience's ability to understand important information and weaken the presentation of a professional data investigation. \n",
        "Maps have been used for several thousand years for a wide variety of purposes. \n",
        "Historic examples include maps of buildings and land ownership in the Old Babylonian dynasty more than 3000 years ago and Ptolemy's world map in his masterpiece Geography nearly 2000 years ago (Talbert 2014, add citation...).\n",
        "\n",
        "Map making has historically been an activity undertaken only by, or on behalf of, the elite. \n",
        "This has changed with the emergence of open source mapping software such as mapping packages in Python, R, and other languages, and the \"print composer\" in QGIS which enable anyone to make high-quality maps, enabling \"citizen science\". \n",
        "Maps are also often the best way to present the findings of geocomputational research in a way that is accessible. \n",
        "Map making is therefore a critical part of geocomputation and its emphasis not only on describing, but also changing the world.\n",
        "\n",
        "Basic static display of vector layers in Python is done with the `.plot` method or the `rasterio.plot.show` function, for vector layers and rasters, as we saw in Sections @sec-vector-layers and @sec-using-rasterio, respectively. \n",
        "Other, more advaned uses of these methods, were also encountered in later chapters, when demonstrating the various outputs we got. \n",
        "In this chapter, we provide a comprehensive summary of the most useful workflows of these two methods for creating static maps (@sec-static-maps). \n",
        "Then, we move on to elaborate on the `.explore` method for creating interactive maps, which was also briefly introduced earlier (@sec-vector-layers).  \n",
        "\n",
        "## Static maps {#sec-static-maps}\n",
        "\n",
        "Static maps are the most common type of visual output from geocomputation. \n",
        "Standard formats include `.png` and `.pdf` for raster and vector outputs, respectively. \n",
        "Static maps can be easily shared and viewed (whether digitally or in print), however they can only convey as much information as a static image can. Interactive maps provide much more flexibilty in terms of user experience and amout of information, however they often require more work to design and effectively share.\n",
        "\n",
        "<!-- Decision of whether to use static or interactive. -->\n",
        "<!-- Flow diagram? -->\n",
        "\n",
        "Let's move on to the basics of static mapping with Python. \n",
        "\n",
        "### Minimal example\n",
        "\n",
        "A vector layer (`GeoDataFrame`) or a geometry column (`GeoSeries`) can be displayed using their `.plot` method (@sec-vector-layers). A minimal example of a vector layer map is obtained using `.plot` with nothing but the defaults (@fig-vector-minimal):\n"
      ],
      "id": "9bc9c25d"
    },
    {
      "cell_type": "code",
      "metadata": {},
      "source": [
        "#| label: fig-vector-minimal\n",
        "#| fig-cap: Minimal example of a static vector layer plot with `.plot`\n",
        "nz.plot();"
      ],
      "id": "fig-vector-minimal",
      "execution_count": null,
      "outputs": []
    },
    {
      "cell_type": "markdown",
      "metadata": {},
      "source": [
        "A `rasterio` raster file connection, or a numpy `ndarray`, can be displayed using `rasterio.plot.show` (@sec-using-rasterio). Here is a minimal example of a raster plot (@fig-raster-minimal):\n"
      ],
      "id": "3540c983"
    },
    {
      "cell_type": "code",
      "metadata": {},
      "source": [
        "#| label: fig-raster-minimal\n",
        "#| fig-cap: Minimal example of a static raster plot with `rasterio.plot.show`\n",
        "rasterio.plot.show(nz_elev);"
      ],
      "id": "fig-raster-minimal",
      "execution_count": null,
      "outputs": []
    },
    {
      "cell_type": "markdown",
      "metadata": {},
      "source": [
        "### Styling\n",
        "\n",
        "Most useful visual properties of the geometries that can be specified in `.plot` include `color`, `edgecolor`, and `markersize` (for points) (@fig-basic-plot): \n"
      ],
      "id": "f158331d"
    },
    {
      "cell_type": "code",
      "metadata": {},
      "source": [
        "#| label: fig-basic-plot\n",
        "#| fig-cap: Setting `color` and `edgecolor` in static maps of a vector layer\n",
        "#| fig-subcap:\n",
        "#|   - Grey fill\n",
        "#|   - 'No fill, blue edge'\n",
        "#|   - 'Grey fill, blue edge'\n",
        "#| layout-ncol: 3\n",
        "\n",
        "nz.plot(color='grey');\n",
        "nz.plot(color='none', edgecolor='blue');\n",
        "nz.plot(color='grey', edgecolor='blue');"
      ],
      "id": "fig-basic-plot",
      "execution_count": null,
      "outputs": []
    },
    {
      "cell_type": "markdown",
      "metadata": {},
      "source": [
        "And here is an example of using `markersize` to get larger points (@fig-basic-plot-markersize). This example also demonstrated how to control the overall [figure size](https://matplotlib.org/stable/gallery/subplots_axes_and_figures/figure_size_units.html), such as $4 \\times 4$ $in$ in this case: \n"
      ],
      "id": "22a83cd1"
    },
    {
      "cell_type": "code",
      "metadata": {},
      "source": [
        "#| label: fig-basic-plot-markersize\n",
        "#| fig-cap: Setting `markersize` in a static map of a vector layer\n",
        "\n",
        "fig, ax = plt.subplots(figsize=(4,4))\n",
        "nz_height.plot(markersize=100, ax=ax);"
      ],
      "id": "fig-basic-plot-markersize",
      "execution_count": null,
      "outputs": []
    },
    {
      "cell_type": "markdown",
      "metadata": {},
      "source": [
        "### Symbology\n",
        "\n",
        "We can set symbology in a `.plot` using the following parameters:\n",
        "\n",
        "* `column`---A column name\n",
        "* `legend`---Whether to show a legend\n",
        "* `cmap`---Color map\n",
        "\n",
        "For example, here we plot stops points colored according to their `'Median_income'` attribute (@fig-plot-symbology):\n"
      ],
      "id": "bc516901"
    },
    {
      "cell_type": "code",
      "metadata": {},
      "source": [
        "#| label: fig-plot-symbology\n",
        "#| fig-cap: Symbology in a static map created with `.plot`\n",
        "\n",
        "nz.plot(column='Median_income', legend=True);"
      ],
      "id": "fig-plot-symbology",
      "execution_count": null,
      "outputs": []
    },
    {
      "cell_type": "markdown",
      "metadata": {},
      "source": [
        "The default color scale which you see in @fig-plot-symbology is `cmap='viridis'`. However, the `cmap` (\"color map\") argument can be used to specify any of countless other color scales. A first safe choice is often the [ColorBrewer](https://colorbrewer2.org/#type=sequential&scheme=BuGn&n=3) collection of color scales, specifically chosen for mapping uses. Any color scale can be reversed, using the `_r` suffic. Finally, other color scales are available, see the `matplotlib` [colormaps article](https://matplotlib.org/stable/tutorials/colors/colormaps.html) for details. The following code sections demonstrates these color scale specifications (@fig-plot-symbology-colors):\n"
      ],
      "id": "5458b77c"
    },
    {
      "cell_type": "code",
      "metadata": {},
      "source": [
        "#| label: fig-plot-symbology-colors\n",
        "#| fig-cap: 'Symbology in a static map of a vector layer, created with `.plot`'\n",
        "#| fig-subcap:\n",
        "#|   - The `'Reds'` color scale from ColorBrewer\n",
        "#|   - Reversed `'Reds'` color scale\n",
        "#|   - The `'spring'` color scale from `matplotlib`\n",
        "#| layout-ncol: 3\n",
        "\n",
        "nz.plot(column='Median_income', legend=True, cmap='Reds');\n",
        "nz.plot(column='Median_income', legend=True, cmap='Reds_r');\n",
        "nz.plot(column='Median_income', legend=True, cmap='spring');"
      ],
      "id": "fig-plot-symbology-colors",
      "execution_count": null,
      "outputs": []
    },
    {
      "cell_type": "markdown",
      "metadata": {},
      "source": [
        "Categorical symbology is also supported, such as when `column` points to a `string` attribute. For example, the following expression sets symbology according to the `'Island'` column. In this case, it makes sense to use a qualitative color scale, such as `'Set1'` from ColorBrewer (@fig-plot-symbology-categorical):\n"
      ],
      "id": "ff2648d8"
    },
    {
      "cell_type": "code",
      "metadata": {},
      "source": [
        "#| label: fig-plot-symbology-categorical\n",
        "#| fig-cap: Symbology for a categorical variable\n",
        "\n",
        "nz.plot(column='Island', legend=True, cmap='Set1');"
      ],
      "id": "fig-plot-symbology-categorical",
      "execution_count": null,
      "outputs": []
    },
    {
      "cell_type": "markdown",
      "metadata": {},
      "source": [
        "In case the legend interferes with the contents (such as in @fig-plot-symbology-categorical), we can modify the legend position as follows (@fig-plot-legend-pos):\n"
      ],
      "id": "78ebb822"
    },
    {
      "cell_type": "code",
      "metadata": {},
      "source": [
        "#| label: fig-plot-legend-pos\n",
        "#| fig-cap: Setting legend position in `.plot`\n",
        "\n",
        "nz.plot(column='Island', legend=True, cmap='Set1', legend_kwds={'loc': 4});"
      ],
      "id": "fig-plot-legend-pos",
      "execution_count": null,
      "outputs": []
    },
    {
      "cell_type": "markdown",
      "metadata": {},
      "source": [
        "The `rasterio.plot.show` function, based on `matplotlib` as well, supports the same kinds of `cmap` arguments. For example (@fig-plot-symbology-colors-r): \n"
      ],
      "id": "168ed48a"
    },
    {
      "cell_type": "code",
      "metadata": {},
      "source": [
        "#| label: fig-plot-symbology-colors-r\n",
        "#| fig-cap: 'Symbology in a static map of a raster, with `rasterio.plot.show`'\n",
        "#| fig-subcap:\n",
        "#|   - The `'BrBG'` color scale from ColorBrewer\n",
        "#|   - Reversed `'BrBG_r'` color scale\n",
        "#|   - The `'nipy_spectral'` color scale from `matplotlib`\n",
        "#| layout-ncol: 3\n",
        "\n",
        "rasterio.plot.show(nz_elev, cmap='BrBG');\n",
        "rasterio.plot.show(nz_elev, cmap='BrBG_r');\n",
        "rasterio.plot.show(nz_elev, cmap='nipy_spectral');"
      ],
      "id": "fig-plot-symbology-colors-r",
      "execution_count": null,
      "outputs": []
    },
    {
      "cell_type": "markdown",
      "metadata": {},
      "source": [
        "Unfortunately, there is no built-in option to display a legend in `rasterio.plot.show`. The following [workaround](https://stackoverflow.com/questions/61327088/rio-plot-show-with-colorbar), going back to `matplotlib` methods, can be used to acheive it instead (@fig-plot-symbology-colors-r-scale):\n"
      ],
      "id": "1d286f33"
    },
    {
      "cell_type": "code",
      "metadata": {},
      "source": [
        "#| label: fig-plot-symbology-colors-r-scale\n",
        "#| fig-cap: Adding a legend in `rasterio.plot.show`\n",
        "\n",
        "fig, ax = plt.subplots(figsize=(5, 5))\n",
        "i = ax.imshow(nz_elev.read()[0], cmap='BrBG')\n",
        "rasterio.plot.show(nz_elev, cmap='BrBG', ax=ax);\n",
        "fig.colorbar(i, ax=ax);"
      ],
      "id": "fig-plot-symbology-colors-r-scale",
      "execution_count": null,
      "outputs": []
    },
    {
      "cell_type": "markdown",
      "metadata": {},
      "source": [
        "### Layers {#sec-plot-static-layers}\n",
        "\n",
        "You can combine the raster and vector plotting methods shown above into a single visualisation with multiple layers, which we already used earlier when explaining masking and cropping (@fig-raster-crop). For example, @fig-plot-raster-and-vector demonstrated plotting a raster with increasingly complicated additions:\n",
        "\n",
        "* The left panel shows a raster (New Zealand elevation) and a vector layer (New Zealand administrative division)\n",
        "* The center panel shows the raster with a buffer of 22.2 $km$ around the dissolved administrative borders, representing New Zealand's [territorial waters](https://en.wikipedia.org/wiki/Territorial_waters) (see @sec-global-operations-and-distances)\n",
        "* The right panel shows the raster with two vector layers: the territorial waters (in red) and elevation measurement points (in yellow)\n"
      ],
      "id": "1238fc03"
    },
    {
      "cell_type": "code",
      "metadata": {},
      "source": [
        "#| label: fig-plot-raster-and-vector\n",
        "#| fig-cap: Combining a raster and vector layers in the same plot\n",
        "#| fig-subcap:\n",
        "#|   - Raster + vector layer\n",
        "#|   - Raster + computed vector layer\n",
        "#|   - Raster + two vector layers\n",
        "#| layout-ncol: 3\n",
        "\n",
        "# Raster + vector layer\n",
        "fig, ax = plt.subplots(figsize=(5, 5))\n",
        "rasterio.plot.show(nz_elev, ax=ax)\n",
        "nz.to_crs(nz_elev.crs).plot(ax=ax, facecolor='none', edgecolor='red');\n",
        "\n",
        "# Raster + computed vector layer\n",
        "fig, ax = plt.subplots(figsize=(5, 5))\n",
        "rasterio.plot.show(nz_elev, ax=ax)\n",
        "gpd.GeoSeries(nz.unary_union, crs=nz.crs) \\\n",
        "    .to_crs(nz_elev.crs) \\\n",
        "    .buffer(22200) \\\n",
        "    .boundary \\\n",
        "    .plot(ax=ax, color='red');\n",
        "\n",
        "# Raster + two vector layers\n",
        "fig, ax = plt.subplots(figsize=(5, 5))\n",
        "rasterio.plot.show(nz_elev, ax=ax)\n",
        "gpd.GeoSeries(nz.unary_union, crs=nz.crs) \\\n",
        "    .to_crs(nz_elev.crs) \\\n",
        "    .buffer(22200) \\\n",
        "    .exterior \\\n",
        "    .plot(ax=ax, color='red')\n",
        "nz_height.to_crs(nz_elev.crs).plot(ax=ax, color='yellow');"
      ],
      "id": "fig-plot-raster-and-vector",
      "execution_count": null,
      "outputs": []
    },
    {
      "cell_type": "markdown",
      "metadata": {},
      "source": [
        "### Basemaps\n"
      ],
      "id": "3cafebea"
    },
    {
      "cell_type": "code",
      "metadata": {},
      "source": [
        "nzw = nz.to_crs(epsg=3857)"
      ],
      "id": "ae6d6903",
      "execution_count": null,
      "outputs": []
    },
    {
      "cell_type": "markdown",
      "metadata": {},
      "source": [
        "@fig-basemap:\n"
      ],
      "id": "75dd37f4"
    },
    {
      "cell_type": "code",
      "metadata": {},
      "source": [
        "#| label: fig-basemap\n",
        "#| layout-ncol: 2\n",
        "#| fig-cap: Adding a basemap to a static map\n",
        "#| fig-subcap:\n",
        "#|   - Default basemap from `contextily`\n",
        "#|   - Custom basemap (CartoDB Positron)\n",
        "\n",
        "# Default basemap\n",
        "fig, ax = plt.subplots(figsize=(7, 7))\n",
        "ax = nzw.plot(color='none', edgecolor='k', ax=ax)\n",
        "ctx.add_basemap(ax);\n",
        "\n",
        "# Specific basemap\n",
        "fig, ax = plt.subplots(figsize=(7, 7))\n",
        "ax = nzw.plot(column='Median_income', legend=True, alpha=0.5, ax=ax)\n",
        "ctx.add_basemap(ax, source=ctx.providers.CartoDB.Positron);"
      ],
      "id": "fig-basemap",
      "execution_count": null,
      "outputs": []
    },
    {
      "cell_type": "markdown",
      "metadata": {},
      "source": [
        "### Faceted maps\n",
        "\n",
        "To complete...\n",
        "\n",
        "### Exporting static maps\n",
        "\n",
        "Static maps can be exported to a file using the [`matplotlib.pyplot.savefig`](https://matplotlib.org/stable/api/_as_gen/matplotlib.pyplot.savefig.html) function. \n",
        "For example, the following code section recreates @fig-read-shp-query (see previous Chapter), but this time the last expression saves the image to a JPG image named `plot_geopandas.jpg`:\n"
      ],
      "id": "cd7d1482"
    },
    {
      "cell_type": "code",
      "metadata": {},
      "source": [
        "#| output: false\n",
        "\n",
        "fig, axes = plt.subplots(ncols=2, figsize=(9,5))\n",
        "tanzania.plot(ax=axes[0], color='lightgrey', edgecolor='grey')\n",
        "tanzania_neigh.plot(ax=axes[1], color='lightgrey', edgecolor='grey')\n",
        "tanzania_buf.plot(ax=axes[1], color='none', edgecolor='red')\n",
        "axes[0].set_title('where')\n",
        "axes[1].set_title('mask')\n",
        "tanzania.apply(lambda x: axes[0].annotate(text=x['name_long'], xy=x.geometry.centroid.coords[0], ha='center'), axis=1)\n",
        "tanzania_neigh.apply(lambda x: axes[1].annotate(text=x['name_long'], xy=x.geometry.centroid.coords[0], ha='center'), axis=1);\n",
        "plt.savefig('output/plot_geopandas.jpg')"
      ],
      "id": "65884db2",
      "execution_count": null,
      "outputs": []
    },
    {
      "cell_type": "markdown",
      "metadata": {},
      "source": [
        "Figures with rasters can be exported exactly the same way. \n",
        "For example, the following code section (@sec-plot-static-layers) creates an image of a raster and a vector layer, which is then exported to a file named `plot_rasterio.jpg`:\n"
      ],
      "id": "5fbbb57f"
    },
    {
      "cell_type": "code",
      "metadata": {},
      "source": [
        "#| output: false\n",
        "\n",
        "fig, ax = plt.subplots(figsize=(5, 5))\n",
        "rasterio.plot.show(nz_elev, ax=ax)\n",
        "nz.to_crs(nz_elev.crs).plot(ax=ax, facecolor='none', edgecolor='r');\n",
        "plt.savefig('output/plot_rasterio.jpg')"
      ],
      "id": "390de61e",
      "execution_count": null,
      "outputs": []
    },
    {
      "cell_type": "markdown",
      "metadata": {},
      "source": [
        "Image file properties can be controlled through the `plt.subplots` and `plt.savefig` parameters. \n",
        "For example, the following code section exports the same raster plot to a file named `plot_rasterio2.svg`, which has different dimensions (width = 5 $in$, height = 7 $in$), a different format (SVG), and different resolution (300 $DPI$:)\n"
      ],
      "id": "66d2470a"
    },
    {
      "cell_type": "code",
      "metadata": {},
      "source": [
        "#| output: false\n",
        "\n",
        "fig, ax = plt.subplots(figsize=(5, 7))\n",
        "rasterio.plot.show(nz_elev, ax=ax)\n",
        "nz.to_crs(nz_elev.crs).plot(ax=ax, facecolor='none', edgecolor='r');\n",
        "plt.savefig('output/plot_rasterio2.svg', dpi=300)"
      ],
      "id": "598ca425",
      "execution_count": null,
      "outputs": []
    },
    {
      "cell_type": "markdown",
      "metadata": {},
      "source": [
        "<!-- ## Animated maps -->\n",
        "\n",
        "## Interactive maps\n",
        "\n",
        "### Minimal example\n",
        "\n",
        "An interactive map of a `GeoSeries` or `GeoDataFrame` can be created with `.explore` (@sec-vector-layers). Here is a minimal example:\n"
      ],
      "id": "806da0f9"
    },
    {
      "cell_type": "code",
      "metadata": {},
      "source": [
        "#| label: fig-explore\n",
        "#| fig-cap: Minimal example of an interactive vector layer plot with `.explore`\n",
        "\n",
        "nz.explore()"
      ],
      "id": "fig-explore",
      "execution_count": null,
      "outputs": []
    },
    {
      "cell_type": "markdown",
      "metadata": {},
      "source": [
        "### Layers\n",
        "\n",
        "To display multiple layers, one on top of another, with `.explore`, use the `m` argument, which stands for the previous map (@fig-explore-layers):\n"
      ],
      "id": "796120a9"
    },
    {
      "cell_type": "code",
      "metadata": {},
      "source": [
        "#| label: fig-explore-layers\n",
        "#| fig-cap: Displaying multiple layers in an interactive map with `.explore`\n",
        "\n",
        "m = nz.explore()\n",
        "nz_height.explore(m=m, color='red')"
      ],
      "id": "fig-explore-layers",
      "execution_count": null,
      "outputs": []
    },
    {
      "cell_type": "markdown",
      "metadata": {},
      "source": [
        "### Symbology\n",
        "\n",
        "To complete...\n",
        "\n",
        "### Using other basemaps\n",
        "\n",
        "To complete...\n",
        "\n",
        "### Controls\n",
        "\n",
        "To complete...\n",
        "\n",
        "### Publishing interactive maps\n",
        "\n",
        "To complete...\n",
        "\n",
        "<!-- ### Linking geographic and non-geographic visualisations -->\n",
        "\n",
        "...\n",
        "\n",
        "<!-- ## Mapping applications Streamlit? -->\n",
        "\n",
        "## Exercises\n"
      ],
      "id": "cfe55f4e"
    }
  ],
  "metadata": {
    "kernelspec": {
      "name": "python3",
      "language": "python",
      "display_name": "Python 3 (ipykernel)"
    }
  },
  "nbformat": 4,
  "nbformat_minor": 5
}