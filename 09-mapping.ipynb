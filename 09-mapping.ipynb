{
  "cells": [
    {
      "cell_type": "markdown",
      "metadata": {},
      "source": [
        "# Making maps with Python {#map-making}\n",
        "\n",
        "## Introduction\n",
        "\n",
        "- Geopandas explore has been used in previous chapters.\n",
        "- When to focus on visualisation? At the end of geographic data processing workflows.\n",
        "\n",
        "<!-- Input datasets: https://github.com/geocompr/spDatapy -->\n",
        "<!-- Decision of whether to use static or interactive. -->\n",
        "<!-- Flow diagram? -->\n"
      ],
      "id": "5acdb997"
    },
    {
      "cell_type": "code",
      "metadata": {},
      "source": [
        "#| echo: false\n",
        "#| label: getdata\n",
        "from pathlib import Path\n",
        "data_path = Path(\"data\")\n",
        "if data_path.is_dir():\n",
        "  pass\n",
        "  # print(\"path exists\") # directory exists\n",
        "else:\n",
        "  print(\"Attempting to get and unzip the data\")\n",
        "  import requests, zipfile, io\n",
        "  r = requests.get(\"https://github.com/geocompr/py/releases/download/0.1/data.zip\")\n",
        "  z = zipfile.ZipFile(io.BytesIO(r.content))\n",
        "  z.extractall(\".\")"
      ],
      "id": "getdata",
      "execution_count": null,
      "outputs": []
    },
    {
      "cell_type": "code",
      "metadata": {},
      "source": [
        "import matplotlib as mpl\n",
        "import matplotlib.pyplot as plt\n",
        "import geopandas as gpd\n",
        "import rasterio\n",
        "import rasterio.plot\n",
        "nz = gpd.read_file(\"data/nz.gpkg\")"
      ],
      "id": "27cece51",
      "execution_count": null,
      "outputs": []
    },
    {
      "cell_type": "markdown",
      "metadata": {},
      "source": [
        "## Static maps\n",
        "\n",
        "- Focus on matlibplot\n",
        "- First example: NZ with fill and borders\n",
        "- Scary matplotlib code here...\n"
      ],
      "id": "788fc5d2"
    },
    {
      "cell_type": "code",
      "metadata": {},
      "source": [
        "#| layout-ncol: 3\n",
        "nz.plot(color=\"grey\");\n",
        "nz.plot(color=\"none\", edgecolor=\"blue\");\n",
        "nz.plot(color=\"grey\", edgecolor=\"blue\");"
      ],
      "id": "3ae264af",
      "execution_count": null,
      "outputs": []
    },
    {
      "cell_type": "markdown",
      "metadata": {},
      "source": [
        "<!-- # Add fill layer to nz shape\n",
        "tm_shape(nz) +\n",
        "  tm_fill()\n",
        "# Add border layer to nz shape\n",
        "tm_shape(nz) +\n",
        "  tm_borders()\n",
        "# Add fill and border layers to nz shape\n",
        "tm_shape(nz) +\n",
        "  tm_fill() +\n",
        "  tm_borders()  -->\n",
        "\n",
        "As covered in Chapter 2, you can plot raster datasets as follows:\n"
      ],
      "id": "6b8505e2"
    },
    {
      "cell_type": "code",
      "metadata": {},
      "source": [
        "nz_elev = rasterio.open('data/nz_elev.tif')\n",
        "rasterio.plot.show(nz_elev);"
      ],
      "id": "5fc65386",
      "execution_count": null,
      "outputs": []
    },
    {
      "cell_type": "markdown",
      "metadata": {},
      "source": [
        "<!--\n",
        "In R:\n",
        "nz_elev = stars::read_stars(\"data/nz_elev.tif\")\n",
        "sf::st_crs(nz_elev)\n",
        "nz = spData::nz\n",
        "waldo::compare(sf::st_crs(nz), sf::st_crs(nz_elev))\n",
        "library(sf)\n",
        "plot(nz)\n",
        "nz_elev_transformed = sf::st_transform(nz_elev, sf::st_crs(nz))\n",
        "stars::write_stars(nz_elev_transformed, \"data/nz_elev.tif\")\n",
        "nz_transformed = sf::st_transform(nz, sf::st_crs(nz_elev))\n",
        "sf::st_write(nz_transformed, \"nz_transformed.gpkg\")\n",
        "-->\n",
        "\n",
        "\n",
        "You can combine the raster and vector plotting methods shown above into a single visualisation with multiple layers as follows:\n",
        "\n",
        "<!-- \n",
        "Source:\n",
        "https://gis.stackexchange.com/questions/294072/how-can-i-superimpose-a-geopandas-dataframe-on-a-raster-plot\n",
        "-->\n"
      ],
      "id": "fac2d874"
    },
    {
      "cell_type": "code",
      "metadata": {},
      "source": [
        "fig, ax = plt.subplots(figsize=(5, 5))\n",
        "rasterio.plot.show(nz_elev, ax=ax)\n",
        "nz.to_crs(nz_elev.crs).plot(ax=ax, facecolor='none', edgecolor='r');"
      ],
      "id": "8fffc612",
      "execution_count": null,
      "outputs": []
    },
    {
      "cell_type": "markdown",
      "metadata": {},
      "source": [
        "### Palettes\n",
        "### Layers\n",
        "### Faceted maps\n",
        "### Exporting maps as images\n",
        "\n",
        "<!-- ## Animated maps -->\n",
        "\n",
        "## Interactive maps\n",
        "\n",
        "- When are interactive maps useful\n",
        "\n",
        "An interactive map is an important way to understand and interpret complex geographical information. A good interactive map enables movement across the map area, change the area of interest and provide additional context or text information. In this section we will look an interactive map based of national public transport access nodes (NaPTAN), the UK Department for Transport repository of public transport point-of-interest in England, Scotland and Wales consisting of:\n",
        "- bus stops and railway stations\n",
        "- tram, metro and underground stops\n",
        "- airports and ferry terminals\n",
        "\n",
        "\n",
        "We will show how to create this may restricted to railway stations, tram stops and ferry terminals in Yorkshire. This will also match data to the National Rail customer reservation code (CRS) and timing point location (TIPLOC) attributes used in the the national rail timetable.\n",
        "\n",
        "In the first code block we define a function `get_databuffer` that uses the `requests` library to download the NaPTAN data-set in CSV format to a `StringIO` buffer.\n"
      ],
      "id": "cd5587d5"
    },
    {
      "cell_type": "code",
      "metadata": {},
      "source": [
        "import io\n",
        "import requests\n",
        "\n",
        "def get_databuffer(uri, encoding='UTF-8'):\n",
        "    \"\"\"Download data from URI and returns as an StringIO buffer\"\"\"\n",
        "    r = requests.get(uri, timeout=10)\n",
        "    return io.StringIO(str(r.content, encoding))\n",
        "\n",
        "# NaPTAN data service\n",
        "URI='https://multiple-la-generator-dot-dft-add-naptan-prod.ew.r.appspot.com/v1/access-nodes?dataFormat=csv'\n",
        "BUFFER = get_databuffer(URI)"
      ],
      "id": "c687aaaf",
      "execution_count": null,
      "outputs": []
    },
    {
      "cell_type": "markdown",
      "metadata": {},
      "source": [
        "We then read the in-memory string-buffer into a `Panda` data-frame, treating the buffer as if it were a CSV file. We then extract the location data into a `numpy` two-dimensional array."
      ],
      "id": "954cd261"
    },
    {
      "cell_type": "code",
      "metadata": {},
      "source": [
        "import pandas as pd\n",
        "\n",
        "DF1 = pd.read_csv(BUFFER, low_memory=False)\n",
        "DATA = DF1[['Longitude', 'Latitude']].values"
      ],
      "id": "f7b820d0",
      "execution_count": null,
      "outputs": []
    },
    {
      "cell_type": "markdown",
      "metadata": {},
      "source": [
        "We then convert the $transposed data-array$ into a `GeoSeries` and use this to create a `GeoDataFrame`. Which we then tidy by dropping any columns that only contain invalid (`pd.NA`) values."
      ],
      "id": "ceb59724"
    },
    {
      "cell_type": "code",
      "metadata": {},
      "source": [
        "import geopandas as gpd\n",
        "\n",
        "POINTS = gpd.points_from_xy(*DATA.T, crs='WGS84')\n",
        "NaPTAN = gpd.GeoDataFrame(data=DF1, geometry=POINTS)\n",
        "\n",
        "NaPTAN = NaPTAN.dropna(how='all', axis=1)"
      ],
      "id": "521adf24",
      "execution_count": null,
      "outputs": []
    },
    {
      "cell_type": "markdown",
      "metadata": {},
      "source": [
        "The next step is to create the timing-point `TIPLOC` data based on the `StopType` and a subset of the `ATCOCode` columns."
      ],
      "id": "dddf913e"
    },
    {
      "cell_type": "code",
      "metadata": {},
      "source": [
        "NaPTAN['TIPLOC'] = ''\n",
        "# Heavy railway stations\n",
        "IDX1 = NaPTAN['StopType'] == 'RLY'\n",
        "NaPTAN.loc[IDX1, 'TIPLOC'] = NaPTAN['ATCOCode'].str[4:]\n",
        "\n",
        "# Ferrys\n",
        "IDX1 = NaPTAN['StopType'] == 'FER'\n",
        "NaPTAN.loc[IDX1, 'TIPLOC'] = NaPTAN['ATCOCode'].str[4:]\n",
        "\n",
        "# Metro and trams\n",
        "IDX1 = NaPTAN['StopType'] == 'MET'\n",
        "NaPTAN.loc[IDX1, 'TIPLOC'] = NaPTAN['ATCOCode'].str[6:]"
      ],
      "id": "dedaa0cf",
      "execution_count": null,
      "outputs": []
    },
    {
      "cell_type": "markdown",
      "metadata": {},
      "source": [
        "We extract the heavy and light rail, or ferry locationsFrom the 435,298 rows in the NaPTAN data-frame."
      ],
      "id": "29f18a69"
    },
    {
      "cell_type": "code",
      "metadata": {},
      "source": [
        "IDX1 = NaPTAN['StopType'].isin(['RLY', 'FER', 'MET'])\n",
        "STATIONS = NaPTAN[IDX1]"
      ],
      "id": "e8d1495f",
      "execution_count": null,
      "outputs": []
    },
    {
      "cell_type": "markdown",
      "metadata": {},
      "source": [
        "Filter columns and drop points within Yorkshire."
      ],
      "id": "80f5382a"
    },
    {
      "cell_type": "code",
      "metadata": {},
      "source": [
        "FIELDS = ['ATCOCode', 'CommonName', 'ShortCommonName', 'LocalityName',\n",
        "          'StopType', 'Status', 'TIPLOC', 'geometry']\n",
        "\n",
        "# Clean up data-frame columns\n",
        "STATIONS = STATIONS[FIELDS]\n",
        "\n",
        "YORKSHIRE = gpd.read_file('data/yorkshire.json').iloc[0, 0]\n",
        "IDX = STATIONS.within(YORKSHIRE)\n",
        "\n",
        "STATIONS = STATIONS[IDX]\n",
        "\n",
        "# Write to GeoJSON\n",
        "STATIONS.to_file('stations.geojson', driver='GeoJSON')\n",
        "# Write file to GeoPackage\n",
        "\n",
        "OUTPUT = STATIONS.copy()\n",
        "CRS = 'EPSG:32630'\n",
        "OUTPUT['geometry'] = OUTPUT['geometry'].to_crs(CRS)\n",
        "OUTPUT.to_file('stations.gpkg', driver='GPKG', layer='stations')"
      ],
      "id": "db8d9c5c",
      "execution_count": null,
      "outputs": []
    },
    {
      "cell_type": "markdown",
      "metadata": {},
      "source": [
        "- Holoviews: facetted plotting\n",
        "- Panel: allows you to create applications/dashboards\n",
        "\n",
        "### GeoPandas explore\n",
        "### Layers\n",
        "### Publishing interactive maps\n",
        "### Linking geographic and non-geographic visualisations\n",
        "\n",
        "<!-- ## Mapping applications Streamlit? -->\n",
        "\n",
        "## Exercises"
      ],
      "id": "4da30020"
    }
  ],
  "metadata": {
    "kernelspec": {
      "name": "python3",
      "language": "python",
      "display_name": "Python 3 (ipykernel)"
    }
  },
  "nbformat": 4,
  "nbformat_minor": 5
}