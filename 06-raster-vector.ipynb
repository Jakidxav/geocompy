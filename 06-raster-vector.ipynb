{
  "cells": [
    {
      "cell_type": "markdown",
      "metadata": {},
      "source": [
        "# Raster-vector interactions {#raster-vector}\n",
        "\n",
        "## Prerequisites\n"
      ],
      "id": "7d2e80d6"
    },
    {
      "cell_type": "code",
      "metadata": {},
      "source": [
        "#| echo: false\n",
        "import pandas as pd\n",
        "import matplotlib.pyplot as plt\n",
        "pd.options.display.max_rows = 6\n",
        "pd.options.display.max_columns = 6\n",
        "pd.options.display.max_colwidth = 35\n",
        "plt.rcParams[\"figure.figsize\"] = (5, 5)"
      ],
      "id": "bf1b85c4",
      "execution_count": null,
      "outputs": []
    },
    {
      "cell_type": "markdown",
      "metadata": {},
      "source": [
        "Let's import the required packages:\n"
      ],
      "id": "4a034f4d"
    },
    {
      "cell_type": "code",
      "metadata": {},
      "source": [
        "import numpy as np\n",
        "import matplotlib.pyplot as plt\n",
        "import geopandas as gpd\n",
        "import rasterio\n",
        "import rasterio.mask\n",
        "from rasterio.plot import show"
      ],
      "id": "3779256e",
      "execution_count": null,
      "outputs": []
    },
    {
      "cell_type": "markdown",
      "metadata": {},
      "source": [
        "and load the sample data:\n"
      ],
      "id": "ad0477bf"
    },
    {
      "cell_type": "code",
      "metadata": {},
      "source": [
        "src_srtm = rasterio.open(\"data/srtm.tif\")\n",
        "zion = gpd.read_file(\"data/zion.gpkg\")\n",
        "zion_points = gpd.read_file(\"data/zion_points.gpkg\")"
      ],
      "id": "406bfdaa",
      "execution_count": null,
      "outputs": []
    },
    {
      "cell_type": "markdown",
      "metadata": {},
      "source": [
        "## Introduction\n",
        "\n",
        "## Raster cropping\n",
        "\n",
        "Many geographic data projects involve integrating data from many different sources, such as remote sensing images (rasters) and administrative boundaries (vectors). Often the extent of input raster datasets is larger than the area of interest. In this case raster **cropping** and **masking** are useful for unifying the spatial extent of input data. Both operations reduce object memory use and associated computational resources for subsequent analysis steps, and may be a necessary preprocessing step before creating attractive maps involving raster data.\n",
        "\n",
        "We will use two objects to illustrate raster cropping:\n",
        "\n",
        "* The `srtm.tif` raster representing elevation (meters above sea level) in south-western Utah\n",
        "* The `zion.gpkg` vector layer representing the Zion National Park\n",
        "\n",
        "Both target and cropping objects must have the same projection. The following reprojects the vector layer `zion` into the CRS of the raster `src_srtm`:\n"
      ],
      "id": "c3fa92f4"
    },
    {
      "cell_type": "code",
      "metadata": {},
      "source": [
        "zion = zion.to_crs(src_srtm.crs)"
      ],
      "id": "a8ef7faa",
      "execution_count": null,
      "outputs": []
    },
    {
      "cell_type": "markdown",
      "metadata": {},
      "source": [
        "To mask the image, i.e., convert all pixels which do not intersect with the `zion` polygon to \"No Data\", we use the `rasterio.mask.mask` function as follows:\n"
      ],
      "id": "05d921d6"
    },
    {
      "cell_type": "code",
      "metadata": {},
      "source": [
        "out_image_mask, out_transform_mask = rasterio.mask.mask(\n",
        "    src_srtm, \n",
        "    zion[\"geometry\"], \n",
        "    crop=False, \n",
        "    nodata=9999\n",
        ")"
      ],
      "id": "2436a809",
      "execution_count": null,
      "outputs": []
    },
    {
      "cell_type": "markdown",
      "metadata": {},
      "source": [
        "Note that we need to specify a \"No Data\" value in agreement with the raster data type. Since `srtm.tif` is of type `uint16`, we choose `9999` (a positive integer that is guaranteed not to occur in the raster). \n",
        "\n",
        "The result is the `out_image` array with the masked values: \n"
      ],
      "id": "31e2c361"
    },
    {
      "cell_type": "code",
      "metadata": {},
      "source": [
        "out_image_mask"
      ],
      "id": "15a52069",
      "execution_count": null,
      "outputs": []
    },
    {
      "cell_type": "markdown",
      "metadata": {},
      "source": [
        "and the new `out_transform`:\n"
      ],
      "id": "ec921539"
    },
    {
      "cell_type": "code",
      "metadata": {},
      "source": [
        "out_transform_mask"
      ],
      "id": "b517aa7b",
      "execution_count": null,
      "outputs": []
    },
    {
      "cell_type": "markdown",
      "metadata": {},
      "source": [
        "Note that masking (without cropping!) does not modify the raster spatial configuration. Therefore, the new transform is identical to the original:\n"
      ],
      "id": "4188f4a8"
    },
    {
      "cell_type": "code",
      "metadata": {},
      "source": [
        "src_srtm.transform"
      ],
      "id": "111521d0",
      "execution_count": null,
      "outputs": []
    },
    {
      "cell_type": "markdown",
      "metadata": {},
      "source": [
        "Unfortunately, the `out_image` and `out_transform` object do not contain any information indicating that `9999` represents \"No Data\". To associate the information with the raster, we must write it to file along with the corresponding metadata. For example, to write the cropped raster to file, we need to modify the \"No Data\" setting in the metadata:\n"
      ],
      "id": "97a98f7e"
    },
    {
      "cell_type": "code",
      "metadata": {},
      "source": [
        "out_meta = src_srtm.meta\n",
        "out_meta.update(nodata=9999)\n",
        "out_meta"
      ],
      "id": "17b2bc48",
      "execution_count": null,
      "outputs": []
    },
    {
      "cell_type": "markdown",
      "metadata": {},
      "source": [
        "Then we can write the cropped raster to file:\n"
      ],
      "id": "c97be6ff"
    },
    {
      "cell_type": "code",
      "metadata": {},
      "source": [
        "new_dataset = rasterio.open(\"output/srtm_masked.tif\", \"w\", **out_meta)\n",
        "new_dataset.write(out_image_mask)\n",
        "new_dataset.close()"
      ],
      "id": "2d91cd6f",
      "execution_count": null,
      "outputs": []
    },
    {
      "cell_type": "markdown",
      "metadata": {},
      "source": [
        "Now we can re-import the raster:\n"
      ],
      "id": "7403b8e8"
    },
    {
      "cell_type": "code",
      "metadata": {},
      "source": [
        "src_srtm_mask = rasterio.open(\"output/srtm_masked.tif\")"
      ],
      "id": "3ace1ec1",
      "execution_count": null,
      "outputs": []
    },
    {
      "cell_type": "markdown",
      "metadata": {},
      "source": [
        "The `.meta` property contains the `nodata` entry. Now, any relevant operation (such as plotting) will take \"No Data\" into account:\n"
      ],
      "id": "cebe94e6"
    },
    {
      "cell_type": "code",
      "metadata": {},
      "source": [
        "src_srtm_mask.meta"
      ],
      "id": "070dc395",
      "execution_count": null,
      "outputs": []
    },
    {
      "cell_type": "markdown",
      "metadata": {},
      "source": [
        "Cropping means reducing the raster extent to the extent of the vector layer:\n",
        "\n",
        "* To crop *and* mask, we can use the same in `rasterio.mask.mask` expression shown above for masking, just setting `crop=True` instead of `crop=False`. \n",
        "* To just crop, *without* masking, we can derive the extent polygon and then crop using it.\n",
        "\n",
        "For example, here is how we can obtain the extent polygon of `zion`, as a `shapely` geometry object:\n"
      ],
      "id": "c99656fb"
    },
    {
      "cell_type": "code",
      "metadata": {},
      "source": [
        "bb = zion.unary_union.envelope\n",
        "bb"
      ],
      "id": "5b23e1c2",
      "execution_count": null,
      "outputs": []
    },
    {
      "cell_type": "markdown",
      "metadata": {},
      "source": [
        "The extent can now be used for masking. Here, we are also using the `all_touched=True` option so that pixels partially overlapping with the extent are included:\n"
      ],
      "id": "d9fafe16"
    },
    {
      "cell_type": "code",
      "metadata": {},
      "source": [
        "out_image_crop, out_transform_crop = rasterio.mask.mask(\n",
        "    src_srtm, \n",
        "    [bb], \n",
        "    crop=True, \n",
        "    all_touched=True, \n",
        "    nodata=9999\n",
        ")"
      ],
      "id": "63e00d03",
      "execution_count": null,
      "outputs": []
    },
    {
      "cell_type": "markdown",
      "metadata": {},
      "source": [
        "Figure ... shows the original raster, and the cropped and masked results.\n"
      ],
      "id": "43833001"
    },
    {
      "cell_type": "code",
      "metadata": {},
      "source": [
        "fig, axes = plt.subplots(ncols=3, figsize=(9,5))\n",
        "show(src_srtm, ax=axes[0])\n",
        "zion.plot(ax=axes[0], color=\"none\", edgecolor=\"black\")\n",
        "show(src_srtm_mask, ax=axes[1])\n",
        "zion.plot(ax=axes[1], color=\"none\", edgecolor=\"black\")\n",
        "show(out_image_crop, transform=out_transform_crop, ax=axes[2])\n",
        "zion.plot(ax=axes[2], color=\"none\", edgecolor=\"black\")\n",
        "axes[0].set_title(\"Original\")\n",
        "axes[1].set_title(\"Mask\")\n",
        "axes[2].set_title(\"Crop\");"
      ],
      "id": "9ae1f252",
      "execution_count": null,
      "outputs": []
    },
    {
      "cell_type": "markdown",
      "metadata": {},
      "source": [
        "## Raster extraction\n",
        "\n",
        "From points...\n",
        "\n",
        "From line...\n",
        "\n",
        "From polygon (srtm)...\n",
        "\n",
        "From polygon (nlcd)...\n",
        "\n",
        "## Rasterization\n",
        "\n",
        "...\n",
        "\n",
        "## Spatial vectorization\n",
        "\n",
        "Spatial vectorization is the counterpart of rasterization (Section ...), but in the opposite direction. It involves converting spatially continuous raster data into spatially discrete vector data such as points, lines or polygons.\n",
        "\n",
        "There are three standard methods to convert a raster to a vector layer:\n",
        "\n",
        "* Raster to polygons\n",
        "* Raster to points\n",
        "* Raster to contours\n",
        "\n",
        "The most straightforward form of vectorization is the first one, converting raster cells to polygons, where each pixel is represented by a rectangular polygon. The second method, raster to points, has the additional step of calculating polygon centroids. The third method, raster to contours, is somewhat unrelated. Let us demonstrate the three in the given order.\n"
      ],
      "id": "77b01c71"
    },
    {
      "cell_type": "code",
      "metadata": {},
      "source": [
        "src = rasterio.open(\"data/grain.tif\")"
      ],
      "id": "4b1163e3",
      "execution_count": null,
      "outputs": []
    },
    {
      "cell_type": "markdown",
      "metadata": {},
      "source": [
        "To polygons...\n",
        "\n",
        "FIGURE 6.9: Illustration of vectorization of raster (left) into polygons (dissolve = FALSE; center) and aggregated polygons (dissolve = TRUE; right). \n"
      ],
      "id": "a59a114f"
    },
    {
      "cell_type": "code",
      "metadata": {},
      "source": [
        "src = rasterio.open(\"data/elev.tif\")"
      ],
      "id": "5829b3c9",
      "execution_count": null,
      "outputs": []
    },
    {
      "cell_type": "markdown",
      "metadata": {},
      "source": [
        "To points...\n"
      ],
      "id": "ec29093f"
    },
    {
      "cell_type": "code",
      "metadata": {},
      "source": [
        "src = rasterio.open(\"data/dem.tif\")"
      ],
      "id": "1535b440",
      "execution_count": null,
      "outputs": []
    },
    {
      "cell_type": "markdown",
      "metadata": {},
      "source": [
        "To contours...\n",
        "\n",
        "...\n",
        "\n",
        "Another common type of spatial vectorization is the creation of contour lines representing lines of continuous height or temperatures (isotherms) for example. We will use a real-world digital elevation model (DEM) because the artificial raster elev produces parallel lines (task for the reader: verify this and explain why this happens). Contour lines can be created with the terra function as.contour(), which is itself a wrapper around filled.contour(), as demonstrated below (not shown):\n",
        "\n",
        "Contours can also be added to existing plots with functions such as contour(), rasterVis::contourplot() or tmap::tm_iso(). As illustrated in Figure 6.8, isolines can be labelled.\n",
        "\n",
        "The final type of vectorization involves conversion of rasters to polygons. This can be done with terra::as.polygons(), which converts each raster cell into a polygon consisting of five coordinates, all of which are stored in memory (explaining why rasters are often fast compared with vectors!).\n",
        "\n",
        "This is illustrated below by converting the grain object into polygons and subsequently dissolving borders between polygons with the same attribute values (also see the dissolve argument in as.polygons()).\n",
        "\n",
        "\n",
        "\n",
        "## Exercises"
      ],
      "id": "4d90217e"
    }
  ],
  "metadata": {
    "kernelspec": {
      "name": "python3",
      "language": "python",
      "display_name": "Python 3 (ipykernel)"
    }
  },
  "nbformat": 4,
  "nbformat_minor": 5
}